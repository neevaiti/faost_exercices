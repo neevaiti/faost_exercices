{
 "cells": [
  {
   "cell_type": "markdown",
   "source": [
    "# Importation des df"
   ],
   "metadata": {
    "collapsed": false
   }
  },
  {
   "cell_type": "code",
   "execution_count": 473,
   "metadata": {
    "collapsed": true
   },
   "outputs": [],
   "source": [
    "import pandas as pd\n",
    "import matplotlib.pyplot as plt\n",
    "import seaborn as sns"
   ]
  },
  {
   "cell_type": "code",
   "execution_count": 474,
   "outputs": [],
   "source": [
    "animal_df = pd.read_csv(\"src/datas/animal_dataset.csv\")\n",
    "vegetal_df = pd.read_csv(\"src/datas/vegetal_dataset.csv\")\n",
    "population_df = pd.read_csv(\"src/datas/population_dataset.csv\")"
   ],
   "metadata": {
    "collapsed": false
   }
  },
  {
   "cell_type": "code",
   "execution_count": 475,
   "outputs": [
    {
     "data": {
      "text/plain": "  Domain Code                 Domain  Area Code (M49)         Area  \\\n0         FBS  Food Balances (2010-)                4  Afghanistan   \n1         FBS  Food Balances (2010-)                4  Afghanistan   \n2         FBS  Food Balances (2010-)                4  Afghanistan   \n3         FBS  Food Balances (2010-)                4  Afghanistan   \n4         FBS  Food Balances (2010-)                4  Afghanistan   \n\n   Element Code                                 Element Item Code (CPC)  \\\n0           645     Food supply quantity (kg/capita/yr)           S2731   \n1           645     Food supply quantity (kg/capita/yr)           S2731   \n2           664           Food supply (kcal/capita/day)           S2731   \n3           664           Food supply (kcal/capita/day)           S2731   \n4           674  Protein supply quantity (g/capita/day)           S2731   \n\n          Item  Year Code  Year             Unit  Value Flag Flag Description  \n0  Bovine Meat       2018  2018               kg   2.62    E  Estimated value  \n1  Bovine Meat       2019  2019               kg   2.73    E  Estimated value  \n2  Bovine Meat       2018  2018  kcal/capita/day  15.42    E  Estimated value  \n3  Bovine Meat       2019  2019  kcal/capita/day  16.03    E  Estimated value  \n4  Bovine Meat       2018  2018     g/capita/day   1.09    E  Estimated value  ",
      "text/html": "<div>\n<style scoped>\n    .dataframe tbody tr th:only-of-type {\n        vertical-align: middle;\n    }\n\n    .dataframe tbody tr th {\n        vertical-align: top;\n    }\n\n    .dataframe thead th {\n        text-align: right;\n    }\n</style>\n<table border=\"1\" class=\"dataframe\">\n  <thead>\n    <tr style=\"text-align: right;\">\n      <th></th>\n      <th>Domain Code</th>\n      <th>Domain</th>\n      <th>Area Code (M49)</th>\n      <th>Area</th>\n      <th>Element Code</th>\n      <th>Element</th>\n      <th>Item Code (CPC)</th>\n      <th>Item</th>\n      <th>Year Code</th>\n      <th>Year</th>\n      <th>Unit</th>\n      <th>Value</th>\n      <th>Flag</th>\n      <th>Flag Description</th>\n    </tr>\n  </thead>\n  <tbody>\n    <tr>\n      <th>0</th>\n      <td>FBS</td>\n      <td>Food Balances (2010-)</td>\n      <td>4</td>\n      <td>Afghanistan</td>\n      <td>645</td>\n      <td>Food supply quantity (kg/capita/yr)</td>\n      <td>S2731</td>\n      <td>Bovine Meat</td>\n      <td>2018</td>\n      <td>2018</td>\n      <td>kg</td>\n      <td>2.62</td>\n      <td>E</td>\n      <td>Estimated value</td>\n    </tr>\n    <tr>\n      <th>1</th>\n      <td>FBS</td>\n      <td>Food Balances (2010-)</td>\n      <td>4</td>\n      <td>Afghanistan</td>\n      <td>645</td>\n      <td>Food supply quantity (kg/capita/yr)</td>\n      <td>S2731</td>\n      <td>Bovine Meat</td>\n      <td>2019</td>\n      <td>2019</td>\n      <td>kg</td>\n      <td>2.73</td>\n      <td>E</td>\n      <td>Estimated value</td>\n    </tr>\n    <tr>\n      <th>2</th>\n      <td>FBS</td>\n      <td>Food Balances (2010-)</td>\n      <td>4</td>\n      <td>Afghanistan</td>\n      <td>664</td>\n      <td>Food supply (kcal/capita/day)</td>\n      <td>S2731</td>\n      <td>Bovine Meat</td>\n      <td>2018</td>\n      <td>2018</td>\n      <td>kcal/capita/day</td>\n      <td>15.42</td>\n      <td>E</td>\n      <td>Estimated value</td>\n    </tr>\n    <tr>\n      <th>3</th>\n      <td>FBS</td>\n      <td>Food Balances (2010-)</td>\n      <td>4</td>\n      <td>Afghanistan</td>\n      <td>664</td>\n      <td>Food supply (kcal/capita/day)</td>\n      <td>S2731</td>\n      <td>Bovine Meat</td>\n      <td>2019</td>\n      <td>2019</td>\n      <td>kcal/capita/day</td>\n      <td>16.03</td>\n      <td>E</td>\n      <td>Estimated value</td>\n    </tr>\n    <tr>\n      <th>4</th>\n      <td>FBS</td>\n      <td>Food Balances (2010-)</td>\n      <td>4</td>\n      <td>Afghanistan</td>\n      <td>674</td>\n      <td>Protein supply quantity (g/capita/day)</td>\n      <td>S2731</td>\n      <td>Bovine Meat</td>\n      <td>2018</td>\n      <td>2018</td>\n      <td>g/capita/day</td>\n      <td>1.09</td>\n      <td>E</td>\n      <td>Estimated value</td>\n    </tr>\n  </tbody>\n</table>\n</div>"
     },
     "execution_count": 475,
     "metadata": {},
     "output_type": "execute_result"
    }
   ],
   "source": [
    "animal_df.head()"
   ],
   "metadata": {
    "collapsed": false
   }
  },
  {
   "cell_type": "code",
   "execution_count": 476,
   "outputs": [
    {
     "data": {
      "text/plain": "  Domain Code                 Domain  Area Code (M49)         Area  \\\n0         FBS  Food Balances (2010-)                4  Afghanistan   \n1         FBS  Food Balances (2010-)                4  Afghanistan   \n2         FBS  Food Balances (2010-)                4  Afghanistan   \n3         FBS  Food Balances (2010-)                4  Afghanistan   \n4         FBS  Food Balances (2010-)                4  Afghanistan   \n\n   Element Code                                 Element Item Code (CPC)  \\\n0           645     Food supply quantity (kg/capita/yr)           S2511   \n1           645     Food supply quantity (kg/capita/yr)           S2511   \n2           664           Food supply (kcal/capita/day)           S2511   \n3           664           Food supply (kcal/capita/day)           S2511   \n4           674  Protein supply quantity (g/capita/day)           S2511   \n\n                 Item  Year Code  Year             Unit    Value Flag  \\\n0  Wheat and products       2018  2018               kg   160.12    E   \n1  Wheat and products       2019  2019               kg   158.95    E   \n2  Wheat and products       2018  2018  kcal/capita/day  1372.02    E   \n3  Wheat and products       2019  2019  kcal/capita/day  1361.66    E   \n4  Wheat and products       2018  2018     g/capita/day    37.00    E   \n\n  Flag Description  \n0  Estimated value  \n1  Estimated value  \n2  Estimated value  \n3  Estimated value  \n4  Estimated value  ",
      "text/html": "<div>\n<style scoped>\n    .dataframe tbody tr th:only-of-type {\n        vertical-align: middle;\n    }\n\n    .dataframe tbody tr th {\n        vertical-align: top;\n    }\n\n    .dataframe thead th {\n        text-align: right;\n    }\n</style>\n<table border=\"1\" class=\"dataframe\">\n  <thead>\n    <tr style=\"text-align: right;\">\n      <th></th>\n      <th>Domain Code</th>\n      <th>Domain</th>\n      <th>Area Code (M49)</th>\n      <th>Area</th>\n      <th>Element Code</th>\n      <th>Element</th>\n      <th>Item Code (CPC)</th>\n      <th>Item</th>\n      <th>Year Code</th>\n      <th>Year</th>\n      <th>Unit</th>\n      <th>Value</th>\n      <th>Flag</th>\n      <th>Flag Description</th>\n    </tr>\n  </thead>\n  <tbody>\n    <tr>\n      <th>0</th>\n      <td>FBS</td>\n      <td>Food Balances (2010-)</td>\n      <td>4</td>\n      <td>Afghanistan</td>\n      <td>645</td>\n      <td>Food supply quantity (kg/capita/yr)</td>\n      <td>S2511</td>\n      <td>Wheat and products</td>\n      <td>2018</td>\n      <td>2018</td>\n      <td>kg</td>\n      <td>160.12</td>\n      <td>E</td>\n      <td>Estimated value</td>\n    </tr>\n    <tr>\n      <th>1</th>\n      <td>FBS</td>\n      <td>Food Balances (2010-)</td>\n      <td>4</td>\n      <td>Afghanistan</td>\n      <td>645</td>\n      <td>Food supply quantity (kg/capita/yr)</td>\n      <td>S2511</td>\n      <td>Wheat and products</td>\n      <td>2019</td>\n      <td>2019</td>\n      <td>kg</td>\n      <td>158.95</td>\n      <td>E</td>\n      <td>Estimated value</td>\n    </tr>\n    <tr>\n      <th>2</th>\n      <td>FBS</td>\n      <td>Food Balances (2010-)</td>\n      <td>4</td>\n      <td>Afghanistan</td>\n      <td>664</td>\n      <td>Food supply (kcal/capita/day)</td>\n      <td>S2511</td>\n      <td>Wheat and products</td>\n      <td>2018</td>\n      <td>2018</td>\n      <td>kcal/capita/day</td>\n      <td>1372.02</td>\n      <td>E</td>\n      <td>Estimated value</td>\n    </tr>\n    <tr>\n      <th>3</th>\n      <td>FBS</td>\n      <td>Food Balances (2010-)</td>\n      <td>4</td>\n      <td>Afghanistan</td>\n      <td>664</td>\n      <td>Food supply (kcal/capita/day)</td>\n      <td>S2511</td>\n      <td>Wheat and products</td>\n      <td>2019</td>\n      <td>2019</td>\n      <td>kcal/capita/day</td>\n      <td>1361.66</td>\n      <td>E</td>\n      <td>Estimated value</td>\n    </tr>\n    <tr>\n      <th>4</th>\n      <td>FBS</td>\n      <td>Food Balances (2010-)</td>\n      <td>4</td>\n      <td>Afghanistan</td>\n      <td>674</td>\n      <td>Protein supply quantity (g/capita/day)</td>\n      <td>S2511</td>\n      <td>Wheat and products</td>\n      <td>2018</td>\n      <td>2018</td>\n      <td>g/capita/day</td>\n      <td>37.00</td>\n      <td>E</td>\n      <td>Estimated value</td>\n    </tr>\n  </tbody>\n</table>\n</div>"
     },
     "execution_count": 476,
     "metadata": {},
     "output_type": "execute_result"
    }
   ],
   "source": [
    "vegetal_df.head()"
   ],
   "metadata": {
    "collapsed": false
   }
  },
  {
   "cell_type": "code",
   "execution_count": 477,
   "outputs": [
    {
     "data": {
      "text/plain": "  Domain Code                 Domain  Area Code (M49)         Area  \\\n0         FBS  Food Balances (2010-)                4  Afghanistan   \n1         FBS  Food Balances (2010-)                4  Afghanistan   \n2         FBS  Food Balances (2010-)                8      Albania   \n3         FBS  Food Balances (2010-)                8      Albania   \n4         FBS  Food Balances (2010-)               12      Algeria   \n\n   Element Code                        Element Item Code (CPC)        Item  \\\n0           511  Total Population - Both sexes           S2501  Population   \n1           511  Total Population - Both sexes           S2501  Population   \n2           511  Total Population - Both sexes           S2501  Population   \n3           511  Total Population - Both sexes           S2501  Population   \n4           511  Total Population - Both sexes           S2501  Population   \n\n   Year Code  Year          Unit     Value Flag  \\\n0       2018  2018  1000 persons  37172.00    X   \n1       2019  2019  1000 persons  38041.75    X   \n2       2018  2018  1000 persons   2883.00    X   \n3       2019  2019  1000 persons   2880.92    X   \n4       2018  2018  1000 persons  42228.00    X   \n\n                          Flag Description  \n0  Figure from international organizations  \n1  Figure from international organizations  \n2  Figure from international organizations  \n3  Figure from international organizations  \n4  Figure from international organizations  ",
      "text/html": "<div>\n<style scoped>\n    .dataframe tbody tr th:only-of-type {\n        vertical-align: middle;\n    }\n\n    .dataframe tbody tr th {\n        vertical-align: top;\n    }\n\n    .dataframe thead th {\n        text-align: right;\n    }\n</style>\n<table border=\"1\" class=\"dataframe\">\n  <thead>\n    <tr style=\"text-align: right;\">\n      <th></th>\n      <th>Domain Code</th>\n      <th>Domain</th>\n      <th>Area Code (M49)</th>\n      <th>Area</th>\n      <th>Element Code</th>\n      <th>Element</th>\n      <th>Item Code (CPC)</th>\n      <th>Item</th>\n      <th>Year Code</th>\n      <th>Year</th>\n      <th>Unit</th>\n      <th>Value</th>\n      <th>Flag</th>\n      <th>Flag Description</th>\n    </tr>\n  </thead>\n  <tbody>\n    <tr>\n      <th>0</th>\n      <td>FBS</td>\n      <td>Food Balances (2010-)</td>\n      <td>4</td>\n      <td>Afghanistan</td>\n      <td>511</td>\n      <td>Total Population - Both sexes</td>\n      <td>S2501</td>\n      <td>Population</td>\n      <td>2018</td>\n      <td>2018</td>\n      <td>1000 persons</td>\n      <td>37172.00</td>\n      <td>X</td>\n      <td>Figure from international organizations</td>\n    </tr>\n    <tr>\n      <th>1</th>\n      <td>FBS</td>\n      <td>Food Balances (2010-)</td>\n      <td>4</td>\n      <td>Afghanistan</td>\n      <td>511</td>\n      <td>Total Population - Both sexes</td>\n      <td>S2501</td>\n      <td>Population</td>\n      <td>2019</td>\n      <td>2019</td>\n      <td>1000 persons</td>\n      <td>38041.75</td>\n      <td>X</td>\n      <td>Figure from international organizations</td>\n    </tr>\n    <tr>\n      <th>2</th>\n      <td>FBS</td>\n      <td>Food Balances (2010-)</td>\n      <td>8</td>\n      <td>Albania</td>\n      <td>511</td>\n      <td>Total Population - Both sexes</td>\n      <td>S2501</td>\n      <td>Population</td>\n      <td>2018</td>\n      <td>2018</td>\n      <td>1000 persons</td>\n      <td>2883.00</td>\n      <td>X</td>\n      <td>Figure from international organizations</td>\n    </tr>\n    <tr>\n      <th>3</th>\n      <td>FBS</td>\n      <td>Food Balances (2010-)</td>\n      <td>8</td>\n      <td>Albania</td>\n      <td>511</td>\n      <td>Total Population - Both sexes</td>\n      <td>S2501</td>\n      <td>Population</td>\n      <td>2019</td>\n      <td>2019</td>\n      <td>1000 persons</td>\n      <td>2880.92</td>\n      <td>X</td>\n      <td>Figure from international organizations</td>\n    </tr>\n    <tr>\n      <th>4</th>\n      <td>FBS</td>\n      <td>Food Balances (2010-)</td>\n      <td>12</td>\n      <td>Algeria</td>\n      <td>511</td>\n      <td>Total Population - Both sexes</td>\n      <td>S2501</td>\n      <td>Population</td>\n      <td>2018</td>\n      <td>2018</td>\n      <td>1000 persons</td>\n      <td>42228.00</td>\n      <td>X</td>\n      <td>Figure from international organizations</td>\n    </tr>\n  </tbody>\n</table>\n</div>"
     },
     "execution_count": 477,
     "metadata": {},
     "output_type": "execute_result"
    }
   ],
   "source": [
    "population_df.head()"
   ],
   "metadata": {
    "collapsed": false
   }
  },
  {
   "cell_type": "markdown",
   "source": [
    "## Nettoyage des données"
   ],
   "metadata": {
    "collapsed": false
   }
  },
  {
   "cell_type": "markdown",
   "source": [
    "### Question 1 :"
   ],
   "metadata": {
    "collapsed": false
   }
  },
  {
   "cell_type": "code",
   "execution_count": 478,
   "outputs": [
    {
     "name": "stdout",
     "output_type": "stream",
     "text": [
      "---------Animal---------\n"
     ]
    },
    {
     "data": {
      "text/plain": "Index(['domain_code', 'domain', 'area_code_(m49)', 'area', 'element_code',\n       'element', 'item_code_(cpc)', 'item', 'year_code', 'year', 'unit',\n       'value', 'flag', 'flag_description'],\n      dtype='object')"
     },
     "execution_count": 478,
     "metadata": {},
     "output_type": "execute_result"
    }
   ],
   "source": [
    "# Première étape faire le nettoyage dans les titres.\n",
    "animal_df = animal_df.rename(columns=lambda x: x.lower().replace(' ', '_'))\n",
    "print(\"---------Animal---------\")\n",
    "animal_df.columns"
   ],
   "metadata": {
    "collapsed": false
   }
  },
  {
   "cell_type": "code",
   "execution_count": 479,
   "outputs": [
    {
     "name": "stdout",
     "output_type": "stream",
     "text": [
      "---------Vegetal---------\n"
     ]
    },
    {
     "data": {
      "text/plain": "Index(['domain_code', 'domain', 'area_code_(m49)', 'area', 'element_code',\n       'element', 'item_code_(cpc)', 'item', 'year_code', 'year', 'unit',\n       'value', 'flag', 'flag_description'],\n      dtype='object')"
     },
     "execution_count": 479,
     "metadata": {},
     "output_type": "execute_result"
    }
   ],
   "source": [
    "vegetal_df = vegetal_df.rename(columns=lambda x: x.lower().replace(' ', '_'))\n",
    "print(\"---------Vegetal---------\")\n",
    "vegetal_df.columns"
   ],
   "metadata": {
    "collapsed": false
   }
  },
  {
   "cell_type": "code",
   "execution_count": 480,
   "outputs": [
    {
     "name": "stdout",
     "output_type": "stream",
     "text": [
      "---------Population---------\n"
     ]
    },
    {
     "data": {
      "text/plain": "Index(['domain_code', 'domain', 'area_code_(m49)', 'area', 'element_code',\n       'element', 'item_code_(cpc)', 'item', 'year_code', 'year', 'unit',\n       'value', 'flag', 'flag_description'],\n      dtype='object')"
     },
     "execution_count": 480,
     "metadata": {},
     "output_type": "execute_result"
    }
   ],
   "source": [
    "population_df = population_df.rename(columns=lambda x: x.lower().replace(' ', '_'))\n",
    "print(\"---------Population---------\")\n",
    "population_df.columns"
   ],
   "metadata": {
    "collapsed": false
   }
  },
  {
   "cell_type": "markdown",
   "source": [
    "### Question 2 :"
   ],
   "metadata": {
    "collapsed": false
   }
  },
  {
   "cell_type": "code",
   "execution_count": 481,
   "outputs": [
    {
     "data": {
      "text/plain": "(31366, 14)"
     },
     "execution_count": 481,
     "metadata": {},
     "output_type": "execute_result"
    }
   ],
   "source": [
    "# Dimensions des jeux de données\n",
    "animal_df.shape"
   ],
   "metadata": {
    "collapsed": false
   }
  },
  {
   "cell_type": "code",
   "execution_count": 482,
   "outputs": [
    {
     "data": {
      "text/plain": "(92890, 14)"
     },
     "execution_count": 482,
     "metadata": {},
     "output_type": "execute_result"
    }
   ],
   "source": [
    "vegetal_df.shape"
   ],
   "metadata": {
    "collapsed": false
   }
  },
  {
   "cell_type": "code",
   "execution_count": 483,
   "outputs": [
    {
     "data": {
      "text/plain": "(364, 14)"
     },
     "execution_count": 483,
     "metadata": {},
     "output_type": "execute_result"
    }
   ],
   "source": [
    "population_df.shape"
   ],
   "metadata": {
    "collapsed": false
   }
  },
  {
   "cell_type": "markdown",
   "source": [
    "### Question 3 :"
   ],
   "metadata": {
    "collapsed": false
   }
  },
  {
   "cell_type": "code",
   "execution_count": 484,
   "outputs": [
    {
     "data": {
      "text/plain": "  domain_code                 domain  area_code_(m49)         area  \\\n0         FBS  Food Balances (2010-)                4  Afghanistan   \n1         FBS  Food Balances (2010-)                4  Afghanistan   \n2         FBS  Food Balances (2010-)                4  Afghanistan   \n3         FBS  Food Balances (2010-)                4  Afghanistan   \n4         FBS  Food Balances (2010-)                4  Afghanistan   \n\n   element_code                                 element item_code_(cpc)  \\\n0           645     Food supply quantity (kg/capita/yr)           S2731   \n1           645     Food supply quantity (kg/capita/yr)           S2731   \n2           664           Food supply (kcal/capita/day)           S2731   \n3           664           Food supply (kcal/capita/day)           S2731   \n4           674  Protein supply quantity (g/capita/day)           S2731   \n\n          item  year_code  year             unit  value flag flag_description  \n0  Bovine Meat       2018  2018               kg   2.62    E  Estimated value  \n1  Bovine Meat       2019  2019               kg   2.73    E  Estimated value  \n2  Bovine Meat       2018  2018  kcal/capita/day  15.42    E  Estimated value  \n3  Bovine Meat       2019  2019  kcal/capita/day  16.03    E  Estimated value  \n4  Bovine Meat       2018  2018     g/capita/day   1.09    E  Estimated value  ",
      "text/html": "<div>\n<style scoped>\n    .dataframe tbody tr th:only-of-type {\n        vertical-align: middle;\n    }\n\n    .dataframe tbody tr th {\n        vertical-align: top;\n    }\n\n    .dataframe thead th {\n        text-align: right;\n    }\n</style>\n<table border=\"1\" class=\"dataframe\">\n  <thead>\n    <tr style=\"text-align: right;\">\n      <th></th>\n      <th>domain_code</th>\n      <th>domain</th>\n      <th>area_code_(m49)</th>\n      <th>area</th>\n      <th>element_code</th>\n      <th>element</th>\n      <th>item_code_(cpc)</th>\n      <th>item</th>\n      <th>year_code</th>\n      <th>year</th>\n      <th>unit</th>\n      <th>value</th>\n      <th>flag</th>\n      <th>flag_description</th>\n    </tr>\n  </thead>\n  <tbody>\n    <tr>\n      <th>0</th>\n      <td>FBS</td>\n      <td>Food Balances (2010-)</td>\n      <td>4</td>\n      <td>Afghanistan</td>\n      <td>645</td>\n      <td>Food supply quantity (kg/capita/yr)</td>\n      <td>S2731</td>\n      <td>Bovine Meat</td>\n      <td>2018</td>\n      <td>2018</td>\n      <td>kg</td>\n      <td>2.62</td>\n      <td>E</td>\n      <td>Estimated value</td>\n    </tr>\n    <tr>\n      <th>1</th>\n      <td>FBS</td>\n      <td>Food Balances (2010-)</td>\n      <td>4</td>\n      <td>Afghanistan</td>\n      <td>645</td>\n      <td>Food supply quantity (kg/capita/yr)</td>\n      <td>S2731</td>\n      <td>Bovine Meat</td>\n      <td>2019</td>\n      <td>2019</td>\n      <td>kg</td>\n      <td>2.73</td>\n      <td>E</td>\n      <td>Estimated value</td>\n    </tr>\n    <tr>\n      <th>2</th>\n      <td>FBS</td>\n      <td>Food Balances (2010-)</td>\n      <td>4</td>\n      <td>Afghanistan</td>\n      <td>664</td>\n      <td>Food supply (kcal/capita/day)</td>\n      <td>S2731</td>\n      <td>Bovine Meat</td>\n      <td>2018</td>\n      <td>2018</td>\n      <td>kcal/capita/day</td>\n      <td>15.42</td>\n      <td>E</td>\n      <td>Estimated value</td>\n    </tr>\n    <tr>\n      <th>3</th>\n      <td>FBS</td>\n      <td>Food Balances (2010-)</td>\n      <td>4</td>\n      <td>Afghanistan</td>\n      <td>664</td>\n      <td>Food supply (kcal/capita/day)</td>\n      <td>S2731</td>\n      <td>Bovine Meat</td>\n      <td>2019</td>\n      <td>2019</td>\n      <td>kcal/capita/day</td>\n      <td>16.03</td>\n      <td>E</td>\n      <td>Estimated value</td>\n    </tr>\n    <tr>\n      <th>4</th>\n      <td>FBS</td>\n      <td>Food Balances (2010-)</td>\n      <td>4</td>\n      <td>Afghanistan</td>\n      <td>674</td>\n      <td>Protein supply quantity (g/capita/day)</td>\n      <td>S2731</td>\n      <td>Bovine Meat</td>\n      <td>2018</td>\n      <td>2018</td>\n      <td>g/capita/day</td>\n      <td>1.09</td>\n      <td>E</td>\n      <td>Estimated value</td>\n    </tr>\n  </tbody>\n</table>\n</div>"
     },
     "execution_count": 484,
     "metadata": {},
     "output_type": "execute_result"
    }
   ],
   "source": [
    "# Voir les 5 premières lignes des jeux de données\n",
    "animal_df.head()"
   ],
   "metadata": {
    "collapsed": false
   }
  },
  {
   "cell_type": "code",
   "execution_count": 485,
   "outputs": [
    {
     "data": {
      "text/plain": "  domain_code                 domain  area_code_(m49)         area  \\\n0         FBS  Food Balances (2010-)                4  Afghanistan   \n1         FBS  Food Balances (2010-)                4  Afghanistan   \n2         FBS  Food Balances (2010-)                4  Afghanistan   \n3         FBS  Food Balances (2010-)                4  Afghanistan   \n4         FBS  Food Balances (2010-)                4  Afghanistan   \n\n   element_code                                 element item_code_(cpc)  \\\n0           645     Food supply quantity (kg/capita/yr)           S2511   \n1           645     Food supply quantity (kg/capita/yr)           S2511   \n2           664           Food supply (kcal/capita/day)           S2511   \n3           664           Food supply (kcal/capita/day)           S2511   \n4           674  Protein supply quantity (g/capita/day)           S2511   \n\n                 item  year_code  year             unit    value flag  \\\n0  Wheat and products       2018  2018               kg   160.12    E   \n1  Wheat and products       2019  2019               kg   158.95    E   \n2  Wheat and products       2018  2018  kcal/capita/day  1372.02    E   \n3  Wheat and products       2019  2019  kcal/capita/day  1361.66    E   \n4  Wheat and products       2018  2018     g/capita/day    37.00    E   \n\n  flag_description  \n0  Estimated value  \n1  Estimated value  \n2  Estimated value  \n3  Estimated value  \n4  Estimated value  ",
      "text/html": "<div>\n<style scoped>\n    .dataframe tbody tr th:only-of-type {\n        vertical-align: middle;\n    }\n\n    .dataframe tbody tr th {\n        vertical-align: top;\n    }\n\n    .dataframe thead th {\n        text-align: right;\n    }\n</style>\n<table border=\"1\" class=\"dataframe\">\n  <thead>\n    <tr style=\"text-align: right;\">\n      <th></th>\n      <th>domain_code</th>\n      <th>domain</th>\n      <th>area_code_(m49)</th>\n      <th>area</th>\n      <th>element_code</th>\n      <th>element</th>\n      <th>item_code_(cpc)</th>\n      <th>item</th>\n      <th>year_code</th>\n      <th>year</th>\n      <th>unit</th>\n      <th>value</th>\n      <th>flag</th>\n      <th>flag_description</th>\n    </tr>\n  </thead>\n  <tbody>\n    <tr>\n      <th>0</th>\n      <td>FBS</td>\n      <td>Food Balances (2010-)</td>\n      <td>4</td>\n      <td>Afghanistan</td>\n      <td>645</td>\n      <td>Food supply quantity (kg/capita/yr)</td>\n      <td>S2511</td>\n      <td>Wheat and products</td>\n      <td>2018</td>\n      <td>2018</td>\n      <td>kg</td>\n      <td>160.12</td>\n      <td>E</td>\n      <td>Estimated value</td>\n    </tr>\n    <tr>\n      <th>1</th>\n      <td>FBS</td>\n      <td>Food Balances (2010-)</td>\n      <td>4</td>\n      <td>Afghanistan</td>\n      <td>645</td>\n      <td>Food supply quantity (kg/capita/yr)</td>\n      <td>S2511</td>\n      <td>Wheat and products</td>\n      <td>2019</td>\n      <td>2019</td>\n      <td>kg</td>\n      <td>158.95</td>\n      <td>E</td>\n      <td>Estimated value</td>\n    </tr>\n    <tr>\n      <th>2</th>\n      <td>FBS</td>\n      <td>Food Balances (2010-)</td>\n      <td>4</td>\n      <td>Afghanistan</td>\n      <td>664</td>\n      <td>Food supply (kcal/capita/day)</td>\n      <td>S2511</td>\n      <td>Wheat and products</td>\n      <td>2018</td>\n      <td>2018</td>\n      <td>kcal/capita/day</td>\n      <td>1372.02</td>\n      <td>E</td>\n      <td>Estimated value</td>\n    </tr>\n    <tr>\n      <th>3</th>\n      <td>FBS</td>\n      <td>Food Balances (2010-)</td>\n      <td>4</td>\n      <td>Afghanistan</td>\n      <td>664</td>\n      <td>Food supply (kcal/capita/day)</td>\n      <td>S2511</td>\n      <td>Wheat and products</td>\n      <td>2019</td>\n      <td>2019</td>\n      <td>kcal/capita/day</td>\n      <td>1361.66</td>\n      <td>E</td>\n      <td>Estimated value</td>\n    </tr>\n    <tr>\n      <th>4</th>\n      <td>FBS</td>\n      <td>Food Balances (2010-)</td>\n      <td>4</td>\n      <td>Afghanistan</td>\n      <td>674</td>\n      <td>Protein supply quantity (g/capita/day)</td>\n      <td>S2511</td>\n      <td>Wheat and products</td>\n      <td>2018</td>\n      <td>2018</td>\n      <td>g/capita/day</td>\n      <td>37.00</td>\n      <td>E</td>\n      <td>Estimated value</td>\n    </tr>\n  </tbody>\n</table>\n</div>"
     },
     "execution_count": 485,
     "metadata": {},
     "output_type": "execute_result"
    }
   ],
   "source": [
    "vegetal_df.head()"
   ],
   "metadata": {
    "collapsed": false
   }
  },
  {
   "cell_type": "code",
   "execution_count": 486,
   "outputs": [
    {
     "data": {
      "text/plain": "  domain_code                 domain  area_code_(m49)         area  \\\n0         FBS  Food Balances (2010-)                4  Afghanistan   \n1         FBS  Food Balances (2010-)                4  Afghanistan   \n2         FBS  Food Balances (2010-)                8      Albania   \n3         FBS  Food Balances (2010-)                8      Albania   \n4         FBS  Food Balances (2010-)               12      Algeria   \n\n   element_code                        element item_code_(cpc)        item  \\\n0           511  Total Population - Both sexes           S2501  Population   \n1           511  Total Population - Both sexes           S2501  Population   \n2           511  Total Population - Both sexes           S2501  Population   \n3           511  Total Population - Both sexes           S2501  Population   \n4           511  Total Population - Both sexes           S2501  Population   \n\n   year_code  year          unit     value flag  \\\n0       2018  2018  1000 persons  37172.00    X   \n1       2019  2019  1000 persons  38041.75    X   \n2       2018  2018  1000 persons   2883.00    X   \n3       2019  2019  1000 persons   2880.92    X   \n4       2018  2018  1000 persons  42228.00    X   \n\n                          flag_description  \n0  Figure from international organizations  \n1  Figure from international organizations  \n2  Figure from international organizations  \n3  Figure from international organizations  \n4  Figure from international organizations  ",
      "text/html": "<div>\n<style scoped>\n    .dataframe tbody tr th:only-of-type {\n        vertical-align: middle;\n    }\n\n    .dataframe tbody tr th {\n        vertical-align: top;\n    }\n\n    .dataframe thead th {\n        text-align: right;\n    }\n</style>\n<table border=\"1\" class=\"dataframe\">\n  <thead>\n    <tr style=\"text-align: right;\">\n      <th></th>\n      <th>domain_code</th>\n      <th>domain</th>\n      <th>area_code_(m49)</th>\n      <th>area</th>\n      <th>element_code</th>\n      <th>element</th>\n      <th>item_code_(cpc)</th>\n      <th>item</th>\n      <th>year_code</th>\n      <th>year</th>\n      <th>unit</th>\n      <th>value</th>\n      <th>flag</th>\n      <th>flag_description</th>\n    </tr>\n  </thead>\n  <tbody>\n    <tr>\n      <th>0</th>\n      <td>FBS</td>\n      <td>Food Balances (2010-)</td>\n      <td>4</td>\n      <td>Afghanistan</td>\n      <td>511</td>\n      <td>Total Population - Both sexes</td>\n      <td>S2501</td>\n      <td>Population</td>\n      <td>2018</td>\n      <td>2018</td>\n      <td>1000 persons</td>\n      <td>37172.00</td>\n      <td>X</td>\n      <td>Figure from international organizations</td>\n    </tr>\n    <tr>\n      <th>1</th>\n      <td>FBS</td>\n      <td>Food Balances (2010-)</td>\n      <td>4</td>\n      <td>Afghanistan</td>\n      <td>511</td>\n      <td>Total Population - Both sexes</td>\n      <td>S2501</td>\n      <td>Population</td>\n      <td>2019</td>\n      <td>2019</td>\n      <td>1000 persons</td>\n      <td>38041.75</td>\n      <td>X</td>\n      <td>Figure from international organizations</td>\n    </tr>\n    <tr>\n      <th>2</th>\n      <td>FBS</td>\n      <td>Food Balances (2010-)</td>\n      <td>8</td>\n      <td>Albania</td>\n      <td>511</td>\n      <td>Total Population - Both sexes</td>\n      <td>S2501</td>\n      <td>Population</td>\n      <td>2018</td>\n      <td>2018</td>\n      <td>1000 persons</td>\n      <td>2883.00</td>\n      <td>X</td>\n      <td>Figure from international organizations</td>\n    </tr>\n    <tr>\n      <th>3</th>\n      <td>FBS</td>\n      <td>Food Balances (2010-)</td>\n      <td>8</td>\n      <td>Albania</td>\n      <td>511</td>\n      <td>Total Population - Both sexes</td>\n      <td>S2501</td>\n      <td>Population</td>\n      <td>2019</td>\n      <td>2019</td>\n      <td>1000 persons</td>\n      <td>2880.92</td>\n      <td>X</td>\n      <td>Figure from international organizations</td>\n    </tr>\n    <tr>\n      <th>4</th>\n      <td>FBS</td>\n      <td>Food Balances (2010-)</td>\n      <td>12</td>\n      <td>Algeria</td>\n      <td>511</td>\n      <td>Total Population - Both sexes</td>\n      <td>S2501</td>\n      <td>Population</td>\n      <td>2018</td>\n      <td>2018</td>\n      <td>1000 persons</td>\n      <td>42228.00</td>\n      <td>X</td>\n      <td>Figure from international organizations</td>\n    </tr>\n  </tbody>\n</table>\n</div>"
     },
     "execution_count": 486,
     "metadata": {},
     "output_type": "execute_result"
    }
   ],
   "source": [
    "population_df.head()"
   ],
   "metadata": {
    "collapsed": false
   }
  },
  {
   "cell_type": "markdown",
   "source": [
    "### Question 4 :"
   ],
   "metadata": {
    "collapsed": false
   }
  },
  {
   "cell_type": "code",
   "execution_count": 487,
   "outputs": [],
   "source": [
    "# Ajout de la colonne type aux datasets animal & vegetal\n",
    "animal_df = animal_df.assign(type='animal')\n",
    "vegetal_df = vegetal_df.assign(type='vegetal')"
   ],
   "metadata": {
    "collapsed": false
   }
  },
  {
   "cell_type": "code",
   "execution_count": 488,
   "outputs": [],
   "source": [
    "# Assemblage des deux datasets animal et vegetal\n",
    "product_df = pd.concat([animal_df, vegetal_df], ignore_index=True)"
   ],
   "metadata": {
    "collapsed": false
   }
  },
  {
   "cell_type": "code",
   "execution_count": 489,
   "outputs": [
    {
     "data": {
      "text/plain": "      domain_code                 domain  area_code_(m49)  \\\n28364         FBS  Food Balances (2010-)              780   \n58073         FBS  Food Balances (2010-)              818   \n86046         FBS  Food Balances (2010-)              480   \n24460         FBS  Food Balances (2010-)              882   \n80596         FBS  Food Balances (2010-)              434   \n\n                      area  element_code                              element  \\\n28364  Trinidad and Tobago           664        Food supply (kcal/capita/day)   \n58073                Egypt           684   Fat supply quantity (g/capita/day)   \n86046            Mauritius           664        Food supply (kcal/capita/day)   \n24460                Samoa           664        Food supply (kcal/capita/day)   \n80596                Libya           645  Food supply quantity (kg/capita/yr)   \n\n      item_code_(cpc)              item  year_code  year             unit  \\\n28364           S2765       Crustaceans       2018  2018  kcal/capita/day   \n58073           S2515  Rye and products       2018  2018     g/capita/day   \n86046           S2899     Miscellaneous       2019  2019  kcal/capita/day   \n24460           S2743             Cream       2019  2019  kcal/capita/day   \n80596           S2555         Soyabeans       2019  2019               kg   \n\n       value flag flag_description     type  \n28364   2.49    E  Estimated value   animal  \n58073   0.00    E  Estimated value  vegetal  \n86046  10.80    E  Estimated value  vegetal  \n24460   2.43    E  Estimated value   animal  \n80596   0.00    E  Estimated value  vegetal  ",
      "text/html": "<div>\n<style scoped>\n    .dataframe tbody tr th:only-of-type {\n        vertical-align: middle;\n    }\n\n    .dataframe tbody tr th {\n        vertical-align: top;\n    }\n\n    .dataframe thead th {\n        text-align: right;\n    }\n</style>\n<table border=\"1\" class=\"dataframe\">\n  <thead>\n    <tr style=\"text-align: right;\">\n      <th></th>\n      <th>domain_code</th>\n      <th>domain</th>\n      <th>area_code_(m49)</th>\n      <th>area</th>\n      <th>element_code</th>\n      <th>element</th>\n      <th>item_code_(cpc)</th>\n      <th>item</th>\n      <th>year_code</th>\n      <th>year</th>\n      <th>unit</th>\n      <th>value</th>\n      <th>flag</th>\n      <th>flag_description</th>\n      <th>type</th>\n    </tr>\n  </thead>\n  <tbody>\n    <tr>\n      <th>28364</th>\n      <td>FBS</td>\n      <td>Food Balances (2010-)</td>\n      <td>780</td>\n      <td>Trinidad and Tobago</td>\n      <td>664</td>\n      <td>Food supply (kcal/capita/day)</td>\n      <td>S2765</td>\n      <td>Crustaceans</td>\n      <td>2018</td>\n      <td>2018</td>\n      <td>kcal/capita/day</td>\n      <td>2.49</td>\n      <td>E</td>\n      <td>Estimated value</td>\n      <td>animal</td>\n    </tr>\n    <tr>\n      <th>58073</th>\n      <td>FBS</td>\n      <td>Food Balances (2010-)</td>\n      <td>818</td>\n      <td>Egypt</td>\n      <td>684</td>\n      <td>Fat supply quantity (g/capita/day)</td>\n      <td>S2515</td>\n      <td>Rye and products</td>\n      <td>2018</td>\n      <td>2018</td>\n      <td>g/capita/day</td>\n      <td>0.00</td>\n      <td>E</td>\n      <td>Estimated value</td>\n      <td>vegetal</td>\n    </tr>\n    <tr>\n      <th>86046</th>\n      <td>FBS</td>\n      <td>Food Balances (2010-)</td>\n      <td>480</td>\n      <td>Mauritius</td>\n      <td>664</td>\n      <td>Food supply (kcal/capita/day)</td>\n      <td>S2899</td>\n      <td>Miscellaneous</td>\n      <td>2019</td>\n      <td>2019</td>\n      <td>kcal/capita/day</td>\n      <td>10.80</td>\n      <td>E</td>\n      <td>Estimated value</td>\n      <td>vegetal</td>\n    </tr>\n    <tr>\n      <th>24460</th>\n      <td>FBS</td>\n      <td>Food Balances (2010-)</td>\n      <td>882</td>\n      <td>Samoa</td>\n      <td>664</td>\n      <td>Food supply (kcal/capita/day)</td>\n      <td>S2743</td>\n      <td>Cream</td>\n      <td>2019</td>\n      <td>2019</td>\n      <td>kcal/capita/day</td>\n      <td>2.43</td>\n      <td>E</td>\n      <td>Estimated value</td>\n      <td>animal</td>\n    </tr>\n    <tr>\n      <th>80596</th>\n      <td>FBS</td>\n      <td>Food Balances (2010-)</td>\n      <td>434</td>\n      <td>Libya</td>\n      <td>645</td>\n      <td>Food supply quantity (kg/capita/yr)</td>\n      <td>S2555</td>\n      <td>Soyabeans</td>\n      <td>2019</td>\n      <td>2019</td>\n      <td>kg</td>\n      <td>0.00</td>\n      <td>E</td>\n      <td>Estimated value</td>\n      <td>vegetal</td>\n    </tr>\n  </tbody>\n</table>\n</div>"
     },
     "execution_count": 489,
     "metadata": {},
     "output_type": "execute_result"
    }
   ],
   "source": [
    "# Vérification du nouveau dataset\n",
    "product_df.sample(n=5)"
   ],
   "metadata": {
    "collapsed": false
   }
  },
  {
   "cell_type": "markdown",
   "source": [
    "### Question 5 :"
   ],
   "metadata": {
    "collapsed": false
   }
  },
  {
   "cell_type": "code",
   "execution_count": 490,
   "outputs": [
    {
     "data": {
      "text/plain": "     area_code_(m49)           area  year     value\n235              540  New Caledonia  2019    282.75\n99               212       Dominica  2019     71.81\n298              703       Slovakia  2019   5457.01\n327              768           Togo  2019   8082.37\n271              642        Romania  2018  19506.00",
      "text/html": "<div>\n<style scoped>\n    .dataframe tbody tr th:only-of-type {\n        vertical-align: middle;\n    }\n\n    .dataframe tbody tr th {\n        vertical-align: top;\n    }\n\n    .dataframe thead th {\n        text-align: right;\n    }\n</style>\n<table border=\"1\" class=\"dataframe\">\n  <thead>\n    <tr style=\"text-align: right;\">\n      <th></th>\n      <th>area_code_(m49)</th>\n      <th>area</th>\n      <th>year</th>\n      <th>value</th>\n    </tr>\n  </thead>\n  <tbody>\n    <tr>\n      <th>235</th>\n      <td>540</td>\n      <td>New Caledonia</td>\n      <td>2019</td>\n      <td>282.75</td>\n    </tr>\n    <tr>\n      <th>99</th>\n      <td>212</td>\n      <td>Dominica</td>\n      <td>2019</td>\n      <td>71.81</td>\n    </tr>\n    <tr>\n      <th>298</th>\n      <td>703</td>\n      <td>Slovakia</td>\n      <td>2019</td>\n      <td>5457.01</td>\n    </tr>\n    <tr>\n      <th>327</th>\n      <td>768</td>\n      <td>Togo</td>\n      <td>2019</td>\n      <td>8082.37</td>\n    </tr>\n    <tr>\n      <th>271</th>\n      <td>642</td>\n      <td>Romania</td>\n      <td>2018</td>\n      <td>19506.00</td>\n    </tr>\n  </tbody>\n</table>\n</div>"
     },
     "execution_count": 490,
     "metadata": {},
     "output_type": "execute_result"
    }
   ],
   "source": [
    "# Changement du dataset population\n",
    "population_df = population_df.drop(['domain_code', 'domain', 'element_code', 'element', 'item_code_(cpc)', 'item', 'year_code', 'unit', 'flag', 'flag_description'], axis=1)\n",
    "population_df.sample(n=5)"
   ],
   "metadata": {
    "collapsed": false
   }
  },
  {
   "cell_type": "code",
   "execution_count": 491,
   "outputs": [
    {
     "data": {
      "text/plain": "     area_code_(m49)         area  year  pop_1000_hab\n192              434        Libya  2018       6679.00\n12                51      Armenia  2018       2951.74\n34               204        Benin  2019      11801.15\n353              548      Vanuatu  2019        299.88\n305              728  South Sudan  2019      11062.11",
      "text/html": "<div>\n<style scoped>\n    .dataframe tbody tr th:only-of-type {\n        vertical-align: middle;\n    }\n\n    .dataframe tbody tr th {\n        vertical-align: top;\n    }\n\n    .dataframe thead th {\n        text-align: right;\n    }\n</style>\n<table border=\"1\" class=\"dataframe\">\n  <thead>\n    <tr style=\"text-align: right;\">\n      <th></th>\n      <th>area_code_(m49)</th>\n      <th>area</th>\n      <th>year</th>\n      <th>pop_1000_hab</th>\n    </tr>\n  </thead>\n  <tbody>\n    <tr>\n      <th>192</th>\n      <td>434</td>\n      <td>Libya</td>\n      <td>2018</td>\n      <td>6679.00</td>\n    </tr>\n    <tr>\n      <th>12</th>\n      <td>51</td>\n      <td>Armenia</td>\n      <td>2018</td>\n      <td>2951.74</td>\n    </tr>\n    <tr>\n      <th>34</th>\n      <td>204</td>\n      <td>Benin</td>\n      <td>2019</td>\n      <td>11801.15</td>\n    </tr>\n    <tr>\n      <th>353</th>\n      <td>548</td>\n      <td>Vanuatu</td>\n      <td>2019</td>\n      <td>299.88</td>\n    </tr>\n    <tr>\n      <th>305</th>\n      <td>728</td>\n      <td>South Sudan</td>\n      <td>2019</td>\n      <td>11062.11</td>\n    </tr>\n  </tbody>\n</table>\n</div>"
     },
     "execution_count": 491,
     "metadata": {},
     "output_type": "execute_result"
    }
   ],
   "source": [
    "population_df = population_df.rename(columns={'value': 'pop_1000_hab'})\n",
    "population_df.sample(n=5)"
   ],
   "metadata": {
    "collapsed": false
   }
  },
  {
   "cell_type": "markdown",
   "source": [
    "### Question 6 :\n",
    "afin de ne garder que les colonnes area_code_(fao), area, element, item, year, type, unit."
   ],
   "metadata": {
    "collapsed": false
   }
  },
  {
   "cell_type": "code",
   "execution_count": 492,
   "outputs": [
    {
     "data": {
      "text/plain": "        area_code_(m49)             area  \\\n114843              768             Togo   \n59226               233          Estonia   \n18154               478       Mauritania   \n77016               414           Kuwait   \n5979                156  China, mainland   \n\n                                       element               item  year  \\\n114843           Food supply (kcal/capita/day)  Sunflowerseed Oil  2018   \n59226            Food supply (kcal/capita/day)          Soyabeans  2019   \n18154   Protein supply quantity (g/capita/day)               Eggs  2019   \n77016            Food supply (kcal/capita/day)       Roots, Other  2019   \n5979             Food supply (kcal/capita/day)     Aquatic Plants  2018   \n\n                   unit  value     type  \n114843  kcal/capita/day   3.36  vegetal  \n59226   kcal/capita/day   0.29  vegetal  \n18154      g/capita/day   0.62   animal  \n77016   kcal/capita/day   0.07  vegetal  \n5979    kcal/capita/day  13.00   animal  ",
      "text/html": "<div>\n<style scoped>\n    .dataframe tbody tr th:only-of-type {\n        vertical-align: middle;\n    }\n\n    .dataframe tbody tr th {\n        vertical-align: top;\n    }\n\n    .dataframe thead th {\n        text-align: right;\n    }\n</style>\n<table border=\"1\" class=\"dataframe\">\n  <thead>\n    <tr style=\"text-align: right;\">\n      <th></th>\n      <th>area_code_(m49)</th>\n      <th>area</th>\n      <th>element</th>\n      <th>item</th>\n      <th>year</th>\n      <th>unit</th>\n      <th>value</th>\n      <th>type</th>\n    </tr>\n  </thead>\n  <tbody>\n    <tr>\n      <th>114843</th>\n      <td>768</td>\n      <td>Togo</td>\n      <td>Food supply (kcal/capita/day)</td>\n      <td>Sunflowerseed Oil</td>\n      <td>2018</td>\n      <td>kcal/capita/day</td>\n      <td>3.36</td>\n      <td>vegetal</td>\n    </tr>\n    <tr>\n      <th>59226</th>\n      <td>233</td>\n      <td>Estonia</td>\n      <td>Food supply (kcal/capita/day)</td>\n      <td>Soyabeans</td>\n      <td>2019</td>\n      <td>kcal/capita/day</td>\n      <td>0.29</td>\n      <td>vegetal</td>\n    </tr>\n    <tr>\n      <th>18154</th>\n      <td>478</td>\n      <td>Mauritania</td>\n      <td>Protein supply quantity (g/capita/day)</td>\n      <td>Eggs</td>\n      <td>2019</td>\n      <td>g/capita/day</td>\n      <td>0.62</td>\n      <td>animal</td>\n    </tr>\n    <tr>\n      <th>77016</th>\n      <td>414</td>\n      <td>Kuwait</td>\n      <td>Food supply (kcal/capita/day)</td>\n      <td>Roots, Other</td>\n      <td>2019</td>\n      <td>kcal/capita/day</td>\n      <td>0.07</td>\n      <td>vegetal</td>\n    </tr>\n    <tr>\n      <th>5979</th>\n      <td>156</td>\n      <td>China, mainland</td>\n      <td>Food supply (kcal/capita/day)</td>\n      <td>Aquatic Plants</td>\n      <td>2018</td>\n      <td>kcal/capita/day</td>\n      <td>13.00</td>\n      <td>animal</td>\n    </tr>\n  </tbody>\n</table>\n</div>"
     },
     "execution_count": 492,
     "metadata": {},
     "output_type": "execute_result"
    }
   ],
   "source": [
    "product_df = product_df.drop(['domain_code', 'domain', 'element_code', 'item_code_(cpc)', 'year_code', 'flag', 'flag_description'], axis=1)\n",
    "product_df.sample(n=5)"
   ],
   "metadata": {
    "collapsed": false
   }
  },
  {
   "cell_type": "markdown",
   "source": [
    "### Question 7 :"
   ],
   "metadata": {
    "collapsed": false
   }
  },
  {
   "cell_type": "code",
   "execution_count": 493,
   "outputs": [
    {
     "data": {
      "text/plain": "   area_code_(m49)         area  year  pop_1000_hab  \\\n0                4  Afghanistan  2018       37172.0   \n1                4  Afghanistan  2018       37172.0   \n2                4  Afghanistan  2018       37172.0   \n3                4  Afghanistan  2018       37172.0   \n4                4  Afghanistan  2018       37172.0   \n\n                                  element                item  \\\n0     Food supply quantity (kg/capita/yr)         Bovine Meat   \n1           Food supply (kcal/capita/day)         Bovine Meat   \n2  Protein supply quantity (g/capita/day)         Bovine Meat   \n3      Fat supply quantity (g/capita/day)         Bovine Meat   \n4     Food supply quantity (kg/capita/yr)  Mutton & Goat Meat   \n\n              unit  value    type  \n0               kg   2.62  animal  \n1  kcal/capita/day  15.42  animal  \n2     g/capita/day   1.09  animal  \n3     g/capita/day   1.20  animal  \n4               kg   4.26  animal  ",
      "text/html": "<div>\n<style scoped>\n    .dataframe tbody tr th:only-of-type {\n        vertical-align: middle;\n    }\n\n    .dataframe tbody tr th {\n        vertical-align: top;\n    }\n\n    .dataframe thead th {\n        text-align: right;\n    }\n</style>\n<table border=\"1\" class=\"dataframe\">\n  <thead>\n    <tr style=\"text-align: right;\">\n      <th></th>\n      <th>area_code_(m49)</th>\n      <th>area</th>\n      <th>year</th>\n      <th>pop_1000_hab</th>\n      <th>element</th>\n      <th>item</th>\n      <th>unit</th>\n      <th>value</th>\n      <th>type</th>\n    </tr>\n  </thead>\n  <tbody>\n    <tr>\n      <th>0</th>\n      <td>4</td>\n      <td>Afghanistan</td>\n      <td>2018</td>\n      <td>37172.0</td>\n      <td>Food supply quantity (kg/capita/yr)</td>\n      <td>Bovine Meat</td>\n      <td>kg</td>\n      <td>2.62</td>\n      <td>animal</td>\n    </tr>\n    <tr>\n      <th>1</th>\n      <td>4</td>\n      <td>Afghanistan</td>\n      <td>2018</td>\n      <td>37172.0</td>\n      <td>Food supply (kcal/capita/day)</td>\n      <td>Bovine Meat</td>\n      <td>kcal/capita/day</td>\n      <td>15.42</td>\n      <td>animal</td>\n    </tr>\n    <tr>\n      <th>2</th>\n      <td>4</td>\n      <td>Afghanistan</td>\n      <td>2018</td>\n      <td>37172.0</td>\n      <td>Protein supply quantity (g/capita/day)</td>\n      <td>Bovine Meat</td>\n      <td>g/capita/day</td>\n      <td>1.09</td>\n      <td>animal</td>\n    </tr>\n    <tr>\n      <th>3</th>\n      <td>4</td>\n      <td>Afghanistan</td>\n      <td>2018</td>\n      <td>37172.0</td>\n      <td>Fat supply quantity (g/capita/day)</td>\n      <td>Bovine Meat</td>\n      <td>g/capita/day</td>\n      <td>1.20</td>\n      <td>animal</td>\n    </tr>\n    <tr>\n      <th>4</th>\n      <td>4</td>\n      <td>Afghanistan</td>\n      <td>2018</td>\n      <td>37172.0</td>\n      <td>Food supply quantity (kg/capita/yr)</td>\n      <td>Mutton &amp; Goat Meat</td>\n      <td>kg</td>\n      <td>4.26</td>\n      <td>animal</td>\n    </tr>\n  </tbody>\n</table>\n</div>"
     },
     "execution_count": 493,
     "metadata": {},
     "output_type": "execute_result"
    }
   ],
   "source": [
    "# Fusion des deux jeux de données\n",
    "general_df = pd.merge(population_df, product_df)\n",
    "general_df.head()"
   ],
   "metadata": {
    "collapsed": false
   }
  },
  {
   "cell_type": "code",
   "execution_count": 494,
   "outputs": [
    {
     "data": {
      "text/plain": "   area_country      country  year  pop_1000_hab  \\\n0             4  Afghanistan  2018       37172.0   \n1             4  Afghanistan  2018       37172.0   \n2             4  Afghanistan  2018       37172.0   \n3             4  Afghanistan  2018       37172.0   \n4             4  Afghanistan  2018       37172.0   \n\n                                  element                item  \\\n0     Food supply quantity (kg/capita/yr)         Bovine Meat   \n1           Food supply (kcal/capita/day)         Bovine Meat   \n2  Protein supply quantity (g/capita/day)         Bovine Meat   \n3      Fat supply quantity (g/capita/day)         Bovine Meat   \n4     Food supply quantity (kg/capita/yr)  Mutton & Goat Meat   \n\n              unit  value    type  \n0               kg   2.62  animal  \n1  kcal/capita/day  15.42  animal  \n2     g/capita/day   1.09  animal  \n3     g/capita/day   1.20  animal  \n4               kg   4.26  animal  ",
      "text/html": "<div>\n<style scoped>\n    .dataframe tbody tr th:only-of-type {\n        vertical-align: middle;\n    }\n\n    .dataframe tbody tr th {\n        vertical-align: top;\n    }\n\n    .dataframe thead th {\n        text-align: right;\n    }\n</style>\n<table border=\"1\" class=\"dataframe\">\n  <thead>\n    <tr style=\"text-align: right;\">\n      <th></th>\n      <th>area_country</th>\n      <th>country</th>\n      <th>year</th>\n      <th>pop_1000_hab</th>\n      <th>element</th>\n      <th>item</th>\n      <th>unit</th>\n      <th>value</th>\n      <th>type</th>\n    </tr>\n  </thead>\n  <tbody>\n    <tr>\n      <th>0</th>\n      <td>4</td>\n      <td>Afghanistan</td>\n      <td>2018</td>\n      <td>37172.0</td>\n      <td>Food supply quantity (kg/capita/yr)</td>\n      <td>Bovine Meat</td>\n      <td>kg</td>\n      <td>2.62</td>\n      <td>animal</td>\n    </tr>\n    <tr>\n      <th>1</th>\n      <td>4</td>\n      <td>Afghanistan</td>\n      <td>2018</td>\n      <td>37172.0</td>\n      <td>Food supply (kcal/capita/day)</td>\n      <td>Bovine Meat</td>\n      <td>kcal/capita/day</td>\n      <td>15.42</td>\n      <td>animal</td>\n    </tr>\n    <tr>\n      <th>2</th>\n      <td>4</td>\n      <td>Afghanistan</td>\n      <td>2018</td>\n      <td>37172.0</td>\n      <td>Protein supply quantity (g/capita/day)</td>\n      <td>Bovine Meat</td>\n      <td>g/capita/day</td>\n      <td>1.09</td>\n      <td>animal</td>\n    </tr>\n    <tr>\n      <th>3</th>\n      <td>4</td>\n      <td>Afghanistan</td>\n      <td>2018</td>\n      <td>37172.0</td>\n      <td>Fat supply quantity (g/capita/day)</td>\n      <td>Bovine Meat</td>\n      <td>g/capita/day</td>\n      <td>1.20</td>\n      <td>animal</td>\n    </tr>\n    <tr>\n      <th>4</th>\n      <td>4</td>\n      <td>Afghanistan</td>\n      <td>2018</td>\n      <td>37172.0</td>\n      <td>Food supply quantity (kg/capita/yr)</td>\n      <td>Mutton &amp; Goat Meat</td>\n      <td>kg</td>\n      <td>4.26</td>\n      <td>animal</td>\n    </tr>\n  </tbody>\n</table>\n</div>"
     },
     "execution_count": 494,
     "metadata": {},
     "output_type": "execute_result"
    }
   ],
   "source": [
    "# Renommage de colonnes\n",
    "general_df = general_df.rename(columns={'area_code_(m49)': 'area_country', 'area': 'country'})\n",
    "general_df.head()"
   ],
   "metadata": {
    "collapsed": false
   }
  },
  {
   "cell_type": "markdown",
   "source": [
    "### Question 8 :"
   ],
   "metadata": {
    "collapsed": false
   }
  },
  {
   "cell_type": "code",
   "execution_count": 495,
   "outputs": [
    {
     "data": {
      "text/plain": "area_country      int64\ncountry          object\nyear              int64\npop_1000_hab    float64\nelement          object\nitem             object\nunit             object\nvalue           float64\ntype             object\ndtype: object"
     },
     "execution_count": 495,
     "metadata": {},
     "output_type": "execute_result"
    }
   ],
   "source": [
    "# Vérification des types de données\n",
    "general_df.dtypes"
   ],
   "metadata": {
    "collapsed": false
   }
  },
  {
   "cell_type": "markdown",
   "source": [
    "### Question 9 :"
   ],
   "metadata": {
    "collapsed": false
   }
  },
  {
   "cell_type": "code",
   "execution_count": 496,
   "outputs": [
    {
     "data": {
      "text/plain": "area_country    0\ncountry         0\nyear            0\npop_1000_hab    0\nelement         0\nitem            0\nunit            0\nvalue           0\ntype            0\ndtype: int64"
     },
     "execution_count": 496,
     "metadata": {},
     "output_type": "execute_result"
    }
   ],
   "source": [
    "# Vérification de valeurs manquantes\n",
    "general_df.isna().sum()"
   ],
   "metadata": {
    "collapsed": false
   }
  },
  {
   "cell_type": "markdown",
   "source": [
    "### Question 10 :"
   ],
   "metadata": {
    "collapsed": false
   }
  },
  {
   "cell_type": "code",
   "execution_count": 497,
   "outputs": [
    {
     "data": {
      "text/plain": "        area_country           year  pop_1000_hab          value\ncount  124256.000000  124256.000000  1.242560e+05  124256.000000\nmean      426.895868    2018.508635  4.298225e+04      10.994490\nstd       250.624782       0.499927  1.525786e+05      56.186085\nmin         4.000000    2018.000000  1.076000e+01      -0.030000\n25%       208.000000    2018.000000  2.801000e+03       0.000000\n50%       418.000000    2019.000000  9.949540e+03       0.190000\n75%       642.000000    2019.000000  3.081000e+04       2.790000\nmax       894.000000    2019.000000  1.433784e+06    1779.760000",
      "text/html": "<div>\n<style scoped>\n    .dataframe tbody tr th:only-of-type {\n        vertical-align: middle;\n    }\n\n    .dataframe tbody tr th {\n        vertical-align: top;\n    }\n\n    .dataframe thead th {\n        text-align: right;\n    }\n</style>\n<table border=\"1\" class=\"dataframe\">\n  <thead>\n    <tr style=\"text-align: right;\">\n      <th></th>\n      <th>area_country</th>\n      <th>year</th>\n      <th>pop_1000_hab</th>\n      <th>value</th>\n    </tr>\n  </thead>\n  <tbody>\n    <tr>\n      <th>count</th>\n      <td>124256.000000</td>\n      <td>124256.000000</td>\n      <td>1.242560e+05</td>\n      <td>124256.000000</td>\n    </tr>\n    <tr>\n      <th>mean</th>\n      <td>426.895868</td>\n      <td>2018.508635</td>\n      <td>4.298225e+04</td>\n      <td>10.994490</td>\n    </tr>\n    <tr>\n      <th>std</th>\n      <td>250.624782</td>\n      <td>0.499927</td>\n      <td>1.525786e+05</td>\n      <td>56.186085</td>\n    </tr>\n    <tr>\n      <th>min</th>\n      <td>4.000000</td>\n      <td>2018.000000</td>\n      <td>1.076000e+01</td>\n      <td>-0.030000</td>\n    </tr>\n    <tr>\n      <th>25%</th>\n      <td>208.000000</td>\n      <td>2018.000000</td>\n      <td>2.801000e+03</td>\n      <td>0.000000</td>\n    </tr>\n    <tr>\n      <th>50%</th>\n      <td>418.000000</td>\n      <td>2019.000000</td>\n      <td>9.949540e+03</td>\n      <td>0.190000</td>\n    </tr>\n    <tr>\n      <th>75%</th>\n      <td>642.000000</td>\n      <td>2019.000000</td>\n      <td>3.081000e+04</td>\n      <td>2.790000</td>\n    </tr>\n    <tr>\n      <th>max</th>\n      <td>894.000000</td>\n      <td>2019.000000</td>\n      <td>1.433784e+06</td>\n      <td>1779.760000</td>\n    </tr>\n  </tbody>\n</table>\n</div>"
     },
     "execution_count": 497,
     "metadata": {},
     "output_type": "execute_result"
    }
   ],
   "source": [
    "# Vérification de certaines valeurs négatives, aberrantes\n",
    "general_df.describe()"
   ],
   "metadata": {
    "collapsed": false
   }
  },
  {
   "cell_type": "markdown",
   "source": [
    "### Question 11 :"
   ],
   "metadata": {
    "collapsed": false
   }
  },
  {
   "cell_type": "code",
   "execution_count": 498,
   "outputs": [
    {
     "data": {
      "text/plain": "array(['Afghanistan', 'Albania', 'Algeria', 'Angola',\n       'Antigua and Barbuda', 'Argentina', 'Armenia', 'Australia',\n       'Austria', 'Azerbaijan', 'Bahamas', 'Bahrain', 'Bangladesh',\n       'Barbados', 'Belarus', 'Belgium', 'Belize', 'Benin', 'Bhutan',\n       'Bolivia (Plurinational State of)', 'Bosnia and Herzegovina',\n       'Botswana', 'Brazil', 'Bulgaria', 'Burkina Faso', 'Burundi',\n       'Cabo Verde', 'Cambodia', 'Cameroon', 'Canada',\n       'Central African Republic', 'Chad', 'Chile',\n       'China, Hong Kong SAR', 'China, Macao SAR', 'China, mainland',\n       'China, Taiwan Province of', 'Colombia', 'Comoros', 'Congo',\n       'Costa Rica', \"Côte d'Ivoire\", 'Croatia', 'Cuba', 'Cyprus',\n       'Czechia', \"Democratic People's Republic of Korea\",\n       'Democratic Republic of the Congo', 'Denmark', 'Djibouti',\n       'Dominica', 'Dominican Republic', 'Ecuador', 'Egypt',\n       'El Salvador', 'Estonia', 'Eswatini', 'Ethiopia', 'Fiji',\n       'Finland', 'France', 'French Polynesia', 'Gabon', 'Gambia',\n       'Georgia', 'Germany', 'Ghana', 'Greece', 'Grenada', 'Guatemala',\n       'Guinea', 'Guinea-Bissau', 'Guyana', 'Haiti', 'Honduras',\n       'Hungary', 'Iceland', 'India', 'Indonesia',\n       'Iran (Islamic Republic of)', 'Iraq', 'Ireland', 'Israel', 'Italy',\n       'Jamaica', 'Japan', 'Jordan', 'Kazakhstan', 'Kenya', 'Kiribati',\n       'Kuwait', 'Kyrgyzstan', \"Lao People's Democratic Republic\",\n       'Latvia', 'Lebanon', 'Lesotho', 'Liberia', 'Libya', 'Lithuania',\n       'Luxembourg', 'Madagascar', 'Malawi', 'Malaysia', 'Maldives',\n       'Mali', 'Malta', 'Mauritania', 'Mauritius', 'Mexico',\n       'Micronesia (Federated States of)', 'Mongolia', 'Montenegro',\n       'Morocco', 'Mozambique', 'Myanmar', 'Namibia', 'Nauru', 'Nepal',\n       'Netherlands', 'New Caledonia', 'New Zealand', 'Nicaragua',\n       'Niger', 'Nigeria', 'North Macedonia', 'Norway', 'Oman',\n       'Pakistan', 'Panama', 'Papua New Guinea', 'Paraguay', 'Peru',\n       'Philippines', 'Poland', 'Portugal', 'Qatar', 'Republic of Korea',\n       'Republic of Moldova', 'Romania', 'Russian Federation', 'Rwanda',\n       'Saint Kitts and Nevis', 'Saint Lucia',\n       'Saint Vincent and the Grenadines', 'Samoa',\n       'Sao Tome and Principe', 'Saudi Arabia', 'Senegal', 'Serbia',\n       'Seychelles', 'Sierra Leone', 'Slovakia', 'Slovenia',\n       'Solomon Islands', 'South Africa', 'South Sudan', 'Spain',\n       'Sri Lanka', 'Sudan', 'Suriname', 'Sweden', 'Switzerland',\n       'Syrian Arab Republic', 'Tajikistan', 'Thailand', 'Timor-Leste',\n       'Togo', 'Trinidad and Tobago', 'Tunisia', 'Türkiye',\n       'Turkmenistan', 'Uganda', 'Ukraine', 'United Arab Emirates',\n       'United Kingdom of Great Britain and Northern Ireland',\n       'United Republic of Tanzania', 'United States of America',\n       'Uruguay', 'Uzbekistan', 'Vanuatu',\n       'Venezuela (Bolivarian Republic of)', 'Viet Nam', 'Yemen',\n       'Zambia', 'Zimbabwe'], dtype=object)"
     },
     "execution_count": 498,
     "metadata": {},
     "output_type": "execute_result"
    }
   ],
   "source": [
    "# Affichage des valeurs uniques de 'country'\n",
    "general_df['country'].unique()"
   ],
   "metadata": {
    "collapsed": false
   }
  },
  {
   "cell_type": "markdown",
   "source": [
    "### Question 12 :"
   ],
   "metadata": {
    "collapsed": false
   }
  },
  {
   "cell_type": "code",
   "execution_count": 499,
   "outputs": [],
   "source": [
    "# Pas besoin de faire cette étape."
   ],
   "metadata": {
    "collapsed": false
   }
  },
  {
   "cell_type": "markdown",
   "source": [
    "### Question 13 :"
   ],
   "metadata": {
    "collapsed": false
   }
  },
  {
   "cell_type": "code",
   "execution_count": 500,
   "outputs": [
    {
     "data": {
      "text/plain": "                                                                                                                      element  \\\narea_country country                  year pop_1000_hab type    item                                                            \n840          United States of America 2019 329064.92    animal  Pigmeat                   Food supply quantity (kg/capita/yr)   \n729          Sudan                    2019 42813.24     vegetal Cocoa Beans and products        Food supply (kcal/capita/day)   \n508          Mozambique               2019 30366.04     vegetal Bananas                         Food supply (kcal/capita/day)   \n288          Ghana                    2019 30417.86     vegetal Soyabean Oil              Food supply quantity (kg/capita/yr)   \n140          Central African Republic 2018 4666.00      animal  Poultry Meat                    Food supply (kcal/capita/day)   \n\n                                                                                                     unit  \\\narea_country country                  year pop_1000_hab type    item                                        \n840          United States of America 2019 329064.92    animal  Pigmeat                                kg   \n729          Sudan                    2019 42813.24     vegetal Cocoa Beans and products  kcal/capita/day   \n508          Mozambique               2019 30366.04     vegetal Bananas                   kcal/capita/day   \n288          Ghana                    2019 30417.86     vegetal Soyabean Oil                           kg   \n140          Central African Republic 2018 4666.00      animal  Poultry Meat              kcal/capita/day   \n\n                                                                                          value  \narea_country country                  year pop_1000_hab type    item                             \n840          United States of America 2019 329064.92    animal  Pigmeat                   30.84  \n729          Sudan                    2019 42813.24     vegetal Cocoa Beans and products   0.42  \n508          Mozambique               2019 30366.04     vegetal Bananas                   31.17  \n288          Ghana                    2019 30417.86     vegetal Soyabean Oil               0.10  \n140          Central African Republic 2018 4666.00      animal  Poultry Meat               9.21  ",
      "text/html": "<div>\n<style scoped>\n    .dataframe tbody tr th:only-of-type {\n        vertical-align: middle;\n    }\n\n    .dataframe tbody tr th {\n        vertical-align: top;\n    }\n\n    .dataframe thead th {\n        text-align: right;\n    }\n</style>\n<table border=\"1\" class=\"dataframe\">\n  <thead>\n    <tr style=\"text-align: right;\">\n      <th></th>\n      <th></th>\n      <th></th>\n      <th></th>\n      <th></th>\n      <th></th>\n      <th>element</th>\n      <th>unit</th>\n      <th>value</th>\n    </tr>\n    <tr>\n      <th>area_country</th>\n      <th>country</th>\n      <th>year</th>\n      <th>pop_1000_hab</th>\n      <th>type</th>\n      <th>item</th>\n      <th></th>\n      <th></th>\n      <th></th>\n    </tr>\n  </thead>\n  <tbody>\n    <tr>\n      <th>840</th>\n      <th>United States of America</th>\n      <th>2019</th>\n      <th>329064.92</th>\n      <th>animal</th>\n      <th>Pigmeat</th>\n      <td>Food supply quantity (kg/capita/yr)</td>\n      <td>kg</td>\n      <td>30.84</td>\n    </tr>\n    <tr>\n      <th>729</th>\n      <th>Sudan</th>\n      <th>2019</th>\n      <th>42813.24</th>\n      <th>vegetal</th>\n      <th>Cocoa Beans and products</th>\n      <td>Food supply (kcal/capita/day)</td>\n      <td>kcal/capita/day</td>\n      <td>0.42</td>\n    </tr>\n    <tr>\n      <th>508</th>\n      <th>Mozambique</th>\n      <th>2019</th>\n      <th>30366.04</th>\n      <th>vegetal</th>\n      <th>Bananas</th>\n      <td>Food supply (kcal/capita/day)</td>\n      <td>kcal/capita/day</td>\n      <td>31.17</td>\n    </tr>\n    <tr>\n      <th>288</th>\n      <th>Ghana</th>\n      <th>2019</th>\n      <th>30417.86</th>\n      <th>vegetal</th>\n      <th>Soyabean Oil</th>\n      <td>Food supply quantity (kg/capita/yr)</td>\n      <td>kg</td>\n      <td>0.10</td>\n    </tr>\n    <tr>\n      <th>140</th>\n      <th>Central African Republic</th>\n      <th>2018</th>\n      <th>4666.00</th>\n      <th>animal</th>\n      <th>Poultry Meat</th>\n      <td>Food supply (kcal/capita/day)</td>\n      <td>kcal/capita/day</td>\n      <td>9.21</td>\n    </tr>\n  </tbody>\n</table>\n</div>"
     },
     "execution_count": 500,
     "metadata": {},
     "output_type": "execute_result"
    }
   ],
   "source": [
    "# Réindexation du dataframe\n",
    "general_df = general_df.set_index(['area_country', 'country', 'year', 'pop_1000_hab', 'type', 'item'])\n",
    "general_df.sample(n=5)"
   ],
   "metadata": {
    "collapsed": false
   }
  },
  {
   "cell_type": "code",
   "execution_count": 501,
   "outputs": [],
   "source": [
    "general_wide_df = general_df.pivot_table(index=['area_country', 'country', 'year', 'pop_1000_hab', 'type', 'item'], columns='element', values='value')"
   ],
   "metadata": {
    "collapsed": false
   }
  },
  {
   "cell_type": "code",
   "execution_count": 502,
   "outputs": [
    {
     "data": {
      "text/plain": "element                                                          Fat supply quantity (g/capita/day)  \\\narea_country country     year pop_1000_hab type   item                                                \n4            Afghanistan 2018 37172.0      animal Bovine Meat                                  1.20   \n                                                  Butter, Ghee                                 2.50   \n                                                  Cream                                        0.02   \n                                                  Demersal Fish                                0.00   \n                                                  Eggs                                         0.44   \n\nelement                                                          Food supply (kcal/capita/day)  \\\narea_country country     year pop_1000_hab type   item                                           \n4            Afghanistan 2018 37172.0      animal Bovine Meat                            15.42   \n                                                  Butter, Ghee                           22.14   \n                                                  Cream                                   0.23   \n                                                  Demersal Fish                           0.13   \n                                                  Eggs                                    6.06   \n\nelement                                                          Food supply quantity (kg/capita/yr)  \\\narea_country country     year pop_1000_hab type   item                                                 \n4            Afghanistan 2018 37172.0      animal Bovine Meat                                   2.62   \n                                                  Butter, Ghee                                  1.00   \n                                                  Cream                                         0.04   \n                                                  Demersal Fish                                 0.15   \n                                                  Eggs                                          1.55   \n\nelement                                                          Protein supply quantity (g/capita/day)  \narea_country country     year pop_1000_hab type   item                                                   \n4            Afghanistan 2018 37172.0      animal Bovine Meat                                      1.09  \n                                                  Butter, Ghee                                     0.03  \n                                                  Cream                                            0.00  \n                                                  Demersal Fish                                    0.03  \n                                                  Eggs                                             0.45  ",
      "text/html": "<div>\n<style scoped>\n    .dataframe tbody tr th:only-of-type {\n        vertical-align: middle;\n    }\n\n    .dataframe tbody tr th {\n        vertical-align: top;\n    }\n\n    .dataframe thead th {\n        text-align: right;\n    }\n</style>\n<table border=\"1\" class=\"dataframe\">\n  <thead>\n    <tr style=\"text-align: right;\">\n      <th></th>\n      <th></th>\n      <th></th>\n      <th></th>\n      <th></th>\n      <th>element</th>\n      <th>Fat supply quantity (g/capita/day)</th>\n      <th>Food supply (kcal/capita/day)</th>\n      <th>Food supply quantity (kg/capita/yr)</th>\n      <th>Protein supply quantity (g/capita/day)</th>\n    </tr>\n    <tr>\n      <th>area_country</th>\n      <th>country</th>\n      <th>year</th>\n      <th>pop_1000_hab</th>\n      <th>type</th>\n      <th>item</th>\n      <th></th>\n      <th></th>\n      <th></th>\n      <th></th>\n    </tr>\n  </thead>\n  <tbody>\n    <tr>\n      <th rowspan=\"5\" valign=\"top\">4</th>\n      <th rowspan=\"5\" valign=\"top\">Afghanistan</th>\n      <th rowspan=\"5\" valign=\"top\">2018</th>\n      <th rowspan=\"5\" valign=\"top\">37172.0</th>\n      <th rowspan=\"5\" valign=\"top\">animal</th>\n      <th>Bovine Meat</th>\n      <td>1.20</td>\n      <td>15.42</td>\n      <td>2.62</td>\n      <td>1.09</td>\n    </tr>\n    <tr>\n      <th>Butter, Ghee</th>\n      <td>2.50</td>\n      <td>22.14</td>\n      <td>1.00</td>\n      <td>0.03</td>\n    </tr>\n    <tr>\n      <th>Cream</th>\n      <td>0.02</td>\n      <td>0.23</td>\n      <td>0.04</td>\n      <td>0.00</td>\n    </tr>\n    <tr>\n      <th>Demersal Fish</th>\n      <td>0.00</td>\n      <td>0.13</td>\n      <td>0.15</td>\n      <td>0.03</td>\n    </tr>\n    <tr>\n      <th>Eggs</th>\n      <td>0.44</td>\n      <td>6.06</td>\n      <td>1.55</td>\n      <td>0.45</td>\n    </tr>\n  </tbody>\n</table>\n</div>"
     },
     "execution_count": 502,
     "metadata": {},
     "output_type": "execute_result"
    }
   ],
   "source": [
    "general_wide_df.head()"
   ],
   "metadata": {
    "collapsed": false
   }
  },
  {
   "cell_type": "code",
   "execution_count": 503,
   "outputs": [
    {
     "ename": "KeyError",
     "evalue": "\"['index'] not found in axis\"",
     "output_type": "error",
     "traceback": [
      "\u001B[0;31m---------------------------------------------------------------------------\u001B[0m",
      "\u001B[0;31mKeyError\u001B[0m                                  Traceback (most recent call last)",
      "Cell \u001B[0;32mIn[503], line 1\u001B[0m\n\u001B[0;32m----> 1\u001B[0m general_wide_df \u001B[38;5;241m=\u001B[39m \u001B[43mgeneral_wide_df\u001B[49m\u001B[38;5;241;43m.\u001B[39;49m\u001B[43mdrop\u001B[49m\u001B[43m(\u001B[49m\u001B[38;5;124;43m'\u001B[39;49m\u001B[38;5;124;43mindex\u001B[39;49m\u001B[38;5;124;43m'\u001B[39;49m\u001B[43m,\u001B[49m\u001B[43m \u001B[49m\u001B[43maxis\u001B[49m\u001B[38;5;241;43m=\u001B[39;49m\u001B[38;5;241;43m1\u001B[39;49m\u001B[43m)\u001B[49m\n",
      "File \u001B[0;32m~/miniconda3/envs/Pandas/lib/python3.10/site-packages/pandas/util/_decorators.py:331\u001B[0m, in \u001B[0;36mdeprecate_nonkeyword_arguments.<locals>.decorate.<locals>.wrapper\u001B[0;34m(*args, **kwargs)\u001B[0m\n\u001B[1;32m    325\u001B[0m \u001B[38;5;28;01mif\u001B[39;00m \u001B[38;5;28mlen\u001B[39m(args) \u001B[38;5;241m>\u001B[39m num_allow_args:\n\u001B[1;32m    326\u001B[0m     warnings\u001B[38;5;241m.\u001B[39mwarn(\n\u001B[1;32m    327\u001B[0m         msg\u001B[38;5;241m.\u001B[39mformat(arguments\u001B[38;5;241m=\u001B[39m_format_argument_list(allow_args)),\n\u001B[1;32m    328\u001B[0m         \u001B[38;5;167;01mFutureWarning\u001B[39;00m,\n\u001B[1;32m    329\u001B[0m         stacklevel\u001B[38;5;241m=\u001B[39mfind_stack_level(),\n\u001B[1;32m    330\u001B[0m     )\n\u001B[0;32m--> 331\u001B[0m \u001B[38;5;28;01mreturn\u001B[39;00m \u001B[43mfunc\u001B[49m\u001B[43m(\u001B[49m\u001B[38;5;241;43m*\u001B[39;49m\u001B[43margs\u001B[49m\u001B[43m,\u001B[49m\u001B[43m \u001B[49m\u001B[38;5;241;43m*\u001B[39;49m\u001B[38;5;241;43m*\u001B[39;49m\u001B[43mkwargs\u001B[49m\u001B[43m)\u001B[49m\n",
      "File \u001B[0;32m~/miniconda3/envs/Pandas/lib/python3.10/site-packages/pandas/core/frame.py:5396\u001B[0m, in \u001B[0;36mDataFrame.drop\u001B[0;34m(self, labels, axis, index, columns, level, inplace, errors)\u001B[0m\n\u001B[1;32m   5248\u001B[0m \u001B[38;5;129m@deprecate_nonkeyword_arguments\u001B[39m(version\u001B[38;5;241m=\u001B[39m\u001B[38;5;28;01mNone\u001B[39;00m, allowed_args\u001B[38;5;241m=\u001B[39m[\u001B[38;5;124m\"\u001B[39m\u001B[38;5;124mself\u001B[39m\u001B[38;5;124m\"\u001B[39m, \u001B[38;5;124m\"\u001B[39m\u001B[38;5;124mlabels\u001B[39m\u001B[38;5;124m\"\u001B[39m])\n\u001B[1;32m   5249\u001B[0m \u001B[38;5;28;01mdef\u001B[39;00m \u001B[38;5;21mdrop\u001B[39m(  \u001B[38;5;66;03m# type: ignore[override]\u001B[39;00m\n\u001B[1;32m   5250\u001B[0m     \u001B[38;5;28mself\u001B[39m,\n\u001B[0;32m   (...)\u001B[0m\n\u001B[1;32m   5257\u001B[0m     errors: IgnoreRaise \u001B[38;5;241m=\u001B[39m \u001B[38;5;124m\"\u001B[39m\u001B[38;5;124mraise\u001B[39m\u001B[38;5;124m\"\u001B[39m,\n\u001B[1;32m   5258\u001B[0m ) \u001B[38;5;241m-\u001B[39m\u001B[38;5;241m>\u001B[39m DataFrame \u001B[38;5;241m|\u001B[39m \u001B[38;5;28;01mNone\u001B[39;00m:\n\u001B[1;32m   5259\u001B[0m     \u001B[38;5;124;03m\"\"\"\u001B[39;00m\n\u001B[1;32m   5260\u001B[0m \u001B[38;5;124;03m    Drop specified labels from rows or columns.\u001B[39;00m\n\u001B[1;32m   5261\u001B[0m \n\u001B[0;32m   (...)\u001B[0m\n\u001B[1;32m   5394\u001B[0m \u001B[38;5;124;03m            weight  1.0     0.8\u001B[39;00m\n\u001B[1;32m   5395\u001B[0m \u001B[38;5;124;03m    \"\"\"\u001B[39;00m\n\u001B[0;32m-> 5396\u001B[0m     \u001B[38;5;28;01mreturn\u001B[39;00m \u001B[38;5;28;43msuper\u001B[39;49m\u001B[43m(\u001B[49m\u001B[43m)\u001B[49m\u001B[38;5;241;43m.\u001B[39;49m\u001B[43mdrop\u001B[49m\u001B[43m(\u001B[49m\n\u001B[1;32m   5397\u001B[0m \u001B[43m        \u001B[49m\u001B[43mlabels\u001B[49m\u001B[38;5;241;43m=\u001B[39;49m\u001B[43mlabels\u001B[49m\u001B[43m,\u001B[49m\n\u001B[1;32m   5398\u001B[0m \u001B[43m        \u001B[49m\u001B[43maxis\u001B[49m\u001B[38;5;241;43m=\u001B[39;49m\u001B[43maxis\u001B[49m\u001B[43m,\u001B[49m\n\u001B[1;32m   5399\u001B[0m \u001B[43m        \u001B[49m\u001B[43mindex\u001B[49m\u001B[38;5;241;43m=\u001B[39;49m\u001B[43mindex\u001B[49m\u001B[43m,\u001B[49m\n\u001B[1;32m   5400\u001B[0m \u001B[43m        \u001B[49m\u001B[43mcolumns\u001B[49m\u001B[38;5;241;43m=\u001B[39;49m\u001B[43mcolumns\u001B[49m\u001B[43m,\u001B[49m\n\u001B[1;32m   5401\u001B[0m \u001B[43m        \u001B[49m\u001B[43mlevel\u001B[49m\u001B[38;5;241;43m=\u001B[39;49m\u001B[43mlevel\u001B[49m\u001B[43m,\u001B[49m\n\u001B[1;32m   5402\u001B[0m \u001B[43m        \u001B[49m\u001B[43minplace\u001B[49m\u001B[38;5;241;43m=\u001B[39;49m\u001B[43minplace\u001B[49m\u001B[43m,\u001B[49m\n\u001B[1;32m   5403\u001B[0m \u001B[43m        \u001B[49m\u001B[43merrors\u001B[49m\u001B[38;5;241;43m=\u001B[39;49m\u001B[43merrors\u001B[49m\u001B[43m,\u001B[49m\n\u001B[1;32m   5404\u001B[0m \u001B[43m    \u001B[49m\u001B[43m)\u001B[49m\n",
      "File \u001B[0;32m~/miniconda3/envs/Pandas/lib/python3.10/site-packages/pandas/util/_decorators.py:331\u001B[0m, in \u001B[0;36mdeprecate_nonkeyword_arguments.<locals>.decorate.<locals>.wrapper\u001B[0;34m(*args, **kwargs)\u001B[0m\n\u001B[1;32m    325\u001B[0m \u001B[38;5;28;01mif\u001B[39;00m \u001B[38;5;28mlen\u001B[39m(args) \u001B[38;5;241m>\u001B[39m num_allow_args:\n\u001B[1;32m    326\u001B[0m     warnings\u001B[38;5;241m.\u001B[39mwarn(\n\u001B[1;32m    327\u001B[0m         msg\u001B[38;5;241m.\u001B[39mformat(arguments\u001B[38;5;241m=\u001B[39m_format_argument_list(allow_args)),\n\u001B[1;32m    328\u001B[0m         \u001B[38;5;167;01mFutureWarning\u001B[39;00m,\n\u001B[1;32m    329\u001B[0m         stacklevel\u001B[38;5;241m=\u001B[39mfind_stack_level(),\n\u001B[1;32m    330\u001B[0m     )\n\u001B[0;32m--> 331\u001B[0m \u001B[38;5;28;01mreturn\u001B[39;00m \u001B[43mfunc\u001B[49m\u001B[43m(\u001B[49m\u001B[38;5;241;43m*\u001B[39;49m\u001B[43margs\u001B[49m\u001B[43m,\u001B[49m\u001B[43m \u001B[49m\u001B[38;5;241;43m*\u001B[39;49m\u001B[38;5;241;43m*\u001B[39;49m\u001B[43mkwargs\u001B[49m\u001B[43m)\u001B[49m\n",
      "File \u001B[0;32m~/miniconda3/envs/Pandas/lib/python3.10/site-packages/pandas/core/generic.py:4505\u001B[0m, in \u001B[0;36mNDFrame.drop\u001B[0;34m(self, labels, axis, index, columns, level, inplace, errors)\u001B[0m\n\u001B[1;32m   4503\u001B[0m \u001B[38;5;28;01mfor\u001B[39;00m axis, labels \u001B[38;5;129;01min\u001B[39;00m axes\u001B[38;5;241m.\u001B[39mitems():\n\u001B[1;32m   4504\u001B[0m     \u001B[38;5;28;01mif\u001B[39;00m labels \u001B[38;5;129;01mis\u001B[39;00m \u001B[38;5;129;01mnot\u001B[39;00m \u001B[38;5;28;01mNone\u001B[39;00m:\n\u001B[0;32m-> 4505\u001B[0m         obj \u001B[38;5;241m=\u001B[39m \u001B[43mobj\u001B[49m\u001B[38;5;241;43m.\u001B[39;49m\u001B[43m_drop_axis\u001B[49m\u001B[43m(\u001B[49m\u001B[43mlabels\u001B[49m\u001B[43m,\u001B[49m\u001B[43m \u001B[49m\u001B[43maxis\u001B[49m\u001B[43m,\u001B[49m\u001B[43m \u001B[49m\u001B[43mlevel\u001B[49m\u001B[38;5;241;43m=\u001B[39;49m\u001B[43mlevel\u001B[49m\u001B[43m,\u001B[49m\u001B[43m \u001B[49m\u001B[43merrors\u001B[49m\u001B[38;5;241;43m=\u001B[39;49m\u001B[43merrors\u001B[49m\u001B[43m)\u001B[49m\n\u001B[1;32m   4507\u001B[0m \u001B[38;5;28;01mif\u001B[39;00m inplace:\n\u001B[1;32m   4508\u001B[0m     \u001B[38;5;28mself\u001B[39m\u001B[38;5;241m.\u001B[39m_update_inplace(obj)\n",
      "File \u001B[0;32m~/miniconda3/envs/Pandas/lib/python3.10/site-packages/pandas/core/generic.py:4546\u001B[0m, in \u001B[0;36mNDFrame._drop_axis\u001B[0;34m(self, labels, axis, level, errors, only_slice)\u001B[0m\n\u001B[1;32m   4544\u001B[0m         new_axis \u001B[38;5;241m=\u001B[39m axis\u001B[38;5;241m.\u001B[39mdrop(labels, level\u001B[38;5;241m=\u001B[39mlevel, errors\u001B[38;5;241m=\u001B[39merrors)\n\u001B[1;32m   4545\u001B[0m     \u001B[38;5;28;01melse\u001B[39;00m:\n\u001B[0;32m-> 4546\u001B[0m         new_axis \u001B[38;5;241m=\u001B[39m \u001B[43maxis\u001B[49m\u001B[38;5;241;43m.\u001B[39;49m\u001B[43mdrop\u001B[49m\u001B[43m(\u001B[49m\u001B[43mlabels\u001B[49m\u001B[43m,\u001B[49m\u001B[43m \u001B[49m\u001B[43merrors\u001B[49m\u001B[38;5;241;43m=\u001B[39;49m\u001B[43merrors\u001B[49m\u001B[43m)\u001B[49m\n\u001B[1;32m   4547\u001B[0m     indexer \u001B[38;5;241m=\u001B[39m axis\u001B[38;5;241m.\u001B[39mget_indexer(new_axis)\n\u001B[1;32m   4549\u001B[0m \u001B[38;5;66;03m# Case for non-unique axis\u001B[39;00m\n\u001B[1;32m   4550\u001B[0m \u001B[38;5;28;01melse\u001B[39;00m:\n",
      "File \u001B[0;32m~/miniconda3/envs/Pandas/lib/python3.10/site-packages/pandas/core/indexes/base.py:6977\u001B[0m, in \u001B[0;36mIndex.drop\u001B[0;34m(self, labels, errors)\u001B[0m\n\u001B[1;32m   6975\u001B[0m \u001B[38;5;28;01mif\u001B[39;00m mask\u001B[38;5;241m.\u001B[39many():\n\u001B[1;32m   6976\u001B[0m     \u001B[38;5;28;01mif\u001B[39;00m errors \u001B[38;5;241m!=\u001B[39m \u001B[38;5;124m\"\u001B[39m\u001B[38;5;124mignore\u001B[39m\u001B[38;5;124m\"\u001B[39m:\n\u001B[0;32m-> 6977\u001B[0m         \u001B[38;5;28;01mraise\u001B[39;00m \u001B[38;5;167;01mKeyError\u001B[39;00m(\u001B[38;5;124mf\u001B[39m\u001B[38;5;124m\"\u001B[39m\u001B[38;5;132;01m{\u001B[39;00m\u001B[38;5;28mlist\u001B[39m(labels[mask])\u001B[38;5;132;01m}\u001B[39;00m\u001B[38;5;124m not found in axis\u001B[39m\u001B[38;5;124m\"\u001B[39m)\n\u001B[1;32m   6978\u001B[0m     indexer \u001B[38;5;241m=\u001B[39m indexer[\u001B[38;5;241m~\u001B[39mmask]\n\u001B[1;32m   6979\u001B[0m \u001B[38;5;28;01mreturn\u001B[39;00m \u001B[38;5;28mself\u001B[39m\u001B[38;5;241m.\u001B[39mdelete(indexer)\n",
      "\u001B[0;31mKeyError\u001B[0m: \"['index'] not found in axis\""
     ]
    }
   ],
   "source": [
    "#general_wide_df = general_wide_df.drop('index', axis=1)"
   ],
   "metadata": {
    "collapsed": false
   }
  },
  {
   "cell_type": "code",
   "execution_count": 505,
   "outputs": [],
   "source": [
    "general_wide_df = general_wide_df.reset_index()"
   ],
   "metadata": {
    "collapsed": false
   }
  },
  {
   "cell_type": "code",
   "execution_count": 506,
   "outputs": [
    {
     "data": {
      "text/plain": "element  area_country      country  year  pop_1000_hab     type  \\\n0                   4  Afghanistan  2018      37172.00   animal   \n1                   4  Afghanistan  2018      37172.00   animal   \n2                   4  Afghanistan  2018      37172.00   animal   \n3                   4  Afghanistan  2018      37172.00   animal   \n4                   4  Afghanistan  2018      37172.00   animal   \n...               ...          ...   ...           ...      ...   \n31237             894       Zambia  2019      17861.03  vegetal   \n31238             894       Zambia  2019      17861.03  vegetal   \n31239             894       Zambia  2019      17861.03  vegetal   \n31240             894       Zambia  2019      17861.03  vegetal   \n31241             894       Zambia  2019      17861.03  vegetal   \n\nelement                   item  Fat supply quantity (g/capita/day)  \\\n0                  Bovine Meat                                1.20   \n1                 Butter, Ghee                                2.50   \n2                        Cream                                0.02   \n3                Demersal Fish                                0.00   \n4                         Eggs                                0.44   \n...                        ...                                 ...   \n31237     Tea (including mate)                                0.00   \n31238    Tomatoes and products                                0.01   \n31239        Vegetables, other                                0.10   \n31240       Wheat and products                                0.26   \n31241                     Wine                                0.00   \n\nelement  Food supply (kcal/capita/day)  Food supply quantity (kg/capita/yr)  \\\n0                                15.42                                 2.62   \n1                                22.14                                 1.00   \n2                                 0.23                                 0.04   \n3                                 0.13                                 0.15   \n4                                 6.06                                 1.55   \n...                                ...                                  ...   \n31237                             0.12                                 0.11   \n31238                             0.78                                 1.40   \n31239                            12.54                                17.94   \n31240                            62.61                                 7.58   \n31241                             0.28                                 0.15   \n\nelement  Protein supply quantity (g/capita/day)  \n0                                          1.09  \n1                                          0.03  \n2                                          0.00  \n3                                          0.03  \n4                                          0.45  \n...                                         ...  \n31237                                      0.03  \n31238                                      0.04  \n31239                                      0.72  \n31240                                      1.86  \n31241                                      0.00  \n\n[31242 rows x 10 columns]",
      "text/html": "<div>\n<style scoped>\n    .dataframe tbody tr th:only-of-type {\n        vertical-align: middle;\n    }\n\n    .dataframe tbody tr th {\n        vertical-align: top;\n    }\n\n    .dataframe thead th {\n        text-align: right;\n    }\n</style>\n<table border=\"1\" class=\"dataframe\">\n  <thead>\n    <tr style=\"text-align: right;\">\n      <th>element</th>\n      <th>area_country</th>\n      <th>country</th>\n      <th>year</th>\n      <th>pop_1000_hab</th>\n      <th>type</th>\n      <th>item</th>\n      <th>Fat supply quantity (g/capita/day)</th>\n      <th>Food supply (kcal/capita/day)</th>\n      <th>Food supply quantity (kg/capita/yr)</th>\n      <th>Protein supply quantity (g/capita/day)</th>\n    </tr>\n  </thead>\n  <tbody>\n    <tr>\n      <th>0</th>\n      <td>4</td>\n      <td>Afghanistan</td>\n      <td>2018</td>\n      <td>37172.00</td>\n      <td>animal</td>\n      <td>Bovine Meat</td>\n      <td>1.20</td>\n      <td>15.42</td>\n      <td>2.62</td>\n      <td>1.09</td>\n    </tr>\n    <tr>\n      <th>1</th>\n      <td>4</td>\n      <td>Afghanistan</td>\n      <td>2018</td>\n      <td>37172.00</td>\n      <td>animal</td>\n      <td>Butter, Ghee</td>\n      <td>2.50</td>\n      <td>22.14</td>\n      <td>1.00</td>\n      <td>0.03</td>\n    </tr>\n    <tr>\n      <th>2</th>\n      <td>4</td>\n      <td>Afghanistan</td>\n      <td>2018</td>\n      <td>37172.00</td>\n      <td>animal</td>\n      <td>Cream</td>\n      <td>0.02</td>\n      <td>0.23</td>\n      <td>0.04</td>\n      <td>0.00</td>\n    </tr>\n    <tr>\n      <th>3</th>\n      <td>4</td>\n      <td>Afghanistan</td>\n      <td>2018</td>\n      <td>37172.00</td>\n      <td>animal</td>\n      <td>Demersal Fish</td>\n      <td>0.00</td>\n      <td>0.13</td>\n      <td>0.15</td>\n      <td>0.03</td>\n    </tr>\n    <tr>\n      <th>4</th>\n      <td>4</td>\n      <td>Afghanistan</td>\n      <td>2018</td>\n      <td>37172.00</td>\n      <td>animal</td>\n      <td>Eggs</td>\n      <td>0.44</td>\n      <td>6.06</td>\n      <td>1.55</td>\n      <td>0.45</td>\n    </tr>\n    <tr>\n      <th>...</th>\n      <td>...</td>\n      <td>...</td>\n      <td>...</td>\n      <td>...</td>\n      <td>...</td>\n      <td>...</td>\n      <td>...</td>\n      <td>...</td>\n      <td>...</td>\n      <td>...</td>\n    </tr>\n    <tr>\n      <th>31237</th>\n      <td>894</td>\n      <td>Zambia</td>\n      <td>2019</td>\n      <td>17861.03</td>\n      <td>vegetal</td>\n      <td>Tea (including mate)</td>\n      <td>0.00</td>\n      <td>0.12</td>\n      <td>0.11</td>\n      <td>0.03</td>\n    </tr>\n    <tr>\n      <th>31238</th>\n      <td>894</td>\n      <td>Zambia</td>\n      <td>2019</td>\n      <td>17861.03</td>\n      <td>vegetal</td>\n      <td>Tomatoes and products</td>\n      <td>0.01</td>\n      <td>0.78</td>\n      <td>1.40</td>\n      <td>0.04</td>\n    </tr>\n    <tr>\n      <th>31239</th>\n      <td>894</td>\n      <td>Zambia</td>\n      <td>2019</td>\n      <td>17861.03</td>\n      <td>vegetal</td>\n      <td>Vegetables, other</td>\n      <td>0.10</td>\n      <td>12.54</td>\n      <td>17.94</td>\n      <td>0.72</td>\n    </tr>\n    <tr>\n      <th>31240</th>\n      <td>894</td>\n      <td>Zambia</td>\n      <td>2019</td>\n      <td>17861.03</td>\n      <td>vegetal</td>\n      <td>Wheat and products</td>\n      <td>0.26</td>\n      <td>62.61</td>\n      <td>7.58</td>\n      <td>1.86</td>\n    </tr>\n    <tr>\n      <th>31241</th>\n      <td>894</td>\n      <td>Zambia</td>\n      <td>2019</td>\n      <td>17861.03</td>\n      <td>vegetal</td>\n      <td>Wine</td>\n      <td>0.00</td>\n      <td>0.28</td>\n      <td>0.15</td>\n      <td>0.00</td>\n    </tr>\n  </tbody>\n</table>\n<p>31242 rows × 10 columns</p>\n</div>"
     },
     "execution_count": 506,
     "metadata": {},
     "output_type": "execute_result"
    }
   ],
   "source": [
    "general_wide_df"
   ],
   "metadata": {
    "collapsed": false
   }
  },
  {
   "cell_type": "markdown",
   "source": [
    "### Question 14 :"
   ],
   "metadata": {
    "collapsed": false
   }
  },
  {
   "cell_type": "code",
   "execution_count": 510,
   "outputs": [
    {
     "data": {
      "text/plain": "element  area_country                           country  year  pop_1000_hab  \\\n24052             662                       Saint Lucia  2018        182.00   \n3726              100                          Bulgaria  2019       7000.12   \n22630             616                            Poland  2018      37922.00   \n12105             344              China, Hong Kong SAR  2018       7372.00   \n6672              180  Democratic Republic of the Congo  2019      86790.57   \n\nelement     type             item  fat_supply_quantity_(g/capita/day)  \\\n24052    vegetal        Plantains                                0.06   \n3726     vegetal      Infant food                                0.01   \n22630    vegetal  Oilcrops, Other                                0.05   \n12105     animal  Molluscs, Other                                0.16   \n6672      animal    Demersal Fish                                0.01   \n\nelement  food_supply_(kcal/capita/day)  food_supply_quantity_(kg/capita/yr)  \\\n24052                            13.58                                 6.61   \n3726                              1.49                                 0.15   \n22630                             0.55                                 0.04   \n12105                             8.58                                14.82   \n6672                              0.50                                 0.33   \n\nelement  protein_supply_quantity_(g/capita/day)  \n24052                                      0.15  \n3726                                       0.06  \n22630                                      0.02  \n12105                                      1.27  \n6672                                       0.10  ",
      "text/html": "<div>\n<style scoped>\n    .dataframe tbody tr th:only-of-type {\n        vertical-align: middle;\n    }\n\n    .dataframe tbody tr th {\n        vertical-align: top;\n    }\n\n    .dataframe thead th {\n        text-align: right;\n    }\n</style>\n<table border=\"1\" class=\"dataframe\">\n  <thead>\n    <tr style=\"text-align: right;\">\n      <th>element</th>\n      <th>area_country</th>\n      <th>country</th>\n      <th>year</th>\n      <th>pop_1000_hab</th>\n      <th>type</th>\n      <th>item</th>\n      <th>fat_supply_quantity_(g/capita/day)</th>\n      <th>food_supply_(kcal/capita/day)</th>\n      <th>food_supply_quantity_(kg/capita/yr)</th>\n      <th>protein_supply_quantity_(g/capita/day)</th>\n    </tr>\n  </thead>\n  <tbody>\n    <tr>\n      <th>24052</th>\n      <td>662</td>\n      <td>Saint Lucia</td>\n      <td>2018</td>\n      <td>182.00</td>\n      <td>vegetal</td>\n      <td>Plantains</td>\n      <td>0.06</td>\n      <td>13.58</td>\n      <td>6.61</td>\n      <td>0.15</td>\n    </tr>\n    <tr>\n      <th>3726</th>\n      <td>100</td>\n      <td>Bulgaria</td>\n      <td>2019</td>\n      <td>7000.12</td>\n      <td>vegetal</td>\n      <td>Infant food</td>\n      <td>0.01</td>\n      <td>1.49</td>\n      <td>0.15</td>\n      <td>0.06</td>\n    </tr>\n    <tr>\n      <th>22630</th>\n      <td>616</td>\n      <td>Poland</td>\n      <td>2018</td>\n      <td>37922.00</td>\n      <td>vegetal</td>\n      <td>Oilcrops, Other</td>\n      <td>0.05</td>\n      <td>0.55</td>\n      <td>0.04</td>\n      <td>0.02</td>\n    </tr>\n    <tr>\n      <th>12105</th>\n      <td>344</td>\n      <td>China, Hong Kong SAR</td>\n      <td>2018</td>\n      <td>7372.00</td>\n      <td>animal</td>\n      <td>Molluscs, Other</td>\n      <td>0.16</td>\n      <td>8.58</td>\n      <td>14.82</td>\n      <td>1.27</td>\n    </tr>\n    <tr>\n      <th>6672</th>\n      <td>180</td>\n      <td>Democratic Republic of the Congo</td>\n      <td>2019</td>\n      <td>86790.57</td>\n      <td>animal</td>\n      <td>Demersal Fish</td>\n      <td>0.01</td>\n      <td>0.50</td>\n      <td>0.33</td>\n      <td>0.10</td>\n    </tr>\n  </tbody>\n</table>\n</div>"
     },
     "execution_count": 510,
     "metadata": {},
     "output_type": "execute_result"
    }
   ],
   "source": [
    "# Renommage des colonnes\n",
    "general_wide_df = general_wide_df.rename(columns=lambda x: x.lower().replace(' ', '_'))\n",
    "general_wide_df.sample(n=5)"
   ],
   "metadata": {
    "collapsed": false
   }
  },
  {
   "cell_type": "code",
   "execution_count": 511,
   "outputs": [
    {
     "data": {
      "text/plain": "(31242, 10)"
     },
     "execution_count": 511,
     "metadata": {},
     "output_type": "execute_result"
    }
   ],
   "source": [
    "general_wide_df.shape"
   ],
   "metadata": {
    "collapsed": false
   }
  },
  {
   "cell_type": "markdown",
   "source": [
    "### Question 15 :"
   ],
   "metadata": {
    "collapsed": false
   }
  },
  {
   "cell_type": "code",
   "execution_count": 512,
   "outputs": [],
   "source": [
    "# Création d'un masque\n",
    "mask = general_wide_df['year'] == 2018"
   ],
   "metadata": {
    "collapsed": false
   }
  },
  {
   "cell_type": "code",
   "execution_count": 513,
   "outputs": [
    {
     "data": {
      "text/plain": "element  area_country      country  year  pop_1000_hab     type  \\\n0                   4  Afghanistan  2018       37172.0   animal   \n1                   4  Afghanistan  2018       37172.0   animal   \n2                   4  Afghanistan  2018       37172.0   animal   \n3                   4  Afghanistan  2018       37172.0   animal   \n4                   4  Afghanistan  2018       37172.0   animal   \n...               ...          ...   ...           ...      ...   \n31148             894       Zambia  2018       17352.0  vegetal   \n31149             894       Zambia  2018       17352.0  vegetal   \n31150             894       Zambia  2018       17352.0  vegetal   \n31151             894       Zambia  2018       17352.0  vegetal   \n31152             894       Zambia  2018       17352.0  vegetal   \n\nelement                   item  fat_supply_quantity_(g/capita/day)  \\\n0                  Bovine Meat                                1.20   \n1                 Butter, Ghee                                2.50   \n2                        Cream                                0.02   \n3                Demersal Fish                                0.00   \n4                         Eggs                                0.44   \n...                        ...                                 ...   \n31148     Tea (including mate)                                0.00   \n31149    Tomatoes and products                                0.01   \n31150        Vegetables, other                                0.12   \n31151       Wheat and products                                0.24   \n31152                     Wine                                0.00   \n\nelement  food_supply_(kcal/capita/day)  food_supply_quantity_(kg/capita/yr)  \\\n0                                15.42                                 2.62   \n1                                22.14                                 1.00   \n2                                 0.23                                 0.04   \n3                                 0.13                                 0.15   \n4                                 6.06                                 1.55   \n...                                ...                                  ...   \n31148                             0.13                                 0.12   \n31149                             0.78                                 1.42   \n31150                            13.90                                20.58   \n31151                            65.75                                 8.12   \n31152                             0.35                                 0.19   \n\nelement  protein_supply_quantity_(g/capita/day)  \n0                                          1.09  \n1                                          0.03  \n2                                          0.00  \n3                                          0.03  \n4                                          0.45  \n...                                         ...  \n31148                                      0.03  \n31149                                      0.04  \n31150                                      0.82  \n31151                                      1.98  \n31152                                      0.00  \n\n[15346 rows x 10 columns]",
      "text/html": "<div>\n<style scoped>\n    .dataframe tbody tr th:only-of-type {\n        vertical-align: middle;\n    }\n\n    .dataframe tbody tr th {\n        vertical-align: top;\n    }\n\n    .dataframe thead th {\n        text-align: right;\n    }\n</style>\n<table border=\"1\" class=\"dataframe\">\n  <thead>\n    <tr style=\"text-align: right;\">\n      <th>element</th>\n      <th>area_country</th>\n      <th>country</th>\n      <th>year</th>\n      <th>pop_1000_hab</th>\n      <th>type</th>\n      <th>item</th>\n      <th>fat_supply_quantity_(g/capita/day)</th>\n      <th>food_supply_(kcal/capita/day)</th>\n      <th>food_supply_quantity_(kg/capita/yr)</th>\n      <th>protein_supply_quantity_(g/capita/day)</th>\n    </tr>\n  </thead>\n  <tbody>\n    <tr>\n      <th>0</th>\n      <td>4</td>\n      <td>Afghanistan</td>\n      <td>2018</td>\n      <td>37172.0</td>\n      <td>animal</td>\n      <td>Bovine Meat</td>\n      <td>1.20</td>\n      <td>15.42</td>\n      <td>2.62</td>\n      <td>1.09</td>\n    </tr>\n    <tr>\n      <th>1</th>\n      <td>4</td>\n      <td>Afghanistan</td>\n      <td>2018</td>\n      <td>37172.0</td>\n      <td>animal</td>\n      <td>Butter, Ghee</td>\n      <td>2.50</td>\n      <td>22.14</td>\n      <td>1.00</td>\n      <td>0.03</td>\n    </tr>\n    <tr>\n      <th>2</th>\n      <td>4</td>\n      <td>Afghanistan</td>\n      <td>2018</td>\n      <td>37172.0</td>\n      <td>animal</td>\n      <td>Cream</td>\n      <td>0.02</td>\n      <td>0.23</td>\n      <td>0.04</td>\n      <td>0.00</td>\n    </tr>\n    <tr>\n      <th>3</th>\n      <td>4</td>\n      <td>Afghanistan</td>\n      <td>2018</td>\n      <td>37172.0</td>\n      <td>animal</td>\n      <td>Demersal Fish</td>\n      <td>0.00</td>\n      <td>0.13</td>\n      <td>0.15</td>\n      <td>0.03</td>\n    </tr>\n    <tr>\n      <th>4</th>\n      <td>4</td>\n      <td>Afghanistan</td>\n      <td>2018</td>\n      <td>37172.0</td>\n      <td>animal</td>\n      <td>Eggs</td>\n      <td>0.44</td>\n      <td>6.06</td>\n      <td>1.55</td>\n      <td>0.45</td>\n    </tr>\n    <tr>\n      <th>...</th>\n      <td>...</td>\n      <td>...</td>\n      <td>...</td>\n      <td>...</td>\n      <td>...</td>\n      <td>...</td>\n      <td>...</td>\n      <td>...</td>\n      <td>...</td>\n      <td>...</td>\n    </tr>\n    <tr>\n      <th>31148</th>\n      <td>894</td>\n      <td>Zambia</td>\n      <td>2018</td>\n      <td>17352.0</td>\n      <td>vegetal</td>\n      <td>Tea (including mate)</td>\n      <td>0.00</td>\n      <td>0.13</td>\n      <td>0.12</td>\n      <td>0.03</td>\n    </tr>\n    <tr>\n      <th>31149</th>\n      <td>894</td>\n      <td>Zambia</td>\n      <td>2018</td>\n      <td>17352.0</td>\n      <td>vegetal</td>\n      <td>Tomatoes and products</td>\n      <td>0.01</td>\n      <td>0.78</td>\n      <td>1.42</td>\n      <td>0.04</td>\n    </tr>\n    <tr>\n      <th>31150</th>\n      <td>894</td>\n      <td>Zambia</td>\n      <td>2018</td>\n      <td>17352.0</td>\n      <td>vegetal</td>\n      <td>Vegetables, other</td>\n      <td>0.12</td>\n      <td>13.90</td>\n      <td>20.58</td>\n      <td>0.82</td>\n    </tr>\n    <tr>\n      <th>31151</th>\n      <td>894</td>\n      <td>Zambia</td>\n      <td>2018</td>\n      <td>17352.0</td>\n      <td>vegetal</td>\n      <td>Wheat and products</td>\n      <td>0.24</td>\n      <td>65.75</td>\n      <td>8.12</td>\n      <td>1.98</td>\n    </tr>\n    <tr>\n      <th>31152</th>\n      <td>894</td>\n      <td>Zambia</td>\n      <td>2018</td>\n      <td>17352.0</td>\n      <td>vegetal</td>\n      <td>Wine</td>\n      <td>0.00</td>\n      <td>0.35</td>\n      <td>0.19</td>\n      <td>0.00</td>\n    </tr>\n  </tbody>\n</table>\n<p>15346 rows × 10 columns</p>\n</div>"
     },
     "execution_count": 513,
     "metadata": {},
     "output_type": "execute_result"
    }
   ],
   "source": [
    "# Application du masque\n",
    "general_wide_df_2018 = general_wide_df.loc[mask]\n",
    "general_wide_df_2018"
   ],
   "metadata": {
    "collapsed": false
   }
  },
  {
   "cell_type": "markdown",
   "source": [
    "### Question 16 :"
   ],
   "metadata": {
    "collapsed": false
   }
  },
  {
   "cell_type": "code",
   "execution_count": null,
   "outputs": [],
   "source": [],
   "metadata": {
    "collapsed": false
   }
  }
 ],
 "metadata": {
  "kernelspec": {
   "display_name": "Python 3",
   "language": "python",
   "name": "python3"
  },
  "language_info": {
   "codemirror_mode": {
    "name": "ipython",
    "version": 2
   },
   "file_extension": ".py",
   "mimetype": "text/x-python",
   "name": "python",
   "nbconvert_exporter": "python",
   "pygments_lexer": "ipython2",
   "version": "2.7.6"
  }
 },
 "nbformat": 4,
 "nbformat_minor": 0
}
