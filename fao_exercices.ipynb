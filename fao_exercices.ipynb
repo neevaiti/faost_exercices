{
 "cells": [
  {
   "cell_type": "markdown",
   "source": [
    "# Importation des df"
   ],
   "metadata": {
    "collapsed": false
   }
  },
  {
   "cell_type": "code",
   "execution_count": 85,
   "metadata": {
    "collapsed": true
   },
   "outputs": [],
   "source": [
    "import pandas as pd\n",
    "import matplotlib.pyplot as plt\n",
    "import seaborn as sns"
   ]
  },
  {
   "cell_type": "code",
   "execution_count": 86,
   "outputs": [],
   "source": [
    "animal_df = pd.read_csv(\"src/datas/animal_dataset.csv\")\n",
    "vegetal_df = pd.read_csv(\"src/datas/vegetal_dataset.csv\")\n",
    "population_df = pd.read_csv(\"src/datas/population_dataset.csv\")"
   ],
   "metadata": {
    "collapsed": false
   }
  },
  {
   "cell_type": "code",
   "execution_count": 87,
   "outputs": [
    {
     "data": {
      "text/plain": "  Domain Code                 Domain  Area Code (M49)         Area  \\\n0         FBS  Food Balances (2010-)                4  Afghanistan   \n1         FBS  Food Balances (2010-)                4  Afghanistan   \n2         FBS  Food Balances (2010-)                4  Afghanistan   \n3         FBS  Food Balances (2010-)                4  Afghanistan   \n4         FBS  Food Balances (2010-)                4  Afghanistan   \n\n   Element Code                                 Element Item Code (CPC)  \\\n0           645     Food supply quantity (kg/capita/yr)           S2731   \n1           645     Food supply quantity (kg/capita/yr)           S2731   \n2           664           Food supply (kcal/capita/day)           S2731   \n3           664           Food supply (kcal/capita/day)           S2731   \n4           674  Protein supply quantity (g/capita/day)           S2731   \n\n          Item  Year Code  Year             Unit  Value Flag Flag Description  \n0  Bovine Meat       2018  2018               kg   2.62    E  Estimated value  \n1  Bovine Meat       2019  2019               kg   2.73    E  Estimated value  \n2  Bovine Meat       2018  2018  kcal/capita/day  15.42    E  Estimated value  \n3  Bovine Meat       2019  2019  kcal/capita/day  16.03    E  Estimated value  \n4  Bovine Meat       2018  2018     g/capita/day   1.09    E  Estimated value  ",
      "text/html": "<div>\n<style scoped>\n    .dataframe tbody tr th:only-of-type {\n        vertical-align: middle;\n    }\n\n    .dataframe tbody tr th {\n        vertical-align: top;\n    }\n\n    .dataframe thead th {\n        text-align: right;\n    }\n</style>\n<table border=\"1\" class=\"dataframe\">\n  <thead>\n    <tr style=\"text-align: right;\">\n      <th></th>\n      <th>Domain Code</th>\n      <th>Domain</th>\n      <th>Area Code (M49)</th>\n      <th>Area</th>\n      <th>Element Code</th>\n      <th>Element</th>\n      <th>Item Code (CPC)</th>\n      <th>Item</th>\n      <th>Year Code</th>\n      <th>Year</th>\n      <th>Unit</th>\n      <th>Value</th>\n      <th>Flag</th>\n      <th>Flag Description</th>\n    </tr>\n  </thead>\n  <tbody>\n    <tr>\n      <th>0</th>\n      <td>FBS</td>\n      <td>Food Balances (2010-)</td>\n      <td>4</td>\n      <td>Afghanistan</td>\n      <td>645</td>\n      <td>Food supply quantity (kg/capita/yr)</td>\n      <td>S2731</td>\n      <td>Bovine Meat</td>\n      <td>2018</td>\n      <td>2018</td>\n      <td>kg</td>\n      <td>2.62</td>\n      <td>E</td>\n      <td>Estimated value</td>\n    </tr>\n    <tr>\n      <th>1</th>\n      <td>FBS</td>\n      <td>Food Balances (2010-)</td>\n      <td>4</td>\n      <td>Afghanistan</td>\n      <td>645</td>\n      <td>Food supply quantity (kg/capita/yr)</td>\n      <td>S2731</td>\n      <td>Bovine Meat</td>\n      <td>2019</td>\n      <td>2019</td>\n      <td>kg</td>\n      <td>2.73</td>\n      <td>E</td>\n      <td>Estimated value</td>\n    </tr>\n    <tr>\n      <th>2</th>\n      <td>FBS</td>\n      <td>Food Balances (2010-)</td>\n      <td>4</td>\n      <td>Afghanistan</td>\n      <td>664</td>\n      <td>Food supply (kcal/capita/day)</td>\n      <td>S2731</td>\n      <td>Bovine Meat</td>\n      <td>2018</td>\n      <td>2018</td>\n      <td>kcal/capita/day</td>\n      <td>15.42</td>\n      <td>E</td>\n      <td>Estimated value</td>\n    </tr>\n    <tr>\n      <th>3</th>\n      <td>FBS</td>\n      <td>Food Balances (2010-)</td>\n      <td>4</td>\n      <td>Afghanistan</td>\n      <td>664</td>\n      <td>Food supply (kcal/capita/day)</td>\n      <td>S2731</td>\n      <td>Bovine Meat</td>\n      <td>2019</td>\n      <td>2019</td>\n      <td>kcal/capita/day</td>\n      <td>16.03</td>\n      <td>E</td>\n      <td>Estimated value</td>\n    </tr>\n    <tr>\n      <th>4</th>\n      <td>FBS</td>\n      <td>Food Balances (2010-)</td>\n      <td>4</td>\n      <td>Afghanistan</td>\n      <td>674</td>\n      <td>Protein supply quantity (g/capita/day)</td>\n      <td>S2731</td>\n      <td>Bovine Meat</td>\n      <td>2018</td>\n      <td>2018</td>\n      <td>g/capita/day</td>\n      <td>1.09</td>\n      <td>E</td>\n      <td>Estimated value</td>\n    </tr>\n  </tbody>\n</table>\n</div>"
     },
     "execution_count": 87,
     "metadata": {},
     "output_type": "execute_result"
    }
   ],
   "source": [
    "animal_df.head()"
   ],
   "metadata": {
    "collapsed": false
   }
  },
  {
   "cell_type": "code",
   "execution_count": 88,
   "outputs": [
    {
     "data": {
      "text/plain": "  Domain Code                 Domain  Area Code (M49)         Area  \\\n0         FBS  Food Balances (2010-)                4  Afghanistan   \n1         FBS  Food Balances (2010-)                4  Afghanistan   \n2         FBS  Food Balances (2010-)                4  Afghanistan   \n3         FBS  Food Balances (2010-)                4  Afghanistan   \n4         FBS  Food Balances (2010-)                4  Afghanistan   \n\n   Element Code                                 Element Item Code (CPC)  \\\n0           645     Food supply quantity (kg/capita/yr)           S2511   \n1           645     Food supply quantity (kg/capita/yr)           S2511   \n2           664           Food supply (kcal/capita/day)           S2511   \n3           664           Food supply (kcal/capita/day)           S2511   \n4           674  Protein supply quantity (g/capita/day)           S2511   \n\n                 Item  Year Code  Year             Unit    Value Flag  \\\n0  Wheat and products       2018  2018               kg   160.12    E   \n1  Wheat and products       2019  2019               kg   158.95    E   \n2  Wheat and products       2018  2018  kcal/capita/day  1372.02    E   \n3  Wheat and products       2019  2019  kcal/capita/day  1361.66    E   \n4  Wheat and products       2018  2018     g/capita/day    37.00    E   \n\n  Flag Description  \n0  Estimated value  \n1  Estimated value  \n2  Estimated value  \n3  Estimated value  \n4  Estimated value  ",
      "text/html": "<div>\n<style scoped>\n    .dataframe tbody tr th:only-of-type {\n        vertical-align: middle;\n    }\n\n    .dataframe tbody tr th {\n        vertical-align: top;\n    }\n\n    .dataframe thead th {\n        text-align: right;\n    }\n</style>\n<table border=\"1\" class=\"dataframe\">\n  <thead>\n    <tr style=\"text-align: right;\">\n      <th></th>\n      <th>Domain Code</th>\n      <th>Domain</th>\n      <th>Area Code (M49)</th>\n      <th>Area</th>\n      <th>Element Code</th>\n      <th>Element</th>\n      <th>Item Code (CPC)</th>\n      <th>Item</th>\n      <th>Year Code</th>\n      <th>Year</th>\n      <th>Unit</th>\n      <th>Value</th>\n      <th>Flag</th>\n      <th>Flag Description</th>\n    </tr>\n  </thead>\n  <tbody>\n    <tr>\n      <th>0</th>\n      <td>FBS</td>\n      <td>Food Balances (2010-)</td>\n      <td>4</td>\n      <td>Afghanistan</td>\n      <td>645</td>\n      <td>Food supply quantity (kg/capita/yr)</td>\n      <td>S2511</td>\n      <td>Wheat and products</td>\n      <td>2018</td>\n      <td>2018</td>\n      <td>kg</td>\n      <td>160.12</td>\n      <td>E</td>\n      <td>Estimated value</td>\n    </tr>\n    <tr>\n      <th>1</th>\n      <td>FBS</td>\n      <td>Food Balances (2010-)</td>\n      <td>4</td>\n      <td>Afghanistan</td>\n      <td>645</td>\n      <td>Food supply quantity (kg/capita/yr)</td>\n      <td>S2511</td>\n      <td>Wheat and products</td>\n      <td>2019</td>\n      <td>2019</td>\n      <td>kg</td>\n      <td>158.95</td>\n      <td>E</td>\n      <td>Estimated value</td>\n    </tr>\n    <tr>\n      <th>2</th>\n      <td>FBS</td>\n      <td>Food Balances (2010-)</td>\n      <td>4</td>\n      <td>Afghanistan</td>\n      <td>664</td>\n      <td>Food supply (kcal/capita/day)</td>\n      <td>S2511</td>\n      <td>Wheat and products</td>\n      <td>2018</td>\n      <td>2018</td>\n      <td>kcal/capita/day</td>\n      <td>1372.02</td>\n      <td>E</td>\n      <td>Estimated value</td>\n    </tr>\n    <tr>\n      <th>3</th>\n      <td>FBS</td>\n      <td>Food Balances (2010-)</td>\n      <td>4</td>\n      <td>Afghanistan</td>\n      <td>664</td>\n      <td>Food supply (kcal/capita/day)</td>\n      <td>S2511</td>\n      <td>Wheat and products</td>\n      <td>2019</td>\n      <td>2019</td>\n      <td>kcal/capita/day</td>\n      <td>1361.66</td>\n      <td>E</td>\n      <td>Estimated value</td>\n    </tr>\n    <tr>\n      <th>4</th>\n      <td>FBS</td>\n      <td>Food Balances (2010-)</td>\n      <td>4</td>\n      <td>Afghanistan</td>\n      <td>674</td>\n      <td>Protein supply quantity (g/capita/day)</td>\n      <td>S2511</td>\n      <td>Wheat and products</td>\n      <td>2018</td>\n      <td>2018</td>\n      <td>g/capita/day</td>\n      <td>37.00</td>\n      <td>E</td>\n      <td>Estimated value</td>\n    </tr>\n  </tbody>\n</table>\n</div>"
     },
     "execution_count": 88,
     "metadata": {},
     "output_type": "execute_result"
    }
   ],
   "source": [
    "vegetal_df.head()"
   ],
   "metadata": {
    "collapsed": false
   }
  },
  {
   "cell_type": "code",
   "execution_count": 89,
   "outputs": [
    {
     "data": {
      "text/plain": "  Domain Code                 Domain  Area Code (M49)         Area  \\\n0         FBS  Food Balances (2010-)                4  Afghanistan   \n1         FBS  Food Balances (2010-)                4  Afghanistan   \n2         FBS  Food Balances (2010-)                8      Albania   \n3         FBS  Food Balances (2010-)                8      Albania   \n4         FBS  Food Balances (2010-)               12      Algeria   \n\n   Element Code                        Element Item Code (CPC)        Item  \\\n0           511  Total Population - Both sexes           S2501  Population   \n1           511  Total Population - Both sexes           S2501  Population   \n2           511  Total Population - Both sexes           S2501  Population   \n3           511  Total Population - Both sexes           S2501  Population   \n4           511  Total Population - Both sexes           S2501  Population   \n\n   Year Code  Year          Unit     Value Flag  \\\n0       2018  2018  1000 persons  37172.00    X   \n1       2019  2019  1000 persons  38041.75    X   \n2       2018  2018  1000 persons   2883.00    X   \n3       2019  2019  1000 persons   2880.92    X   \n4       2018  2018  1000 persons  42228.00    X   \n\n                          Flag Description  \n0  Figure from international organizations  \n1  Figure from international organizations  \n2  Figure from international organizations  \n3  Figure from international organizations  \n4  Figure from international organizations  ",
      "text/html": "<div>\n<style scoped>\n    .dataframe tbody tr th:only-of-type {\n        vertical-align: middle;\n    }\n\n    .dataframe tbody tr th {\n        vertical-align: top;\n    }\n\n    .dataframe thead th {\n        text-align: right;\n    }\n</style>\n<table border=\"1\" class=\"dataframe\">\n  <thead>\n    <tr style=\"text-align: right;\">\n      <th></th>\n      <th>Domain Code</th>\n      <th>Domain</th>\n      <th>Area Code (M49)</th>\n      <th>Area</th>\n      <th>Element Code</th>\n      <th>Element</th>\n      <th>Item Code (CPC)</th>\n      <th>Item</th>\n      <th>Year Code</th>\n      <th>Year</th>\n      <th>Unit</th>\n      <th>Value</th>\n      <th>Flag</th>\n      <th>Flag Description</th>\n    </tr>\n  </thead>\n  <tbody>\n    <tr>\n      <th>0</th>\n      <td>FBS</td>\n      <td>Food Balances (2010-)</td>\n      <td>4</td>\n      <td>Afghanistan</td>\n      <td>511</td>\n      <td>Total Population - Both sexes</td>\n      <td>S2501</td>\n      <td>Population</td>\n      <td>2018</td>\n      <td>2018</td>\n      <td>1000 persons</td>\n      <td>37172.00</td>\n      <td>X</td>\n      <td>Figure from international organizations</td>\n    </tr>\n    <tr>\n      <th>1</th>\n      <td>FBS</td>\n      <td>Food Balances (2010-)</td>\n      <td>4</td>\n      <td>Afghanistan</td>\n      <td>511</td>\n      <td>Total Population - Both sexes</td>\n      <td>S2501</td>\n      <td>Population</td>\n      <td>2019</td>\n      <td>2019</td>\n      <td>1000 persons</td>\n      <td>38041.75</td>\n      <td>X</td>\n      <td>Figure from international organizations</td>\n    </tr>\n    <tr>\n      <th>2</th>\n      <td>FBS</td>\n      <td>Food Balances (2010-)</td>\n      <td>8</td>\n      <td>Albania</td>\n      <td>511</td>\n      <td>Total Population - Both sexes</td>\n      <td>S2501</td>\n      <td>Population</td>\n      <td>2018</td>\n      <td>2018</td>\n      <td>1000 persons</td>\n      <td>2883.00</td>\n      <td>X</td>\n      <td>Figure from international organizations</td>\n    </tr>\n    <tr>\n      <th>3</th>\n      <td>FBS</td>\n      <td>Food Balances (2010-)</td>\n      <td>8</td>\n      <td>Albania</td>\n      <td>511</td>\n      <td>Total Population - Both sexes</td>\n      <td>S2501</td>\n      <td>Population</td>\n      <td>2019</td>\n      <td>2019</td>\n      <td>1000 persons</td>\n      <td>2880.92</td>\n      <td>X</td>\n      <td>Figure from international organizations</td>\n    </tr>\n    <tr>\n      <th>4</th>\n      <td>FBS</td>\n      <td>Food Balances (2010-)</td>\n      <td>12</td>\n      <td>Algeria</td>\n      <td>511</td>\n      <td>Total Population - Both sexes</td>\n      <td>S2501</td>\n      <td>Population</td>\n      <td>2018</td>\n      <td>2018</td>\n      <td>1000 persons</td>\n      <td>42228.00</td>\n      <td>X</td>\n      <td>Figure from international organizations</td>\n    </tr>\n  </tbody>\n</table>\n</div>"
     },
     "execution_count": 89,
     "metadata": {},
     "output_type": "execute_result"
    }
   ],
   "source": [
    "population_df.head()"
   ],
   "metadata": {
    "collapsed": false
   }
  },
  {
   "cell_type": "markdown",
   "source": [
    "## Nettoyage des données"
   ],
   "metadata": {
    "collapsed": false
   }
  },
  {
   "cell_type": "markdown",
   "source": [
    "### Question 1 :"
   ],
   "metadata": {
    "collapsed": false
   }
  },
  {
   "cell_type": "code",
   "execution_count": 90,
   "outputs": [
    {
     "name": "stdout",
     "output_type": "stream",
     "text": [
      "---------Animal---------\n"
     ]
    },
    {
     "data": {
      "text/plain": "Index(['domain_code', 'domain', 'area_code_(m49)', 'area', 'element_code',\n       'element', 'item_code_(cpc)', 'item', 'year_code', 'year', 'unit',\n       'value', 'flag', 'flag_description'],\n      dtype='object')"
     },
     "execution_count": 90,
     "metadata": {},
     "output_type": "execute_result"
    }
   ],
   "source": [
    "# Première étape faire le nettoyage dans les titres.\n",
    "animal_df = animal_df.rename(columns=lambda x: x.lower().replace(' ', '_'))\n",
    "print(\"---------Animal---------\")\n",
    "animal_df.columns"
   ],
   "metadata": {
    "collapsed": false
   }
  },
  {
   "cell_type": "code",
   "execution_count": 91,
   "outputs": [
    {
     "name": "stdout",
     "output_type": "stream",
     "text": [
      "---------Vegetal---------\n"
     ]
    },
    {
     "data": {
      "text/plain": "Index(['domain_code', 'domain', 'area_code_(m49)', 'area', 'element_code',\n       'element', 'item_code_(cpc)', 'item', 'year_code', 'year', 'unit',\n       'value', 'flag', 'flag_description'],\n      dtype='object')"
     },
     "execution_count": 91,
     "metadata": {},
     "output_type": "execute_result"
    }
   ],
   "source": [
    "vegetal_df = vegetal_df.rename(columns=lambda x: x.lower().replace(' ', '_'))\n",
    "print(\"---------Vegetal---------\")\n",
    "vegetal_df.columns"
   ],
   "metadata": {
    "collapsed": false
   }
  },
  {
   "cell_type": "code",
   "execution_count": 92,
   "outputs": [
    {
     "name": "stdout",
     "output_type": "stream",
     "text": [
      "---------Population---------\n"
     ]
    },
    {
     "data": {
      "text/plain": "Index(['domain_code', 'domain', 'area_code_(m49)', 'area', 'element_code',\n       'element', 'item_code_(cpc)', 'item', 'year_code', 'year', 'unit',\n       'value', 'flag', 'flag_description'],\n      dtype='object')"
     },
     "execution_count": 92,
     "metadata": {},
     "output_type": "execute_result"
    }
   ],
   "source": [
    "population_df = population_df.rename(columns=lambda x: x.lower().replace(' ', '_'))\n",
    "print(\"---------Population---------\")\n",
    "population_df.columns"
   ],
   "metadata": {
    "collapsed": false
   }
  },
  {
   "cell_type": "markdown",
   "source": [
    "### Question 2 :"
   ],
   "metadata": {
    "collapsed": false
   }
  },
  {
   "cell_type": "code",
   "execution_count": 93,
   "outputs": [
    {
     "data": {
      "text/plain": "(31366, 14)"
     },
     "execution_count": 93,
     "metadata": {},
     "output_type": "execute_result"
    }
   ],
   "source": [
    "# Dimensions des jeux de données\n",
    "animal_df.shape"
   ],
   "metadata": {
    "collapsed": false
   }
  },
  {
   "cell_type": "code",
   "execution_count": 94,
   "outputs": [
    {
     "data": {
      "text/plain": "(92890, 14)"
     },
     "execution_count": 94,
     "metadata": {},
     "output_type": "execute_result"
    }
   ],
   "source": [
    "vegetal_df.shape"
   ],
   "metadata": {
    "collapsed": false
   }
  },
  {
   "cell_type": "code",
   "execution_count": 95,
   "outputs": [
    {
     "data": {
      "text/plain": "(364, 14)"
     },
     "execution_count": 95,
     "metadata": {},
     "output_type": "execute_result"
    }
   ],
   "source": [
    "population_df.shape"
   ],
   "metadata": {
    "collapsed": false
   }
  },
  {
   "cell_type": "markdown",
   "source": [
    "### Question 3 :"
   ],
   "metadata": {
    "collapsed": false
   }
  },
  {
   "cell_type": "code",
   "execution_count": 96,
   "outputs": [
    {
     "data": {
      "text/plain": "  domain_code                 domain  area_code_(m49)         area  \\\n0         FBS  Food Balances (2010-)                4  Afghanistan   \n1         FBS  Food Balances (2010-)                4  Afghanistan   \n2         FBS  Food Balances (2010-)                4  Afghanistan   \n3         FBS  Food Balances (2010-)                4  Afghanistan   \n4         FBS  Food Balances (2010-)                4  Afghanistan   \n\n   element_code                                 element item_code_(cpc)  \\\n0           645     Food supply quantity (kg/capita/yr)           S2731   \n1           645     Food supply quantity (kg/capita/yr)           S2731   \n2           664           Food supply (kcal/capita/day)           S2731   \n3           664           Food supply (kcal/capita/day)           S2731   \n4           674  Protein supply quantity (g/capita/day)           S2731   \n\n          item  year_code  year             unit  value flag flag_description  \n0  Bovine Meat       2018  2018               kg   2.62    E  Estimated value  \n1  Bovine Meat       2019  2019               kg   2.73    E  Estimated value  \n2  Bovine Meat       2018  2018  kcal/capita/day  15.42    E  Estimated value  \n3  Bovine Meat       2019  2019  kcal/capita/day  16.03    E  Estimated value  \n4  Bovine Meat       2018  2018     g/capita/day   1.09    E  Estimated value  ",
      "text/html": "<div>\n<style scoped>\n    .dataframe tbody tr th:only-of-type {\n        vertical-align: middle;\n    }\n\n    .dataframe tbody tr th {\n        vertical-align: top;\n    }\n\n    .dataframe thead th {\n        text-align: right;\n    }\n</style>\n<table border=\"1\" class=\"dataframe\">\n  <thead>\n    <tr style=\"text-align: right;\">\n      <th></th>\n      <th>domain_code</th>\n      <th>domain</th>\n      <th>area_code_(m49)</th>\n      <th>area</th>\n      <th>element_code</th>\n      <th>element</th>\n      <th>item_code_(cpc)</th>\n      <th>item</th>\n      <th>year_code</th>\n      <th>year</th>\n      <th>unit</th>\n      <th>value</th>\n      <th>flag</th>\n      <th>flag_description</th>\n    </tr>\n  </thead>\n  <tbody>\n    <tr>\n      <th>0</th>\n      <td>FBS</td>\n      <td>Food Balances (2010-)</td>\n      <td>4</td>\n      <td>Afghanistan</td>\n      <td>645</td>\n      <td>Food supply quantity (kg/capita/yr)</td>\n      <td>S2731</td>\n      <td>Bovine Meat</td>\n      <td>2018</td>\n      <td>2018</td>\n      <td>kg</td>\n      <td>2.62</td>\n      <td>E</td>\n      <td>Estimated value</td>\n    </tr>\n    <tr>\n      <th>1</th>\n      <td>FBS</td>\n      <td>Food Balances (2010-)</td>\n      <td>4</td>\n      <td>Afghanistan</td>\n      <td>645</td>\n      <td>Food supply quantity (kg/capita/yr)</td>\n      <td>S2731</td>\n      <td>Bovine Meat</td>\n      <td>2019</td>\n      <td>2019</td>\n      <td>kg</td>\n      <td>2.73</td>\n      <td>E</td>\n      <td>Estimated value</td>\n    </tr>\n    <tr>\n      <th>2</th>\n      <td>FBS</td>\n      <td>Food Balances (2010-)</td>\n      <td>4</td>\n      <td>Afghanistan</td>\n      <td>664</td>\n      <td>Food supply (kcal/capita/day)</td>\n      <td>S2731</td>\n      <td>Bovine Meat</td>\n      <td>2018</td>\n      <td>2018</td>\n      <td>kcal/capita/day</td>\n      <td>15.42</td>\n      <td>E</td>\n      <td>Estimated value</td>\n    </tr>\n    <tr>\n      <th>3</th>\n      <td>FBS</td>\n      <td>Food Balances (2010-)</td>\n      <td>4</td>\n      <td>Afghanistan</td>\n      <td>664</td>\n      <td>Food supply (kcal/capita/day)</td>\n      <td>S2731</td>\n      <td>Bovine Meat</td>\n      <td>2019</td>\n      <td>2019</td>\n      <td>kcal/capita/day</td>\n      <td>16.03</td>\n      <td>E</td>\n      <td>Estimated value</td>\n    </tr>\n    <tr>\n      <th>4</th>\n      <td>FBS</td>\n      <td>Food Balances (2010-)</td>\n      <td>4</td>\n      <td>Afghanistan</td>\n      <td>674</td>\n      <td>Protein supply quantity (g/capita/day)</td>\n      <td>S2731</td>\n      <td>Bovine Meat</td>\n      <td>2018</td>\n      <td>2018</td>\n      <td>g/capita/day</td>\n      <td>1.09</td>\n      <td>E</td>\n      <td>Estimated value</td>\n    </tr>\n  </tbody>\n</table>\n</div>"
     },
     "execution_count": 96,
     "metadata": {},
     "output_type": "execute_result"
    }
   ],
   "source": [
    "# Voir les 5 premières lignes des jeux de données\n",
    "animal_df.head()"
   ],
   "metadata": {
    "collapsed": false
   }
  },
  {
   "cell_type": "code",
   "execution_count": 97,
   "outputs": [
    {
     "data": {
      "text/plain": "  domain_code                 domain  area_code_(m49)         area  \\\n0         FBS  Food Balances (2010-)                4  Afghanistan   \n1         FBS  Food Balances (2010-)                4  Afghanistan   \n2         FBS  Food Balances (2010-)                4  Afghanistan   \n3         FBS  Food Balances (2010-)                4  Afghanistan   \n4         FBS  Food Balances (2010-)                4  Afghanistan   \n\n   element_code                                 element item_code_(cpc)  \\\n0           645     Food supply quantity (kg/capita/yr)           S2511   \n1           645     Food supply quantity (kg/capita/yr)           S2511   \n2           664           Food supply (kcal/capita/day)           S2511   \n3           664           Food supply (kcal/capita/day)           S2511   \n4           674  Protein supply quantity (g/capita/day)           S2511   \n\n                 item  year_code  year             unit    value flag  \\\n0  Wheat and products       2018  2018               kg   160.12    E   \n1  Wheat and products       2019  2019               kg   158.95    E   \n2  Wheat and products       2018  2018  kcal/capita/day  1372.02    E   \n3  Wheat and products       2019  2019  kcal/capita/day  1361.66    E   \n4  Wheat and products       2018  2018     g/capita/day    37.00    E   \n\n  flag_description  \n0  Estimated value  \n1  Estimated value  \n2  Estimated value  \n3  Estimated value  \n4  Estimated value  ",
      "text/html": "<div>\n<style scoped>\n    .dataframe tbody tr th:only-of-type {\n        vertical-align: middle;\n    }\n\n    .dataframe tbody tr th {\n        vertical-align: top;\n    }\n\n    .dataframe thead th {\n        text-align: right;\n    }\n</style>\n<table border=\"1\" class=\"dataframe\">\n  <thead>\n    <tr style=\"text-align: right;\">\n      <th></th>\n      <th>domain_code</th>\n      <th>domain</th>\n      <th>area_code_(m49)</th>\n      <th>area</th>\n      <th>element_code</th>\n      <th>element</th>\n      <th>item_code_(cpc)</th>\n      <th>item</th>\n      <th>year_code</th>\n      <th>year</th>\n      <th>unit</th>\n      <th>value</th>\n      <th>flag</th>\n      <th>flag_description</th>\n    </tr>\n  </thead>\n  <tbody>\n    <tr>\n      <th>0</th>\n      <td>FBS</td>\n      <td>Food Balances (2010-)</td>\n      <td>4</td>\n      <td>Afghanistan</td>\n      <td>645</td>\n      <td>Food supply quantity (kg/capita/yr)</td>\n      <td>S2511</td>\n      <td>Wheat and products</td>\n      <td>2018</td>\n      <td>2018</td>\n      <td>kg</td>\n      <td>160.12</td>\n      <td>E</td>\n      <td>Estimated value</td>\n    </tr>\n    <tr>\n      <th>1</th>\n      <td>FBS</td>\n      <td>Food Balances (2010-)</td>\n      <td>4</td>\n      <td>Afghanistan</td>\n      <td>645</td>\n      <td>Food supply quantity (kg/capita/yr)</td>\n      <td>S2511</td>\n      <td>Wheat and products</td>\n      <td>2019</td>\n      <td>2019</td>\n      <td>kg</td>\n      <td>158.95</td>\n      <td>E</td>\n      <td>Estimated value</td>\n    </tr>\n    <tr>\n      <th>2</th>\n      <td>FBS</td>\n      <td>Food Balances (2010-)</td>\n      <td>4</td>\n      <td>Afghanistan</td>\n      <td>664</td>\n      <td>Food supply (kcal/capita/day)</td>\n      <td>S2511</td>\n      <td>Wheat and products</td>\n      <td>2018</td>\n      <td>2018</td>\n      <td>kcal/capita/day</td>\n      <td>1372.02</td>\n      <td>E</td>\n      <td>Estimated value</td>\n    </tr>\n    <tr>\n      <th>3</th>\n      <td>FBS</td>\n      <td>Food Balances (2010-)</td>\n      <td>4</td>\n      <td>Afghanistan</td>\n      <td>664</td>\n      <td>Food supply (kcal/capita/day)</td>\n      <td>S2511</td>\n      <td>Wheat and products</td>\n      <td>2019</td>\n      <td>2019</td>\n      <td>kcal/capita/day</td>\n      <td>1361.66</td>\n      <td>E</td>\n      <td>Estimated value</td>\n    </tr>\n    <tr>\n      <th>4</th>\n      <td>FBS</td>\n      <td>Food Balances (2010-)</td>\n      <td>4</td>\n      <td>Afghanistan</td>\n      <td>674</td>\n      <td>Protein supply quantity (g/capita/day)</td>\n      <td>S2511</td>\n      <td>Wheat and products</td>\n      <td>2018</td>\n      <td>2018</td>\n      <td>g/capita/day</td>\n      <td>37.00</td>\n      <td>E</td>\n      <td>Estimated value</td>\n    </tr>\n  </tbody>\n</table>\n</div>"
     },
     "execution_count": 97,
     "metadata": {},
     "output_type": "execute_result"
    }
   ],
   "source": [
    "vegetal_df.head()"
   ],
   "metadata": {
    "collapsed": false
   }
  },
  {
   "cell_type": "code",
   "execution_count": 98,
   "outputs": [
    {
     "data": {
      "text/plain": "  domain_code                 domain  area_code_(m49)         area  \\\n0         FBS  Food Balances (2010-)                4  Afghanistan   \n1         FBS  Food Balances (2010-)                4  Afghanistan   \n2         FBS  Food Balances (2010-)                8      Albania   \n3         FBS  Food Balances (2010-)                8      Albania   \n4         FBS  Food Balances (2010-)               12      Algeria   \n\n   element_code                        element item_code_(cpc)        item  \\\n0           511  Total Population - Both sexes           S2501  Population   \n1           511  Total Population - Both sexes           S2501  Population   \n2           511  Total Population - Both sexes           S2501  Population   \n3           511  Total Population - Both sexes           S2501  Population   \n4           511  Total Population - Both sexes           S2501  Population   \n\n   year_code  year          unit     value flag  \\\n0       2018  2018  1000 persons  37172.00    X   \n1       2019  2019  1000 persons  38041.75    X   \n2       2018  2018  1000 persons   2883.00    X   \n3       2019  2019  1000 persons   2880.92    X   \n4       2018  2018  1000 persons  42228.00    X   \n\n                          flag_description  \n0  Figure from international organizations  \n1  Figure from international organizations  \n2  Figure from international organizations  \n3  Figure from international organizations  \n4  Figure from international organizations  ",
      "text/html": "<div>\n<style scoped>\n    .dataframe tbody tr th:only-of-type {\n        vertical-align: middle;\n    }\n\n    .dataframe tbody tr th {\n        vertical-align: top;\n    }\n\n    .dataframe thead th {\n        text-align: right;\n    }\n</style>\n<table border=\"1\" class=\"dataframe\">\n  <thead>\n    <tr style=\"text-align: right;\">\n      <th></th>\n      <th>domain_code</th>\n      <th>domain</th>\n      <th>area_code_(m49)</th>\n      <th>area</th>\n      <th>element_code</th>\n      <th>element</th>\n      <th>item_code_(cpc)</th>\n      <th>item</th>\n      <th>year_code</th>\n      <th>year</th>\n      <th>unit</th>\n      <th>value</th>\n      <th>flag</th>\n      <th>flag_description</th>\n    </tr>\n  </thead>\n  <tbody>\n    <tr>\n      <th>0</th>\n      <td>FBS</td>\n      <td>Food Balances (2010-)</td>\n      <td>4</td>\n      <td>Afghanistan</td>\n      <td>511</td>\n      <td>Total Population - Both sexes</td>\n      <td>S2501</td>\n      <td>Population</td>\n      <td>2018</td>\n      <td>2018</td>\n      <td>1000 persons</td>\n      <td>37172.00</td>\n      <td>X</td>\n      <td>Figure from international organizations</td>\n    </tr>\n    <tr>\n      <th>1</th>\n      <td>FBS</td>\n      <td>Food Balances (2010-)</td>\n      <td>4</td>\n      <td>Afghanistan</td>\n      <td>511</td>\n      <td>Total Population - Both sexes</td>\n      <td>S2501</td>\n      <td>Population</td>\n      <td>2019</td>\n      <td>2019</td>\n      <td>1000 persons</td>\n      <td>38041.75</td>\n      <td>X</td>\n      <td>Figure from international organizations</td>\n    </tr>\n    <tr>\n      <th>2</th>\n      <td>FBS</td>\n      <td>Food Balances (2010-)</td>\n      <td>8</td>\n      <td>Albania</td>\n      <td>511</td>\n      <td>Total Population - Both sexes</td>\n      <td>S2501</td>\n      <td>Population</td>\n      <td>2018</td>\n      <td>2018</td>\n      <td>1000 persons</td>\n      <td>2883.00</td>\n      <td>X</td>\n      <td>Figure from international organizations</td>\n    </tr>\n    <tr>\n      <th>3</th>\n      <td>FBS</td>\n      <td>Food Balances (2010-)</td>\n      <td>8</td>\n      <td>Albania</td>\n      <td>511</td>\n      <td>Total Population - Both sexes</td>\n      <td>S2501</td>\n      <td>Population</td>\n      <td>2019</td>\n      <td>2019</td>\n      <td>1000 persons</td>\n      <td>2880.92</td>\n      <td>X</td>\n      <td>Figure from international organizations</td>\n    </tr>\n    <tr>\n      <th>4</th>\n      <td>FBS</td>\n      <td>Food Balances (2010-)</td>\n      <td>12</td>\n      <td>Algeria</td>\n      <td>511</td>\n      <td>Total Population - Both sexes</td>\n      <td>S2501</td>\n      <td>Population</td>\n      <td>2018</td>\n      <td>2018</td>\n      <td>1000 persons</td>\n      <td>42228.00</td>\n      <td>X</td>\n      <td>Figure from international organizations</td>\n    </tr>\n  </tbody>\n</table>\n</div>"
     },
     "execution_count": 98,
     "metadata": {},
     "output_type": "execute_result"
    }
   ],
   "source": [
    "population_df.head()"
   ],
   "metadata": {
    "collapsed": false
   }
  },
  {
   "cell_type": "markdown",
   "source": [
    "### Question 4 :"
   ],
   "metadata": {
    "collapsed": false
   }
  },
  {
   "cell_type": "code",
   "execution_count": 99,
   "outputs": [],
   "source": [
    "# Ajout de la colonne type aux datasets animal & vegetal\n",
    "animal_df = animal_df.assign(type='animal')\n",
    "vegetal_df = vegetal_df.assign(type='vegetal')"
   ],
   "metadata": {
    "collapsed": false
   }
  },
  {
   "cell_type": "code",
   "execution_count": 100,
   "outputs": [],
   "source": [
    "# Assemblage des deux datasets animal et vegetal\n",
    "product_df = pd.concat([animal_df, vegetal_df], ignore_index=True)"
   ],
   "metadata": {
    "collapsed": false
   }
  },
  {
   "cell_type": "code",
   "execution_count": 101,
   "outputs": [
    {
     "data": {
      "text/plain": "       domain_code                 domain  area_code_(m49)          area  \\\n53158          FBS  Food Balances (2010-)              192          Cuba   \n89863          FBS  Food Balances (2010-)              516       Namibia   \n52854          FBS  Food Balances (2010-)              191       Croatia   \n115978         FBS  Food Balances (2010-)              788       Tunisia   \n116760         FBS  Food Balances (2010-)              795  Turkmenistan   \n\n        element_code                                 element item_code_(cpc)  \\\n53158            684      Fat supply quantity (g/capita/day)           S2558   \n89863            674  Protein supply quantity (g/capita/day)           S2642   \n52854            664           Food supply (kcal/capita/day)           S2617   \n115978           674  Protein supply quantity (g/capita/day)           S2612   \n116760           684      Fat supply quantity (g/capita/day)           S2557   \n\n                              item  year_code  year             unit  value  \\\n53158         Rape and Mustardseed       2018  2018     g/capita/day   0.02   \n89863                       Cloves       2019  2019     g/capita/day   0.00   \n52854          Apples and products       2018  2018  kcal/capita/day  18.67   \n115978  Lemons, Limes and products       2019  2019     g/capita/day   0.05   \n116760              Sunflower seed       2019  2019     g/capita/day   0.38   \n\n       flag flag_description     type  \n53158     E  Estimated value  vegetal  \n89863     E  Estimated value  vegetal  \n52854     E  Estimated value  vegetal  \n115978    E  Estimated value  vegetal  \n116760    E  Estimated value  vegetal  ",
      "text/html": "<div>\n<style scoped>\n    .dataframe tbody tr th:only-of-type {\n        vertical-align: middle;\n    }\n\n    .dataframe tbody tr th {\n        vertical-align: top;\n    }\n\n    .dataframe thead th {\n        text-align: right;\n    }\n</style>\n<table border=\"1\" class=\"dataframe\">\n  <thead>\n    <tr style=\"text-align: right;\">\n      <th></th>\n      <th>domain_code</th>\n      <th>domain</th>\n      <th>area_code_(m49)</th>\n      <th>area</th>\n      <th>element_code</th>\n      <th>element</th>\n      <th>item_code_(cpc)</th>\n      <th>item</th>\n      <th>year_code</th>\n      <th>year</th>\n      <th>unit</th>\n      <th>value</th>\n      <th>flag</th>\n      <th>flag_description</th>\n      <th>type</th>\n    </tr>\n  </thead>\n  <tbody>\n    <tr>\n      <th>53158</th>\n      <td>FBS</td>\n      <td>Food Balances (2010-)</td>\n      <td>192</td>\n      <td>Cuba</td>\n      <td>684</td>\n      <td>Fat supply quantity (g/capita/day)</td>\n      <td>S2558</td>\n      <td>Rape and Mustardseed</td>\n      <td>2018</td>\n      <td>2018</td>\n      <td>g/capita/day</td>\n      <td>0.02</td>\n      <td>E</td>\n      <td>Estimated value</td>\n      <td>vegetal</td>\n    </tr>\n    <tr>\n      <th>89863</th>\n      <td>FBS</td>\n      <td>Food Balances (2010-)</td>\n      <td>516</td>\n      <td>Namibia</td>\n      <td>674</td>\n      <td>Protein supply quantity (g/capita/day)</td>\n      <td>S2642</td>\n      <td>Cloves</td>\n      <td>2019</td>\n      <td>2019</td>\n      <td>g/capita/day</td>\n      <td>0.00</td>\n      <td>E</td>\n      <td>Estimated value</td>\n      <td>vegetal</td>\n    </tr>\n    <tr>\n      <th>52854</th>\n      <td>FBS</td>\n      <td>Food Balances (2010-)</td>\n      <td>191</td>\n      <td>Croatia</td>\n      <td>664</td>\n      <td>Food supply (kcal/capita/day)</td>\n      <td>S2617</td>\n      <td>Apples and products</td>\n      <td>2018</td>\n      <td>2018</td>\n      <td>kcal/capita/day</td>\n      <td>18.67</td>\n      <td>E</td>\n      <td>Estimated value</td>\n      <td>vegetal</td>\n    </tr>\n    <tr>\n      <th>115978</th>\n      <td>FBS</td>\n      <td>Food Balances (2010-)</td>\n      <td>788</td>\n      <td>Tunisia</td>\n      <td>674</td>\n      <td>Protein supply quantity (g/capita/day)</td>\n      <td>S2612</td>\n      <td>Lemons, Limes and products</td>\n      <td>2019</td>\n      <td>2019</td>\n      <td>g/capita/day</td>\n      <td>0.05</td>\n      <td>E</td>\n      <td>Estimated value</td>\n      <td>vegetal</td>\n    </tr>\n    <tr>\n      <th>116760</th>\n      <td>FBS</td>\n      <td>Food Balances (2010-)</td>\n      <td>795</td>\n      <td>Turkmenistan</td>\n      <td>684</td>\n      <td>Fat supply quantity (g/capita/day)</td>\n      <td>S2557</td>\n      <td>Sunflower seed</td>\n      <td>2019</td>\n      <td>2019</td>\n      <td>g/capita/day</td>\n      <td>0.38</td>\n      <td>E</td>\n      <td>Estimated value</td>\n      <td>vegetal</td>\n    </tr>\n  </tbody>\n</table>\n</div>"
     },
     "execution_count": 101,
     "metadata": {},
     "output_type": "execute_result"
    }
   ],
   "source": [
    "# Vérification du nouveau dataset\n",
    "product_df.sample(n=5)"
   ],
   "metadata": {
    "collapsed": false
   }
  },
  {
   "cell_type": "markdown",
   "source": [
    "### Question 5 :"
   ],
   "metadata": {
    "collapsed": false
   }
  },
  {
   "cell_type": "code",
   "execution_count": 102,
   "outputs": [
    {
     "data": {
      "text/plain": "     area_code_(m49)                 area  year     value\n289              686              Senegal  2018  15854.00\n138              324               Guinea  2018  12414.00\n205              462             Maldives  2019    530.95\n271              642              Romania  2018  19506.00\n9                 28  Antigua and Barbuda  2019     97.12",
      "text/html": "<div>\n<style scoped>\n    .dataframe tbody tr th:only-of-type {\n        vertical-align: middle;\n    }\n\n    .dataframe tbody tr th {\n        vertical-align: top;\n    }\n\n    .dataframe thead th {\n        text-align: right;\n    }\n</style>\n<table border=\"1\" class=\"dataframe\">\n  <thead>\n    <tr style=\"text-align: right;\">\n      <th></th>\n      <th>area_code_(m49)</th>\n      <th>area</th>\n      <th>year</th>\n      <th>value</th>\n    </tr>\n  </thead>\n  <tbody>\n    <tr>\n      <th>289</th>\n      <td>686</td>\n      <td>Senegal</td>\n      <td>2018</td>\n      <td>15854.00</td>\n    </tr>\n    <tr>\n      <th>138</th>\n      <td>324</td>\n      <td>Guinea</td>\n      <td>2018</td>\n      <td>12414.00</td>\n    </tr>\n    <tr>\n      <th>205</th>\n      <td>462</td>\n      <td>Maldives</td>\n      <td>2019</td>\n      <td>530.95</td>\n    </tr>\n    <tr>\n      <th>271</th>\n      <td>642</td>\n      <td>Romania</td>\n      <td>2018</td>\n      <td>19506.00</td>\n    </tr>\n    <tr>\n      <th>9</th>\n      <td>28</td>\n      <td>Antigua and Barbuda</td>\n      <td>2019</td>\n      <td>97.12</td>\n    </tr>\n  </tbody>\n</table>\n</div>"
     },
     "execution_count": 102,
     "metadata": {},
     "output_type": "execute_result"
    }
   ],
   "source": [
    "# Changement du dataset population\n",
    "population_df = population_df.drop(['domain_code', 'domain', 'element_code', 'element', 'item_code_(cpc)', 'item', 'year_code', 'unit', 'flag', 'flag_description'], axis=1)\n",
    "population_df.sample(n=5)"
   ],
   "metadata": {
    "collapsed": false
   }
  },
  {
   "cell_type": "code",
   "execution_count": 103,
   "outputs": [
    {
     "data": {
      "text/plain": "     area_code_(m49)             area  year  pop_1000_hab\n174              404            Kenya  2018      51393.00\n247              578           Norway  2019       5378.86\n306              724            Spain  2018      46693.00\n258              604             Peru  2018      31989.00\n68               156  China, mainland  2018    1427648.00",
      "text/html": "<div>\n<style scoped>\n    .dataframe tbody tr th:only-of-type {\n        vertical-align: middle;\n    }\n\n    .dataframe tbody tr th {\n        vertical-align: top;\n    }\n\n    .dataframe thead th {\n        text-align: right;\n    }\n</style>\n<table border=\"1\" class=\"dataframe\">\n  <thead>\n    <tr style=\"text-align: right;\">\n      <th></th>\n      <th>area_code_(m49)</th>\n      <th>area</th>\n      <th>year</th>\n      <th>pop_1000_hab</th>\n    </tr>\n  </thead>\n  <tbody>\n    <tr>\n      <th>174</th>\n      <td>404</td>\n      <td>Kenya</td>\n      <td>2018</td>\n      <td>51393.00</td>\n    </tr>\n    <tr>\n      <th>247</th>\n      <td>578</td>\n      <td>Norway</td>\n      <td>2019</td>\n      <td>5378.86</td>\n    </tr>\n    <tr>\n      <th>306</th>\n      <td>724</td>\n      <td>Spain</td>\n      <td>2018</td>\n      <td>46693.00</td>\n    </tr>\n    <tr>\n      <th>258</th>\n      <td>604</td>\n      <td>Peru</td>\n      <td>2018</td>\n      <td>31989.00</td>\n    </tr>\n    <tr>\n      <th>68</th>\n      <td>156</td>\n      <td>China, mainland</td>\n      <td>2018</td>\n      <td>1427648.00</td>\n    </tr>\n  </tbody>\n</table>\n</div>"
     },
     "execution_count": 103,
     "metadata": {},
     "output_type": "execute_result"
    }
   ],
   "source": [
    "population_df = population_df.rename(columns={'value': 'pop_1000_hab'})\n",
    "population_df.sample(n=5)"
   ],
   "metadata": {
    "collapsed": false
   }
  },
  {
   "cell_type": "markdown",
   "source": [
    "### Question 6 :\n",
    "afin de ne garder que les colonnes area_code_(fao), area, element, item, year, type, unit."
   ],
   "metadata": {
    "collapsed": false
   }
  },
  {
   "cell_type": "code",
   "execution_count": 104,
   "outputs": [
    {
     "data": {
      "text/plain": "        area_code_(m49)                  area  \\\n94831               512                  Oman   \n112591              760  Syrian Arab Republic   \n85833               480             Mauritius   \n86246               484                Mexico   \n86516               484                Mexico   \n\n                                    element                   item  year  \\\n94831    Fat supply quantity (g/capita/day)       Rye and products  2019   \n112591  Food supply quantity (kg/capita/yr)     Wheat and products  2019   \n85833    Fat supply quantity (g/capita/day)         Maize Germ Oil  2018   \n86246         Food supply (kcal/capita/day)  Coconuts - Incl Copra  2019   \n86516   Food supply quantity (kg/capita/yr)                 Cloves  2019   \n\n                   unit     type  \n94831      g/capita/day  vegetal  \n112591               kg  vegetal  \n85833      g/capita/day  vegetal  \n86246   kcal/capita/day  vegetal  \n86516                kg  vegetal  ",
      "text/html": "<div>\n<style scoped>\n    .dataframe tbody tr th:only-of-type {\n        vertical-align: middle;\n    }\n\n    .dataframe tbody tr th {\n        vertical-align: top;\n    }\n\n    .dataframe thead th {\n        text-align: right;\n    }\n</style>\n<table border=\"1\" class=\"dataframe\">\n  <thead>\n    <tr style=\"text-align: right;\">\n      <th></th>\n      <th>area_code_(m49)</th>\n      <th>area</th>\n      <th>element</th>\n      <th>item</th>\n      <th>year</th>\n      <th>unit</th>\n      <th>type</th>\n    </tr>\n  </thead>\n  <tbody>\n    <tr>\n      <th>94831</th>\n      <td>512</td>\n      <td>Oman</td>\n      <td>Fat supply quantity (g/capita/day)</td>\n      <td>Rye and products</td>\n      <td>2019</td>\n      <td>g/capita/day</td>\n      <td>vegetal</td>\n    </tr>\n    <tr>\n      <th>112591</th>\n      <td>760</td>\n      <td>Syrian Arab Republic</td>\n      <td>Food supply quantity (kg/capita/yr)</td>\n      <td>Wheat and products</td>\n      <td>2019</td>\n      <td>kg</td>\n      <td>vegetal</td>\n    </tr>\n    <tr>\n      <th>85833</th>\n      <td>480</td>\n      <td>Mauritius</td>\n      <td>Fat supply quantity (g/capita/day)</td>\n      <td>Maize Germ Oil</td>\n      <td>2018</td>\n      <td>g/capita/day</td>\n      <td>vegetal</td>\n    </tr>\n    <tr>\n      <th>86246</th>\n      <td>484</td>\n      <td>Mexico</td>\n      <td>Food supply (kcal/capita/day)</td>\n      <td>Coconuts - Incl Copra</td>\n      <td>2019</td>\n      <td>kcal/capita/day</td>\n      <td>vegetal</td>\n    </tr>\n    <tr>\n      <th>86516</th>\n      <td>484</td>\n      <td>Mexico</td>\n      <td>Food supply quantity (kg/capita/yr)</td>\n      <td>Cloves</td>\n      <td>2019</td>\n      <td>kg</td>\n      <td>vegetal</td>\n    </tr>\n  </tbody>\n</table>\n</div>"
     },
     "execution_count": 104,
     "metadata": {},
     "output_type": "execute_result"
    }
   ],
   "source": [
    "product_df = product_df.drop(['domain_code', 'domain', 'element_code', 'item_code_(cpc)', 'year_code', 'value', 'flag', 'flag_description'], axis=1)\n",
    "product_df.sample(n=5)"
   ],
   "metadata": {
    "collapsed": false
   }
  },
  {
   "cell_type": "markdown",
   "source": [
    "### Question 7 :"
   ],
   "metadata": {
    "collapsed": false
   }
  },
  {
   "cell_type": "code",
   "execution_count": 105,
   "outputs": [
    {
     "data": {
      "text/plain": "   area_code_(m49)         area  year  pop_1000_hab  \\\n0                4  Afghanistan  2018       37172.0   \n1                4  Afghanistan  2018       37172.0   \n2                4  Afghanistan  2018       37172.0   \n3                4  Afghanistan  2018       37172.0   \n4                4  Afghanistan  2018       37172.0   \n\n                                  element                item  \\\n0     Food supply quantity (kg/capita/yr)         Bovine Meat   \n1           Food supply (kcal/capita/day)         Bovine Meat   \n2  Protein supply quantity (g/capita/day)         Bovine Meat   \n3      Fat supply quantity (g/capita/day)         Bovine Meat   \n4     Food supply quantity (kg/capita/yr)  Mutton & Goat Meat   \n\n              unit    type  \n0               kg  animal  \n1  kcal/capita/day  animal  \n2     g/capita/day  animal  \n3     g/capita/day  animal  \n4               kg  animal  ",
      "text/html": "<div>\n<style scoped>\n    .dataframe tbody tr th:only-of-type {\n        vertical-align: middle;\n    }\n\n    .dataframe tbody tr th {\n        vertical-align: top;\n    }\n\n    .dataframe thead th {\n        text-align: right;\n    }\n</style>\n<table border=\"1\" class=\"dataframe\">\n  <thead>\n    <tr style=\"text-align: right;\">\n      <th></th>\n      <th>area_code_(m49)</th>\n      <th>area</th>\n      <th>year</th>\n      <th>pop_1000_hab</th>\n      <th>element</th>\n      <th>item</th>\n      <th>unit</th>\n      <th>type</th>\n    </tr>\n  </thead>\n  <tbody>\n    <tr>\n      <th>0</th>\n      <td>4</td>\n      <td>Afghanistan</td>\n      <td>2018</td>\n      <td>37172.0</td>\n      <td>Food supply quantity (kg/capita/yr)</td>\n      <td>Bovine Meat</td>\n      <td>kg</td>\n      <td>animal</td>\n    </tr>\n    <tr>\n      <th>1</th>\n      <td>4</td>\n      <td>Afghanistan</td>\n      <td>2018</td>\n      <td>37172.0</td>\n      <td>Food supply (kcal/capita/day)</td>\n      <td>Bovine Meat</td>\n      <td>kcal/capita/day</td>\n      <td>animal</td>\n    </tr>\n    <tr>\n      <th>2</th>\n      <td>4</td>\n      <td>Afghanistan</td>\n      <td>2018</td>\n      <td>37172.0</td>\n      <td>Protein supply quantity (g/capita/day)</td>\n      <td>Bovine Meat</td>\n      <td>g/capita/day</td>\n      <td>animal</td>\n    </tr>\n    <tr>\n      <th>3</th>\n      <td>4</td>\n      <td>Afghanistan</td>\n      <td>2018</td>\n      <td>37172.0</td>\n      <td>Fat supply quantity (g/capita/day)</td>\n      <td>Bovine Meat</td>\n      <td>g/capita/day</td>\n      <td>animal</td>\n    </tr>\n    <tr>\n      <th>4</th>\n      <td>4</td>\n      <td>Afghanistan</td>\n      <td>2018</td>\n      <td>37172.0</td>\n      <td>Food supply quantity (kg/capita/yr)</td>\n      <td>Mutton &amp; Goat Meat</td>\n      <td>kg</td>\n      <td>animal</td>\n    </tr>\n  </tbody>\n</table>\n</div>"
     },
     "execution_count": 105,
     "metadata": {},
     "output_type": "execute_result"
    }
   ],
   "source": [
    "# Fusion des deux jeux de données\n",
    "general_df = pd.merge(population_df, product_df)\n",
    "general_df.head()"
   ],
   "metadata": {
    "collapsed": false
   }
  },
  {
   "cell_type": "code",
   "execution_count": 106,
   "outputs": [
    {
     "data": {
      "text/plain": "   area_country      country  year  pop_1000_hab  \\\n0             4  Afghanistan  2018       37172.0   \n1             4  Afghanistan  2018       37172.0   \n2             4  Afghanistan  2018       37172.0   \n3             4  Afghanistan  2018       37172.0   \n4             4  Afghanistan  2018       37172.0   \n\n                                  element                item  \\\n0     Food supply quantity (kg/capita/yr)         Bovine Meat   \n1           Food supply (kcal/capita/day)         Bovine Meat   \n2  Protein supply quantity (g/capita/day)         Bovine Meat   \n3      Fat supply quantity (g/capita/day)         Bovine Meat   \n4     Food supply quantity (kg/capita/yr)  Mutton & Goat Meat   \n\n              unit    type  \n0               kg  animal  \n1  kcal/capita/day  animal  \n2     g/capita/day  animal  \n3     g/capita/day  animal  \n4               kg  animal  ",
      "text/html": "<div>\n<style scoped>\n    .dataframe tbody tr th:only-of-type {\n        vertical-align: middle;\n    }\n\n    .dataframe tbody tr th {\n        vertical-align: top;\n    }\n\n    .dataframe thead th {\n        text-align: right;\n    }\n</style>\n<table border=\"1\" class=\"dataframe\">\n  <thead>\n    <tr style=\"text-align: right;\">\n      <th></th>\n      <th>area_country</th>\n      <th>country</th>\n      <th>year</th>\n      <th>pop_1000_hab</th>\n      <th>element</th>\n      <th>item</th>\n      <th>unit</th>\n      <th>type</th>\n    </tr>\n  </thead>\n  <tbody>\n    <tr>\n      <th>0</th>\n      <td>4</td>\n      <td>Afghanistan</td>\n      <td>2018</td>\n      <td>37172.0</td>\n      <td>Food supply quantity (kg/capita/yr)</td>\n      <td>Bovine Meat</td>\n      <td>kg</td>\n      <td>animal</td>\n    </tr>\n    <tr>\n      <th>1</th>\n      <td>4</td>\n      <td>Afghanistan</td>\n      <td>2018</td>\n      <td>37172.0</td>\n      <td>Food supply (kcal/capita/day)</td>\n      <td>Bovine Meat</td>\n      <td>kcal/capita/day</td>\n      <td>animal</td>\n    </tr>\n    <tr>\n      <th>2</th>\n      <td>4</td>\n      <td>Afghanistan</td>\n      <td>2018</td>\n      <td>37172.0</td>\n      <td>Protein supply quantity (g/capita/day)</td>\n      <td>Bovine Meat</td>\n      <td>g/capita/day</td>\n      <td>animal</td>\n    </tr>\n    <tr>\n      <th>3</th>\n      <td>4</td>\n      <td>Afghanistan</td>\n      <td>2018</td>\n      <td>37172.0</td>\n      <td>Fat supply quantity (g/capita/day)</td>\n      <td>Bovine Meat</td>\n      <td>g/capita/day</td>\n      <td>animal</td>\n    </tr>\n    <tr>\n      <th>4</th>\n      <td>4</td>\n      <td>Afghanistan</td>\n      <td>2018</td>\n      <td>37172.0</td>\n      <td>Food supply quantity (kg/capita/yr)</td>\n      <td>Mutton &amp; Goat Meat</td>\n      <td>kg</td>\n      <td>animal</td>\n    </tr>\n  </tbody>\n</table>\n</div>"
     },
     "execution_count": 106,
     "metadata": {},
     "output_type": "execute_result"
    }
   ],
   "source": [
    "# Renommage de colonnes\n",
    "general_df = general_df.rename(columns={'area_code_(m49)': 'area_country', 'area': 'country'})\n",
    "general_df.head()"
   ],
   "metadata": {
    "collapsed": false
   }
  },
  {
   "cell_type": "markdown",
   "source": [
    "### Question 8 :"
   ],
   "metadata": {
    "collapsed": false
   }
  },
  {
   "cell_type": "code",
   "execution_count": 107,
   "outputs": [
    {
     "data": {
      "text/plain": "area_country      int64\ncountry          object\nyear              int64\npop_1000_hab    float64\nelement          object\nitem             object\nunit             object\ntype             object\ndtype: object"
     },
     "execution_count": 107,
     "metadata": {},
     "output_type": "execute_result"
    }
   ],
   "source": [
    "# Vérification des types de données\n",
    "general_df.dtypes"
   ],
   "metadata": {
    "collapsed": false
   }
  },
  {
   "cell_type": "markdown",
   "source": [
    "### Question 9 :"
   ],
   "metadata": {
    "collapsed": false
   }
  },
  {
   "cell_type": "code",
   "execution_count": 108,
   "outputs": [
    {
     "data": {
      "text/plain": "area_country    0\ncountry         0\nyear            0\npop_1000_hab    0\nelement         0\nitem            0\nunit            0\ntype            0\ndtype: int64"
     },
     "execution_count": 108,
     "metadata": {},
     "output_type": "execute_result"
    }
   ],
   "source": [
    "# Vérification de valeurs manquantes\n",
    "general_df.isna().sum()"
   ],
   "metadata": {
    "collapsed": false
   }
  },
  {
   "cell_type": "markdown",
   "source": [
    "### Question 10 :"
   ],
   "metadata": {
    "collapsed": false
   }
  },
  {
   "cell_type": "code",
   "execution_count": 109,
   "outputs": [
    {
     "data": {
      "text/plain": "        area_country           year  pop_1000_hab\ncount  124256.000000  124256.000000  1.242560e+05\nmean      426.895868    2018.508635  4.298225e+04\nstd       250.624782       0.499927  1.525786e+05\nmin         4.000000    2018.000000  1.076000e+01\n25%       208.000000    2018.000000  2.801000e+03\n50%       418.000000    2019.000000  9.949540e+03\n75%       642.000000    2019.000000  3.081000e+04\nmax       894.000000    2019.000000  1.433784e+06",
      "text/html": "<div>\n<style scoped>\n    .dataframe tbody tr th:only-of-type {\n        vertical-align: middle;\n    }\n\n    .dataframe tbody tr th {\n        vertical-align: top;\n    }\n\n    .dataframe thead th {\n        text-align: right;\n    }\n</style>\n<table border=\"1\" class=\"dataframe\">\n  <thead>\n    <tr style=\"text-align: right;\">\n      <th></th>\n      <th>area_country</th>\n      <th>year</th>\n      <th>pop_1000_hab</th>\n    </tr>\n  </thead>\n  <tbody>\n    <tr>\n      <th>count</th>\n      <td>124256.000000</td>\n      <td>124256.000000</td>\n      <td>1.242560e+05</td>\n    </tr>\n    <tr>\n      <th>mean</th>\n      <td>426.895868</td>\n      <td>2018.508635</td>\n      <td>4.298225e+04</td>\n    </tr>\n    <tr>\n      <th>std</th>\n      <td>250.624782</td>\n      <td>0.499927</td>\n      <td>1.525786e+05</td>\n    </tr>\n    <tr>\n      <th>min</th>\n      <td>4.000000</td>\n      <td>2018.000000</td>\n      <td>1.076000e+01</td>\n    </tr>\n    <tr>\n      <th>25%</th>\n      <td>208.000000</td>\n      <td>2018.000000</td>\n      <td>2.801000e+03</td>\n    </tr>\n    <tr>\n      <th>50%</th>\n      <td>418.000000</td>\n      <td>2019.000000</td>\n      <td>9.949540e+03</td>\n    </tr>\n    <tr>\n      <th>75%</th>\n      <td>642.000000</td>\n      <td>2019.000000</td>\n      <td>3.081000e+04</td>\n    </tr>\n    <tr>\n      <th>max</th>\n      <td>894.000000</td>\n      <td>2019.000000</td>\n      <td>1.433784e+06</td>\n    </tr>\n  </tbody>\n</table>\n</div>"
     },
     "execution_count": 109,
     "metadata": {},
     "output_type": "execute_result"
    }
   ],
   "source": [
    "# Vérification de certaines valeurs négatives, aberrantes\n",
    "general_df.describe()"
   ],
   "metadata": {
    "collapsed": false
   }
  },
  {
   "cell_type": "markdown",
   "source": [
    "### Question 11 :"
   ],
   "metadata": {
    "collapsed": false
   }
  },
  {
   "cell_type": "code",
   "execution_count": 110,
   "outputs": [
    {
     "data": {
      "text/plain": "array(['Afghanistan', 'Albania', 'Algeria', 'Angola',\n       'Antigua and Barbuda', 'Argentina', 'Armenia', 'Australia',\n       'Austria', 'Azerbaijan', 'Bahamas', 'Bahrain', 'Bangladesh',\n       'Barbados', 'Belarus', 'Belgium', 'Belize', 'Benin', 'Bhutan',\n       'Bolivia (Plurinational State of)', 'Bosnia and Herzegovina',\n       'Botswana', 'Brazil', 'Bulgaria', 'Burkina Faso', 'Burundi',\n       'Cabo Verde', 'Cambodia', 'Cameroon', 'Canada',\n       'Central African Republic', 'Chad', 'Chile',\n       'China, Hong Kong SAR', 'China, Macao SAR', 'China, mainland',\n       'China, Taiwan Province of', 'Colombia', 'Comoros', 'Congo',\n       'Costa Rica', \"Côte d'Ivoire\", 'Croatia', 'Cuba', 'Cyprus',\n       'Czechia', \"Democratic People's Republic of Korea\",\n       'Democratic Republic of the Congo', 'Denmark', 'Djibouti',\n       'Dominica', 'Dominican Republic', 'Ecuador', 'Egypt',\n       'El Salvador', 'Estonia', 'Eswatini', 'Ethiopia', 'Fiji',\n       'Finland', 'France', 'French Polynesia', 'Gabon', 'Gambia',\n       'Georgia', 'Germany', 'Ghana', 'Greece', 'Grenada', 'Guatemala',\n       'Guinea', 'Guinea-Bissau', 'Guyana', 'Haiti', 'Honduras',\n       'Hungary', 'Iceland', 'India', 'Indonesia',\n       'Iran (Islamic Republic of)', 'Iraq', 'Ireland', 'Israel', 'Italy',\n       'Jamaica', 'Japan', 'Jordan', 'Kazakhstan', 'Kenya', 'Kiribati',\n       'Kuwait', 'Kyrgyzstan', \"Lao People's Democratic Republic\",\n       'Latvia', 'Lebanon', 'Lesotho', 'Liberia', 'Libya', 'Lithuania',\n       'Luxembourg', 'Madagascar', 'Malawi', 'Malaysia', 'Maldives',\n       'Mali', 'Malta', 'Mauritania', 'Mauritius', 'Mexico',\n       'Micronesia (Federated States of)', 'Mongolia', 'Montenegro',\n       'Morocco', 'Mozambique', 'Myanmar', 'Namibia', 'Nauru', 'Nepal',\n       'Netherlands', 'New Caledonia', 'New Zealand', 'Nicaragua',\n       'Niger', 'Nigeria', 'North Macedonia', 'Norway', 'Oman',\n       'Pakistan', 'Panama', 'Papua New Guinea', 'Paraguay', 'Peru',\n       'Philippines', 'Poland', 'Portugal', 'Qatar', 'Republic of Korea',\n       'Republic of Moldova', 'Romania', 'Russian Federation', 'Rwanda',\n       'Saint Kitts and Nevis', 'Saint Lucia',\n       'Saint Vincent and the Grenadines', 'Samoa',\n       'Sao Tome and Principe', 'Saudi Arabia', 'Senegal', 'Serbia',\n       'Seychelles', 'Sierra Leone', 'Slovakia', 'Slovenia',\n       'Solomon Islands', 'South Africa', 'South Sudan', 'Spain',\n       'Sri Lanka', 'Sudan', 'Suriname', 'Sweden', 'Switzerland',\n       'Syrian Arab Republic', 'Tajikistan', 'Thailand', 'Timor-Leste',\n       'Togo', 'Trinidad and Tobago', 'Tunisia', 'Türkiye',\n       'Turkmenistan', 'Uganda', 'Ukraine', 'United Arab Emirates',\n       'United Kingdom of Great Britain and Northern Ireland',\n       'United Republic of Tanzania', 'United States of America',\n       'Uruguay', 'Uzbekistan', 'Vanuatu',\n       'Venezuela (Bolivarian Republic of)', 'Viet Nam', 'Yemen',\n       'Zambia', 'Zimbabwe'], dtype=object)"
     },
     "execution_count": 110,
     "metadata": {},
     "output_type": "execute_result"
    }
   ],
   "source": [
    "# Affichage des valeurs uniques de 'country'\n",
    "general_df['country'].unique()"
   ],
   "metadata": {
    "collapsed": false
   }
  },
  {
   "cell_type": "markdown",
   "source": [
    "### Question 12 :"
   ],
   "metadata": {
    "collapsed": false
   }
  },
  {
   "cell_type": "code",
   "execution_count": 111,
   "outputs": [],
   "source": [
    "# Pas besoin de faire cette étape."
   ],
   "metadata": {
    "collapsed": false
   }
  },
  {
   "cell_type": "markdown",
   "source": [
    "### Question 13 :"
   ],
   "metadata": {
    "collapsed": false
   }
  },
  {
   "cell_type": "code",
   "execution_count": 112,
   "outputs": [
    {
     "data": {
      "text/plain": "                                                                                                        element  \\\narea_country country           year pop_1000_hab type    item                                                     \n191          Croatia           2019 4130.30      vegetal Soyabean Oil             Food supply (kcal/capita/day)   \n446          China, Macao SAR  2018 632.00       vegetal Fruits, other   Protein supply quantity (g/capita/day)   \n410          Republic of Korea 2019 51225.31     animal  Offals, Edible      Fat supply quantity (g/capita/day)   \n178          Congo             2018 5244.00      vegetal Honey              Food supply quantity (kg/capita/yr)   \n768          Togo              2019 8082.37      vegetal Groundnut Oil       Fat supply quantity (g/capita/day)   \n\n                                                                                    unit  \narea_country country           year pop_1000_hab type    item                             \n191          Croatia           2019 4130.30      vegetal Soyabean Oil    kcal/capita/day  \n446          China, Macao SAR  2018 632.00       vegetal Fruits, other      g/capita/day  \n410          Republic of Korea 2019 51225.31     animal  Offals, Edible     g/capita/day  \n178          Congo             2018 5244.00      vegetal Honey                        kg  \n768          Togo              2019 8082.37      vegetal Groundnut Oil      g/capita/day  ",
      "text/html": "<div>\n<style scoped>\n    .dataframe tbody tr th:only-of-type {\n        vertical-align: middle;\n    }\n\n    .dataframe tbody tr th {\n        vertical-align: top;\n    }\n\n    .dataframe thead th {\n        text-align: right;\n    }\n</style>\n<table border=\"1\" class=\"dataframe\">\n  <thead>\n    <tr style=\"text-align: right;\">\n      <th></th>\n      <th></th>\n      <th></th>\n      <th></th>\n      <th></th>\n      <th></th>\n      <th>element</th>\n      <th>unit</th>\n    </tr>\n    <tr>\n      <th>area_country</th>\n      <th>country</th>\n      <th>year</th>\n      <th>pop_1000_hab</th>\n      <th>type</th>\n      <th>item</th>\n      <th></th>\n      <th></th>\n    </tr>\n  </thead>\n  <tbody>\n    <tr>\n      <th>191</th>\n      <th>Croatia</th>\n      <th>2019</th>\n      <th>4130.30</th>\n      <th>vegetal</th>\n      <th>Soyabean Oil</th>\n      <td>Food supply (kcal/capita/day)</td>\n      <td>kcal/capita/day</td>\n    </tr>\n    <tr>\n      <th>446</th>\n      <th>China, Macao SAR</th>\n      <th>2018</th>\n      <th>632.00</th>\n      <th>vegetal</th>\n      <th>Fruits, other</th>\n      <td>Protein supply quantity (g/capita/day)</td>\n      <td>g/capita/day</td>\n    </tr>\n    <tr>\n      <th>410</th>\n      <th>Republic of Korea</th>\n      <th>2019</th>\n      <th>51225.31</th>\n      <th>animal</th>\n      <th>Offals, Edible</th>\n      <td>Fat supply quantity (g/capita/day)</td>\n      <td>g/capita/day</td>\n    </tr>\n    <tr>\n      <th>178</th>\n      <th>Congo</th>\n      <th>2018</th>\n      <th>5244.00</th>\n      <th>vegetal</th>\n      <th>Honey</th>\n      <td>Food supply quantity (kg/capita/yr)</td>\n      <td>kg</td>\n    </tr>\n    <tr>\n      <th>768</th>\n      <th>Togo</th>\n      <th>2019</th>\n      <th>8082.37</th>\n      <th>vegetal</th>\n      <th>Groundnut Oil</th>\n      <td>Fat supply quantity (g/capita/day)</td>\n      <td>g/capita/day</td>\n    </tr>\n  </tbody>\n</table>\n</div>"
     },
     "execution_count": 112,
     "metadata": {},
     "output_type": "execute_result"
    }
   ],
   "source": [
    "# Réindexation du dataframe\n",
    "general_df = general_df.set_index(['area_country', 'country', 'year', 'pop_1000_hab', 'type', 'item'])\n",
    "general_df.sample(n=5)"
   ],
   "metadata": {
    "collapsed": false
   }
  },
  {
   "cell_type": "code",
   "execution_count": 113,
   "outputs": [
    {
     "ename": "KeyError",
     "evalue": "'value'",
     "output_type": "error",
     "traceback": [
      "\u001B[0;31m---------------------------------------------------------------------------\u001B[0m",
      "\u001B[0;31mKeyError\u001B[0m                                  Traceback (most recent call last)",
      "Cell \u001B[0;32mIn[113], line 1\u001B[0m\n\u001B[0;32m----> 1\u001B[0m general_wide_df \u001B[38;5;241m=\u001B[39m \u001B[43mgeneral_df\u001B[49m\u001B[38;5;241;43m.\u001B[39;49m\u001B[43mpivot_table\u001B[49m\u001B[43m(\u001B[49m\u001B[43mindex\u001B[49m\u001B[38;5;241;43m=\u001B[39;49m\u001B[43m[\u001B[49m\u001B[38;5;124;43m'\u001B[39;49m\u001B[38;5;124;43marea_country\u001B[39;49m\u001B[38;5;124;43m'\u001B[39;49m\u001B[43m,\u001B[49m\u001B[43m \u001B[49m\u001B[38;5;124;43m'\u001B[39;49m\u001B[38;5;124;43mcountry\u001B[39;49m\u001B[38;5;124;43m'\u001B[39;49m\u001B[43m,\u001B[49m\u001B[43m \u001B[49m\u001B[38;5;124;43m'\u001B[39;49m\u001B[38;5;124;43myear\u001B[39;49m\u001B[38;5;124;43m'\u001B[39;49m\u001B[43m,\u001B[49m\u001B[43m \u001B[49m\u001B[38;5;124;43m'\u001B[39;49m\u001B[38;5;124;43mpop_1000_hab\u001B[39;49m\u001B[38;5;124;43m'\u001B[39;49m\u001B[43m,\u001B[49m\u001B[43m \u001B[49m\u001B[38;5;124;43m'\u001B[39;49m\u001B[38;5;124;43mtype\u001B[39;49m\u001B[38;5;124;43m'\u001B[39;49m\u001B[43m,\u001B[49m\u001B[43m \u001B[49m\u001B[38;5;124;43m'\u001B[39;49m\u001B[38;5;124;43mitem\u001B[39;49m\u001B[38;5;124;43m'\u001B[39;49m\u001B[43m]\u001B[49m\u001B[43m,\u001B[49m\u001B[43m \u001B[49m\u001B[43mcolumns\u001B[49m\u001B[38;5;241;43m=\u001B[39;49m\u001B[38;5;124;43m'\u001B[39;49m\u001B[38;5;124;43melement\u001B[39;49m\u001B[38;5;124;43m'\u001B[39;49m\u001B[43m,\u001B[49m\u001B[43m \u001B[49m\u001B[43mvalues\u001B[49m\u001B[38;5;241;43m=\u001B[39;49m\u001B[38;5;124;43m'\u001B[39;49m\u001B[38;5;124;43mvalue\u001B[39;49m\u001B[38;5;124;43m'\u001B[39;49m\u001B[43m)\u001B[49m\n",
      "File \u001B[0;32m~/miniconda3/envs/Pandas/lib/python3.10/site-packages/pandas/core/frame.py:8728\u001B[0m, in \u001B[0;36mDataFrame.pivot_table\u001B[0;34m(self, values, index, columns, aggfunc, fill_value, margins, dropna, margins_name, observed, sort)\u001B[0m\n\u001B[1;32m   8711\u001B[0m \u001B[38;5;129m@Substitution\u001B[39m(\u001B[38;5;124m\"\u001B[39m\u001B[38;5;124m\"\u001B[39m)\n\u001B[1;32m   8712\u001B[0m \u001B[38;5;129m@Appender\u001B[39m(_shared_docs[\u001B[38;5;124m\"\u001B[39m\u001B[38;5;124mpivot_table\u001B[39m\u001B[38;5;124m\"\u001B[39m])\n\u001B[1;32m   8713\u001B[0m \u001B[38;5;28;01mdef\u001B[39;00m \u001B[38;5;21mpivot_table\u001B[39m(\n\u001B[0;32m   (...)\u001B[0m\n\u001B[1;32m   8724\u001B[0m     sort\u001B[38;5;241m=\u001B[39m\u001B[38;5;28;01mTrue\u001B[39;00m,\n\u001B[1;32m   8725\u001B[0m ) \u001B[38;5;241m-\u001B[39m\u001B[38;5;241m>\u001B[39m DataFrame:\n\u001B[1;32m   8726\u001B[0m     \u001B[38;5;28;01mfrom\u001B[39;00m \u001B[38;5;21;01mpandas\u001B[39;00m\u001B[38;5;21;01m.\u001B[39;00m\u001B[38;5;21;01mcore\u001B[39;00m\u001B[38;5;21;01m.\u001B[39;00m\u001B[38;5;21;01mreshape\u001B[39;00m\u001B[38;5;21;01m.\u001B[39;00m\u001B[38;5;21;01mpivot\u001B[39;00m \u001B[38;5;28;01mimport\u001B[39;00m pivot_table\n\u001B[0;32m-> 8728\u001B[0m     \u001B[38;5;28;01mreturn\u001B[39;00m \u001B[43mpivot_table\u001B[49m\u001B[43m(\u001B[49m\n\u001B[1;32m   8729\u001B[0m \u001B[43m        \u001B[49m\u001B[38;5;28;43mself\u001B[39;49m\u001B[43m,\u001B[49m\n\u001B[1;32m   8730\u001B[0m \u001B[43m        \u001B[49m\u001B[43mvalues\u001B[49m\u001B[38;5;241;43m=\u001B[39;49m\u001B[43mvalues\u001B[49m\u001B[43m,\u001B[49m\n\u001B[1;32m   8731\u001B[0m \u001B[43m        \u001B[49m\u001B[43mindex\u001B[49m\u001B[38;5;241;43m=\u001B[39;49m\u001B[43mindex\u001B[49m\u001B[43m,\u001B[49m\n\u001B[1;32m   8732\u001B[0m \u001B[43m        \u001B[49m\u001B[43mcolumns\u001B[49m\u001B[38;5;241;43m=\u001B[39;49m\u001B[43mcolumns\u001B[49m\u001B[43m,\u001B[49m\n\u001B[1;32m   8733\u001B[0m \u001B[43m        \u001B[49m\u001B[43maggfunc\u001B[49m\u001B[38;5;241;43m=\u001B[39;49m\u001B[43maggfunc\u001B[49m\u001B[43m,\u001B[49m\n\u001B[1;32m   8734\u001B[0m \u001B[43m        \u001B[49m\u001B[43mfill_value\u001B[49m\u001B[38;5;241;43m=\u001B[39;49m\u001B[43mfill_value\u001B[49m\u001B[43m,\u001B[49m\n\u001B[1;32m   8735\u001B[0m \u001B[43m        \u001B[49m\u001B[43mmargins\u001B[49m\u001B[38;5;241;43m=\u001B[39;49m\u001B[43mmargins\u001B[49m\u001B[43m,\u001B[49m\n\u001B[1;32m   8736\u001B[0m \u001B[43m        \u001B[49m\u001B[43mdropna\u001B[49m\u001B[38;5;241;43m=\u001B[39;49m\u001B[43mdropna\u001B[49m\u001B[43m,\u001B[49m\n\u001B[1;32m   8737\u001B[0m \u001B[43m        \u001B[49m\u001B[43mmargins_name\u001B[49m\u001B[38;5;241;43m=\u001B[39;49m\u001B[43mmargins_name\u001B[49m\u001B[43m,\u001B[49m\n\u001B[1;32m   8738\u001B[0m \u001B[43m        \u001B[49m\u001B[43mobserved\u001B[49m\u001B[38;5;241;43m=\u001B[39;49m\u001B[43mobserved\u001B[49m\u001B[43m,\u001B[49m\n\u001B[1;32m   8739\u001B[0m \u001B[43m        \u001B[49m\u001B[43msort\u001B[49m\u001B[38;5;241;43m=\u001B[39;49m\u001B[43msort\u001B[49m\u001B[43m,\u001B[49m\n\u001B[1;32m   8740\u001B[0m \u001B[43m    \u001B[49m\u001B[43m)\u001B[49m\n",
      "File \u001B[0;32m~/miniconda3/envs/Pandas/lib/python3.10/site-packages/pandas/core/reshape/pivot.py:97\u001B[0m, in \u001B[0;36mpivot_table\u001B[0;34m(data, values, index, columns, aggfunc, fill_value, margins, dropna, margins_name, observed, sort)\u001B[0m\n\u001B[1;32m     94\u001B[0m     table \u001B[38;5;241m=\u001B[39m concat(pieces, keys\u001B[38;5;241m=\u001B[39mkeys, axis\u001B[38;5;241m=\u001B[39m\u001B[38;5;241m1\u001B[39m)\n\u001B[1;32m     95\u001B[0m     \u001B[38;5;28;01mreturn\u001B[39;00m table\u001B[38;5;241m.\u001B[39m__finalize__(data, method\u001B[38;5;241m=\u001B[39m\u001B[38;5;124m\"\u001B[39m\u001B[38;5;124mpivot_table\u001B[39m\u001B[38;5;124m\"\u001B[39m)\n\u001B[0;32m---> 97\u001B[0m table \u001B[38;5;241m=\u001B[39m \u001B[43m__internal_pivot_table\u001B[49m\u001B[43m(\u001B[49m\n\u001B[1;32m     98\u001B[0m \u001B[43m    \u001B[49m\u001B[43mdata\u001B[49m\u001B[43m,\u001B[49m\n\u001B[1;32m     99\u001B[0m \u001B[43m    \u001B[49m\u001B[43mvalues\u001B[49m\u001B[43m,\u001B[49m\n\u001B[1;32m    100\u001B[0m \u001B[43m    \u001B[49m\u001B[43mindex\u001B[49m\u001B[43m,\u001B[49m\n\u001B[1;32m    101\u001B[0m \u001B[43m    \u001B[49m\u001B[43mcolumns\u001B[49m\u001B[43m,\u001B[49m\n\u001B[1;32m    102\u001B[0m \u001B[43m    \u001B[49m\u001B[43maggfunc\u001B[49m\u001B[43m,\u001B[49m\n\u001B[1;32m    103\u001B[0m \u001B[43m    \u001B[49m\u001B[43mfill_value\u001B[49m\u001B[43m,\u001B[49m\n\u001B[1;32m    104\u001B[0m \u001B[43m    \u001B[49m\u001B[43mmargins\u001B[49m\u001B[43m,\u001B[49m\n\u001B[1;32m    105\u001B[0m \u001B[43m    \u001B[49m\u001B[43mdropna\u001B[49m\u001B[43m,\u001B[49m\n\u001B[1;32m    106\u001B[0m \u001B[43m    \u001B[49m\u001B[43mmargins_name\u001B[49m\u001B[43m,\u001B[49m\n\u001B[1;32m    107\u001B[0m \u001B[43m    \u001B[49m\u001B[43mobserved\u001B[49m\u001B[43m,\u001B[49m\n\u001B[1;32m    108\u001B[0m \u001B[43m    \u001B[49m\u001B[43msort\u001B[49m\u001B[43m,\u001B[49m\n\u001B[1;32m    109\u001B[0m \u001B[43m\u001B[49m\u001B[43m)\u001B[49m\n\u001B[1;32m    110\u001B[0m \u001B[38;5;28;01mreturn\u001B[39;00m table\u001B[38;5;241m.\u001B[39m__finalize__(data, method\u001B[38;5;241m=\u001B[39m\u001B[38;5;124m\"\u001B[39m\u001B[38;5;124mpivot_table\u001B[39m\u001B[38;5;124m\"\u001B[39m)\n",
      "File \u001B[0;32m~/miniconda3/envs/Pandas/lib/python3.10/site-packages/pandas/core/reshape/pivot.py:143\u001B[0m, in \u001B[0;36m__internal_pivot_table\u001B[0;34m(data, values, index, columns, aggfunc, fill_value, margins, dropna, margins_name, observed, sort)\u001B[0m\n\u001B[1;32m    141\u001B[0m \u001B[38;5;28;01mfor\u001B[39;00m i \u001B[38;5;129;01min\u001B[39;00m values:\n\u001B[1;32m    142\u001B[0m     \u001B[38;5;28;01mif\u001B[39;00m i \u001B[38;5;129;01mnot\u001B[39;00m \u001B[38;5;129;01min\u001B[39;00m data:\n\u001B[0;32m--> 143\u001B[0m         \u001B[38;5;28;01mraise\u001B[39;00m \u001B[38;5;167;01mKeyError\u001B[39;00m(i)\n\u001B[1;32m    145\u001B[0m to_filter \u001B[38;5;241m=\u001B[39m []\n\u001B[1;32m    146\u001B[0m \u001B[38;5;28;01mfor\u001B[39;00m x \u001B[38;5;129;01min\u001B[39;00m keys \u001B[38;5;241m+\u001B[39m values:\n",
      "\u001B[0;31mKeyError\u001B[0m: 'value'"
     ]
    }
   ],
   "source": [
    "general_wide_df = general_df.pivot_table(index=['area_country', 'country', 'year', 'pop_1000_hab', 'type', 'item'], columns='element', values='value')"
   ],
   "metadata": {
    "collapsed": false
   }
  },
  {
   "cell_type": "code",
   "execution_count": null,
   "outputs": [],
   "source": [
    "general_wide_df.head()"
   ],
   "metadata": {
    "collapsed": false
   }
  },
  {
   "cell_type": "code",
   "execution_count": null,
   "outputs": [],
   "source": [
    "# Réinitialisation de l'index\n",
    "general_wide_df = general_wide_df.reset_index()"
   ],
   "metadata": {
    "collapsed": false
   }
  },
  {
   "cell_type": "markdown",
   "source": [
    "### Question 14 :"
   ],
   "metadata": {
    "collapsed": false
   }
  },
  {
   "cell_type": "code",
   "execution_count": null,
   "outputs": [],
   "source": [],
   "metadata": {
    "collapsed": false
   }
  }
 ],
 "metadata": {
  "kernelspec": {
   "display_name": "Python 3",
   "language": "python",
   "name": "python3"
  },
  "language_info": {
   "codemirror_mode": {
    "name": "ipython",
    "version": 2
   },
   "file_extension": ".py",
   "mimetype": "text/x-python",
   "name": "python",
   "nbconvert_exporter": "python",
   "pygments_lexer": "ipython2",
   "version": "2.7.6"
  }
 },
 "nbformat": 4,
 "nbformat_minor": 0
}
