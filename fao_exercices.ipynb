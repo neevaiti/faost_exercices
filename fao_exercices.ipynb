{
 "cells": [
  {
   "cell_type": "markdown",
   "source": [
    "# Importation des df"
   ],
   "metadata": {
    "collapsed": false
   }
  },
  {
   "cell_type": "code",
   "execution_count": 251,
   "metadata": {
    "collapsed": true
   },
   "outputs": [],
   "source": [
    "import pandas as pd\n",
    "import matplotlib.pyplot as plt\n",
    "import seaborn as sns"
   ]
  },
  {
   "cell_type": "code",
   "execution_count": 252,
   "outputs": [],
   "source": [
    "animal_df = pd.read_csv(\"src/datas/animal_dataset.csv\")\n",
    "vegetal_df = pd.read_csv(\"src/datas/vegetal_dataset.csv\")\n",
    "population_df = pd.read_csv(\"src/datas/population_dataset.csv\")"
   ],
   "metadata": {
    "collapsed": false
   }
  },
  {
   "cell_type": "code",
   "execution_count": 253,
   "outputs": [
    {
     "data": {
      "text/plain": "  Domain Code                 Domain  Area Code (M49)         Area  \\\n0         FBS  Food Balances (2010-)                4  Afghanistan   \n1         FBS  Food Balances (2010-)                4  Afghanistan   \n2         FBS  Food Balances (2010-)                4  Afghanistan   \n3         FBS  Food Balances (2010-)                4  Afghanistan   \n4         FBS  Food Balances (2010-)                4  Afghanistan   \n\n   Element Code                                 Element Item Code (CPC)  \\\n0           645     Food supply quantity (kg/capita/yr)           S2731   \n1           645     Food supply quantity (kg/capita/yr)           S2731   \n2           664           Food supply (kcal/capita/day)           S2731   \n3           664           Food supply (kcal/capita/day)           S2731   \n4           674  Protein supply quantity (g/capita/day)           S2731   \n\n          Item  Year Code  Year             Unit  Value Flag Flag Description  \n0  Bovine Meat       2018  2018               kg   2.62    E  Estimated value  \n1  Bovine Meat       2019  2019               kg   2.73    E  Estimated value  \n2  Bovine Meat       2018  2018  kcal/capita/day  15.42    E  Estimated value  \n3  Bovine Meat       2019  2019  kcal/capita/day  16.03    E  Estimated value  \n4  Bovine Meat       2018  2018     g/capita/day   1.09    E  Estimated value  ",
      "text/html": "<div>\n<style scoped>\n    .dataframe tbody tr th:only-of-type {\n        vertical-align: middle;\n    }\n\n    .dataframe tbody tr th {\n        vertical-align: top;\n    }\n\n    .dataframe thead th {\n        text-align: right;\n    }\n</style>\n<table border=\"1\" class=\"dataframe\">\n  <thead>\n    <tr style=\"text-align: right;\">\n      <th></th>\n      <th>Domain Code</th>\n      <th>Domain</th>\n      <th>Area Code (M49)</th>\n      <th>Area</th>\n      <th>Element Code</th>\n      <th>Element</th>\n      <th>Item Code (CPC)</th>\n      <th>Item</th>\n      <th>Year Code</th>\n      <th>Year</th>\n      <th>Unit</th>\n      <th>Value</th>\n      <th>Flag</th>\n      <th>Flag Description</th>\n    </tr>\n  </thead>\n  <tbody>\n    <tr>\n      <th>0</th>\n      <td>FBS</td>\n      <td>Food Balances (2010-)</td>\n      <td>4</td>\n      <td>Afghanistan</td>\n      <td>645</td>\n      <td>Food supply quantity (kg/capita/yr)</td>\n      <td>S2731</td>\n      <td>Bovine Meat</td>\n      <td>2018</td>\n      <td>2018</td>\n      <td>kg</td>\n      <td>2.62</td>\n      <td>E</td>\n      <td>Estimated value</td>\n    </tr>\n    <tr>\n      <th>1</th>\n      <td>FBS</td>\n      <td>Food Balances (2010-)</td>\n      <td>4</td>\n      <td>Afghanistan</td>\n      <td>645</td>\n      <td>Food supply quantity (kg/capita/yr)</td>\n      <td>S2731</td>\n      <td>Bovine Meat</td>\n      <td>2019</td>\n      <td>2019</td>\n      <td>kg</td>\n      <td>2.73</td>\n      <td>E</td>\n      <td>Estimated value</td>\n    </tr>\n    <tr>\n      <th>2</th>\n      <td>FBS</td>\n      <td>Food Balances (2010-)</td>\n      <td>4</td>\n      <td>Afghanistan</td>\n      <td>664</td>\n      <td>Food supply (kcal/capita/day)</td>\n      <td>S2731</td>\n      <td>Bovine Meat</td>\n      <td>2018</td>\n      <td>2018</td>\n      <td>kcal/capita/day</td>\n      <td>15.42</td>\n      <td>E</td>\n      <td>Estimated value</td>\n    </tr>\n    <tr>\n      <th>3</th>\n      <td>FBS</td>\n      <td>Food Balances (2010-)</td>\n      <td>4</td>\n      <td>Afghanistan</td>\n      <td>664</td>\n      <td>Food supply (kcal/capita/day)</td>\n      <td>S2731</td>\n      <td>Bovine Meat</td>\n      <td>2019</td>\n      <td>2019</td>\n      <td>kcal/capita/day</td>\n      <td>16.03</td>\n      <td>E</td>\n      <td>Estimated value</td>\n    </tr>\n    <tr>\n      <th>4</th>\n      <td>FBS</td>\n      <td>Food Balances (2010-)</td>\n      <td>4</td>\n      <td>Afghanistan</td>\n      <td>674</td>\n      <td>Protein supply quantity (g/capita/day)</td>\n      <td>S2731</td>\n      <td>Bovine Meat</td>\n      <td>2018</td>\n      <td>2018</td>\n      <td>g/capita/day</td>\n      <td>1.09</td>\n      <td>E</td>\n      <td>Estimated value</td>\n    </tr>\n  </tbody>\n</table>\n</div>"
     },
     "execution_count": 253,
     "metadata": {},
     "output_type": "execute_result"
    }
   ],
   "source": [
    "animal_df.head()"
   ],
   "metadata": {
    "collapsed": false
   }
  },
  {
   "cell_type": "code",
   "execution_count": 254,
   "outputs": [
    {
     "data": {
      "text/plain": "  Domain Code                 Domain  Area Code (M49)         Area  \\\n0         FBS  Food Balances (2010-)                4  Afghanistan   \n1         FBS  Food Balances (2010-)                4  Afghanistan   \n2         FBS  Food Balances (2010-)                4  Afghanistan   \n3         FBS  Food Balances (2010-)                4  Afghanistan   \n4         FBS  Food Balances (2010-)                4  Afghanistan   \n\n   Element Code                                 Element Item Code (CPC)  \\\n0           645     Food supply quantity (kg/capita/yr)           S2511   \n1           645     Food supply quantity (kg/capita/yr)           S2511   \n2           664           Food supply (kcal/capita/day)           S2511   \n3           664           Food supply (kcal/capita/day)           S2511   \n4           674  Protein supply quantity (g/capita/day)           S2511   \n\n                 Item  Year Code  Year             Unit    Value Flag  \\\n0  Wheat and products       2018  2018               kg   160.12    E   \n1  Wheat and products       2019  2019               kg   158.95    E   \n2  Wheat and products       2018  2018  kcal/capita/day  1372.02    E   \n3  Wheat and products       2019  2019  kcal/capita/day  1361.66    E   \n4  Wheat and products       2018  2018     g/capita/day    37.00    E   \n\n  Flag Description  \n0  Estimated value  \n1  Estimated value  \n2  Estimated value  \n3  Estimated value  \n4  Estimated value  ",
      "text/html": "<div>\n<style scoped>\n    .dataframe tbody tr th:only-of-type {\n        vertical-align: middle;\n    }\n\n    .dataframe tbody tr th {\n        vertical-align: top;\n    }\n\n    .dataframe thead th {\n        text-align: right;\n    }\n</style>\n<table border=\"1\" class=\"dataframe\">\n  <thead>\n    <tr style=\"text-align: right;\">\n      <th></th>\n      <th>Domain Code</th>\n      <th>Domain</th>\n      <th>Area Code (M49)</th>\n      <th>Area</th>\n      <th>Element Code</th>\n      <th>Element</th>\n      <th>Item Code (CPC)</th>\n      <th>Item</th>\n      <th>Year Code</th>\n      <th>Year</th>\n      <th>Unit</th>\n      <th>Value</th>\n      <th>Flag</th>\n      <th>Flag Description</th>\n    </tr>\n  </thead>\n  <tbody>\n    <tr>\n      <th>0</th>\n      <td>FBS</td>\n      <td>Food Balances (2010-)</td>\n      <td>4</td>\n      <td>Afghanistan</td>\n      <td>645</td>\n      <td>Food supply quantity (kg/capita/yr)</td>\n      <td>S2511</td>\n      <td>Wheat and products</td>\n      <td>2018</td>\n      <td>2018</td>\n      <td>kg</td>\n      <td>160.12</td>\n      <td>E</td>\n      <td>Estimated value</td>\n    </tr>\n    <tr>\n      <th>1</th>\n      <td>FBS</td>\n      <td>Food Balances (2010-)</td>\n      <td>4</td>\n      <td>Afghanistan</td>\n      <td>645</td>\n      <td>Food supply quantity (kg/capita/yr)</td>\n      <td>S2511</td>\n      <td>Wheat and products</td>\n      <td>2019</td>\n      <td>2019</td>\n      <td>kg</td>\n      <td>158.95</td>\n      <td>E</td>\n      <td>Estimated value</td>\n    </tr>\n    <tr>\n      <th>2</th>\n      <td>FBS</td>\n      <td>Food Balances (2010-)</td>\n      <td>4</td>\n      <td>Afghanistan</td>\n      <td>664</td>\n      <td>Food supply (kcal/capita/day)</td>\n      <td>S2511</td>\n      <td>Wheat and products</td>\n      <td>2018</td>\n      <td>2018</td>\n      <td>kcal/capita/day</td>\n      <td>1372.02</td>\n      <td>E</td>\n      <td>Estimated value</td>\n    </tr>\n    <tr>\n      <th>3</th>\n      <td>FBS</td>\n      <td>Food Balances (2010-)</td>\n      <td>4</td>\n      <td>Afghanistan</td>\n      <td>664</td>\n      <td>Food supply (kcal/capita/day)</td>\n      <td>S2511</td>\n      <td>Wheat and products</td>\n      <td>2019</td>\n      <td>2019</td>\n      <td>kcal/capita/day</td>\n      <td>1361.66</td>\n      <td>E</td>\n      <td>Estimated value</td>\n    </tr>\n    <tr>\n      <th>4</th>\n      <td>FBS</td>\n      <td>Food Balances (2010-)</td>\n      <td>4</td>\n      <td>Afghanistan</td>\n      <td>674</td>\n      <td>Protein supply quantity (g/capita/day)</td>\n      <td>S2511</td>\n      <td>Wheat and products</td>\n      <td>2018</td>\n      <td>2018</td>\n      <td>g/capita/day</td>\n      <td>37.00</td>\n      <td>E</td>\n      <td>Estimated value</td>\n    </tr>\n  </tbody>\n</table>\n</div>"
     },
     "execution_count": 254,
     "metadata": {},
     "output_type": "execute_result"
    }
   ],
   "source": [
    "vegetal_df.head()"
   ],
   "metadata": {
    "collapsed": false
   }
  },
  {
   "cell_type": "code",
   "execution_count": 255,
   "outputs": [
    {
     "data": {
      "text/plain": "  Domain Code                 Domain  Area Code (M49)         Area  \\\n0         FBS  Food Balances (2010-)                4  Afghanistan   \n1         FBS  Food Balances (2010-)                4  Afghanistan   \n2         FBS  Food Balances (2010-)                8      Albania   \n3         FBS  Food Balances (2010-)                8      Albania   \n4         FBS  Food Balances (2010-)               12      Algeria   \n\n   Element Code                        Element Item Code (CPC)        Item  \\\n0           511  Total Population - Both sexes           S2501  Population   \n1           511  Total Population - Both sexes           S2501  Population   \n2           511  Total Population - Both sexes           S2501  Population   \n3           511  Total Population - Both sexes           S2501  Population   \n4           511  Total Population - Both sexes           S2501  Population   \n\n   Year Code  Year          Unit     Value Flag  \\\n0       2018  2018  1000 persons  37172.00    X   \n1       2019  2019  1000 persons  38041.75    X   \n2       2018  2018  1000 persons   2883.00    X   \n3       2019  2019  1000 persons   2880.92    X   \n4       2018  2018  1000 persons  42228.00    X   \n\n                          Flag Description  \n0  Figure from international organizations  \n1  Figure from international organizations  \n2  Figure from international organizations  \n3  Figure from international organizations  \n4  Figure from international organizations  ",
      "text/html": "<div>\n<style scoped>\n    .dataframe tbody tr th:only-of-type {\n        vertical-align: middle;\n    }\n\n    .dataframe tbody tr th {\n        vertical-align: top;\n    }\n\n    .dataframe thead th {\n        text-align: right;\n    }\n</style>\n<table border=\"1\" class=\"dataframe\">\n  <thead>\n    <tr style=\"text-align: right;\">\n      <th></th>\n      <th>Domain Code</th>\n      <th>Domain</th>\n      <th>Area Code (M49)</th>\n      <th>Area</th>\n      <th>Element Code</th>\n      <th>Element</th>\n      <th>Item Code (CPC)</th>\n      <th>Item</th>\n      <th>Year Code</th>\n      <th>Year</th>\n      <th>Unit</th>\n      <th>Value</th>\n      <th>Flag</th>\n      <th>Flag Description</th>\n    </tr>\n  </thead>\n  <tbody>\n    <tr>\n      <th>0</th>\n      <td>FBS</td>\n      <td>Food Balances (2010-)</td>\n      <td>4</td>\n      <td>Afghanistan</td>\n      <td>511</td>\n      <td>Total Population - Both sexes</td>\n      <td>S2501</td>\n      <td>Population</td>\n      <td>2018</td>\n      <td>2018</td>\n      <td>1000 persons</td>\n      <td>37172.00</td>\n      <td>X</td>\n      <td>Figure from international organizations</td>\n    </tr>\n    <tr>\n      <th>1</th>\n      <td>FBS</td>\n      <td>Food Balances (2010-)</td>\n      <td>4</td>\n      <td>Afghanistan</td>\n      <td>511</td>\n      <td>Total Population - Both sexes</td>\n      <td>S2501</td>\n      <td>Population</td>\n      <td>2019</td>\n      <td>2019</td>\n      <td>1000 persons</td>\n      <td>38041.75</td>\n      <td>X</td>\n      <td>Figure from international organizations</td>\n    </tr>\n    <tr>\n      <th>2</th>\n      <td>FBS</td>\n      <td>Food Balances (2010-)</td>\n      <td>8</td>\n      <td>Albania</td>\n      <td>511</td>\n      <td>Total Population - Both sexes</td>\n      <td>S2501</td>\n      <td>Population</td>\n      <td>2018</td>\n      <td>2018</td>\n      <td>1000 persons</td>\n      <td>2883.00</td>\n      <td>X</td>\n      <td>Figure from international organizations</td>\n    </tr>\n    <tr>\n      <th>3</th>\n      <td>FBS</td>\n      <td>Food Balances (2010-)</td>\n      <td>8</td>\n      <td>Albania</td>\n      <td>511</td>\n      <td>Total Population - Both sexes</td>\n      <td>S2501</td>\n      <td>Population</td>\n      <td>2019</td>\n      <td>2019</td>\n      <td>1000 persons</td>\n      <td>2880.92</td>\n      <td>X</td>\n      <td>Figure from international organizations</td>\n    </tr>\n    <tr>\n      <th>4</th>\n      <td>FBS</td>\n      <td>Food Balances (2010-)</td>\n      <td>12</td>\n      <td>Algeria</td>\n      <td>511</td>\n      <td>Total Population - Both sexes</td>\n      <td>S2501</td>\n      <td>Population</td>\n      <td>2018</td>\n      <td>2018</td>\n      <td>1000 persons</td>\n      <td>42228.00</td>\n      <td>X</td>\n      <td>Figure from international organizations</td>\n    </tr>\n  </tbody>\n</table>\n</div>"
     },
     "execution_count": 255,
     "metadata": {},
     "output_type": "execute_result"
    }
   ],
   "source": [
    "population_df.head()"
   ],
   "metadata": {
    "collapsed": false
   }
  },
  {
   "cell_type": "markdown",
   "source": [
    "## Nettoyage des données"
   ],
   "metadata": {
    "collapsed": false
   }
  },
  {
   "cell_type": "markdown",
   "source": [
    "### Question 1 :"
   ],
   "metadata": {
    "collapsed": false
   }
  },
  {
   "cell_type": "code",
   "execution_count": 256,
   "outputs": [
    {
     "name": "stdout",
     "output_type": "stream",
     "text": [
      "---------Animal---------\n"
     ]
    },
    {
     "data": {
      "text/plain": "Index(['domain_code', 'domain', 'area_code_(m49)', 'area', 'element_code',\n       'element', 'item_code_(cpc)', 'item', 'year_code', 'year', 'unit',\n       'value', 'flag', 'flag_description'],\n      dtype='object')"
     },
     "execution_count": 256,
     "metadata": {},
     "output_type": "execute_result"
    }
   ],
   "source": [
    "# Première étape faire le nettoyage dans les titres.\n",
    "animal_df = animal_df.rename(columns=lambda x: x.lower().replace(' ', '_'))\n",
    "print(\"---------Animal---------\")\n",
    "animal_df.columns"
   ],
   "metadata": {
    "collapsed": false
   }
  },
  {
   "cell_type": "code",
   "execution_count": 257,
   "outputs": [
    {
     "name": "stdout",
     "output_type": "stream",
     "text": [
      "---------Vegetal---------\n"
     ]
    },
    {
     "data": {
      "text/plain": "Index(['domain_code', 'domain', 'area_code_(m49)', 'area', 'element_code',\n       'element', 'item_code_(cpc)', 'item', 'year_code', 'year', 'unit',\n       'value', 'flag', 'flag_description'],\n      dtype='object')"
     },
     "execution_count": 257,
     "metadata": {},
     "output_type": "execute_result"
    }
   ],
   "source": [
    "vegetal_df = vegetal_df.rename(columns=lambda x: x.lower().replace(' ', '_'))\n",
    "print(\"---------Vegetal---------\")\n",
    "vegetal_df.columns"
   ],
   "metadata": {
    "collapsed": false
   }
  },
  {
   "cell_type": "code",
   "execution_count": 258,
   "outputs": [
    {
     "name": "stdout",
     "output_type": "stream",
     "text": [
      "---------Population---------\n"
     ]
    },
    {
     "data": {
      "text/plain": "Index(['domain_code', 'domain', 'area_code_(m49)', 'area', 'element_code',\n       'element', 'item_code_(cpc)', 'item', 'year_code', 'year', 'unit',\n       'value', 'flag', 'flag_description'],\n      dtype='object')"
     },
     "execution_count": 258,
     "metadata": {},
     "output_type": "execute_result"
    }
   ],
   "source": [
    "population_df = population_df.rename(columns=lambda x: x.lower().replace(' ', '_'))\n",
    "print(\"---------Population---------\")\n",
    "population_df.columns"
   ],
   "metadata": {
    "collapsed": false
   }
  },
  {
   "cell_type": "markdown",
   "source": [
    "### Question 2 :"
   ],
   "metadata": {
    "collapsed": false
   }
  },
  {
   "cell_type": "code",
   "execution_count": 259,
   "outputs": [
    {
     "data": {
      "text/plain": "(31366, 14)"
     },
     "execution_count": 259,
     "metadata": {},
     "output_type": "execute_result"
    }
   ],
   "source": [
    "# Dimensions des jeux de données\n",
    "animal_df.shape"
   ],
   "metadata": {
    "collapsed": false
   }
  },
  {
   "cell_type": "code",
   "execution_count": 260,
   "outputs": [
    {
     "data": {
      "text/plain": "(92890, 14)"
     },
     "execution_count": 260,
     "metadata": {},
     "output_type": "execute_result"
    }
   ],
   "source": [
    "vegetal_df.shape"
   ],
   "metadata": {
    "collapsed": false
   }
  },
  {
   "cell_type": "code",
   "execution_count": 261,
   "outputs": [
    {
     "data": {
      "text/plain": "(364, 14)"
     },
     "execution_count": 261,
     "metadata": {},
     "output_type": "execute_result"
    }
   ],
   "source": [
    "population_df.shape"
   ],
   "metadata": {
    "collapsed": false
   }
  },
  {
   "cell_type": "markdown",
   "source": [
    "### Question 3 :"
   ],
   "metadata": {
    "collapsed": false
   }
  },
  {
   "cell_type": "code",
   "execution_count": 262,
   "outputs": [
    {
     "data": {
      "text/plain": "  domain_code                 domain  area_code_(m49)         area  \\\n0         FBS  Food Balances (2010-)                4  Afghanistan   \n1         FBS  Food Balances (2010-)                4  Afghanistan   \n2         FBS  Food Balances (2010-)                4  Afghanistan   \n3         FBS  Food Balances (2010-)                4  Afghanistan   \n4         FBS  Food Balances (2010-)                4  Afghanistan   \n\n   element_code                                 element item_code_(cpc)  \\\n0           645     Food supply quantity (kg/capita/yr)           S2731   \n1           645     Food supply quantity (kg/capita/yr)           S2731   \n2           664           Food supply (kcal/capita/day)           S2731   \n3           664           Food supply (kcal/capita/day)           S2731   \n4           674  Protein supply quantity (g/capita/day)           S2731   \n\n          item  year_code  year             unit  value flag flag_description  \n0  Bovine Meat       2018  2018               kg   2.62    E  Estimated value  \n1  Bovine Meat       2019  2019               kg   2.73    E  Estimated value  \n2  Bovine Meat       2018  2018  kcal/capita/day  15.42    E  Estimated value  \n3  Bovine Meat       2019  2019  kcal/capita/day  16.03    E  Estimated value  \n4  Bovine Meat       2018  2018     g/capita/day   1.09    E  Estimated value  ",
      "text/html": "<div>\n<style scoped>\n    .dataframe tbody tr th:only-of-type {\n        vertical-align: middle;\n    }\n\n    .dataframe tbody tr th {\n        vertical-align: top;\n    }\n\n    .dataframe thead th {\n        text-align: right;\n    }\n</style>\n<table border=\"1\" class=\"dataframe\">\n  <thead>\n    <tr style=\"text-align: right;\">\n      <th></th>\n      <th>domain_code</th>\n      <th>domain</th>\n      <th>area_code_(m49)</th>\n      <th>area</th>\n      <th>element_code</th>\n      <th>element</th>\n      <th>item_code_(cpc)</th>\n      <th>item</th>\n      <th>year_code</th>\n      <th>year</th>\n      <th>unit</th>\n      <th>value</th>\n      <th>flag</th>\n      <th>flag_description</th>\n    </tr>\n  </thead>\n  <tbody>\n    <tr>\n      <th>0</th>\n      <td>FBS</td>\n      <td>Food Balances (2010-)</td>\n      <td>4</td>\n      <td>Afghanistan</td>\n      <td>645</td>\n      <td>Food supply quantity (kg/capita/yr)</td>\n      <td>S2731</td>\n      <td>Bovine Meat</td>\n      <td>2018</td>\n      <td>2018</td>\n      <td>kg</td>\n      <td>2.62</td>\n      <td>E</td>\n      <td>Estimated value</td>\n    </tr>\n    <tr>\n      <th>1</th>\n      <td>FBS</td>\n      <td>Food Balances (2010-)</td>\n      <td>4</td>\n      <td>Afghanistan</td>\n      <td>645</td>\n      <td>Food supply quantity (kg/capita/yr)</td>\n      <td>S2731</td>\n      <td>Bovine Meat</td>\n      <td>2019</td>\n      <td>2019</td>\n      <td>kg</td>\n      <td>2.73</td>\n      <td>E</td>\n      <td>Estimated value</td>\n    </tr>\n    <tr>\n      <th>2</th>\n      <td>FBS</td>\n      <td>Food Balances (2010-)</td>\n      <td>4</td>\n      <td>Afghanistan</td>\n      <td>664</td>\n      <td>Food supply (kcal/capita/day)</td>\n      <td>S2731</td>\n      <td>Bovine Meat</td>\n      <td>2018</td>\n      <td>2018</td>\n      <td>kcal/capita/day</td>\n      <td>15.42</td>\n      <td>E</td>\n      <td>Estimated value</td>\n    </tr>\n    <tr>\n      <th>3</th>\n      <td>FBS</td>\n      <td>Food Balances (2010-)</td>\n      <td>4</td>\n      <td>Afghanistan</td>\n      <td>664</td>\n      <td>Food supply (kcal/capita/day)</td>\n      <td>S2731</td>\n      <td>Bovine Meat</td>\n      <td>2019</td>\n      <td>2019</td>\n      <td>kcal/capita/day</td>\n      <td>16.03</td>\n      <td>E</td>\n      <td>Estimated value</td>\n    </tr>\n    <tr>\n      <th>4</th>\n      <td>FBS</td>\n      <td>Food Balances (2010-)</td>\n      <td>4</td>\n      <td>Afghanistan</td>\n      <td>674</td>\n      <td>Protein supply quantity (g/capita/day)</td>\n      <td>S2731</td>\n      <td>Bovine Meat</td>\n      <td>2018</td>\n      <td>2018</td>\n      <td>g/capita/day</td>\n      <td>1.09</td>\n      <td>E</td>\n      <td>Estimated value</td>\n    </tr>\n  </tbody>\n</table>\n</div>"
     },
     "execution_count": 262,
     "metadata": {},
     "output_type": "execute_result"
    }
   ],
   "source": [
    "# Voir les 5 premières lignes des jeux de données\n",
    "animal_df.head()"
   ],
   "metadata": {
    "collapsed": false
   }
  },
  {
   "cell_type": "code",
   "execution_count": 263,
   "outputs": [
    {
     "data": {
      "text/plain": "  domain_code                 domain  area_code_(m49)         area  \\\n0         FBS  Food Balances (2010-)                4  Afghanistan   \n1         FBS  Food Balances (2010-)                4  Afghanistan   \n2         FBS  Food Balances (2010-)                4  Afghanistan   \n3         FBS  Food Balances (2010-)                4  Afghanistan   \n4         FBS  Food Balances (2010-)                4  Afghanistan   \n\n   element_code                                 element item_code_(cpc)  \\\n0           645     Food supply quantity (kg/capita/yr)           S2511   \n1           645     Food supply quantity (kg/capita/yr)           S2511   \n2           664           Food supply (kcal/capita/day)           S2511   \n3           664           Food supply (kcal/capita/day)           S2511   \n4           674  Protein supply quantity (g/capita/day)           S2511   \n\n                 item  year_code  year             unit    value flag  \\\n0  Wheat and products       2018  2018               kg   160.12    E   \n1  Wheat and products       2019  2019               kg   158.95    E   \n2  Wheat and products       2018  2018  kcal/capita/day  1372.02    E   \n3  Wheat and products       2019  2019  kcal/capita/day  1361.66    E   \n4  Wheat and products       2018  2018     g/capita/day    37.00    E   \n\n  flag_description  \n0  Estimated value  \n1  Estimated value  \n2  Estimated value  \n3  Estimated value  \n4  Estimated value  ",
      "text/html": "<div>\n<style scoped>\n    .dataframe tbody tr th:only-of-type {\n        vertical-align: middle;\n    }\n\n    .dataframe tbody tr th {\n        vertical-align: top;\n    }\n\n    .dataframe thead th {\n        text-align: right;\n    }\n</style>\n<table border=\"1\" class=\"dataframe\">\n  <thead>\n    <tr style=\"text-align: right;\">\n      <th></th>\n      <th>domain_code</th>\n      <th>domain</th>\n      <th>area_code_(m49)</th>\n      <th>area</th>\n      <th>element_code</th>\n      <th>element</th>\n      <th>item_code_(cpc)</th>\n      <th>item</th>\n      <th>year_code</th>\n      <th>year</th>\n      <th>unit</th>\n      <th>value</th>\n      <th>flag</th>\n      <th>flag_description</th>\n    </tr>\n  </thead>\n  <tbody>\n    <tr>\n      <th>0</th>\n      <td>FBS</td>\n      <td>Food Balances (2010-)</td>\n      <td>4</td>\n      <td>Afghanistan</td>\n      <td>645</td>\n      <td>Food supply quantity (kg/capita/yr)</td>\n      <td>S2511</td>\n      <td>Wheat and products</td>\n      <td>2018</td>\n      <td>2018</td>\n      <td>kg</td>\n      <td>160.12</td>\n      <td>E</td>\n      <td>Estimated value</td>\n    </tr>\n    <tr>\n      <th>1</th>\n      <td>FBS</td>\n      <td>Food Balances (2010-)</td>\n      <td>4</td>\n      <td>Afghanistan</td>\n      <td>645</td>\n      <td>Food supply quantity (kg/capita/yr)</td>\n      <td>S2511</td>\n      <td>Wheat and products</td>\n      <td>2019</td>\n      <td>2019</td>\n      <td>kg</td>\n      <td>158.95</td>\n      <td>E</td>\n      <td>Estimated value</td>\n    </tr>\n    <tr>\n      <th>2</th>\n      <td>FBS</td>\n      <td>Food Balances (2010-)</td>\n      <td>4</td>\n      <td>Afghanistan</td>\n      <td>664</td>\n      <td>Food supply (kcal/capita/day)</td>\n      <td>S2511</td>\n      <td>Wheat and products</td>\n      <td>2018</td>\n      <td>2018</td>\n      <td>kcal/capita/day</td>\n      <td>1372.02</td>\n      <td>E</td>\n      <td>Estimated value</td>\n    </tr>\n    <tr>\n      <th>3</th>\n      <td>FBS</td>\n      <td>Food Balances (2010-)</td>\n      <td>4</td>\n      <td>Afghanistan</td>\n      <td>664</td>\n      <td>Food supply (kcal/capita/day)</td>\n      <td>S2511</td>\n      <td>Wheat and products</td>\n      <td>2019</td>\n      <td>2019</td>\n      <td>kcal/capita/day</td>\n      <td>1361.66</td>\n      <td>E</td>\n      <td>Estimated value</td>\n    </tr>\n    <tr>\n      <th>4</th>\n      <td>FBS</td>\n      <td>Food Balances (2010-)</td>\n      <td>4</td>\n      <td>Afghanistan</td>\n      <td>674</td>\n      <td>Protein supply quantity (g/capita/day)</td>\n      <td>S2511</td>\n      <td>Wheat and products</td>\n      <td>2018</td>\n      <td>2018</td>\n      <td>g/capita/day</td>\n      <td>37.00</td>\n      <td>E</td>\n      <td>Estimated value</td>\n    </tr>\n  </tbody>\n</table>\n</div>"
     },
     "execution_count": 263,
     "metadata": {},
     "output_type": "execute_result"
    }
   ],
   "source": [
    "vegetal_df.head()"
   ],
   "metadata": {
    "collapsed": false
   }
  },
  {
   "cell_type": "code",
   "execution_count": 264,
   "outputs": [
    {
     "data": {
      "text/plain": "  domain_code                 domain  area_code_(m49)         area  \\\n0         FBS  Food Balances (2010-)                4  Afghanistan   \n1         FBS  Food Balances (2010-)                4  Afghanistan   \n2         FBS  Food Balances (2010-)                8      Albania   \n3         FBS  Food Balances (2010-)                8      Albania   \n4         FBS  Food Balances (2010-)               12      Algeria   \n\n   element_code                        element item_code_(cpc)        item  \\\n0           511  Total Population - Both sexes           S2501  Population   \n1           511  Total Population - Both sexes           S2501  Population   \n2           511  Total Population - Both sexes           S2501  Population   \n3           511  Total Population - Both sexes           S2501  Population   \n4           511  Total Population - Both sexes           S2501  Population   \n\n   year_code  year          unit     value flag  \\\n0       2018  2018  1000 persons  37172.00    X   \n1       2019  2019  1000 persons  38041.75    X   \n2       2018  2018  1000 persons   2883.00    X   \n3       2019  2019  1000 persons   2880.92    X   \n4       2018  2018  1000 persons  42228.00    X   \n\n                          flag_description  \n0  Figure from international organizations  \n1  Figure from international organizations  \n2  Figure from international organizations  \n3  Figure from international organizations  \n4  Figure from international organizations  ",
      "text/html": "<div>\n<style scoped>\n    .dataframe tbody tr th:only-of-type {\n        vertical-align: middle;\n    }\n\n    .dataframe tbody tr th {\n        vertical-align: top;\n    }\n\n    .dataframe thead th {\n        text-align: right;\n    }\n</style>\n<table border=\"1\" class=\"dataframe\">\n  <thead>\n    <tr style=\"text-align: right;\">\n      <th></th>\n      <th>domain_code</th>\n      <th>domain</th>\n      <th>area_code_(m49)</th>\n      <th>area</th>\n      <th>element_code</th>\n      <th>element</th>\n      <th>item_code_(cpc)</th>\n      <th>item</th>\n      <th>year_code</th>\n      <th>year</th>\n      <th>unit</th>\n      <th>value</th>\n      <th>flag</th>\n      <th>flag_description</th>\n    </tr>\n  </thead>\n  <tbody>\n    <tr>\n      <th>0</th>\n      <td>FBS</td>\n      <td>Food Balances (2010-)</td>\n      <td>4</td>\n      <td>Afghanistan</td>\n      <td>511</td>\n      <td>Total Population - Both sexes</td>\n      <td>S2501</td>\n      <td>Population</td>\n      <td>2018</td>\n      <td>2018</td>\n      <td>1000 persons</td>\n      <td>37172.00</td>\n      <td>X</td>\n      <td>Figure from international organizations</td>\n    </tr>\n    <tr>\n      <th>1</th>\n      <td>FBS</td>\n      <td>Food Balances (2010-)</td>\n      <td>4</td>\n      <td>Afghanistan</td>\n      <td>511</td>\n      <td>Total Population - Both sexes</td>\n      <td>S2501</td>\n      <td>Population</td>\n      <td>2019</td>\n      <td>2019</td>\n      <td>1000 persons</td>\n      <td>38041.75</td>\n      <td>X</td>\n      <td>Figure from international organizations</td>\n    </tr>\n    <tr>\n      <th>2</th>\n      <td>FBS</td>\n      <td>Food Balances (2010-)</td>\n      <td>8</td>\n      <td>Albania</td>\n      <td>511</td>\n      <td>Total Population - Both sexes</td>\n      <td>S2501</td>\n      <td>Population</td>\n      <td>2018</td>\n      <td>2018</td>\n      <td>1000 persons</td>\n      <td>2883.00</td>\n      <td>X</td>\n      <td>Figure from international organizations</td>\n    </tr>\n    <tr>\n      <th>3</th>\n      <td>FBS</td>\n      <td>Food Balances (2010-)</td>\n      <td>8</td>\n      <td>Albania</td>\n      <td>511</td>\n      <td>Total Population - Both sexes</td>\n      <td>S2501</td>\n      <td>Population</td>\n      <td>2019</td>\n      <td>2019</td>\n      <td>1000 persons</td>\n      <td>2880.92</td>\n      <td>X</td>\n      <td>Figure from international organizations</td>\n    </tr>\n    <tr>\n      <th>4</th>\n      <td>FBS</td>\n      <td>Food Balances (2010-)</td>\n      <td>12</td>\n      <td>Algeria</td>\n      <td>511</td>\n      <td>Total Population - Both sexes</td>\n      <td>S2501</td>\n      <td>Population</td>\n      <td>2018</td>\n      <td>2018</td>\n      <td>1000 persons</td>\n      <td>42228.00</td>\n      <td>X</td>\n      <td>Figure from international organizations</td>\n    </tr>\n  </tbody>\n</table>\n</div>"
     },
     "execution_count": 264,
     "metadata": {},
     "output_type": "execute_result"
    }
   ],
   "source": [
    "population_df.head()"
   ],
   "metadata": {
    "collapsed": false
   }
  },
  {
   "cell_type": "markdown",
   "source": [
    "### Question 4 :"
   ],
   "metadata": {
    "collapsed": false
   }
  },
  {
   "cell_type": "code",
   "execution_count": 265,
   "outputs": [],
   "source": [
    "# Ajout de la colonne type aux datasets animal & vegetal\n",
    "animal_df = animal_df.assign(type='animal')\n",
    "vegetal_df = vegetal_df.assign(type='vegetal')"
   ],
   "metadata": {
    "collapsed": false
   }
  },
  {
   "cell_type": "code",
   "execution_count": 266,
   "outputs": [],
   "source": [
    "# Assemblage des deux datasets animal et vegetal\n",
    "product_df = pd.concat([animal_df, vegetal_df], ignore_index=True)"
   ],
   "metadata": {
    "collapsed": false
   }
  },
  {
   "cell_type": "code",
   "execution_count": 267,
   "outputs": [
    {
     "data": {
      "text/plain": "      domain_code                 domain  area_code_(m49)  \\\n56576         FBS  Food Balances (2010-)              212   \n20060         FBS  Food Balances (2010-)              528   \n59551         FBS  Food Balances (2010-)              233   \n81957         FBS  Food Balances (2010-)              450   \n15712         FBS  Food Balances (2010-)              418   \n\n                                   area  element_code  \\\n56576                          Dominica           684   \n20060                       Netherlands           684   \n59551                           Estonia           684   \n81957                        Madagascar           684   \n15712  Lao People's Democratic Republic           664   \n\n                                  element item_code_(cpc)  \\\n56576  Fat supply quantity (g/capita/day)           S2531   \n20060  Fat supply quantity (g/capita/day)           S2762   \n59551  Fat supply quantity (g/capita/day)           S2680   \n81957  Fat supply quantity (g/capita/day)           S2517   \n15712       Food supply (kcal/capita/day)           S2737   \n\n                        item  year_code  year             unit  value flag  \\\n56576  Potatoes and products       2018  2018     g/capita/day   0.04    E   \n20060          Demersal Fish       2019  2019     g/capita/day   0.38    E   \n59551            Infant food       2019  2019     g/capita/day   0.00    E   \n81957    Millet and products       2018  2018     g/capita/day   0.00    E   \n15712     Fats, Animals, Raw       2019  2019  kcal/capita/day  33.08    E   \n\n      flag_description     type  \n56576  Estimated value  vegetal  \n20060  Estimated value   animal  \n59551  Estimated value  vegetal  \n81957  Estimated value  vegetal  \n15712  Estimated value   animal  ",
      "text/html": "<div>\n<style scoped>\n    .dataframe tbody tr th:only-of-type {\n        vertical-align: middle;\n    }\n\n    .dataframe tbody tr th {\n        vertical-align: top;\n    }\n\n    .dataframe thead th {\n        text-align: right;\n    }\n</style>\n<table border=\"1\" class=\"dataframe\">\n  <thead>\n    <tr style=\"text-align: right;\">\n      <th></th>\n      <th>domain_code</th>\n      <th>domain</th>\n      <th>area_code_(m49)</th>\n      <th>area</th>\n      <th>element_code</th>\n      <th>element</th>\n      <th>item_code_(cpc)</th>\n      <th>item</th>\n      <th>year_code</th>\n      <th>year</th>\n      <th>unit</th>\n      <th>value</th>\n      <th>flag</th>\n      <th>flag_description</th>\n      <th>type</th>\n    </tr>\n  </thead>\n  <tbody>\n    <tr>\n      <th>56576</th>\n      <td>FBS</td>\n      <td>Food Balances (2010-)</td>\n      <td>212</td>\n      <td>Dominica</td>\n      <td>684</td>\n      <td>Fat supply quantity (g/capita/day)</td>\n      <td>S2531</td>\n      <td>Potatoes and products</td>\n      <td>2018</td>\n      <td>2018</td>\n      <td>g/capita/day</td>\n      <td>0.04</td>\n      <td>E</td>\n      <td>Estimated value</td>\n      <td>vegetal</td>\n    </tr>\n    <tr>\n      <th>20060</th>\n      <td>FBS</td>\n      <td>Food Balances (2010-)</td>\n      <td>528</td>\n      <td>Netherlands</td>\n      <td>684</td>\n      <td>Fat supply quantity (g/capita/day)</td>\n      <td>S2762</td>\n      <td>Demersal Fish</td>\n      <td>2019</td>\n      <td>2019</td>\n      <td>g/capita/day</td>\n      <td>0.38</td>\n      <td>E</td>\n      <td>Estimated value</td>\n      <td>animal</td>\n    </tr>\n    <tr>\n      <th>59551</th>\n      <td>FBS</td>\n      <td>Food Balances (2010-)</td>\n      <td>233</td>\n      <td>Estonia</td>\n      <td>684</td>\n      <td>Fat supply quantity (g/capita/day)</td>\n      <td>S2680</td>\n      <td>Infant food</td>\n      <td>2019</td>\n      <td>2019</td>\n      <td>g/capita/day</td>\n      <td>0.00</td>\n      <td>E</td>\n      <td>Estimated value</td>\n      <td>vegetal</td>\n    </tr>\n    <tr>\n      <th>81957</th>\n      <td>FBS</td>\n      <td>Food Balances (2010-)</td>\n      <td>450</td>\n      <td>Madagascar</td>\n      <td>684</td>\n      <td>Fat supply quantity (g/capita/day)</td>\n      <td>S2517</td>\n      <td>Millet and products</td>\n      <td>2018</td>\n      <td>2018</td>\n      <td>g/capita/day</td>\n      <td>0.00</td>\n      <td>E</td>\n      <td>Estimated value</td>\n      <td>vegetal</td>\n    </tr>\n    <tr>\n      <th>15712</th>\n      <td>FBS</td>\n      <td>Food Balances (2010-)</td>\n      <td>418</td>\n      <td>Lao People's Democratic Republic</td>\n      <td>664</td>\n      <td>Food supply (kcal/capita/day)</td>\n      <td>S2737</td>\n      <td>Fats, Animals, Raw</td>\n      <td>2019</td>\n      <td>2019</td>\n      <td>kcal/capita/day</td>\n      <td>33.08</td>\n      <td>E</td>\n      <td>Estimated value</td>\n      <td>animal</td>\n    </tr>\n  </tbody>\n</table>\n</div>"
     },
     "execution_count": 267,
     "metadata": {},
     "output_type": "execute_result"
    }
   ],
   "source": [
    "# Vérification du nouveau dataset\n",
    "product_df.sample(n=5)"
   ],
   "metadata": {
    "collapsed": false
   }
  },
  {
   "cell_type": "markdown",
   "source": [
    "### Question 5 :"
   ],
   "metadata": {
    "collapsed": false
   }
  },
  {
   "cell_type": "code",
   "execution_count": 268,
   "outputs": [
    {
     "data": {
      "text/plain": "     area_code_(m49)                         area  year     value\n345              834  United Republic of Tanzania  2019  58005.46\n88               203                      Czechia  2018  10666.00\n6                 24                       Angola  2018  30810.00\n63               152                        Chile  2019  18952.04\n76               178                        Congo  2018   5244.00",
      "text/html": "<div>\n<style scoped>\n    .dataframe tbody tr th:only-of-type {\n        vertical-align: middle;\n    }\n\n    .dataframe tbody tr th {\n        vertical-align: top;\n    }\n\n    .dataframe thead th {\n        text-align: right;\n    }\n</style>\n<table border=\"1\" class=\"dataframe\">\n  <thead>\n    <tr style=\"text-align: right;\">\n      <th></th>\n      <th>area_code_(m49)</th>\n      <th>area</th>\n      <th>year</th>\n      <th>value</th>\n    </tr>\n  </thead>\n  <tbody>\n    <tr>\n      <th>345</th>\n      <td>834</td>\n      <td>United Republic of Tanzania</td>\n      <td>2019</td>\n      <td>58005.46</td>\n    </tr>\n    <tr>\n      <th>88</th>\n      <td>203</td>\n      <td>Czechia</td>\n      <td>2018</td>\n      <td>10666.00</td>\n    </tr>\n    <tr>\n      <th>6</th>\n      <td>24</td>\n      <td>Angola</td>\n      <td>2018</td>\n      <td>30810.00</td>\n    </tr>\n    <tr>\n      <th>63</th>\n      <td>152</td>\n      <td>Chile</td>\n      <td>2019</td>\n      <td>18952.04</td>\n    </tr>\n    <tr>\n      <th>76</th>\n      <td>178</td>\n      <td>Congo</td>\n      <td>2018</td>\n      <td>5244.00</td>\n    </tr>\n  </tbody>\n</table>\n</div>"
     },
     "execution_count": 268,
     "metadata": {},
     "output_type": "execute_result"
    }
   ],
   "source": [
    "# Changement du dataset population\n",
    "population_df = population_df.drop(['domain_code', 'domain', 'element_code', 'element', 'item_code_(cpc)', 'item', 'year_code', 'unit', 'flag', 'flag_description'], axis=1)\n",
    "population_df.sample(n=5)"
   ],
   "metadata": {
    "collapsed": false
   }
  },
  {
   "cell_type": "code",
   "execution_count": 269,
   "outputs": [
    {
     "data": {
      "text/plain": "     area_code_(m49)         area  year  pop_1000_hab\n262              616       Poland  2018      37922.00\n214              484       Mexico  2018     126191.00\n265              620     Portugal  2019      10226.19\n307              724        Spain  2019      46736.78\n316              756  Switzerland  2018       8526.00",
      "text/html": "<div>\n<style scoped>\n    .dataframe tbody tr th:only-of-type {\n        vertical-align: middle;\n    }\n\n    .dataframe tbody tr th {\n        vertical-align: top;\n    }\n\n    .dataframe thead th {\n        text-align: right;\n    }\n</style>\n<table border=\"1\" class=\"dataframe\">\n  <thead>\n    <tr style=\"text-align: right;\">\n      <th></th>\n      <th>area_code_(m49)</th>\n      <th>area</th>\n      <th>year</th>\n      <th>pop_1000_hab</th>\n    </tr>\n  </thead>\n  <tbody>\n    <tr>\n      <th>262</th>\n      <td>616</td>\n      <td>Poland</td>\n      <td>2018</td>\n      <td>37922.00</td>\n    </tr>\n    <tr>\n      <th>214</th>\n      <td>484</td>\n      <td>Mexico</td>\n      <td>2018</td>\n      <td>126191.00</td>\n    </tr>\n    <tr>\n      <th>265</th>\n      <td>620</td>\n      <td>Portugal</td>\n      <td>2019</td>\n      <td>10226.19</td>\n    </tr>\n    <tr>\n      <th>307</th>\n      <td>724</td>\n      <td>Spain</td>\n      <td>2019</td>\n      <td>46736.78</td>\n    </tr>\n    <tr>\n      <th>316</th>\n      <td>756</td>\n      <td>Switzerland</td>\n      <td>2018</td>\n      <td>8526.00</td>\n    </tr>\n  </tbody>\n</table>\n</div>"
     },
     "execution_count": 269,
     "metadata": {},
     "output_type": "execute_result"
    }
   ],
   "source": [
    "population_df = population_df.rename(columns={'value': 'pop_1000_hab'})\n",
    "population_df.sample(n=5)"
   ],
   "metadata": {
    "collapsed": false
   }
  },
  {
   "cell_type": "markdown",
   "source": [
    "### Question 6 :\n",
    "afin de ne garder que les colonnes area_code_(fao), area, element, item, year, type, unit."
   ],
   "metadata": {
    "collapsed": false
   }
  },
  {
   "cell_type": "code",
   "execution_count": 270,
   "outputs": [
    {
     "data": {
      "text/plain": "        area_code_(m49)      area                              element  \\\n113730              764  Thailand  Food supply quantity (kg/capita/yr)   \n73100               376    Israel   Fat supply quantity (g/capita/day)   \n17884               466      Mali   Fat supply quantity (g/capita/day)   \n95586               586  Pakistan        Food supply (kcal/capita/day)   \n28076               768      Togo        Food supply (kcal/capita/day)   \n\n                          item  year             unit   value     type  \n113730  Sugar (Raw Equivalent)  2019               kg   38.67  vegetal  \n73100            Groundnut Oil  2019     g/capita/day    0.00  vegetal  \n17884           Aquatic Plants  2019     g/capita/day    0.00   animal  \n95586                 Palm Oil  2018  kcal/capita/day  197.54  vegetal  \n28076                  Pigmeat  2018  kcal/capita/day   21.67   animal  ",
      "text/html": "<div>\n<style scoped>\n    .dataframe tbody tr th:only-of-type {\n        vertical-align: middle;\n    }\n\n    .dataframe tbody tr th {\n        vertical-align: top;\n    }\n\n    .dataframe thead th {\n        text-align: right;\n    }\n</style>\n<table border=\"1\" class=\"dataframe\">\n  <thead>\n    <tr style=\"text-align: right;\">\n      <th></th>\n      <th>area_code_(m49)</th>\n      <th>area</th>\n      <th>element</th>\n      <th>item</th>\n      <th>year</th>\n      <th>unit</th>\n      <th>value</th>\n      <th>type</th>\n    </tr>\n  </thead>\n  <tbody>\n    <tr>\n      <th>113730</th>\n      <td>764</td>\n      <td>Thailand</td>\n      <td>Food supply quantity (kg/capita/yr)</td>\n      <td>Sugar (Raw Equivalent)</td>\n      <td>2019</td>\n      <td>kg</td>\n      <td>38.67</td>\n      <td>vegetal</td>\n    </tr>\n    <tr>\n      <th>73100</th>\n      <td>376</td>\n      <td>Israel</td>\n      <td>Fat supply quantity (g/capita/day)</td>\n      <td>Groundnut Oil</td>\n      <td>2019</td>\n      <td>g/capita/day</td>\n      <td>0.00</td>\n      <td>vegetal</td>\n    </tr>\n    <tr>\n      <th>17884</th>\n      <td>466</td>\n      <td>Mali</td>\n      <td>Fat supply quantity (g/capita/day)</td>\n      <td>Aquatic Plants</td>\n      <td>2019</td>\n      <td>g/capita/day</td>\n      <td>0.00</td>\n      <td>animal</td>\n    </tr>\n    <tr>\n      <th>95586</th>\n      <td>586</td>\n      <td>Pakistan</td>\n      <td>Food supply (kcal/capita/day)</td>\n      <td>Palm Oil</td>\n      <td>2018</td>\n      <td>kcal/capita/day</td>\n      <td>197.54</td>\n      <td>vegetal</td>\n    </tr>\n    <tr>\n      <th>28076</th>\n      <td>768</td>\n      <td>Togo</td>\n      <td>Food supply (kcal/capita/day)</td>\n      <td>Pigmeat</td>\n      <td>2018</td>\n      <td>kcal/capita/day</td>\n      <td>21.67</td>\n      <td>animal</td>\n    </tr>\n  </tbody>\n</table>\n</div>"
     },
     "execution_count": 270,
     "metadata": {},
     "output_type": "execute_result"
    }
   ],
   "source": [
    "product_df = product_df.drop(['domain_code', 'domain', 'element_code', 'item_code_(cpc)', 'year_code', 'flag', 'flag_description'], axis=1)\n",
    "product_df.sample(n=5)"
   ],
   "metadata": {
    "collapsed": false
   }
  },
  {
   "cell_type": "markdown",
   "source": [
    "### Question 7 :"
   ],
   "metadata": {
    "collapsed": false
   }
  },
  {
   "cell_type": "code",
   "execution_count": 271,
   "outputs": [
    {
     "data": {
      "text/plain": "   area_code_(m49)         area  year  pop_1000_hab  \\\n0                4  Afghanistan  2018       37172.0   \n1                4  Afghanistan  2018       37172.0   \n2                4  Afghanistan  2018       37172.0   \n3                4  Afghanistan  2018       37172.0   \n4                4  Afghanistan  2018       37172.0   \n\n                                  element                item  \\\n0     Food supply quantity (kg/capita/yr)         Bovine Meat   \n1           Food supply (kcal/capita/day)         Bovine Meat   \n2  Protein supply quantity (g/capita/day)         Bovine Meat   \n3      Fat supply quantity (g/capita/day)         Bovine Meat   \n4     Food supply quantity (kg/capita/yr)  Mutton & Goat Meat   \n\n              unit  value    type  \n0               kg   2.62  animal  \n1  kcal/capita/day  15.42  animal  \n2     g/capita/day   1.09  animal  \n3     g/capita/day   1.20  animal  \n4               kg   4.26  animal  ",
      "text/html": "<div>\n<style scoped>\n    .dataframe tbody tr th:only-of-type {\n        vertical-align: middle;\n    }\n\n    .dataframe tbody tr th {\n        vertical-align: top;\n    }\n\n    .dataframe thead th {\n        text-align: right;\n    }\n</style>\n<table border=\"1\" class=\"dataframe\">\n  <thead>\n    <tr style=\"text-align: right;\">\n      <th></th>\n      <th>area_code_(m49)</th>\n      <th>area</th>\n      <th>year</th>\n      <th>pop_1000_hab</th>\n      <th>element</th>\n      <th>item</th>\n      <th>unit</th>\n      <th>value</th>\n      <th>type</th>\n    </tr>\n  </thead>\n  <tbody>\n    <tr>\n      <th>0</th>\n      <td>4</td>\n      <td>Afghanistan</td>\n      <td>2018</td>\n      <td>37172.0</td>\n      <td>Food supply quantity (kg/capita/yr)</td>\n      <td>Bovine Meat</td>\n      <td>kg</td>\n      <td>2.62</td>\n      <td>animal</td>\n    </tr>\n    <tr>\n      <th>1</th>\n      <td>4</td>\n      <td>Afghanistan</td>\n      <td>2018</td>\n      <td>37172.0</td>\n      <td>Food supply (kcal/capita/day)</td>\n      <td>Bovine Meat</td>\n      <td>kcal/capita/day</td>\n      <td>15.42</td>\n      <td>animal</td>\n    </tr>\n    <tr>\n      <th>2</th>\n      <td>4</td>\n      <td>Afghanistan</td>\n      <td>2018</td>\n      <td>37172.0</td>\n      <td>Protein supply quantity (g/capita/day)</td>\n      <td>Bovine Meat</td>\n      <td>g/capita/day</td>\n      <td>1.09</td>\n      <td>animal</td>\n    </tr>\n    <tr>\n      <th>3</th>\n      <td>4</td>\n      <td>Afghanistan</td>\n      <td>2018</td>\n      <td>37172.0</td>\n      <td>Fat supply quantity (g/capita/day)</td>\n      <td>Bovine Meat</td>\n      <td>g/capita/day</td>\n      <td>1.20</td>\n      <td>animal</td>\n    </tr>\n    <tr>\n      <th>4</th>\n      <td>4</td>\n      <td>Afghanistan</td>\n      <td>2018</td>\n      <td>37172.0</td>\n      <td>Food supply quantity (kg/capita/yr)</td>\n      <td>Mutton &amp; Goat Meat</td>\n      <td>kg</td>\n      <td>4.26</td>\n      <td>animal</td>\n    </tr>\n  </tbody>\n</table>\n</div>"
     },
     "execution_count": 271,
     "metadata": {},
     "output_type": "execute_result"
    }
   ],
   "source": [
    "# Fusion des deux jeux de données\n",
    "general_df = pd.merge(population_df, product_df)\n",
    "general_df.head()"
   ],
   "metadata": {
    "collapsed": false
   }
  },
  {
   "cell_type": "code",
   "execution_count": 272,
   "outputs": [
    {
     "data": {
      "text/plain": "   area_country      country  year  pop_1000_hab  \\\n0             4  Afghanistan  2018       37172.0   \n1             4  Afghanistan  2018       37172.0   \n2             4  Afghanistan  2018       37172.0   \n3             4  Afghanistan  2018       37172.0   \n4             4  Afghanistan  2018       37172.0   \n\n                                  element                item  \\\n0     Food supply quantity (kg/capita/yr)         Bovine Meat   \n1           Food supply (kcal/capita/day)         Bovine Meat   \n2  Protein supply quantity (g/capita/day)         Bovine Meat   \n3      Fat supply quantity (g/capita/day)         Bovine Meat   \n4     Food supply quantity (kg/capita/yr)  Mutton & Goat Meat   \n\n              unit  value    type  \n0               kg   2.62  animal  \n1  kcal/capita/day  15.42  animal  \n2     g/capita/day   1.09  animal  \n3     g/capita/day   1.20  animal  \n4               kg   4.26  animal  ",
      "text/html": "<div>\n<style scoped>\n    .dataframe tbody tr th:only-of-type {\n        vertical-align: middle;\n    }\n\n    .dataframe tbody tr th {\n        vertical-align: top;\n    }\n\n    .dataframe thead th {\n        text-align: right;\n    }\n</style>\n<table border=\"1\" class=\"dataframe\">\n  <thead>\n    <tr style=\"text-align: right;\">\n      <th></th>\n      <th>area_country</th>\n      <th>country</th>\n      <th>year</th>\n      <th>pop_1000_hab</th>\n      <th>element</th>\n      <th>item</th>\n      <th>unit</th>\n      <th>value</th>\n      <th>type</th>\n    </tr>\n  </thead>\n  <tbody>\n    <tr>\n      <th>0</th>\n      <td>4</td>\n      <td>Afghanistan</td>\n      <td>2018</td>\n      <td>37172.0</td>\n      <td>Food supply quantity (kg/capita/yr)</td>\n      <td>Bovine Meat</td>\n      <td>kg</td>\n      <td>2.62</td>\n      <td>animal</td>\n    </tr>\n    <tr>\n      <th>1</th>\n      <td>4</td>\n      <td>Afghanistan</td>\n      <td>2018</td>\n      <td>37172.0</td>\n      <td>Food supply (kcal/capita/day)</td>\n      <td>Bovine Meat</td>\n      <td>kcal/capita/day</td>\n      <td>15.42</td>\n      <td>animal</td>\n    </tr>\n    <tr>\n      <th>2</th>\n      <td>4</td>\n      <td>Afghanistan</td>\n      <td>2018</td>\n      <td>37172.0</td>\n      <td>Protein supply quantity (g/capita/day)</td>\n      <td>Bovine Meat</td>\n      <td>g/capita/day</td>\n      <td>1.09</td>\n      <td>animal</td>\n    </tr>\n    <tr>\n      <th>3</th>\n      <td>4</td>\n      <td>Afghanistan</td>\n      <td>2018</td>\n      <td>37172.0</td>\n      <td>Fat supply quantity (g/capita/day)</td>\n      <td>Bovine Meat</td>\n      <td>g/capita/day</td>\n      <td>1.20</td>\n      <td>animal</td>\n    </tr>\n    <tr>\n      <th>4</th>\n      <td>4</td>\n      <td>Afghanistan</td>\n      <td>2018</td>\n      <td>37172.0</td>\n      <td>Food supply quantity (kg/capita/yr)</td>\n      <td>Mutton &amp; Goat Meat</td>\n      <td>kg</td>\n      <td>4.26</td>\n      <td>animal</td>\n    </tr>\n  </tbody>\n</table>\n</div>"
     },
     "execution_count": 272,
     "metadata": {},
     "output_type": "execute_result"
    }
   ],
   "source": [
    "# Renommage de colonnes\n",
    "general_df = general_df.rename(columns={'area_code_(m49)': 'area_country', 'area': 'country'})\n",
    "general_df.head()"
   ],
   "metadata": {
    "collapsed": false
   }
  },
  {
   "cell_type": "markdown",
   "source": [
    "### Question 8 :"
   ],
   "metadata": {
    "collapsed": false
   }
  },
  {
   "cell_type": "code",
   "execution_count": 273,
   "outputs": [
    {
     "data": {
      "text/plain": "area_country      int64\ncountry          object\nyear              int64\npop_1000_hab    float64\nelement          object\nitem             object\nunit             object\nvalue           float64\ntype             object\ndtype: object"
     },
     "execution_count": 273,
     "metadata": {},
     "output_type": "execute_result"
    }
   ],
   "source": [
    "# Vérification des types de données\n",
    "general_df.dtypes"
   ],
   "metadata": {
    "collapsed": false
   }
  },
  {
   "cell_type": "markdown",
   "source": [
    "### Question 9 :"
   ],
   "metadata": {
    "collapsed": false
   }
  },
  {
   "cell_type": "code",
   "execution_count": 274,
   "outputs": [
    {
     "data": {
      "text/plain": "area_country    0\ncountry         0\nyear            0\npop_1000_hab    0\nelement         0\nitem            0\nunit            0\nvalue           0\ntype            0\ndtype: int64"
     },
     "execution_count": 274,
     "metadata": {},
     "output_type": "execute_result"
    }
   ],
   "source": [
    "# Vérification de valeurs manquantes\n",
    "general_df.isna().sum()"
   ],
   "metadata": {
    "collapsed": false
   }
  },
  {
   "cell_type": "markdown",
   "source": [
    "### Question 10 :"
   ],
   "metadata": {
    "collapsed": false
   }
  },
  {
   "cell_type": "code",
   "execution_count": 275,
   "outputs": [
    {
     "data": {
      "text/plain": "        area_country           year  pop_1000_hab          value\ncount  124256.000000  124256.000000  1.242560e+05  124256.000000\nmean      426.895868    2018.508635  4.298225e+04      10.994490\nstd       250.624782       0.499927  1.525786e+05      56.186085\nmin         4.000000    2018.000000  1.076000e+01      -0.030000\n25%       208.000000    2018.000000  2.801000e+03       0.000000\n50%       418.000000    2019.000000  9.949540e+03       0.190000\n75%       642.000000    2019.000000  3.081000e+04       2.790000\nmax       894.000000    2019.000000  1.433784e+06    1779.760000",
      "text/html": "<div>\n<style scoped>\n    .dataframe tbody tr th:only-of-type {\n        vertical-align: middle;\n    }\n\n    .dataframe tbody tr th {\n        vertical-align: top;\n    }\n\n    .dataframe thead th {\n        text-align: right;\n    }\n</style>\n<table border=\"1\" class=\"dataframe\">\n  <thead>\n    <tr style=\"text-align: right;\">\n      <th></th>\n      <th>area_country</th>\n      <th>year</th>\n      <th>pop_1000_hab</th>\n      <th>value</th>\n    </tr>\n  </thead>\n  <tbody>\n    <tr>\n      <th>count</th>\n      <td>124256.000000</td>\n      <td>124256.000000</td>\n      <td>1.242560e+05</td>\n      <td>124256.000000</td>\n    </tr>\n    <tr>\n      <th>mean</th>\n      <td>426.895868</td>\n      <td>2018.508635</td>\n      <td>4.298225e+04</td>\n      <td>10.994490</td>\n    </tr>\n    <tr>\n      <th>std</th>\n      <td>250.624782</td>\n      <td>0.499927</td>\n      <td>1.525786e+05</td>\n      <td>56.186085</td>\n    </tr>\n    <tr>\n      <th>min</th>\n      <td>4.000000</td>\n      <td>2018.000000</td>\n      <td>1.076000e+01</td>\n      <td>-0.030000</td>\n    </tr>\n    <tr>\n      <th>25%</th>\n      <td>208.000000</td>\n      <td>2018.000000</td>\n      <td>2.801000e+03</td>\n      <td>0.000000</td>\n    </tr>\n    <tr>\n      <th>50%</th>\n      <td>418.000000</td>\n      <td>2019.000000</td>\n      <td>9.949540e+03</td>\n      <td>0.190000</td>\n    </tr>\n    <tr>\n      <th>75%</th>\n      <td>642.000000</td>\n      <td>2019.000000</td>\n      <td>3.081000e+04</td>\n      <td>2.790000</td>\n    </tr>\n    <tr>\n      <th>max</th>\n      <td>894.000000</td>\n      <td>2019.000000</td>\n      <td>1.433784e+06</td>\n      <td>1779.760000</td>\n    </tr>\n  </tbody>\n</table>\n</div>"
     },
     "execution_count": 275,
     "metadata": {},
     "output_type": "execute_result"
    }
   ],
   "source": [
    "# Vérification de certaines valeurs négatives, aberrantes\n",
    "general_df.describe()"
   ],
   "metadata": {
    "collapsed": false
   }
  },
  {
   "cell_type": "markdown",
   "source": [
    "### Question 11 :"
   ],
   "metadata": {
    "collapsed": false
   }
  },
  {
   "cell_type": "code",
   "execution_count": 276,
   "outputs": [
    {
     "data": {
      "text/plain": "array(['Afghanistan', 'Albania', 'Algeria', 'Angola',\n       'Antigua and Barbuda', 'Argentina', 'Armenia', 'Australia',\n       'Austria', 'Azerbaijan', 'Bahamas', 'Bahrain', 'Bangladesh',\n       'Barbados', 'Belarus', 'Belgium', 'Belize', 'Benin', 'Bhutan',\n       'Bolivia (Plurinational State of)', 'Bosnia and Herzegovina',\n       'Botswana', 'Brazil', 'Bulgaria', 'Burkina Faso', 'Burundi',\n       'Cabo Verde', 'Cambodia', 'Cameroon', 'Canada',\n       'Central African Republic', 'Chad', 'Chile',\n       'China, Hong Kong SAR', 'China, Macao SAR', 'China, mainland',\n       'China, Taiwan Province of', 'Colombia', 'Comoros', 'Congo',\n       'Costa Rica', \"Côte d'Ivoire\", 'Croatia', 'Cuba', 'Cyprus',\n       'Czechia', \"Democratic People's Republic of Korea\",\n       'Democratic Republic of the Congo', 'Denmark', 'Djibouti',\n       'Dominica', 'Dominican Republic', 'Ecuador', 'Egypt',\n       'El Salvador', 'Estonia', 'Eswatini', 'Ethiopia', 'Fiji',\n       'Finland', 'France', 'French Polynesia', 'Gabon', 'Gambia',\n       'Georgia', 'Germany', 'Ghana', 'Greece', 'Grenada', 'Guatemala',\n       'Guinea', 'Guinea-Bissau', 'Guyana', 'Haiti', 'Honduras',\n       'Hungary', 'Iceland', 'India', 'Indonesia',\n       'Iran (Islamic Republic of)', 'Iraq', 'Ireland', 'Israel', 'Italy',\n       'Jamaica', 'Japan', 'Jordan', 'Kazakhstan', 'Kenya', 'Kiribati',\n       'Kuwait', 'Kyrgyzstan', \"Lao People's Democratic Republic\",\n       'Latvia', 'Lebanon', 'Lesotho', 'Liberia', 'Libya', 'Lithuania',\n       'Luxembourg', 'Madagascar', 'Malawi', 'Malaysia', 'Maldives',\n       'Mali', 'Malta', 'Mauritania', 'Mauritius', 'Mexico',\n       'Micronesia (Federated States of)', 'Mongolia', 'Montenegro',\n       'Morocco', 'Mozambique', 'Myanmar', 'Namibia', 'Nauru', 'Nepal',\n       'Netherlands', 'New Caledonia', 'New Zealand', 'Nicaragua',\n       'Niger', 'Nigeria', 'North Macedonia', 'Norway', 'Oman',\n       'Pakistan', 'Panama', 'Papua New Guinea', 'Paraguay', 'Peru',\n       'Philippines', 'Poland', 'Portugal', 'Qatar', 'Republic of Korea',\n       'Republic of Moldova', 'Romania', 'Russian Federation', 'Rwanda',\n       'Saint Kitts and Nevis', 'Saint Lucia',\n       'Saint Vincent and the Grenadines', 'Samoa',\n       'Sao Tome and Principe', 'Saudi Arabia', 'Senegal', 'Serbia',\n       'Seychelles', 'Sierra Leone', 'Slovakia', 'Slovenia',\n       'Solomon Islands', 'South Africa', 'South Sudan', 'Spain',\n       'Sri Lanka', 'Sudan', 'Suriname', 'Sweden', 'Switzerland',\n       'Syrian Arab Republic', 'Tajikistan', 'Thailand', 'Timor-Leste',\n       'Togo', 'Trinidad and Tobago', 'Tunisia', 'Türkiye',\n       'Turkmenistan', 'Uganda', 'Ukraine', 'United Arab Emirates',\n       'United Kingdom of Great Britain and Northern Ireland',\n       'United Republic of Tanzania', 'United States of America',\n       'Uruguay', 'Uzbekistan', 'Vanuatu',\n       'Venezuela (Bolivarian Republic of)', 'Viet Nam', 'Yemen',\n       'Zambia', 'Zimbabwe'], dtype=object)"
     },
     "execution_count": 276,
     "metadata": {},
     "output_type": "execute_result"
    }
   ],
   "source": [
    "# Affichage des valeurs uniques de 'country'\n",
    "general_df['country'].unique()"
   ],
   "metadata": {
    "collapsed": false
   }
  },
  {
   "cell_type": "markdown",
   "source": [
    "### Question 12 :"
   ],
   "metadata": {
    "collapsed": false
   }
  },
  {
   "cell_type": "code",
   "execution_count": 277,
   "outputs": [],
   "source": [
    "# Pas besoin de faire cette étape."
   ],
   "metadata": {
    "collapsed": false
   }
  },
  {
   "cell_type": "markdown",
   "source": [
    "### Question 13 :"
   ],
   "metadata": {
    "collapsed": false
   }
  },
  {
   "cell_type": "code",
   "execution_count": 278,
   "outputs": [
    {
     "data": {
      "text/plain": "                                                                                                                     element  \\\narea_country country                     year pop_1000_hab type    item                                                        \n104          Myanmar                     2018 53708.00     animal  Molluscs, Other             Food supply (kcal/capita/day)   \n348          Hungary                     2019 9684.68      vegetal Vegetables, other      Fat supply quantity (g/capita/day)   \n496          Mongolia                    2019 3225.17      animal  Aquatic Plants        Food supply quantity (kg/capita/yr)   \n834          United Republic of Tanzania 2019 58005.46     vegetal Sunflower seed     Protein supply quantity (g/capita/day)   \n686          Senegal                     2018 15854.00     vegetal Palmkernel Oil        Food supply quantity (kg/capita/yr)   \n\n                                                                                                 unit  \\\narea_country country                     year pop_1000_hab type    item                                 \n104          Myanmar                     2018 53708.00     animal  Molluscs, Other    kcal/capita/day   \n348          Hungary                     2019 9684.68      vegetal Vegetables, other     g/capita/day   \n496          Mongolia                    2019 3225.17      animal  Aquatic Plants                  kg   \n834          United Republic of Tanzania 2019 58005.46     vegetal Sunflower seed        g/capita/day   \n686          Senegal                     2018 15854.00     vegetal Palmkernel Oil                  kg   \n\n                                                                                      value  \narea_country country                     year pop_1000_hab type    item                      \n104          Myanmar                     2018 53708.00     animal  Molluscs, Other      0.0  \n348          Hungary                     2019 9684.68      vegetal Vegetables, other    0.5  \n496          Mongolia                    2019 3225.17      animal  Aquatic Plants       0.0  \n834          United Republic of Tanzania 2019 58005.46     vegetal Sunflower seed       0.1  \n686          Senegal                     2018 15854.00     vegetal Palmkernel Oil       0.0  ",
      "text/html": "<div>\n<style scoped>\n    .dataframe tbody tr th:only-of-type {\n        vertical-align: middle;\n    }\n\n    .dataframe tbody tr th {\n        vertical-align: top;\n    }\n\n    .dataframe thead th {\n        text-align: right;\n    }\n</style>\n<table border=\"1\" class=\"dataframe\">\n  <thead>\n    <tr style=\"text-align: right;\">\n      <th></th>\n      <th></th>\n      <th></th>\n      <th></th>\n      <th></th>\n      <th></th>\n      <th>element</th>\n      <th>unit</th>\n      <th>value</th>\n    </tr>\n    <tr>\n      <th>area_country</th>\n      <th>country</th>\n      <th>year</th>\n      <th>pop_1000_hab</th>\n      <th>type</th>\n      <th>item</th>\n      <th></th>\n      <th></th>\n      <th></th>\n    </tr>\n  </thead>\n  <tbody>\n    <tr>\n      <th>104</th>\n      <th>Myanmar</th>\n      <th>2018</th>\n      <th>53708.00</th>\n      <th>animal</th>\n      <th>Molluscs, Other</th>\n      <td>Food supply (kcal/capita/day)</td>\n      <td>kcal/capita/day</td>\n      <td>0.0</td>\n    </tr>\n    <tr>\n      <th>348</th>\n      <th>Hungary</th>\n      <th>2019</th>\n      <th>9684.68</th>\n      <th>vegetal</th>\n      <th>Vegetables, other</th>\n      <td>Fat supply quantity (g/capita/day)</td>\n      <td>g/capita/day</td>\n      <td>0.5</td>\n    </tr>\n    <tr>\n      <th>496</th>\n      <th>Mongolia</th>\n      <th>2019</th>\n      <th>3225.17</th>\n      <th>animal</th>\n      <th>Aquatic Plants</th>\n      <td>Food supply quantity (kg/capita/yr)</td>\n      <td>kg</td>\n      <td>0.0</td>\n    </tr>\n    <tr>\n      <th>834</th>\n      <th>United Republic of Tanzania</th>\n      <th>2019</th>\n      <th>58005.46</th>\n      <th>vegetal</th>\n      <th>Sunflower seed</th>\n      <td>Protein supply quantity (g/capita/day)</td>\n      <td>g/capita/day</td>\n      <td>0.1</td>\n    </tr>\n    <tr>\n      <th>686</th>\n      <th>Senegal</th>\n      <th>2018</th>\n      <th>15854.00</th>\n      <th>vegetal</th>\n      <th>Palmkernel Oil</th>\n      <td>Food supply quantity (kg/capita/yr)</td>\n      <td>kg</td>\n      <td>0.0</td>\n    </tr>\n  </tbody>\n</table>\n</div>"
     },
     "execution_count": 278,
     "metadata": {},
     "output_type": "execute_result"
    }
   ],
   "source": [
    "# Réindexation du dataframe\n",
    "general_df = general_df.set_index(['area_country', 'country', 'year', 'pop_1000_hab', 'type', 'item'])\n",
    "general_df.sample(n=5)"
   ],
   "metadata": {
    "collapsed": false
   }
  },
  {
   "cell_type": "code",
   "execution_count": 279,
   "outputs": [],
   "source": [
    "general_wide_df = general_df.pivot_table(index=['area_country', 'country', 'year', 'pop_1000_hab', 'type', 'item'], columns='element', values='value')"
   ],
   "metadata": {
    "collapsed": false
   }
  },
  {
   "cell_type": "code",
   "execution_count": 280,
   "outputs": [
    {
     "data": {
      "text/plain": "element                                                          Fat supply quantity (g/capita/day)  \\\narea_country country     year pop_1000_hab type   item                                                \n4            Afghanistan 2018 37172.0      animal Bovine Meat                                  1.20   \n                                                  Butter, Ghee                                 2.50   \n                                                  Cream                                        0.02   \n                                                  Demersal Fish                                0.00   \n                                                  Eggs                                         0.44   \n\nelement                                                          Food supply (kcal/capita/day)  \\\narea_country country     year pop_1000_hab type   item                                           \n4            Afghanistan 2018 37172.0      animal Bovine Meat                            15.42   \n                                                  Butter, Ghee                           22.14   \n                                                  Cream                                   0.23   \n                                                  Demersal Fish                           0.13   \n                                                  Eggs                                    6.06   \n\nelement                                                          Food supply quantity (kg/capita/yr)  \\\narea_country country     year pop_1000_hab type   item                                                 \n4            Afghanistan 2018 37172.0      animal Bovine Meat                                   2.62   \n                                                  Butter, Ghee                                  1.00   \n                                                  Cream                                         0.04   \n                                                  Demersal Fish                                 0.15   \n                                                  Eggs                                          1.55   \n\nelement                                                          Protein supply quantity (g/capita/day)  \narea_country country     year pop_1000_hab type   item                                                   \n4            Afghanistan 2018 37172.0      animal Bovine Meat                                      1.09  \n                                                  Butter, Ghee                                     0.03  \n                                                  Cream                                            0.00  \n                                                  Demersal Fish                                    0.03  \n                                                  Eggs                                             0.45  ",
      "text/html": "<div>\n<style scoped>\n    .dataframe tbody tr th:only-of-type {\n        vertical-align: middle;\n    }\n\n    .dataframe tbody tr th {\n        vertical-align: top;\n    }\n\n    .dataframe thead th {\n        text-align: right;\n    }\n</style>\n<table border=\"1\" class=\"dataframe\">\n  <thead>\n    <tr style=\"text-align: right;\">\n      <th></th>\n      <th></th>\n      <th></th>\n      <th></th>\n      <th></th>\n      <th>element</th>\n      <th>Fat supply quantity (g/capita/day)</th>\n      <th>Food supply (kcal/capita/day)</th>\n      <th>Food supply quantity (kg/capita/yr)</th>\n      <th>Protein supply quantity (g/capita/day)</th>\n    </tr>\n    <tr>\n      <th>area_country</th>\n      <th>country</th>\n      <th>year</th>\n      <th>pop_1000_hab</th>\n      <th>type</th>\n      <th>item</th>\n      <th></th>\n      <th></th>\n      <th></th>\n      <th></th>\n    </tr>\n  </thead>\n  <tbody>\n    <tr>\n      <th rowspan=\"5\" valign=\"top\">4</th>\n      <th rowspan=\"5\" valign=\"top\">Afghanistan</th>\n      <th rowspan=\"5\" valign=\"top\">2018</th>\n      <th rowspan=\"5\" valign=\"top\">37172.0</th>\n      <th rowspan=\"5\" valign=\"top\">animal</th>\n      <th>Bovine Meat</th>\n      <td>1.20</td>\n      <td>15.42</td>\n      <td>2.62</td>\n      <td>1.09</td>\n    </tr>\n    <tr>\n      <th>Butter, Ghee</th>\n      <td>2.50</td>\n      <td>22.14</td>\n      <td>1.00</td>\n      <td>0.03</td>\n    </tr>\n    <tr>\n      <th>Cream</th>\n      <td>0.02</td>\n      <td>0.23</td>\n      <td>0.04</td>\n      <td>0.00</td>\n    </tr>\n    <tr>\n      <th>Demersal Fish</th>\n      <td>0.00</td>\n      <td>0.13</td>\n      <td>0.15</td>\n      <td>0.03</td>\n    </tr>\n    <tr>\n      <th>Eggs</th>\n      <td>0.44</td>\n      <td>6.06</td>\n      <td>1.55</td>\n      <td>0.45</td>\n    </tr>\n  </tbody>\n</table>\n</div>"
     },
     "execution_count": 280,
     "metadata": {},
     "output_type": "execute_result"
    }
   ],
   "source": [
    "general_wide_df.head()"
   ],
   "metadata": {
    "collapsed": false
   }
  },
  {
   "cell_type": "code",
   "execution_count": 281,
   "outputs": [],
   "source": [
    "#general_wide_df = general_wide_df.drop('index', axis=1)"
   ],
   "metadata": {
    "collapsed": false
   }
  },
  {
   "cell_type": "code",
   "execution_count": 282,
   "outputs": [],
   "source": [
    "general_wide_df = general_wide_df.reset_index()"
   ],
   "metadata": {
    "collapsed": false
   }
  },
  {
   "cell_type": "code",
   "execution_count": 283,
   "outputs": [
    {
     "data": {
      "text/plain": "element  area_country      country  year  pop_1000_hab     type  \\\n0                   4  Afghanistan  2018      37172.00   animal   \n1                   4  Afghanistan  2018      37172.00   animal   \n2                   4  Afghanistan  2018      37172.00   animal   \n3                   4  Afghanistan  2018      37172.00   animal   \n4                   4  Afghanistan  2018      37172.00   animal   \n...               ...          ...   ...           ...      ...   \n31237             894       Zambia  2019      17861.03  vegetal   \n31238             894       Zambia  2019      17861.03  vegetal   \n31239             894       Zambia  2019      17861.03  vegetal   \n31240             894       Zambia  2019      17861.03  vegetal   \n31241             894       Zambia  2019      17861.03  vegetal   \n\nelement                   item  Fat supply quantity (g/capita/day)  \\\n0                  Bovine Meat                                1.20   \n1                 Butter, Ghee                                2.50   \n2                        Cream                                0.02   \n3                Demersal Fish                                0.00   \n4                         Eggs                                0.44   \n...                        ...                                 ...   \n31237     Tea (including mate)                                0.00   \n31238    Tomatoes and products                                0.01   \n31239        Vegetables, other                                0.10   \n31240       Wheat and products                                0.26   \n31241                     Wine                                0.00   \n\nelement  Food supply (kcal/capita/day)  Food supply quantity (kg/capita/yr)  \\\n0                                15.42                                 2.62   \n1                                22.14                                 1.00   \n2                                 0.23                                 0.04   \n3                                 0.13                                 0.15   \n4                                 6.06                                 1.55   \n...                                ...                                  ...   \n31237                             0.12                                 0.11   \n31238                             0.78                                 1.40   \n31239                            12.54                                17.94   \n31240                            62.61                                 7.58   \n31241                             0.28                                 0.15   \n\nelement  Protein supply quantity (g/capita/day)  \n0                                          1.09  \n1                                          0.03  \n2                                          0.00  \n3                                          0.03  \n4                                          0.45  \n...                                         ...  \n31237                                      0.03  \n31238                                      0.04  \n31239                                      0.72  \n31240                                      1.86  \n31241                                      0.00  \n\n[31242 rows x 10 columns]",
      "text/html": "<div>\n<style scoped>\n    .dataframe tbody tr th:only-of-type {\n        vertical-align: middle;\n    }\n\n    .dataframe tbody tr th {\n        vertical-align: top;\n    }\n\n    .dataframe thead th {\n        text-align: right;\n    }\n</style>\n<table border=\"1\" class=\"dataframe\">\n  <thead>\n    <tr style=\"text-align: right;\">\n      <th>element</th>\n      <th>area_country</th>\n      <th>country</th>\n      <th>year</th>\n      <th>pop_1000_hab</th>\n      <th>type</th>\n      <th>item</th>\n      <th>Fat supply quantity (g/capita/day)</th>\n      <th>Food supply (kcal/capita/day)</th>\n      <th>Food supply quantity (kg/capita/yr)</th>\n      <th>Protein supply quantity (g/capita/day)</th>\n    </tr>\n  </thead>\n  <tbody>\n    <tr>\n      <th>0</th>\n      <td>4</td>\n      <td>Afghanistan</td>\n      <td>2018</td>\n      <td>37172.00</td>\n      <td>animal</td>\n      <td>Bovine Meat</td>\n      <td>1.20</td>\n      <td>15.42</td>\n      <td>2.62</td>\n      <td>1.09</td>\n    </tr>\n    <tr>\n      <th>1</th>\n      <td>4</td>\n      <td>Afghanistan</td>\n      <td>2018</td>\n      <td>37172.00</td>\n      <td>animal</td>\n      <td>Butter, Ghee</td>\n      <td>2.50</td>\n      <td>22.14</td>\n      <td>1.00</td>\n      <td>0.03</td>\n    </tr>\n    <tr>\n      <th>2</th>\n      <td>4</td>\n      <td>Afghanistan</td>\n      <td>2018</td>\n      <td>37172.00</td>\n      <td>animal</td>\n      <td>Cream</td>\n      <td>0.02</td>\n      <td>0.23</td>\n      <td>0.04</td>\n      <td>0.00</td>\n    </tr>\n    <tr>\n      <th>3</th>\n      <td>4</td>\n      <td>Afghanistan</td>\n      <td>2018</td>\n      <td>37172.00</td>\n      <td>animal</td>\n      <td>Demersal Fish</td>\n      <td>0.00</td>\n      <td>0.13</td>\n      <td>0.15</td>\n      <td>0.03</td>\n    </tr>\n    <tr>\n      <th>4</th>\n      <td>4</td>\n      <td>Afghanistan</td>\n      <td>2018</td>\n      <td>37172.00</td>\n      <td>animal</td>\n      <td>Eggs</td>\n      <td>0.44</td>\n      <td>6.06</td>\n      <td>1.55</td>\n      <td>0.45</td>\n    </tr>\n    <tr>\n      <th>...</th>\n      <td>...</td>\n      <td>...</td>\n      <td>...</td>\n      <td>...</td>\n      <td>...</td>\n      <td>...</td>\n      <td>...</td>\n      <td>...</td>\n      <td>...</td>\n      <td>...</td>\n    </tr>\n    <tr>\n      <th>31237</th>\n      <td>894</td>\n      <td>Zambia</td>\n      <td>2019</td>\n      <td>17861.03</td>\n      <td>vegetal</td>\n      <td>Tea (including mate)</td>\n      <td>0.00</td>\n      <td>0.12</td>\n      <td>0.11</td>\n      <td>0.03</td>\n    </tr>\n    <tr>\n      <th>31238</th>\n      <td>894</td>\n      <td>Zambia</td>\n      <td>2019</td>\n      <td>17861.03</td>\n      <td>vegetal</td>\n      <td>Tomatoes and products</td>\n      <td>0.01</td>\n      <td>0.78</td>\n      <td>1.40</td>\n      <td>0.04</td>\n    </tr>\n    <tr>\n      <th>31239</th>\n      <td>894</td>\n      <td>Zambia</td>\n      <td>2019</td>\n      <td>17861.03</td>\n      <td>vegetal</td>\n      <td>Vegetables, other</td>\n      <td>0.10</td>\n      <td>12.54</td>\n      <td>17.94</td>\n      <td>0.72</td>\n    </tr>\n    <tr>\n      <th>31240</th>\n      <td>894</td>\n      <td>Zambia</td>\n      <td>2019</td>\n      <td>17861.03</td>\n      <td>vegetal</td>\n      <td>Wheat and products</td>\n      <td>0.26</td>\n      <td>62.61</td>\n      <td>7.58</td>\n      <td>1.86</td>\n    </tr>\n    <tr>\n      <th>31241</th>\n      <td>894</td>\n      <td>Zambia</td>\n      <td>2019</td>\n      <td>17861.03</td>\n      <td>vegetal</td>\n      <td>Wine</td>\n      <td>0.00</td>\n      <td>0.28</td>\n      <td>0.15</td>\n      <td>0.00</td>\n    </tr>\n  </tbody>\n</table>\n<p>31242 rows × 10 columns</p>\n</div>"
     },
     "execution_count": 283,
     "metadata": {},
     "output_type": "execute_result"
    }
   ],
   "source": [
    "general_wide_df"
   ],
   "metadata": {
    "collapsed": false
   }
  },
  {
   "cell_type": "markdown",
   "source": [
    "### Question 14 :"
   ],
   "metadata": {
    "collapsed": false
   }
  },
  {
   "cell_type": "code",
   "execution_count": 284,
   "outputs": [
    {
     "data": {
      "text/plain": "element  area_country               country  year  pop_1000_hab     type  \\\n11495             324                Guinea  2019      12771.25  vegetal   \n20903             558             Nicaragua  2019       6545.50  vegetal   \n27364             760  Syrian Arab Republic  2018      16945.00  vegetal   \n7901              208               Denmark  2019       5771.88  vegetal   \n27194             756           Switzerland  2018       8526.00  vegetal   \n\nelement                        item  fat_supply_quantity_(g/capita/day)  \\\n11495           Apples and products                                0.00   \n20903                 Spices, Other                                0.00   \n27364            Maize and products                                0.35   \n7901                          Dates                                0.01   \n27194    Lemons, Limes and products                                0.02   \n\nelement  food_supply_(kcal/capita/day)  food_supply_quantity_(kg/capita/yr)  \\\n11495                             0.11                                 0.09   \n20903                             0.27                                 0.04   \n27364                            38.80                                 4.60   \n7901                              3.07                                 0.45   \n27194                             0.86                                 1.85   \n\nelement  protein_supply_quantity_(g/capita/day)  \n11495                                      0.00  \n20903                                      0.01  \n27364                                      0.75  \n7901                                       0.02  \n27194                                      0.02  ",
      "text/html": "<div>\n<style scoped>\n    .dataframe tbody tr th:only-of-type {\n        vertical-align: middle;\n    }\n\n    .dataframe tbody tr th {\n        vertical-align: top;\n    }\n\n    .dataframe thead th {\n        text-align: right;\n    }\n</style>\n<table border=\"1\" class=\"dataframe\">\n  <thead>\n    <tr style=\"text-align: right;\">\n      <th>element</th>\n      <th>area_country</th>\n      <th>country</th>\n      <th>year</th>\n      <th>pop_1000_hab</th>\n      <th>type</th>\n      <th>item</th>\n      <th>fat_supply_quantity_(g/capita/day)</th>\n      <th>food_supply_(kcal/capita/day)</th>\n      <th>food_supply_quantity_(kg/capita/yr)</th>\n      <th>protein_supply_quantity_(g/capita/day)</th>\n    </tr>\n  </thead>\n  <tbody>\n    <tr>\n      <th>11495</th>\n      <td>324</td>\n      <td>Guinea</td>\n      <td>2019</td>\n      <td>12771.25</td>\n      <td>vegetal</td>\n      <td>Apples and products</td>\n      <td>0.00</td>\n      <td>0.11</td>\n      <td>0.09</td>\n      <td>0.00</td>\n    </tr>\n    <tr>\n      <th>20903</th>\n      <td>558</td>\n      <td>Nicaragua</td>\n      <td>2019</td>\n      <td>6545.50</td>\n      <td>vegetal</td>\n      <td>Spices, Other</td>\n      <td>0.00</td>\n      <td>0.27</td>\n      <td>0.04</td>\n      <td>0.01</td>\n    </tr>\n    <tr>\n      <th>27364</th>\n      <td>760</td>\n      <td>Syrian Arab Republic</td>\n      <td>2018</td>\n      <td>16945.00</td>\n      <td>vegetal</td>\n      <td>Maize and products</td>\n      <td>0.35</td>\n      <td>38.80</td>\n      <td>4.60</td>\n      <td>0.75</td>\n    </tr>\n    <tr>\n      <th>7901</th>\n      <td>208</td>\n      <td>Denmark</td>\n      <td>2019</td>\n      <td>5771.88</td>\n      <td>vegetal</td>\n      <td>Dates</td>\n      <td>0.01</td>\n      <td>3.07</td>\n      <td>0.45</td>\n      <td>0.02</td>\n    </tr>\n    <tr>\n      <th>27194</th>\n      <td>756</td>\n      <td>Switzerland</td>\n      <td>2018</td>\n      <td>8526.00</td>\n      <td>vegetal</td>\n      <td>Lemons, Limes and products</td>\n      <td>0.02</td>\n      <td>0.86</td>\n      <td>1.85</td>\n      <td>0.02</td>\n    </tr>\n  </tbody>\n</table>\n</div>"
     },
     "execution_count": 284,
     "metadata": {},
     "output_type": "execute_result"
    }
   ],
   "source": [
    "# Renommage des colonnes\n",
    "general_wide_df = general_wide_df.rename(columns=lambda x: x.lower().replace(' ', '_'))\n",
    "general_wide_df.sample(n=5)"
   ],
   "metadata": {
    "collapsed": false
   }
  },
  {
   "cell_type": "code",
   "execution_count": 285,
   "outputs": [
    {
     "data": {
      "text/plain": "(31242, 10)"
     },
     "execution_count": 285,
     "metadata": {},
     "output_type": "execute_result"
    }
   ],
   "source": [
    "general_wide_df.shape"
   ],
   "metadata": {
    "collapsed": false
   }
  },
  {
   "cell_type": "markdown",
   "source": [
    "### Question 15 :"
   ],
   "metadata": {
    "collapsed": false
   }
  },
  {
   "cell_type": "code",
   "execution_count": 286,
   "outputs": [],
   "source": [
    "# Création d'un masque\n",
    "mask = general_wide_df['year'] == 2018"
   ],
   "metadata": {
    "collapsed": false
   }
  },
  {
   "cell_type": "code",
   "execution_count": 287,
   "outputs": [
    {
     "data": {
      "text/plain": "element  area_country      country  year  pop_1000_hab     type  \\\n0                   4  Afghanistan  2018       37172.0   animal   \n1                   4  Afghanistan  2018       37172.0   animal   \n2                   4  Afghanistan  2018       37172.0   animal   \n3                   4  Afghanistan  2018       37172.0   animal   \n4                   4  Afghanistan  2018       37172.0   animal   \n...               ...          ...   ...           ...      ...   \n31148             894       Zambia  2018       17352.0  vegetal   \n31149             894       Zambia  2018       17352.0  vegetal   \n31150             894       Zambia  2018       17352.0  vegetal   \n31151             894       Zambia  2018       17352.0  vegetal   \n31152             894       Zambia  2018       17352.0  vegetal   \n\nelement                   item  fat_supply_quantity_(g/capita/day)  \\\n0                  Bovine Meat                                1.20   \n1                 Butter, Ghee                                2.50   \n2                        Cream                                0.02   \n3                Demersal Fish                                0.00   \n4                         Eggs                                0.44   \n...                        ...                                 ...   \n31148     Tea (including mate)                                0.00   \n31149    Tomatoes and products                                0.01   \n31150        Vegetables, other                                0.12   \n31151       Wheat and products                                0.24   \n31152                     Wine                                0.00   \n\nelement  food_supply_(kcal/capita/day)  food_supply_quantity_(kg/capita/yr)  \\\n0                                15.42                                 2.62   \n1                                22.14                                 1.00   \n2                                 0.23                                 0.04   \n3                                 0.13                                 0.15   \n4                                 6.06                                 1.55   \n...                                ...                                  ...   \n31148                             0.13                                 0.12   \n31149                             0.78                                 1.42   \n31150                            13.90                                20.58   \n31151                            65.75                                 8.12   \n31152                             0.35                                 0.19   \n\nelement  protein_supply_quantity_(g/capita/day)  \n0                                          1.09  \n1                                          0.03  \n2                                          0.00  \n3                                          0.03  \n4                                          0.45  \n...                                         ...  \n31148                                      0.03  \n31149                                      0.04  \n31150                                      0.82  \n31151                                      1.98  \n31152                                      0.00  \n\n[15346 rows x 10 columns]",
      "text/html": "<div>\n<style scoped>\n    .dataframe tbody tr th:only-of-type {\n        vertical-align: middle;\n    }\n\n    .dataframe tbody tr th {\n        vertical-align: top;\n    }\n\n    .dataframe thead th {\n        text-align: right;\n    }\n</style>\n<table border=\"1\" class=\"dataframe\">\n  <thead>\n    <tr style=\"text-align: right;\">\n      <th>element</th>\n      <th>area_country</th>\n      <th>country</th>\n      <th>year</th>\n      <th>pop_1000_hab</th>\n      <th>type</th>\n      <th>item</th>\n      <th>fat_supply_quantity_(g/capita/day)</th>\n      <th>food_supply_(kcal/capita/day)</th>\n      <th>food_supply_quantity_(kg/capita/yr)</th>\n      <th>protein_supply_quantity_(g/capita/day)</th>\n    </tr>\n  </thead>\n  <tbody>\n    <tr>\n      <th>0</th>\n      <td>4</td>\n      <td>Afghanistan</td>\n      <td>2018</td>\n      <td>37172.0</td>\n      <td>animal</td>\n      <td>Bovine Meat</td>\n      <td>1.20</td>\n      <td>15.42</td>\n      <td>2.62</td>\n      <td>1.09</td>\n    </tr>\n    <tr>\n      <th>1</th>\n      <td>4</td>\n      <td>Afghanistan</td>\n      <td>2018</td>\n      <td>37172.0</td>\n      <td>animal</td>\n      <td>Butter, Ghee</td>\n      <td>2.50</td>\n      <td>22.14</td>\n      <td>1.00</td>\n      <td>0.03</td>\n    </tr>\n    <tr>\n      <th>2</th>\n      <td>4</td>\n      <td>Afghanistan</td>\n      <td>2018</td>\n      <td>37172.0</td>\n      <td>animal</td>\n      <td>Cream</td>\n      <td>0.02</td>\n      <td>0.23</td>\n      <td>0.04</td>\n      <td>0.00</td>\n    </tr>\n    <tr>\n      <th>3</th>\n      <td>4</td>\n      <td>Afghanistan</td>\n      <td>2018</td>\n      <td>37172.0</td>\n      <td>animal</td>\n      <td>Demersal Fish</td>\n      <td>0.00</td>\n      <td>0.13</td>\n      <td>0.15</td>\n      <td>0.03</td>\n    </tr>\n    <tr>\n      <th>4</th>\n      <td>4</td>\n      <td>Afghanistan</td>\n      <td>2018</td>\n      <td>37172.0</td>\n      <td>animal</td>\n      <td>Eggs</td>\n      <td>0.44</td>\n      <td>6.06</td>\n      <td>1.55</td>\n      <td>0.45</td>\n    </tr>\n    <tr>\n      <th>...</th>\n      <td>...</td>\n      <td>...</td>\n      <td>...</td>\n      <td>...</td>\n      <td>...</td>\n      <td>...</td>\n      <td>...</td>\n      <td>...</td>\n      <td>...</td>\n      <td>...</td>\n    </tr>\n    <tr>\n      <th>31148</th>\n      <td>894</td>\n      <td>Zambia</td>\n      <td>2018</td>\n      <td>17352.0</td>\n      <td>vegetal</td>\n      <td>Tea (including mate)</td>\n      <td>0.00</td>\n      <td>0.13</td>\n      <td>0.12</td>\n      <td>0.03</td>\n    </tr>\n    <tr>\n      <th>31149</th>\n      <td>894</td>\n      <td>Zambia</td>\n      <td>2018</td>\n      <td>17352.0</td>\n      <td>vegetal</td>\n      <td>Tomatoes and products</td>\n      <td>0.01</td>\n      <td>0.78</td>\n      <td>1.42</td>\n      <td>0.04</td>\n    </tr>\n    <tr>\n      <th>31150</th>\n      <td>894</td>\n      <td>Zambia</td>\n      <td>2018</td>\n      <td>17352.0</td>\n      <td>vegetal</td>\n      <td>Vegetables, other</td>\n      <td>0.12</td>\n      <td>13.90</td>\n      <td>20.58</td>\n      <td>0.82</td>\n    </tr>\n    <tr>\n      <th>31151</th>\n      <td>894</td>\n      <td>Zambia</td>\n      <td>2018</td>\n      <td>17352.0</td>\n      <td>vegetal</td>\n      <td>Wheat and products</td>\n      <td>0.24</td>\n      <td>65.75</td>\n      <td>8.12</td>\n      <td>1.98</td>\n    </tr>\n    <tr>\n      <th>31152</th>\n      <td>894</td>\n      <td>Zambia</td>\n      <td>2018</td>\n      <td>17352.0</td>\n      <td>vegetal</td>\n      <td>Wine</td>\n      <td>0.00</td>\n      <td>0.35</td>\n      <td>0.19</td>\n      <td>0.00</td>\n    </tr>\n  </tbody>\n</table>\n<p>15346 rows × 10 columns</p>\n</div>"
     },
     "execution_count": 287,
     "metadata": {},
     "output_type": "execute_result"
    }
   ],
   "source": [
    "# Application du masque\n",
    "general_wide_df_2018 = general_wide_df.loc[mask]\n",
    "general_wide_df_2018"
   ],
   "metadata": {
    "collapsed": false
   }
  },
  {
   "cell_type": "markdown",
   "source": [
    "### Question 16 :"
   ],
   "metadata": {
    "collapsed": false
   }
  },
  {
   "cell_type": "code",
   "execution_count": 288,
   "outputs": [],
   "source": [
    "#general_wide_df = pd.merge(general_wide_df, df_zones_geo, on='area_country')"
   ],
   "metadata": {
    "collapsed": false
   }
  },
  {
   "cell_type": "markdown",
   "source": [
    "### Question 17 :"
   ],
   "metadata": {
    "collapsed": false
   }
  },
  {
   "cell_type": "markdown",
   "source": [
    "Ici nous avons un échantillon de 31 020 données. Avec une moyenne de 1.07(gr/capita/day) gramme par personne et par jour. Cette valeur peut paraître inexacte, car l'écart-type de 3.48 montre une disparité des données. Il faut aussi prendre en compte que les valeurs varient considérablement, avec un minimum de 0 et un maximum de 83.77 grammes par personne et par jour. Les quartiles montrent parfaitement cette répartition peu uniformisée : le premier quartile est de 0(gr/capita/day), la médiane est de 0.03(gr/capita/day), et le troisième quartile est de 0.36(gr/capita/day).\n",
    "\n",
    "Je pense que nous avons une présence de valeurs aberrantes."
   ],
   "metadata": {
    "collapsed": false
   }
  },
  {
   "cell_type": "code",
   "execution_count": 289,
   "outputs": [
    {
     "data": {
      "text/plain": "count    31020.000000\nmean         1.072028\nstd          3.484045\nmin          0.000000\n25%          0.000000\n50%          0.030000\n75%          0.360000\nmax         83.770000\nName: fat_supply_quantity_(g/capita/day), dtype: float64"
     },
     "execution_count": 289,
     "metadata": {},
     "output_type": "execute_result"
    }
   ],
   "source": [
    "general_wide_df['fat_supply_quantity_(g/capita/day)'].describe()"
   ],
   "metadata": {
    "collapsed": false
   }
  },
  {
   "cell_type": "code",
   "execution_count": 290,
   "outputs": [],
   "source": [
    "#general_wide_df.columns"
   ],
   "metadata": {
    "collapsed": false
   }
  },
  {
   "cell_type": "markdown",
   "source": [
    "### Question 18 :"
   ],
   "metadata": {
    "collapsed": false
   }
  },
  {
   "cell_type": "code",
   "execution_count": 291,
   "outputs": [
    {
     "data": {
      "text/plain": "<Figure size 640x480 with 1 Axes>",
      "image/png": "[encoded data removed]"
     },
     "metadata": {},
     "output_type": "display_data"
    },
    {
     "data": {
      "text/plain": "<Figure size 640x480 with 1 Axes>",
      "image/png": "[encoded data removed]"
     },
     "metadata": {},
     "output_type": "display_data"
    },
    {
     "ename": "KeyError",
     "evalue": "'general_wide_df.columns'",
     "output_type": "error",
     "traceback": [
      "\u001B[0;31m---------------------------------------------------------------------------\u001B[0m",
      "\u001B[0;31mKeyError\u001B[0m                                  Traceback (most recent call last)",
      "File \u001B[0;32m~/miniconda3/envs/Pandas/lib/python3.10/site-packages/pandas/core/indexes/base.py:3803\u001B[0m, in \u001B[0;36mIndex.get_loc\u001B[0;34m(self, key, method, tolerance)\u001B[0m\n\u001B[1;32m   3802\u001B[0m \u001B[38;5;28;01mtry\u001B[39;00m:\n\u001B[0;32m-> 3803\u001B[0m     \u001B[38;5;28;01mreturn\u001B[39;00m \u001B[38;5;28;43mself\u001B[39;49m\u001B[38;5;241;43m.\u001B[39;49m\u001B[43m_engine\u001B[49m\u001B[38;5;241;43m.\u001B[39;49m\u001B[43mget_loc\u001B[49m\u001B[43m(\u001B[49m\u001B[43mcasted_key\u001B[49m\u001B[43m)\u001B[49m\n\u001B[1;32m   3804\u001B[0m \u001B[38;5;28;01mexcept\u001B[39;00m \u001B[38;5;167;01mKeyError\u001B[39;00m \u001B[38;5;28;01mas\u001B[39;00m err:\n",
      "File \u001B[0;32m~/miniconda3/envs/Pandas/lib/python3.10/site-packages/pandas/_libs/index.pyx:138\u001B[0m, in \u001B[0;36mpandas._libs.index.IndexEngine.get_loc\u001B[0;34m()\u001B[0m\n",
      "File \u001B[0;32m~/miniconda3/envs/Pandas/lib/python3.10/site-packages/pandas/_libs/index.pyx:165\u001B[0m, in \u001B[0;36mpandas._libs.index.IndexEngine.get_loc\u001B[0;34m()\u001B[0m\n",
      "File \u001B[0;32mpandas/_libs/hashtable_class_helper.pxi:5745\u001B[0m, in \u001B[0;36mpandas._libs.hashtable.PyObjectHashTable.get_item\u001B[0;34m()\u001B[0m\n",
      "File \u001B[0;32mpandas/_libs/hashtable_class_helper.pxi:5753\u001B[0m, in \u001B[0;36mpandas._libs.hashtable.PyObjectHashTable.get_item\u001B[0;34m()\u001B[0m\n",
      "\u001B[0;31mKeyError\u001B[0m: 'general_wide_df.columns'",
      "\nThe above exception was the direct cause of the following exception:\n",
      "\u001B[0;31mKeyError\u001B[0m                                  Traceback (most recent call last)",
      "Cell \u001B[0;32mIn[291], line 5\u001B[0m\n\u001B[1;32m      2\u001B[0m num_cols \u001B[38;5;241m=\u001B[39m [\u001B[38;5;124m'\u001B[39m\u001B[38;5;124mpop_1000_hab\u001B[39m\u001B[38;5;124m'\u001B[39m, \u001B[38;5;124m'\u001B[39m\u001B[38;5;124mfat_supply_quantity_(g/capita/day)\u001B[39m\u001B[38;5;124m'\u001B[39m, \u001B[38;5;124m'\u001B[39m\u001B[38;5;124mgeneral_wide_df.columns\u001B[39m\u001B[38;5;124m'\u001B[39m, \u001B[38;5;124m'\u001B[39m\u001B[38;5;124mfood_supply_quantity_(kg/capita/yr)\u001B[39m\u001B[38;5;124m'\u001B[39m, \u001B[38;5;124m'\u001B[39m\u001B[38;5;124mprotein_supply_quantity_(g/capita/day)\u001B[39m\u001B[38;5;124m'\u001B[39m]\n\u001B[1;32m      4\u001B[0m \u001B[38;5;28;01mfor\u001B[39;00m columns_select \u001B[38;5;129;01min\u001B[39;00m num_cols:\n\u001B[0;32m----> 5\u001B[0m     plt\u001B[38;5;241m.\u001B[39mhist(\u001B[43mgeneral_wide_df\u001B[49m\u001B[43m[\u001B[49m\u001B[43mcolumns_select\u001B[49m\u001B[43m]\u001B[49m, bins\u001B[38;5;241m=\u001B[39m\u001B[38;5;241m20\u001B[39m)\n\u001B[1;32m      6\u001B[0m     plt\u001B[38;5;241m.\u001B[39mtitle(\u001B[38;5;124mf\u001B[39m\u001B[38;5;124m\"\u001B[39m\u001B[38;5;124mHistogramme de la colonne \u001B[39m\u001B[38;5;132;01m{\u001B[39;00mcolumns_select\u001B[38;5;132;01m}\u001B[39;00m\u001B[38;5;124m\"\u001B[39m)\n\u001B[1;32m      7\u001B[0m     plt\u001B[38;5;241m.\u001B[39mxlabel(columns_select)\n",
      "File \u001B[0;32m~/miniconda3/envs/Pandas/lib/python3.10/site-packages/pandas/core/frame.py:3805\u001B[0m, in \u001B[0;36mDataFrame.__getitem__\u001B[0;34m(self, key)\u001B[0m\n\u001B[1;32m   3803\u001B[0m \u001B[38;5;28;01mif\u001B[39;00m \u001B[38;5;28mself\u001B[39m\u001B[38;5;241m.\u001B[39mcolumns\u001B[38;5;241m.\u001B[39mnlevels \u001B[38;5;241m>\u001B[39m \u001B[38;5;241m1\u001B[39m:\n\u001B[1;32m   3804\u001B[0m     \u001B[38;5;28;01mreturn\u001B[39;00m \u001B[38;5;28mself\u001B[39m\u001B[38;5;241m.\u001B[39m_getitem_multilevel(key)\n\u001B[0;32m-> 3805\u001B[0m indexer \u001B[38;5;241m=\u001B[39m \u001B[38;5;28;43mself\u001B[39;49m\u001B[38;5;241;43m.\u001B[39;49m\u001B[43mcolumns\u001B[49m\u001B[38;5;241;43m.\u001B[39;49m\u001B[43mget_loc\u001B[49m\u001B[43m(\u001B[49m\u001B[43mkey\u001B[49m\u001B[43m)\u001B[49m\n\u001B[1;32m   3806\u001B[0m \u001B[38;5;28;01mif\u001B[39;00m is_integer(indexer):\n\u001B[1;32m   3807\u001B[0m     indexer \u001B[38;5;241m=\u001B[39m [indexer]\n",
      "File \u001B[0;32m~/miniconda3/envs/Pandas/lib/python3.10/site-packages/pandas/core/indexes/base.py:3805\u001B[0m, in \u001B[0;36mIndex.get_loc\u001B[0;34m(self, key, method, tolerance)\u001B[0m\n\u001B[1;32m   3803\u001B[0m     \u001B[38;5;28;01mreturn\u001B[39;00m \u001B[38;5;28mself\u001B[39m\u001B[38;5;241m.\u001B[39m_engine\u001B[38;5;241m.\u001B[39mget_loc(casted_key)\n\u001B[1;32m   3804\u001B[0m \u001B[38;5;28;01mexcept\u001B[39;00m \u001B[38;5;167;01mKeyError\u001B[39;00m \u001B[38;5;28;01mas\u001B[39;00m err:\n\u001B[0;32m-> 3805\u001B[0m     \u001B[38;5;28;01mraise\u001B[39;00m \u001B[38;5;167;01mKeyError\u001B[39;00m(key) \u001B[38;5;28;01mfrom\u001B[39;00m \u001B[38;5;21;01merr\u001B[39;00m\n\u001B[1;32m   3806\u001B[0m \u001B[38;5;28;01mexcept\u001B[39;00m \u001B[38;5;167;01mTypeError\u001B[39;00m:\n\u001B[1;32m   3807\u001B[0m     \u001B[38;5;66;03m# If we have a listlike key, _check_indexing_error will raise\u001B[39;00m\n\u001B[1;32m   3808\u001B[0m     \u001B[38;5;66;03m#  InvalidIndexError. Otherwise we fall through and re-raise\u001B[39;00m\n\u001B[1;32m   3809\u001B[0m     \u001B[38;5;66;03m#  the TypeError.\u001B[39;00m\n\u001B[1;32m   3810\u001B[0m     \u001B[38;5;28mself\u001B[39m\u001B[38;5;241m.\u001B[39m_check_indexing_error(key)\n",
      "\u001B[0;31mKeyError\u001B[0m: 'general_wide_df.columns'"
     ]
    }
   ],
   "source": [
    "# Visualisation histogramme des colonnes\n",
    "num_cols = ['pop_1000_hab', 'fat_supply_quantity_(g/capita/day)', 'general_wide_df.columns', 'food_supply_quantity_(kg/capita/yr)', 'protein_supply_quantity_(g/capita/day)']\n",
    "\n",
    "for columns_select in num_cols:\n",
    "    plt.hist(general_wide_df[columns_select], bins=20)\n",
    "    plt.title(f\"Histogramme de la colonne {columns_select}\")\n",
    "    plt.xlabel(columns_select)\n",
    "    plt.ylabel(\"Fréquence\")\n",
    "    plt.show()"
   ],
   "metadata": {
    "collapsed": false
   }
  },
  {
   "cell_type": "markdown",
   "source": [
    "### Question 19 :"
   ],
   "metadata": {
    "collapsed": false
   }
  },
  {
   "cell_type": "code",
   "execution_count": 297,
   "outputs": [
    {
     "name": "stdout",
     "output_type": "stream",
     "text": [
      "44246.0\n"
     ]
    }
   ],
   "source": [
    "# Calcul de la population de l'Ukraine en 2018\n",
    "population_ukraine_2018 = general_wide_df.loc[(general_wide_df['country'] == 'Ukraine') & (general_wide_df['year'] == 2018), 'pop_1000_hab'].values[0]\n",
    "print(f\"La population Ukrainienne en 2018 est de {population_ukraine_2018}.\")"
   ],
   "metadata": {
    "collapsed": false
   }
  },
  {
   "cell_type": "markdown",
   "source": [
    "### Question 20 :"
   ],
   "metadata": {
    "collapsed": false
   }
  },
  {
   "cell_type": "code",
   "execution_count": null,
   "outputs": [],
   "source": [],
   "metadata": {
    "collapsed": false
   }
  }
 ],
 "metadata": {
  "kernelspec": {
   "display_name": "Python 3",
   "language": "python",
   "name": "python3"
  },
  "language_info": {
   "codemirror_mode": {
    "name": "ipython",
    "version": 2
   },
   "file_extension": ".py",
   "mimetype": "text/x-python",
   "name": "python",
   "nbconvert_exporter": "python",
   "pygments_lexer": "ipython2",
   "version": "2.7.6"
  }
 },
 "nbformat": 4,
 "nbformat_minor": 0
}
