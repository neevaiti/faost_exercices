{
 "cells": [
  {
   "cell_type": "markdown",
   "source": [
    "# Importation des df"
   ],
   "metadata": {
    "collapsed": false
   }
  },
  {
   "cell_type": "code",
   "execution_count": 100,
   "metadata": {
    "collapsed": true
   },
   "outputs": [],
   "source": [
    "import pandas as pd\n",
    "import matplotlib.pyplot as plt\n",
    "import seaborn as sns"
   ]
  },
  {
   "cell_type": "code",
   "execution_count": 101,
   "outputs": [],
   "source": [
    "animal_df = pd.read_csv(\"src/datas/animal_dataset.csv\")\n",
    "vegetal_df = pd.read_csv(\"src/datas/vegetal_dataset.csv\")\n",
    "population_df = pd.read_csv(\"src/datas/population_dataset.csv\")"
   ],
   "metadata": {
    "collapsed": false
   }
  },
  {
   "cell_type": "code",
   "execution_count": 102,
   "outputs": [
    {
     "data": {
      "text/plain": "  Domain Code                 Domain  Area Code (M49)         Area  \\\n0         FBS  Food Balances (2010-)                4  Afghanistan   \n1         FBS  Food Balances (2010-)                4  Afghanistan   \n2         FBS  Food Balances (2010-)                4  Afghanistan   \n3         FBS  Food Balances (2010-)                4  Afghanistan   \n4         FBS  Food Balances (2010-)                4  Afghanistan   \n\n   Element Code                                 Element Item Code (CPC)  \\\n0           645     Food supply quantity (kg/capita/yr)           S2731   \n1           645     Food supply quantity (kg/capita/yr)           S2731   \n2           664           Food supply (kcal/capita/day)           S2731   \n3           664           Food supply (kcal/capita/day)           S2731   \n4           674  Protein supply quantity (g/capita/day)           S2731   \n\n          Item  Year Code  Year             Unit  Value Flag Flag Description  \n0  Bovine Meat       2018  2018               kg   2.62    E  Estimated value  \n1  Bovine Meat       2019  2019               kg   2.73    E  Estimated value  \n2  Bovine Meat       2018  2018  kcal/capita/day  15.42    E  Estimated value  \n3  Bovine Meat       2019  2019  kcal/capita/day  16.03    E  Estimated value  \n4  Bovine Meat       2018  2018     g/capita/day   1.09    E  Estimated value  ",
      "text/html": "<div>\n<style scoped>\n    .dataframe tbody tr th:only-of-type {\n        vertical-align: middle;\n    }\n\n    .dataframe tbody tr th {\n        vertical-align: top;\n    }\n\n    .dataframe thead th {\n        text-align: right;\n    }\n</style>\n<table border=\"1\" class=\"dataframe\">\n  <thead>\n    <tr style=\"text-align: right;\">\n      <th></th>\n      <th>Domain Code</th>\n      <th>Domain</th>\n      <th>Area Code (M49)</th>\n      <th>Area</th>\n      <th>Element Code</th>\n      <th>Element</th>\n      <th>Item Code (CPC)</th>\n      <th>Item</th>\n      <th>Year Code</th>\n      <th>Year</th>\n      <th>Unit</th>\n      <th>Value</th>\n      <th>Flag</th>\n      <th>Flag Description</th>\n    </tr>\n  </thead>\n  <tbody>\n    <tr>\n      <th>0</th>\n      <td>FBS</td>\n      <td>Food Balances (2010-)</td>\n      <td>4</td>\n      <td>Afghanistan</td>\n      <td>645</td>\n      <td>Food supply quantity (kg/capita/yr)</td>\n      <td>S2731</td>\n      <td>Bovine Meat</td>\n      <td>2018</td>\n      <td>2018</td>\n      <td>kg</td>\n      <td>2.62</td>\n      <td>E</td>\n      <td>Estimated value</td>\n    </tr>\n    <tr>\n      <th>1</th>\n      <td>FBS</td>\n      <td>Food Balances (2010-)</td>\n      <td>4</td>\n      <td>Afghanistan</td>\n      <td>645</td>\n      <td>Food supply quantity (kg/capita/yr)</td>\n      <td>S2731</td>\n      <td>Bovine Meat</td>\n      <td>2019</td>\n      <td>2019</td>\n      <td>kg</td>\n      <td>2.73</td>\n      <td>E</td>\n      <td>Estimated value</td>\n    </tr>\n    <tr>\n      <th>2</th>\n      <td>FBS</td>\n      <td>Food Balances (2010-)</td>\n      <td>4</td>\n      <td>Afghanistan</td>\n      <td>664</td>\n      <td>Food supply (kcal/capita/day)</td>\n      <td>S2731</td>\n      <td>Bovine Meat</td>\n      <td>2018</td>\n      <td>2018</td>\n      <td>kcal/capita/day</td>\n      <td>15.42</td>\n      <td>E</td>\n      <td>Estimated value</td>\n    </tr>\n    <tr>\n      <th>3</th>\n      <td>FBS</td>\n      <td>Food Balances (2010-)</td>\n      <td>4</td>\n      <td>Afghanistan</td>\n      <td>664</td>\n      <td>Food supply (kcal/capita/day)</td>\n      <td>S2731</td>\n      <td>Bovine Meat</td>\n      <td>2019</td>\n      <td>2019</td>\n      <td>kcal/capita/day</td>\n      <td>16.03</td>\n      <td>E</td>\n      <td>Estimated value</td>\n    </tr>\n    <tr>\n      <th>4</th>\n      <td>FBS</td>\n      <td>Food Balances (2010-)</td>\n      <td>4</td>\n      <td>Afghanistan</td>\n      <td>674</td>\n      <td>Protein supply quantity (g/capita/day)</td>\n      <td>S2731</td>\n      <td>Bovine Meat</td>\n      <td>2018</td>\n      <td>2018</td>\n      <td>g/capita/day</td>\n      <td>1.09</td>\n      <td>E</td>\n      <td>Estimated value</td>\n    </tr>\n  </tbody>\n</table>\n</div>"
     },
     "execution_count": 102,
     "metadata": {},
     "output_type": "execute_result"
    }
   ],
   "source": [
    "animal_df.head()"
   ],
   "metadata": {
    "collapsed": false
   }
  },
  {
   "cell_type": "code",
   "execution_count": 103,
   "outputs": [
    {
     "data": {
      "text/plain": "  Domain Code                 Domain  Area Code (M49)         Area  \\\n0         FBS  Food Balances (2010-)                4  Afghanistan   \n1         FBS  Food Balances (2010-)                4  Afghanistan   \n2         FBS  Food Balances (2010-)                4  Afghanistan   \n3         FBS  Food Balances (2010-)                4  Afghanistan   \n4         FBS  Food Balances (2010-)                4  Afghanistan   \n\n   Element Code                                 Element Item Code (CPC)  \\\n0           645     Food supply quantity (kg/capita/yr)           S2511   \n1           645     Food supply quantity (kg/capita/yr)           S2511   \n2           664           Food supply (kcal/capita/day)           S2511   \n3           664           Food supply (kcal/capita/day)           S2511   \n4           674  Protein supply quantity (g/capita/day)           S2511   \n\n                 Item  Year Code  Year             Unit    Value Flag  \\\n0  Wheat and products       2018  2018               kg   160.12    E   \n1  Wheat and products       2019  2019               kg   158.95    E   \n2  Wheat and products       2018  2018  kcal/capita/day  1372.02    E   \n3  Wheat and products       2019  2019  kcal/capita/day  1361.66    E   \n4  Wheat and products       2018  2018     g/capita/day    37.00    E   \n\n  Flag Description  \n0  Estimated value  \n1  Estimated value  \n2  Estimated value  \n3  Estimated value  \n4  Estimated value  ",
      "text/html": "<div>\n<style scoped>\n    .dataframe tbody tr th:only-of-type {\n        vertical-align: middle;\n    }\n\n    .dataframe tbody tr th {\n        vertical-align: top;\n    }\n\n    .dataframe thead th {\n        text-align: right;\n    }\n</style>\n<table border=\"1\" class=\"dataframe\">\n  <thead>\n    <tr style=\"text-align: right;\">\n      <th></th>\n      <th>Domain Code</th>\n      <th>Domain</th>\n      <th>Area Code (M49)</th>\n      <th>Area</th>\n      <th>Element Code</th>\n      <th>Element</th>\n      <th>Item Code (CPC)</th>\n      <th>Item</th>\n      <th>Year Code</th>\n      <th>Year</th>\n      <th>Unit</th>\n      <th>Value</th>\n      <th>Flag</th>\n      <th>Flag Description</th>\n    </tr>\n  </thead>\n  <tbody>\n    <tr>\n      <th>0</th>\n      <td>FBS</td>\n      <td>Food Balances (2010-)</td>\n      <td>4</td>\n      <td>Afghanistan</td>\n      <td>645</td>\n      <td>Food supply quantity (kg/capita/yr)</td>\n      <td>S2511</td>\n      <td>Wheat and products</td>\n      <td>2018</td>\n      <td>2018</td>\n      <td>kg</td>\n      <td>160.12</td>\n      <td>E</td>\n      <td>Estimated value</td>\n    </tr>\n    <tr>\n      <th>1</th>\n      <td>FBS</td>\n      <td>Food Balances (2010-)</td>\n      <td>4</td>\n      <td>Afghanistan</td>\n      <td>645</td>\n      <td>Food supply quantity (kg/capita/yr)</td>\n      <td>S2511</td>\n      <td>Wheat and products</td>\n      <td>2019</td>\n      <td>2019</td>\n      <td>kg</td>\n      <td>158.95</td>\n      <td>E</td>\n      <td>Estimated value</td>\n    </tr>\n    <tr>\n      <th>2</th>\n      <td>FBS</td>\n      <td>Food Balances (2010-)</td>\n      <td>4</td>\n      <td>Afghanistan</td>\n      <td>664</td>\n      <td>Food supply (kcal/capita/day)</td>\n      <td>S2511</td>\n      <td>Wheat and products</td>\n      <td>2018</td>\n      <td>2018</td>\n      <td>kcal/capita/day</td>\n      <td>1372.02</td>\n      <td>E</td>\n      <td>Estimated value</td>\n    </tr>\n    <tr>\n      <th>3</th>\n      <td>FBS</td>\n      <td>Food Balances (2010-)</td>\n      <td>4</td>\n      <td>Afghanistan</td>\n      <td>664</td>\n      <td>Food supply (kcal/capita/day)</td>\n      <td>S2511</td>\n      <td>Wheat and products</td>\n      <td>2019</td>\n      <td>2019</td>\n      <td>kcal/capita/day</td>\n      <td>1361.66</td>\n      <td>E</td>\n      <td>Estimated value</td>\n    </tr>\n    <tr>\n      <th>4</th>\n      <td>FBS</td>\n      <td>Food Balances (2010-)</td>\n      <td>4</td>\n      <td>Afghanistan</td>\n      <td>674</td>\n      <td>Protein supply quantity (g/capita/day)</td>\n      <td>S2511</td>\n      <td>Wheat and products</td>\n      <td>2018</td>\n      <td>2018</td>\n      <td>g/capita/day</td>\n      <td>37.00</td>\n      <td>E</td>\n      <td>Estimated value</td>\n    </tr>\n  </tbody>\n</table>\n</div>"
     },
     "execution_count": 103,
     "metadata": {},
     "output_type": "execute_result"
    }
   ],
   "source": [
    "vegetal_df.head()"
   ],
   "metadata": {
    "collapsed": false
   }
  },
  {
   "cell_type": "code",
   "execution_count": 104,
   "outputs": [
    {
     "data": {
      "text/plain": "  Domain Code                 Domain  Area Code (M49)         Area  \\\n0         FBS  Food Balances (2010-)                4  Afghanistan   \n1         FBS  Food Balances (2010-)                4  Afghanistan   \n2         FBS  Food Balances (2010-)                8      Albania   \n3         FBS  Food Balances (2010-)                8      Albania   \n4         FBS  Food Balances (2010-)               12      Algeria   \n\n   Element Code                        Element Item Code (CPC)        Item  \\\n0           511  Total Population - Both sexes           S2501  Population   \n1           511  Total Population - Both sexes           S2501  Population   \n2           511  Total Population - Both sexes           S2501  Population   \n3           511  Total Population - Both sexes           S2501  Population   \n4           511  Total Population - Both sexes           S2501  Population   \n\n   Year Code  Year          Unit     Value Flag  \\\n0       2018  2018  1000 persons  37172.00    X   \n1       2019  2019  1000 persons  38041.75    X   \n2       2018  2018  1000 persons   2883.00    X   \n3       2019  2019  1000 persons   2880.92    X   \n4       2018  2018  1000 persons  42228.00    X   \n\n                          Flag Description  \n0  Figure from international organizations  \n1  Figure from international organizations  \n2  Figure from international organizations  \n3  Figure from international organizations  \n4  Figure from international organizations  ",
      "text/html": "<div>\n<style scoped>\n    .dataframe tbody tr th:only-of-type {\n        vertical-align: middle;\n    }\n\n    .dataframe tbody tr th {\n        vertical-align: top;\n    }\n\n    .dataframe thead th {\n        text-align: right;\n    }\n</style>\n<table border=\"1\" class=\"dataframe\">\n  <thead>\n    <tr style=\"text-align: right;\">\n      <th></th>\n      <th>Domain Code</th>\n      <th>Domain</th>\n      <th>Area Code (M49)</th>\n      <th>Area</th>\n      <th>Element Code</th>\n      <th>Element</th>\n      <th>Item Code (CPC)</th>\n      <th>Item</th>\n      <th>Year Code</th>\n      <th>Year</th>\n      <th>Unit</th>\n      <th>Value</th>\n      <th>Flag</th>\n      <th>Flag Description</th>\n    </tr>\n  </thead>\n  <tbody>\n    <tr>\n      <th>0</th>\n      <td>FBS</td>\n      <td>Food Balances (2010-)</td>\n      <td>4</td>\n      <td>Afghanistan</td>\n      <td>511</td>\n      <td>Total Population - Both sexes</td>\n      <td>S2501</td>\n      <td>Population</td>\n      <td>2018</td>\n      <td>2018</td>\n      <td>1000 persons</td>\n      <td>37172.00</td>\n      <td>X</td>\n      <td>Figure from international organizations</td>\n    </tr>\n    <tr>\n      <th>1</th>\n      <td>FBS</td>\n      <td>Food Balances (2010-)</td>\n      <td>4</td>\n      <td>Afghanistan</td>\n      <td>511</td>\n      <td>Total Population - Both sexes</td>\n      <td>S2501</td>\n      <td>Population</td>\n      <td>2019</td>\n      <td>2019</td>\n      <td>1000 persons</td>\n      <td>38041.75</td>\n      <td>X</td>\n      <td>Figure from international organizations</td>\n    </tr>\n    <tr>\n      <th>2</th>\n      <td>FBS</td>\n      <td>Food Balances (2010-)</td>\n      <td>8</td>\n      <td>Albania</td>\n      <td>511</td>\n      <td>Total Population - Both sexes</td>\n      <td>S2501</td>\n      <td>Population</td>\n      <td>2018</td>\n      <td>2018</td>\n      <td>1000 persons</td>\n      <td>2883.00</td>\n      <td>X</td>\n      <td>Figure from international organizations</td>\n    </tr>\n    <tr>\n      <th>3</th>\n      <td>FBS</td>\n      <td>Food Balances (2010-)</td>\n      <td>8</td>\n      <td>Albania</td>\n      <td>511</td>\n      <td>Total Population - Both sexes</td>\n      <td>S2501</td>\n      <td>Population</td>\n      <td>2019</td>\n      <td>2019</td>\n      <td>1000 persons</td>\n      <td>2880.92</td>\n      <td>X</td>\n      <td>Figure from international organizations</td>\n    </tr>\n    <tr>\n      <th>4</th>\n      <td>FBS</td>\n      <td>Food Balances (2010-)</td>\n      <td>12</td>\n      <td>Algeria</td>\n      <td>511</td>\n      <td>Total Population - Both sexes</td>\n      <td>S2501</td>\n      <td>Population</td>\n      <td>2018</td>\n      <td>2018</td>\n      <td>1000 persons</td>\n      <td>42228.00</td>\n      <td>X</td>\n      <td>Figure from international organizations</td>\n    </tr>\n  </tbody>\n</table>\n</div>"
     },
     "execution_count": 104,
     "metadata": {},
     "output_type": "execute_result"
    }
   ],
   "source": [
    "population_df.head()"
   ],
   "metadata": {
    "collapsed": false
   }
  },
  {
   "cell_type": "markdown",
   "source": [
    "## Nettoyage des données"
   ],
   "metadata": {
    "collapsed": false
   }
  },
  {
   "cell_type": "markdown",
   "source": [
    "### Question 1 :"
   ],
   "metadata": {
    "collapsed": false
   }
  },
  {
   "cell_type": "code",
   "execution_count": 105,
   "outputs": [
    {
     "name": "stdout",
     "output_type": "stream",
     "text": [
      "---------Animal---------\n"
     ]
    },
    {
     "data": {
      "text/plain": "Index(['domain_code', 'domain', 'area_code_(m49)', 'area', 'element_code',\n       'element', 'item_code_(cpc)', 'item', 'year_code', 'year', 'unit',\n       'value', 'flag', 'flag_description'],\n      dtype='object')"
     },
     "execution_count": 105,
     "metadata": {},
     "output_type": "execute_result"
    }
   ],
   "source": [
    "# Première étape faire le nettoyage dans les titres.\n",
    "animal_df = animal_df.rename(columns=lambda x: x.lower().replace(' ', '_'))\n",
    "print(\"---------Animal---------\")\n",
    "animal_df.columns"
   ],
   "metadata": {
    "collapsed": false
   }
  },
  {
   "cell_type": "code",
   "execution_count": 106,
   "outputs": [
    {
     "name": "stdout",
     "output_type": "stream",
     "text": [
      "---------Vegetal---------\n"
     ]
    },
    {
     "data": {
      "text/plain": "Index(['domain_code', 'domain', 'area_code_(m49)', 'area', 'element_code',\n       'element', 'item_code_(cpc)', 'item', 'year_code', 'year', 'unit',\n       'value', 'flag', 'flag_description'],\n      dtype='object')"
     },
     "execution_count": 106,
     "metadata": {},
     "output_type": "execute_result"
    }
   ],
   "source": [
    "vegetal_df = vegetal_df.rename(columns=lambda x: x.lower().replace(' ', '_'))\n",
    "print(\"---------Vegetal---------\")\n",
    "vegetal_df.columns"
   ],
   "metadata": {
    "collapsed": false
   }
  },
  {
   "cell_type": "code",
   "execution_count": 107,
   "outputs": [
    {
     "name": "stdout",
     "output_type": "stream",
     "text": [
      "---------Population---------\n"
     ]
    },
    {
     "data": {
      "text/plain": "Index(['domain_code', 'domain', 'area_code_(m49)', 'area', 'element_code',\n       'element', 'item_code_(cpc)', 'item', 'year_code', 'year', 'unit',\n       'value', 'flag', 'flag_description'],\n      dtype='object')"
     },
     "execution_count": 107,
     "metadata": {},
     "output_type": "execute_result"
    }
   ],
   "source": [
    "population_df = population_df.rename(columns=lambda x: x.lower().replace(' ', '_'))\n",
    "print(\"---------Population---------\")\n",
    "population_df.columns"
   ],
   "metadata": {
    "collapsed": false
   }
  },
  {
   "cell_type": "markdown",
   "source": [
    "### Question 2 :"
   ],
   "metadata": {
    "collapsed": false
   }
  },
  {
   "cell_type": "code",
   "execution_count": 108,
   "outputs": [
    {
     "data": {
      "text/plain": "(31366, 14)"
     },
     "execution_count": 108,
     "metadata": {},
     "output_type": "execute_result"
    }
   ],
   "source": [
    "# Dimensions des jeux de données\n",
    "animal_df.shape"
   ],
   "metadata": {
    "collapsed": false
   }
  },
  {
   "cell_type": "code",
   "execution_count": 109,
   "outputs": [
    {
     "data": {
      "text/plain": "(92890, 14)"
     },
     "execution_count": 109,
     "metadata": {},
     "output_type": "execute_result"
    }
   ],
   "source": [
    "vegetal_df.shape"
   ],
   "metadata": {
    "collapsed": false
   }
  },
  {
   "cell_type": "code",
   "execution_count": 110,
   "outputs": [
    {
     "data": {
      "text/plain": "(364, 14)"
     },
     "execution_count": 110,
     "metadata": {},
     "output_type": "execute_result"
    }
   ],
   "source": [
    "population_df.shape"
   ],
   "metadata": {
    "collapsed": false
   }
  },
  {
   "cell_type": "markdown",
   "source": [
    "### Question 3 :"
   ],
   "metadata": {
    "collapsed": false
   }
  },
  {
   "cell_type": "code",
   "execution_count": 111,
   "outputs": [
    {
     "data": {
      "text/plain": "  domain_code                 domain  area_code_(m49)         area  \\\n0         FBS  Food Balances (2010-)                4  Afghanistan   \n1         FBS  Food Balances (2010-)                4  Afghanistan   \n2         FBS  Food Balances (2010-)                4  Afghanistan   \n3         FBS  Food Balances (2010-)                4  Afghanistan   \n4         FBS  Food Balances (2010-)                4  Afghanistan   \n\n   element_code                                 element item_code_(cpc)  \\\n0           645     Food supply quantity (kg/capita/yr)           S2731   \n1           645     Food supply quantity (kg/capita/yr)           S2731   \n2           664           Food supply (kcal/capita/day)           S2731   \n3           664           Food supply (kcal/capita/day)           S2731   \n4           674  Protein supply quantity (g/capita/day)           S2731   \n\n          item  year_code  year             unit  value flag flag_description  \n0  Bovine Meat       2018  2018               kg   2.62    E  Estimated value  \n1  Bovine Meat       2019  2019               kg   2.73    E  Estimated value  \n2  Bovine Meat       2018  2018  kcal/capita/day  15.42    E  Estimated value  \n3  Bovine Meat       2019  2019  kcal/capita/day  16.03    E  Estimated value  \n4  Bovine Meat       2018  2018     g/capita/day   1.09    E  Estimated value  ",
      "text/html": "<div>\n<style scoped>\n    .dataframe tbody tr th:only-of-type {\n        vertical-align: middle;\n    }\n\n    .dataframe tbody tr th {\n        vertical-align: top;\n    }\n\n    .dataframe thead th {\n        text-align: right;\n    }\n</style>\n<table border=\"1\" class=\"dataframe\">\n  <thead>\n    <tr style=\"text-align: right;\">\n      <th></th>\n      <th>domain_code</th>\n      <th>domain</th>\n      <th>area_code_(m49)</th>\n      <th>area</th>\n      <th>element_code</th>\n      <th>element</th>\n      <th>item_code_(cpc)</th>\n      <th>item</th>\n      <th>year_code</th>\n      <th>year</th>\n      <th>unit</th>\n      <th>value</th>\n      <th>flag</th>\n      <th>flag_description</th>\n    </tr>\n  </thead>\n  <tbody>\n    <tr>\n      <th>0</th>\n      <td>FBS</td>\n      <td>Food Balances (2010-)</td>\n      <td>4</td>\n      <td>Afghanistan</td>\n      <td>645</td>\n      <td>Food supply quantity (kg/capita/yr)</td>\n      <td>S2731</td>\n      <td>Bovine Meat</td>\n      <td>2018</td>\n      <td>2018</td>\n      <td>kg</td>\n      <td>2.62</td>\n      <td>E</td>\n      <td>Estimated value</td>\n    </tr>\n    <tr>\n      <th>1</th>\n      <td>FBS</td>\n      <td>Food Balances (2010-)</td>\n      <td>4</td>\n      <td>Afghanistan</td>\n      <td>645</td>\n      <td>Food supply quantity (kg/capita/yr)</td>\n      <td>S2731</td>\n      <td>Bovine Meat</td>\n      <td>2019</td>\n      <td>2019</td>\n      <td>kg</td>\n      <td>2.73</td>\n      <td>E</td>\n      <td>Estimated value</td>\n    </tr>\n    <tr>\n      <th>2</th>\n      <td>FBS</td>\n      <td>Food Balances (2010-)</td>\n      <td>4</td>\n      <td>Afghanistan</td>\n      <td>664</td>\n      <td>Food supply (kcal/capita/day)</td>\n      <td>S2731</td>\n      <td>Bovine Meat</td>\n      <td>2018</td>\n      <td>2018</td>\n      <td>kcal/capita/day</td>\n      <td>15.42</td>\n      <td>E</td>\n      <td>Estimated value</td>\n    </tr>\n    <tr>\n      <th>3</th>\n      <td>FBS</td>\n      <td>Food Balances (2010-)</td>\n      <td>4</td>\n      <td>Afghanistan</td>\n      <td>664</td>\n      <td>Food supply (kcal/capita/day)</td>\n      <td>S2731</td>\n      <td>Bovine Meat</td>\n      <td>2019</td>\n      <td>2019</td>\n      <td>kcal/capita/day</td>\n      <td>16.03</td>\n      <td>E</td>\n      <td>Estimated value</td>\n    </tr>\n    <tr>\n      <th>4</th>\n      <td>FBS</td>\n      <td>Food Balances (2010-)</td>\n      <td>4</td>\n      <td>Afghanistan</td>\n      <td>674</td>\n      <td>Protein supply quantity (g/capita/day)</td>\n      <td>S2731</td>\n      <td>Bovine Meat</td>\n      <td>2018</td>\n      <td>2018</td>\n      <td>g/capita/day</td>\n      <td>1.09</td>\n      <td>E</td>\n      <td>Estimated value</td>\n    </tr>\n  </tbody>\n</table>\n</div>"
     },
     "execution_count": 111,
     "metadata": {},
     "output_type": "execute_result"
    }
   ],
   "source": [
    "# Voir les 5 premières lignes des jeux de données\n",
    "animal_df.head()"
   ],
   "metadata": {
    "collapsed": false
   }
  },
  {
   "cell_type": "code",
   "execution_count": 112,
   "outputs": [
    {
     "data": {
      "text/plain": "  domain_code                 domain  area_code_(m49)         area  \\\n0         FBS  Food Balances (2010-)                4  Afghanistan   \n1         FBS  Food Balances (2010-)                4  Afghanistan   \n2         FBS  Food Balances (2010-)                4  Afghanistan   \n3         FBS  Food Balances (2010-)                4  Afghanistan   \n4         FBS  Food Balances (2010-)                4  Afghanistan   \n\n   element_code                                 element item_code_(cpc)  \\\n0           645     Food supply quantity (kg/capita/yr)           S2511   \n1           645     Food supply quantity (kg/capita/yr)           S2511   \n2           664           Food supply (kcal/capita/day)           S2511   \n3           664           Food supply (kcal/capita/day)           S2511   \n4           674  Protein supply quantity (g/capita/day)           S2511   \n\n                 item  year_code  year             unit    value flag  \\\n0  Wheat and products       2018  2018               kg   160.12    E   \n1  Wheat and products       2019  2019               kg   158.95    E   \n2  Wheat and products       2018  2018  kcal/capita/day  1372.02    E   \n3  Wheat and products       2019  2019  kcal/capita/day  1361.66    E   \n4  Wheat and products       2018  2018     g/capita/day    37.00    E   \n\n  flag_description  \n0  Estimated value  \n1  Estimated value  \n2  Estimated value  \n3  Estimated value  \n4  Estimated value  ",
      "text/html": "<div>\n<style scoped>\n    .dataframe tbody tr th:only-of-type {\n        vertical-align: middle;\n    }\n\n    .dataframe tbody tr th {\n        vertical-align: top;\n    }\n\n    .dataframe thead th {\n        text-align: right;\n    }\n</style>\n<table border=\"1\" class=\"dataframe\">\n  <thead>\n    <tr style=\"text-align: right;\">\n      <th></th>\n      <th>domain_code</th>\n      <th>domain</th>\n      <th>area_code_(m49)</th>\n      <th>area</th>\n      <th>element_code</th>\n      <th>element</th>\n      <th>item_code_(cpc)</th>\n      <th>item</th>\n      <th>year_code</th>\n      <th>year</th>\n      <th>unit</th>\n      <th>value</th>\n      <th>flag</th>\n      <th>flag_description</th>\n    </tr>\n  </thead>\n  <tbody>\n    <tr>\n      <th>0</th>\n      <td>FBS</td>\n      <td>Food Balances (2010-)</td>\n      <td>4</td>\n      <td>Afghanistan</td>\n      <td>645</td>\n      <td>Food supply quantity (kg/capita/yr)</td>\n      <td>S2511</td>\n      <td>Wheat and products</td>\n      <td>2018</td>\n      <td>2018</td>\n      <td>kg</td>\n      <td>160.12</td>\n      <td>E</td>\n      <td>Estimated value</td>\n    </tr>\n    <tr>\n      <th>1</th>\n      <td>FBS</td>\n      <td>Food Balances (2010-)</td>\n      <td>4</td>\n      <td>Afghanistan</td>\n      <td>645</td>\n      <td>Food supply quantity (kg/capita/yr)</td>\n      <td>S2511</td>\n      <td>Wheat and products</td>\n      <td>2019</td>\n      <td>2019</td>\n      <td>kg</td>\n      <td>158.95</td>\n      <td>E</td>\n      <td>Estimated value</td>\n    </tr>\n    <tr>\n      <th>2</th>\n      <td>FBS</td>\n      <td>Food Balances (2010-)</td>\n      <td>4</td>\n      <td>Afghanistan</td>\n      <td>664</td>\n      <td>Food supply (kcal/capita/day)</td>\n      <td>S2511</td>\n      <td>Wheat and products</td>\n      <td>2018</td>\n      <td>2018</td>\n      <td>kcal/capita/day</td>\n      <td>1372.02</td>\n      <td>E</td>\n      <td>Estimated value</td>\n    </tr>\n    <tr>\n      <th>3</th>\n      <td>FBS</td>\n      <td>Food Balances (2010-)</td>\n      <td>4</td>\n      <td>Afghanistan</td>\n      <td>664</td>\n      <td>Food supply (kcal/capita/day)</td>\n      <td>S2511</td>\n      <td>Wheat and products</td>\n      <td>2019</td>\n      <td>2019</td>\n      <td>kcal/capita/day</td>\n      <td>1361.66</td>\n      <td>E</td>\n      <td>Estimated value</td>\n    </tr>\n    <tr>\n      <th>4</th>\n      <td>FBS</td>\n      <td>Food Balances (2010-)</td>\n      <td>4</td>\n      <td>Afghanistan</td>\n      <td>674</td>\n      <td>Protein supply quantity (g/capita/day)</td>\n      <td>S2511</td>\n      <td>Wheat and products</td>\n      <td>2018</td>\n      <td>2018</td>\n      <td>g/capita/day</td>\n      <td>37.00</td>\n      <td>E</td>\n      <td>Estimated value</td>\n    </tr>\n  </tbody>\n</table>\n</div>"
     },
     "execution_count": 112,
     "metadata": {},
     "output_type": "execute_result"
    }
   ],
   "source": [
    "vegetal_df.head()"
   ],
   "metadata": {
    "collapsed": false
   }
  },
  {
   "cell_type": "code",
   "execution_count": 113,
   "outputs": [
    {
     "data": {
      "text/plain": "  domain_code                 domain  area_code_(m49)         area  \\\n0         FBS  Food Balances (2010-)                4  Afghanistan   \n1         FBS  Food Balances (2010-)                4  Afghanistan   \n2         FBS  Food Balances (2010-)                8      Albania   \n3         FBS  Food Balances (2010-)                8      Albania   \n4         FBS  Food Balances (2010-)               12      Algeria   \n\n   element_code                        element item_code_(cpc)        item  \\\n0           511  Total Population - Both sexes           S2501  Population   \n1           511  Total Population - Both sexes           S2501  Population   \n2           511  Total Population - Both sexes           S2501  Population   \n3           511  Total Population - Both sexes           S2501  Population   \n4           511  Total Population - Both sexes           S2501  Population   \n\n   year_code  year          unit     value flag  \\\n0       2018  2018  1000 persons  37172.00    X   \n1       2019  2019  1000 persons  38041.75    X   \n2       2018  2018  1000 persons   2883.00    X   \n3       2019  2019  1000 persons   2880.92    X   \n4       2018  2018  1000 persons  42228.00    X   \n\n                          flag_description  \n0  Figure from international organizations  \n1  Figure from international organizations  \n2  Figure from international organizations  \n3  Figure from international organizations  \n4  Figure from international organizations  ",
      "text/html": "<div>\n<style scoped>\n    .dataframe tbody tr th:only-of-type {\n        vertical-align: middle;\n    }\n\n    .dataframe tbody tr th {\n        vertical-align: top;\n    }\n\n    .dataframe thead th {\n        text-align: right;\n    }\n</style>\n<table border=\"1\" class=\"dataframe\">\n  <thead>\n    <tr style=\"text-align: right;\">\n      <th></th>\n      <th>domain_code</th>\n      <th>domain</th>\n      <th>area_code_(m49)</th>\n      <th>area</th>\n      <th>element_code</th>\n      <th>element</th>\n      <th>item_code_(cpc)</th>\n      <th>item</th>\n      <th>year_code</th>\n      <th>year</th>\n      <th>unit</th>\n      <th>value</th>\n      <th>flag</th>\n      <th>flag_description</th>\n    </tr>\n  </thead>\n  <tbody>\n    <tr>\n      <th>0</th>\n      <td>FBS</td>\n      <td>Food Balances (2010-)</td>\n      <td>4</td>\n      <td>Afghanistan</td>\n      <td>511</td>\n      <td>Total Population - Both sexes</td>\n      <td>S2501</td>\n      <td>Population</td>\n      <td>2018</td>\n      <td>2018</td>\n      <td>1000 persons</td>\n      <td>37172.00</td>\n      <td>X</td>\n      <td>Figure from international organizations</td>\n    </tr>\n    <tr>\n      <th>1</th>\n      <td>FBS</td>\n      <td>Food Balances (2010-)</td>\n      <td>4</td>\n      <td>Afghanistan</td>\n      <td>511</td>\n      <td>Total Population - Both sexes</td>\n      <td>S2501</td>\n      <td>Population</td>\n      <td>2019</td>\n      <td>2019</td>\n      <td>1000 persons</td>\n      <td>38041.75</td>\n      <td>X</td>\n      <td>Figure from international organizations</td>\n    </tr>\n    <tr>\n      <th>2</th>\n      <td>FBS</td>\n      <td>Food Balances (2010-)</td>\n      <td>8</td>\n      <td>Albania</td>\n      <td>511</td>\n      <td>Total Population - Both sexes</td>\n      <td>S2501</td>\n      <td>Population</td>\n      <td>2018</td>\n      <td>2018</td>\n      <td>1000 persons</td>\n      <td>2883.00</td>\n      <td>X</td>\n      <td>Figure from international organizations</td>\n    </tr>\n    <tr>\n      <th>3</th>\n      <td>FBS</td>\n      <td>Food Balances (2010-)</td>\n      <td>8</td>\n      <td>Albania</td>\n      <td>511</td>\n      <td>Total Population - Both sexes</td>\n      <td>S2501</td>\n      <td>Population</td>\n      <td>2019</td>\n      <td>2019</td>\n      <td>1000 persons</td>\n      <td>2880.92</td>\n      <td>X</td>\n      <td>Figure from international organizations</td>\n    </tr>\n    <tr>\n      <th>4</th>\n      <td>FBS</td>\n      <td>Food Balances (2010-)</td>\n      <td>12</td>\n      <td>Algeria</td>\n      <td>511</td>\n      <td>Total Population - Both sexes</td>\n      <td>S2501</td>\n      <td>Population</td>\n      <td>2018</td>\n      <td>2018</td>\n      <td>1000 persons</td>\n      <td>42228.00</td>\n      <td>X</td>\n      <td>Figure from international organizations</td>\n    </tr>\n  </tbody>\n</table>\n</div>"
     },
     "execution_count": 113,
     "metadata": {},
     "output_type": "execute_result"
    }
   ],
   "source": [
    "population_df.head()"
   ],
   "metadata": {
    "collapsed": false
   }
  },
  {
   "cell_type": "markdown",
   "source": [
    "### Question 4 :"
   ],
   "metadata": {
    "collapsed": false
   }
  },
  {
   "cell_type": "code",
   "execution_count": 114,
   "outputs": [],
   "source": [
    "# Ajout de la colonne type aux datasets animal & vegetal\n",
    "animal_df = animal_df.assign(type='animal')\n",
    "vegetal_df = vegetal_df.assign(type='vegetal')"
   ],
   "metadata": {
    "collapsed": false
   }
  },
  {
   "cell_type": "code",
   "execution_count": 115,
   "outputs": [],
   "source": [
    "product_df = pd.concat([animal_df, vegetal_df], ignore_index=True)"
   ],
   "metadata": {
    "collapsed": false
   }
  },
  {
   "cell_type": "code",
   "execution_count": 116,
   "outputs": [
    {
     "data": {
      "text/plain": "       domain_code                 domain  area_code_(m49)  \\\n56866          FBS  Food Balances (2010-)              212   \n110933         FBS  Food Balances (2010-)              729   \n65320          FBS  Food Balances (2010-)              300   \n107870         FBS  Food Balances (2010-)              705   \n47823          FBS  Food Balances (2010-)              344   \n\n                        area  element_code  \\\n56866               Dominica           645   \n110933                 Sudan           664   \n65320                 Greece           664   \n107870              Slovenia           674   \n47823   China, Hong Kong SAR           684   \n\n                                       element item_code_(cpc)  \\\n56866      Food supply quantity (kg/capita/yr)           S2620   \n110933           Food supply (kcal/capita/day)           S2617   \n65320            Food supply (kcal/capita/day)           S2555   \n107870  Protein supply quantity (g/capita/day)           S2558   \n47823       Fat supply quantity (g/capita/day)           S2520   \n\n                                   item  year_code  year             unit  \\\n56866   Grapes and products (excl wine)       2018  2018               kg   \n110933              Apples and products       2019  2019  kcal/capita/day   \n65320                         Soyabeans       2018  2018  kcal/capita/day   \n107870             Rape and Mustardseed       2018  2018     g/capita/day   \n47823                    Cereals, Other       2019  2019     g/capita/day   \n\n        value flag flag_description     type  \n56866    2.86    E  Estimated value  vegetal  \n110933   0.13    E  Estimated value  vegetal  \n65320    0.08    E  Estimated value  vegetal  \n107870   0.07    E  Estimated value  vegetal  \n47823    0.05    E  Estimated value  vegetal  ",
      "text/html": "<div>\n<style scoped>\n    .dataframe tbody tr th:only-of-type {\n        vertical-align: middle;\n    }\n\n    .dataframe tbody tr th {\n        vertical-align: top;\n    }\n\n    .dataframe thead th {\n        text-align: right;\n    }\n</style>\n<table border=\"1\" class=\"dataframe\">\n  <thead>\n    <tr style=\"text-align: right;\">\n      <th></th>\n      <th>domain_code</th>\n      <th>domain</th>\n      <th>area_code_(m49)</th>\n      <th>area</th>\n      <th>element_code</th>\n      <th>element</th>\n      <th>item_code_(cpc)</th>\n      <th>item</th>\n      <th>year_code</th>\n      <th>year</th>\n      <th>unit</th>\n      <th>value</th>\n      <th>flag</th>\n      <th>flag_description</th>\n      <th>type</th>\n    </tr>\n  </thead>\n  <tbody>\n    <tr>\n      <th>56866</th>\n      <td>FBS</td>\n      <td>Food Balances (2010-)</td>\n      <td>212</td>\n      <td>Dominica</td>\n      <td>645</td>\n      <td>Food supply quantity (kg/capita/yr)</td>\n      <td>S2620</td>\n      <td>Grapes and products (excl wine)</td>\n      <td>2018</td>\n      <td>2018</td>\n      <td>kg</td>\n      <td>2.86</td>\n      <td>E</td>\n      <td>Estimated value</td>\n      <td>vegetal</td>\n    </tr>\n    <tr>\n      <th>110933</th>\n      <td>FBS</td>\n      <td>Food Balances (2010-)</td>\n      <td>729</td>\n      <td>Sudan</td>\n      <td>664</td>\n      <td>Food supply (kcal/capita/day)</td>\n      <td>S2617</td>\n      <td>Apples and products</td>\n      <td>2019</td>\n      <td>2019</td>\n      <td>kcal/capita/day</td>\n      <td>0.13</td>\n      <td>E</td>\n      <td>Estimated value</td>\n      <td>vegetal</td>\n    </tr>\n    <tr>\n      <th>65320</th>\n      <td>FBS</td>\n      <td>Food Balances (2010-)</td>\n      <td>300</td>\n      <td>Greece</td>\n      <td>664</td>\n      <td>Food supply (kcal/capita/day)</td>\n      <td>S2555</td>\n      <td>Soyabeans</td>\n      <td>2018</td>\n      <td>2018</td>\n      <td>kcal/capita/day</td>\n      <td>0.08</td>\n      <td>E</td>\n      <td>Estimated value</td>\n      <td>vegetal</td>\n    </tr>\n    <tr>\n      <th>107870</th>\n      <td>FBS</td>\n      <td>Food Balances (2010-)</td>\n      <td>705</td>\n      <td>Slovenia</td>\n      <td>674</td>\n      <td>Protein supply quantity (g/capita/day)</td>\n      <td>S2558</td>\n      <td>Rape and Mustardseed</td>\n      <td>2018</td>\n      <td>2018</td>\n      <td>g/capita/day</td>\n      <td>0.07</td>\n      <td>E</td>\n      <td>Estimated value</td>\n      <td>vegetal</td>\n    </tr>\n    <tr>\n      <th>47823</th>\n      <td>FBS</td>\n      <td>Food Balances (2010-)</td>\n      <td>344</td>\n      <td>China, Hong Kong SAR</td>\n      <td>684</td>\n      <td>Fat supply quantity (g/capita/day)</td>\n      <td>S2520</td>\n      <td>Cereals, Other</td>\n      <td>2019</td>\n      <td>2019</td>\n      <td>g/capita/day</td>\n      <td>0.05</td>\n      <td>E</td>\n      <td>Estimated value</td>\n      <td>vegetal</td>\n    </tr>\n  </tbody>\n</table>\n</div>"
     },
     "execution_count": 116,
     "metadata": {},
     "output_type": "execute_result"
    }
   ],
   "source": [
    "# Vérification du nouveau dataset\n",
    "product_df.sample(n=5)"
   ],
   "metadata": {
    "collapsed": false
   }
  },
  {
   "cell_type": "markdown",
   "source": [
    "### Question 5 :"
   ],
   "metadata": {
    "collapsed": false
   }
  },
  {
   "cell_type": "code",
   "execution_count": 117,
   "outputs": [
    {
     "data": {
      "text/plain": "    domain_code                 domain  area_code_(m49)              area  \\\n103         FBS  Food Balances (2010-)              218           Ecuador   \n120         FBS  Food Balances (2010-)              258  French Polynesia   \n288         FBS  Food Balances (2010-)              682      Saudi Arabia   \n97          FBS  Food Balances (2010-)              262          Djibouti   \n149         FBS  Food Balances (2010-)              348           Hungary   \n\n     element_code                        element item_code_(cpc)        item  \\\n103           511  Total Population - Both sexes           S2501  Population   \n120           511  Total Population - Both sexes           S2501  Population   \n288           511  Total Population - Both sexes           S2501  Population   \n97            511  Total Population - Both sexes           S2501  Population   \n149           511  Total Population - Both sexes           S2501  Population   \n\n     year_code  year          unit     value flag  \\\n103       2019  2019  1000 persons  17373.66    X   \n120       2018  2018  1000 persons    278.00    X   \n288       2019  2019  1000 persons  34268.53    X   \n97        2019  2019  1000 persons    973.56    X   \n149       2019  2019  1000 persons   9684.68    X   \n\n                            flag_description  \n103  Figure from international organizations  \n120  Figure from international organizations  \n288  Figure from international organizations  \n97   Figure from international organizations  \n149  Figure from international organizations  ",
      "text/html": "<div>\n<style scoped>\n    .dataframe tbody tr th:only-of-type {\n        vertical-align: middle;\n    }\n\n    .dataframe tbody tr th {\n        vertical-align: top;\n    }\n\n    .dataframe thead th {\n        text-align: right;\n    }\n</style>\n<table border=\"1\" class=\"dataframe\">\n  <thead>\n    <tr style=\"text-align: right;\">\n      <th></th>\n      <th>domain_code</th>\n      <th>domain</th>\n      <th>area_code_(m49)</th>\n      <th>area</th>\n      <th>element_code</th>\n      <th>element</th>\n      <th>item_code_(cpc)</th>\n      <th>item</th>\n      <th>year_code</th>\n      <th>year</th>\n      <th>unit</th>\n      <th>value</th>\n      <th>flag</th>\n      <th>flag_description</th>\n    </tr>\n  </thead>\n  <tbody>\n    <tr>\n      <th>103</th>\n      <td>FBS</td>\n      <td>Food Balances (2010-)</td>\n      <td>218</td>\n      <td>Ecuador</td>\n      <td>511</td>\n      <td>Total Population - Both sexes</td>\n      <td>S2501</td>\n      <td>Population</td>\n      <td>2019</td>\n      <td>2019</td>\n      <td>1000 persons</td>\n      <td>17373.66</td>\n      <td>X</td>\n      <td>Figure from international organizations</td>\n    </tr>\n    <tr>\n      <th>120</th>\n      <td>FBS</td>\n      <td>Food Balances (2010-)</td>\n      <td>258</td>\n      <td>French Polynesia</td>\n      <td>511</td>\n      <td>Total Population - Both sexes</td>\n      <td>S2501</td>\n      <td>Population</td>\n      <td>2018</td>\n      <td>2018</td>\n      <td>1000 persons</td>\n      <td>278.00</td>\n      <td>X</td>\n      <td>Figure from international organizations</td>\n    </tr>\n    <tr>\n      <th>288</th>\n      <td>FBS</td>\n      <td>Food Balances (2010-)</td>\n      <td>682</td>\n      <td>Saudi Arabia</td>\n      <td>511</td>\n      <td>Total Population - Both sexes</td>\n      <td>S2501</td>\n      <td>Population</td>\n      <td>2019</td>\n      <td>2019</td>\n      <td>1000 persons</td>\n      <td>34268.53</td>\n      <td>X</td>\n      <td>Figure from international organizations</td>\n    </tr>\n    <tr>\n      <th>97</th>\n      <td>FBS</td>\n      <td>Food Balances (2010-)</td>\n      <td>262</td>\n      <td>Djibouti</td>\n      <td>511</td>\n      <td>Total Population - Both sexes</td>\n      <td>S2501</td>\n      <td>Population</td>\n      <td>2019</td>\n      <td>2019</td>\n      <td>1000 persons</td>\n      <td>973.56</td>\n      <td>X</td>\n      <td>Figure from international organizations</td>\n    </tr>\n    <tr>\n      <th>149</th>\n      <td>FBS</td>\n      <td>Food Balances (2010-)</td>\n      <td>348</td>\n      <td>Hungary</td>\n      <td>511</td>\n      <td>Total Population - Both sexes</td>\n      <td>S2501</td>\n      <td>Population</td>\n      <td>2019</td>\n      <td>2019</td>\n      <td>1000 persons</td>\n      <td>9684.68</td>\n      <td>X</td>\n      <td>Figure from international organizations</td>\n    </tr>\n  </tbody>\n</table>\n</div>"
     },
     "execution_count": 117,
     "metadata": {},
     "output_type": "execute_result"
    }
   ],
   "source": [
    "# Changement du dataset population\n",
    "population_df.sample(n=5)"
   ],
   "metadata": {
    "collapsed": false
   }
  },
  {
   "cell_type": "code",
   "execution_count": 118,
   "outputs": [
    {
     "data": {
      "text/plain": "     area_code_(m49)                              area  year     value\n1                  4                       Afghanistan  2019  38041.75\n45               100                          Bulgaria  2019   7000.12\n37                68  Bolivia (Plurinational State of)  2019  11513.10\n284              882                             Samoa  2019    197.10\n180              417                        Kyrgyzstan  2018   6304.00",
      "text/html": "<div>\n<style scoped>\n    .dataframe tbody tr th:only-of-type {\n        vertical-align: middle;\n    }\n\n    .dataframe tbody tr th {\n        vertical-align: top;\n    }\n\n    .dataframe thead th {\n        text-align: right;\n    }\n</style>\n<table border=\"1\" class=\"dataframe\">\n  <thead>\n    <tr style=\"text-align: right;\">\n      <th></th>\n      <th>area_code_(m49)</th>\n      <th>area</th>\n      <th>year</th>\n      <th>value</th>\n    </tr>\n  </thead>\n  <tbody>\n    <tr>\n      <th>1</th>\n      <td>4</td>\n      <td>Afghanistan</td>\n      <td>2019</td>\n      <td>38041.75</td>\n    </tr>\n    <tr>\n      <th>45</th>\n      <td>100</td>\n      <td>Bulgaria</td>\n      <td>2019</td>\n      <td>7000.12</td>\n    </tr>\n    <tr>\n      <th>37</th>\n      <td>68</td>\n      <td>Bolivia (Plurinational State of)</td>\n      <td>2019</td>\n      <td>11513.10</td>\n    </tr>\n    <tr>\n      <th>284</th>\n      <td>882</td>\n      <td>Samoa</td>\n      <td>2019</td>\n      <td>197.10</td>\n    </tr>\n    <tr>\n      <th>180</th>\n      <td>417</td>\n      <td>Kyrgyzstan</td>\n      <td>2018</td>\n      <td>6304.00</td>\n    </tr>\n  </tbody>\n</table>\n</div>"
     },
     "execution_count": 118,
     "metadata": {},
     "output_type": "execute_result"
    }
   ],
   "source": [
    "population_df = population_df.drop(['domain_code', 'domain', 'element_code', 'element', 'item_code_(cpc)', 'item', 'year_code', 'unit', 'flag', 'flag_description'], axis=1)\n",
    "population_df.sample(n=5)"
   ],
   "metadata": {
    "collapsed": false
   }
  },
  {
   "cell_type": "code",
   "execution_count": 119,
   "outputs": [
    {
     "data": {
      "text/plain": "     area_code_(m49)                area  year  pop_1000_hab\n3                  8             Albania  2019       2880.92\n128              276             Germany  2018      83124.00\n135              308             Grenada  2019        112.00\n67               446    China, Macao SAR  2019        640.45\n273              643  Russian Federation  2018     145734.00",
      "text/html": "<div>\n<style scoped>\n    .dataframe tbody tr th:only-of-type {\n        vertical-align: middle;\n    }\n\n    .dataframe tbody tr th {\n        vertical-align: top;\n    }\n\n    .dataframe thead th {\n        text-align: right;\n    }\n</style>\n<table border=\"1\" class=\"dataframe\">\n  <thead>\n    <tr style=\"text-align: right;\">\n      <th></th>\n      <th>area_code_(m49)</th>\n      <th>area</th>\n      <th>year</th>\n      <th>pop_1000_hab</th>\n    </tr>\n  </thead>\n  <tbody>\n    <tr>\n      <th>3</th>\n      <td>8</td>\n      <td>Albania</td>\n      <td>2019</td>\n      <td>2880.92</td>\n    </tr>\n    <tr>\n      <th>128</th>\n      <td>276</td>\n      <td>Germany</td>\n      <td>2018</td>\n      <td>83124.00</td>\n    </tr>\n    <tr>\n      <th>135</th>\n      <td>308</td>\n      <td>Grenada</td>\n      <td>2019</td>\n      <td>112.00</td>\n    </tr>\n    <tr>\n      <th>67</th>\n      <td>446</td>\n      <td>China, Macao SAR</td>\n      <td>2019</td>\n      <td>640.45</td>\n    </tr>\n    <tr>\n      <th>273</th>\n      <td>643</td>\n      <td>Russian Federation</td>\n      <td>2018</td>\n      <td>145734.00</td>\n    </tr>\n  </tbody>\n</table>\n</div>"
     },
     "execution_count": 119,
     "metadata": {},
     "output_type": "execute_result"
    }
   ],
   "source": [
    "population_df = population_df.rename(columns={'value': 'pop_1000_hab'})\n",
    "population_df.sample(n=5)"
   ],
   "metadata": {
    "collapsed": false
   }
  },
  {
   "cell_type": "markdown",
   "source": [
    "### Question 6 :\n",
    "afin de ne garder que les colonnes area_code_(fao), area, element, item, year, type, unit."
   ],
   "metadata": {
    "collapsed": false
   }
  },
  {
   "cell_type": "code",
   "execution_count": 121,
   "outputs": [
    {
     "data": {
      "text/plain": "        area_code_(m49)          area                                 element  \\\n25054               686       Senegal  Protein supply quantity (g/capita/day)   \n40268                64        Bhutan           Food supply (kcal/capita/day)   \n16884               442    Luxembourg      Fat supply quantity (g/capita/day)   \n116882              795  Turkmenistan     Food supply quantity (kg/capita/yr)   \n90343               524         Nepal     Food supply quantity (kg/capita/yr)   \n\n                              item  year             unit     type  \n25054      Aquatic Animals, Others  2019     g/capita/day   animal  \n40268           Wheat and products  2019  kcal/capita/day  vegetal  \n16884                      Pigmeat  2019     g/capita/day   animal  \n116882  Lemons, Limes and products  2019               kg  vegetal  \n90343        Coconuts - Incl Copra  2019               kg  vegetal  ",
      "text/html": "<div>\n<style scoped>\n    .dataframe tbody tr th:only-of-type {\n        vertical-align: middle;\n    }\n\n    .dataframe tbody tr th {\n        vertical-align: top;\n    }\n\n    .dataframe thead th {\n        text-align: right;\n    }\n</style>\n<table border=\"1\" class=\"dataframe\">\n  <thead>\n    <tr style=\"text-align: right;\">\n      <th></th>\n      <th>area_code_(m49)</th>\n      <th>area</th>\n      <th>element</th>\n      <th>item</th>\n      <th>year</th>\n      <th>unit</th>\n      <th>type</th>\n    </tr>\n  </thead>\n  <tbody>\n    <tr>\n      <th>25054</th>\n      <td>686</td>\n      <td>Senegal</td>\n      <td>Protein supply quantity (g/capita/day)</td>\n      <td>Aquatic Animals, Others</td>\n      <td>2019</td>\n      <td>g/capita/day</td>\n      <td>animal</td>\n    </tr>\n    <tr>\n      <th>40268</th>\n      <td>64</td>\n      <td>Bhutan</td>\n      <td>Food supply (kcal/capita/day)</td>\n      <td>Wheat and products</td>\n      <td>2019</td>\n      <td>kcal/capita/day</td>\n      <td>vegetal</td>\n    </tr>\n    <tr>\n      <th>16884</th>\n      <td>442</td>\n      <td>Luxembourg</td>\n      <td>Fat supply quantity (g/capita/day)</td>\n      <td>Pigmeat</td>\n      <td>2019</td>\n      <td>g/capita/day</td>\n      <td>animal</td>\n    </tr>\n    <tr>\n      <th>116882</th>\n      <td>795</td>\n      <td>Turkmenistan</td>\n      <td>Food supply quantity (kg/capita/yr)</td>\n      <td>Lemons, Limes and products</td>\n      <td>2019</td>\n      <td>kg</td>\n      <td>vegetal</td>\n    </tr>\n    <tr>\n      <th>90343</th>\n      <td>524</td>\n      <td>Nepal</td>\n      <td>Food supply quantity (kg/capita/yr)</td>\n      <td>Coconuts - Incl Copra</td>\n      <td>2019</td>\n      <td>kg</td>\n      <td>vegetal</td>\n    </tr>\n  </tbody>\n</table>\n</div>"
     },
     "execution_count": 121,
     "metadata": {},
     "output_type": "execute_result"
    }
   ],
   "source": [
    "product_df = product_df.drop(['domain_code', 'domain', 'element_code', 'item_code_(cpc)', 'year_code', 'value', 'flag', 'flag_description'], axis=1)\n",
    "product_df.sample(n=5)"
   ],
   "metadata": {
    "collapsed": false
   }
  },
  {
   "cell_type": "markdown",
   "source": [
    "### Question 7 :"
   ],
   "metadata": {
    "collapsed": false
   }
  },
  {
   "cell_type": "code",
   "execution_count": null,
   "outputs": [],
   "source": [],
   "metadata": {
    "collapsed": false
   }
  }
 ],
 "metadata": {
  "kernelspec": {
   "display_name": "Python 3",
   "language": "python",
   "name": "python3"
  },
  "language_info": {
   "codemirror_mode": {
    "name": "ipython",
    "version": 2
   },
   "file_extension": ".py",
   "mimetype": "text/x-python",
   "name": "python",
   "nbconvert_exporter": "python",
   "pygments_lexer": "ipython2",
   "version": "2.7.6"
  }
 },
 "nbformat": 4,
 "nbformat_minor": 0
}
