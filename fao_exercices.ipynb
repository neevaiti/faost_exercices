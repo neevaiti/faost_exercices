{
 "cells": [
  {
   "cell_type": "markdown",
   "source": [
    "# Importation des df"
   ],
   "metadata": {
    "collapsed": false
   }
  },
  {
   "cell_type": "code",
   "execution_count": 172,
   "metadata": {
    "collapsed": true
   },
   "outputs": [],
   "source": [
    "import pandas as pd\n",
    "import matplotlib.pyplot as plt\n",
    "import seaborn as sns"
   ]
  },
  {
   "cell_type": "code",
   "execution_count": 173,
   "outputs": [],
   "source": [
    "animal_df = pd.read_csv(\"src/datas/animal_dataset.csv\")\n",
    "vegetal_df = pd.read_csv(\"src/datas/vegetal_dataset.csv\")\n",
    "population_df = pd.read_csv(\"src/datas/population_dataset.csv\")"
   ],
   "metadata": {
    "collapsed": false
   }
  },
  {
   "cell_type": "code",
   "execution_count": 174,
   "outputs": [
    {
     "data": {
      "text/plain": "  Domain Code                 Domain  Area Code (M49)         Area  \\\n0         FBS  Food Balances (2010-)                4  Afghanistan   \n1         FBS  Food Balances (2010-)                4  Afghanistan   \n2         FBS  Food Balances (2010-)                4  Afghanistan   \n3         FBS  Food Balances (2010-)                4  Afghanistan   \n4         FBS  Food Balances (2010-)                4  Afghanistan   \n\n   Element Code                                 Element Item Code (CPC)  \\\n0           645     Food supply quantity (kg/capita/yr)           S2731   \n1           645     Food supply quantity (kg/capita/yr)           S2731   \n2           664           Food supply (kcal/capita/day)           S2731   \n3           664           Food supply (kcal/capita/day)           S2731   \n4           674  Protein supply quantity (g/capita/day)           S2731   \n\n          Item  Year Code  Year             Unit  Value Flag Flag Description  \n0  Bovine Meat       2018  2018               kg   2.62    E  Estimated value  \n1  Bovine Meat       2019  2019               kg   2.73    E  Estimated value  \n2  Bovine Meat       2018  2018  kcal/capita/day  15.42    E  Estimated value  \n3  Bovine Meat       2019  2019  kcal/capita/day  16.03    E  Estimated value  \n4  Bovine Meat       2018  2018     g/capita/day   1.09    E  Estimated value  ",
      "text/html": "<div>\n<style scoped>\n    .dataframe tbody tr th:only-of-type {\n        vertical-align: middle;\n    }\n\n    .dataframe tbody tr th {\n        vertical-align: top;\n    }\n\n    .dataframe thead th {\n        text-align: right;\n    }\n</style>\n<table border=\"1\" class=\"dataframe\">\n  <thead>\n    <tr style=\"text-align: right;\">\n      <th></th>\n      <th>Domain Code</th>\n      <th>Domain</th>\n      <th>Area Code (M49)</th>\n      <th>Area</th>\n      <th>Element Code</th>\n      <th>Element</th>\n      <th>Item Code (CPC)</th>\n      <th>Item</th>\n      <th>Year Code</th>\n      <th>Year</th>\n      <th>Unit</th>\n      <th>Value</th>\n      <th>Flag</th>\n      <th>Flag Description</th>\n    </tr>\n  </thead>\n  <tbody>\n    <tr>\n      <th>0</th>\n      <td>FBS</td>\n      <td>Food Balances (2010-)</td>\n      <td>4</td>\n      <td>Afghanistan</td>\n      <td>645</td>\n      <td>Food supply quantity (kg/capita/yr)</td>\n      <td>S2731</td>\n      <td>Bovine Meat</td>\n      <td>2018</td>\n      <td>2018</td>\n      <td>kg</td>\n      <td>2.62</td>\n      <td>E</td>\n      <td>Estimated value</td>\n    </tr>\n    <tr>\n      <th>1</th>\n      <td>FBS</td>\n      <td>Food Balances (2010-)</td>\n      <td>4</td>\n      <td>Afghanistan</td>\n      <td>645</td>\n      <td>Food supply quantity (kg/capita/yr)</td>\n      <td>S2731</td>\n      <td>Bovine Meat</td>\n      <td>2019</td>\n      <td>2019</td>\n      <td>kg</td>\n      <td>2.73</td>\n      <td>E</td>\n      <td>Estimated value</td>\n    </tr>\n    <tr>\n      <th>2</th>\n      <td>FBS</td>\n      <td>Food Balances (2010-)</td>\n      <td>4</td>\n      <td>Afghanistan</td>\n      <td>664</td>\n      <td>Food supply (kcal/capita/day)</td>\n      <td>S2731</td>\n      <td>Bovine Meat</td>\n      <td>2018</td>\n      <td>2018</td>\n      <td>kcal/capita/day</td>\n      <td>15.42</td>\n      <td>E</td>\n      <td>Estimated value</td>\n    </tr>\n    <tr>\n      <th>3</th>\n      <td>FBS</td>\n      <td>Food Balances (2010-)</td>\n      <td>4</td>\n      <td>Afghanistan</td>\n      <td>664</td>\n      <td>Food supply (kcal/capita/day)</td>\n      <td>S2731</td>\n      <td>Bovine Meat</td>\n      <td>2019</td>\n      <td>2019</td>\n      <td>kcal/capita/day</td>\n      <td>16.03</td>\n      <td>E</td>\n      <td>Estimated value</td>\n    </tr>\n    <tr>\n      <th>4</th>\n      <td>FBS</td>\n      <td>Food Balances (2010-)</td>\n      <td>4</td>\n      <td>Afghanistan</td>\n      <td>674</td>\n      <td>Protein supply quantity (g/capita/day)</td>\n      <td>S2731</td>\n      <td>Bovine Meat</td>\n      <td>2018</td>\n      <td>2018</td>\n      <td>g/capita/day</td>\n      <td>1.09</td>\n      <td>E</td>\n      <td>Estimated value</td>\n    </tr>\n  </tbody>\n</table>\n</div>"
     },
     "execution_count": 174,
     "metadata": {},
     "output_type": "execute_result"
    }
   ],
   "source": [
    "animal_df.head()"
   ],
   "metadata": {
    "collapsed": false
   }
  },
  {
   "cell_type": "code",
   "execution_count": 175,
   "outputs": [
    {
     "data": {
      "text/plain": "  Domain Code                 Domain  Area Code (M49)         Area  \\\n0         FBS  Food Balances (2010-)                4  Afghanistan   \n1         FBS  Food Balances (2010-)                4  Afghanistan   \n2         FBS  Food Balances (2010-)                4  Afghanistan   \n3         FBS  Food Balances (2010-)                4  Afghanistan   \n4         FBS  Food Balances (2010-)                4  Afghanistan   \n\n   Element Code                                 Element Item Code (CPC)  \\\n0           645     Food supply quantity (kg/capita/yr)           S2511   \n1           645     Food supply quantity (kg/capita/yr)           S2511   \n2           664           Food supply (kcal/capita/day)           S2511   \n3           664           Food supply (kcal/capita/day)           S2511   \n4           674  Protein supply quantity (g/capita/day)           S2511   \n\n                 Item  Year Code  Year             Unit    Value Flag  \\\n0  Wheat and products       2018  2018               kg   160.12    E   \n1  Wheat and products       2019  2019               kg   158.95    E   \n2  Wheat and products       2018  2018  kcal/capita/day  1372.02    E   \n3  Wheat and products       2019  2019  kcal/capita/day  1361.66    E   \n4  Wheat and products       2018  2018     g/capita/day    37.00    E   \n\n  Flag Description  \n0  Estimated value  \n1  Estimated value  \n2  Estimated value  \n3  Estimated value  \n4  Estimated value  ",
      "text/html": "<div>\n<style scoped>\n    .dataframe tbody tr th:only-of-type {\n        vertical-align: middle;\n    }\n\n    .dataframe tbody tr th {\n        vertical-align: top;\n    }\n\n    .dataframe thead th {\n        text-align: right;\n    }\n</style>\n<table border=\"1\" class=\"dataframe\">\n  <thead>\n    <tr style=\"text-align: right;\">\n      <th></th>\n      <th>Domain Code</th>\n      <th>Domain</th>\n      <th>Area Code (M49)</th>\n      <th>Area</th>\n      <th>Element Code</th>\n      <th>Element</th>\n      <th>Item Code (CPC)</th>\n      <th>Item</th>\n      <th>Year Code</th>\n      <th>Year</th>\n      <th>Unit</th>\n      <th>Value</th>\n      <th>Flag</th>\n      <th>Flag Description</th>\n    </tr>\n  </thead>\n  <tbody>\n    <tr>\n      <th>0</th>\n      <td>FBS</td>\n      <td>Food Balances (2010-)</td>\n      <td>4</td>\n      <td>Afghanistan</td>\n      <td>645</td>\n      <td>Food supply quantity (kg/capita/yr)</td>\n      <td>S2511</td>\n      <td>Wheat and products</td>\n      <td>2018</td>\n      <td>2018</td>\n      <td>kg</td>\n      <td>160.12</td>\n      <td>E</td>\n      <td>Estimated value</td>\n    </tr>\n    <tr>\n      <th>1</th>\n      <td>FBS</td>\n      <td>Food Balances (2010-)</td>\n      <td>4</td>\n      <td>Afghanistan</td>\n      <td>645</td>\n      <td>Food supply quantity (kg/capita/yr)</td>\n      <td>S2511</td>\n      <td>Wheat and products</td>\n      <td>2019</td>\n      <td>2019</td>\n      <td>kg</td>\n      <td>158.95</td>\n      <td>E</td>\n      <td>Estimated value</td>\n    </tr>\n    <tr>\n      <th>2</th>\n      <td>FBS</td>\n      <td>Food Balances (2010-)</td>\n      <td>4</td>\n      <td>Afghanistan</td>\n      <td>664</td>\n      <td>Food supply (kcal/capita/day)</td>\n      <td>S2511</td>\n      <td>Wheat and products</td>\n      <td>2018</td>\n      <td>2018</td>\n      <td>kcal/capita/day</td>\n      <td>1372.02</td>\n      <td>E</td>\n      <td>Estimated value</td>\n    </tr>\n    <tr>\n      <th>3</th>\n      <td>FBS</td>\n      <td>Food Balances (2010-)</td>\n      <td>4</td>\n      <td>Afghanistan</td>\n      <td>664</td>\n      <td>Food supply (kcal/capita/day)</td>\n      <td>S2511</td>\n      <td>Wheat and products</td>\n      <td>2019</td>\n      <td>2019</td>\n      <td>kcal/capita/day</td>\n      <td>1361.66</td>\n      <td>E</td>\n      <td>Estimated value</td>\n    </tr>\n    <tr>\n      <th>4</th>\n      <td>FBS</td>\n      <td>Food Balances (2010-)</td>\n      <td>4</td>\n      <td>Afghanistan</td>\n      <td>674</td>\n      <td>Protein supply quantity (g/capita/day)</td>\n      <td>S2511</td>\n      <td>Wheat and products</td>\n      <td>2018</td>\n      <td>2018</td>\n      <td>g/capita/day</td>\n      <td>37.00</td>\n      <td>E</td>\n      <td>Estimated value</td>\n    </tr>\n  </tbody>\n</table>\n</div>"
     },
     "execution_count": 175,
     "metadata": {},
     "output_type": "execute_result"
    }
   ],
   "source": [
    "vegetal_df.head()"
   ],
   "metadata": {
    "collapsed": false
   }
  },
  {
   "cell_type": "code",
   "execution_count": 176,
   "outputs": [
    {
     "data": {
      "text/plain": "  Domain Code                 Domain  Area Code (M49)         Area  \\\n0         FBS  Food Balances (2010-)                4  Afghanistan   \n1         FBS  Food Balances (2010-)                4  Afghanistan   \n2         FBS  Food Balances (2010-)                8      Albania   \n3         FBS  Food Balances (2010-)                8      Albania   \n4         FBS  Food Balances (2010-)               12      Algeria   \n\n   Element Code                        Element Item Code (CPC)        Item  \\\n0           511  Total Population - Both sexes           S2501  Population   \n1           511  Total Population - Both sexes           S2501  Population   \n2           511  Total Population - Both sexes           S2501  Population   \n3           511  Total Population - Both sexes           S2501  Population   \n4           511  Total Population - Both sexes           S2501  Population   \n\n   Year Code  Year          Unit     Value Flag  \\\n0       2018  2018  1000 persons  37172.00    X   \n1       2019  2019  1000 persons  38041.75    X   \n2       2018  2018  1000 persons   2883.00    X   \n3       2019  2019  1000 persons   2880.92    X   \n4       2018  2018  1000 persons  42228.00    X   \n\n                          Flag Description  \n0  Figure from international organizations  \n1  Figure from international organizations  \n2  Figure from international organizations  \n3  Figure from international organizations  \n4  Figure from international organizations  ",
      "text/html": "<div>\n<style scoped>\n    .dataframe tbody tr th:only-of-type {\n        vertical-align: middle;\n    }\n\n    .dataframe tbody tr th {\n        vertical-align: top;\n    }\n\n    .dataframe thead th {\n        text-align: right;\n    }\n</style>\n<table border=\"1\" class=\"dataframe\">\n  <thead>\n    <tr style=\"text-align: right;\">\n      <th></th>\n      <th>Domain Code</th>\n      <th>Domain</th>\n      <th>Area Code (M49)</th>\n      <th>Area</th>\n      <th>Element Code</th>\n      <th>Element</th>\n      <th>Item Code (CPC)</th>\n      <th>Item</th>\n      <th>Year Code</th>\n      <th>Year</th>\n      <th>Unit</th>\n      <th>Value</th>\n      <th>Flag</th>\n      <th>Flag Description</th>\n    </tr>\n  </thead>\n  <tbody>\n    <tr>\n      <th>0</th>\n      <td>FBS</td>\n      <td>Food Balances (2010-)</td>\n      <td>4</td>\n      <td>Afghanistan</td>\n      <td>511</td>\n      <td>Total Population - Both sexes</td>\n      <td>S2501</td>\n      <td>Population</td>\n      <td>2018</td>\n      <td>2018</td>\n      <td>1000 persons</td>\n      <td>37172.00</td>\n      <td>X</td>\n      <td>Figure from international organizations</td>\n    </tr>\n    <tr>\n      <th>1</th>\n      <td>FBS</td>\n      <td>Food Balances (2010-)</td>\n      <td>4</td>\n      <td>Afghanistan</td>\n      <td>511</td>\n      <td>Total Population - Both sexes</td>\n      <td>S2501</td>\n      <td>Population</td>\n      <td>2019</td>\n      <td>2019</td>\n      <td>1000 persons</td>\n      <td>38041.75</td>\n      <td>X</td>\n      <td>Figure from international organizations</td>\n    </tr>\n    <tr>\n      <th>2</th>\n      <td>FBS</td>\n      <td>Food Balances (2010-)</td>\n      <td>8</td>\n      <td>Albania</td>\n      <td>511</td>\n      <td>Total Population - Both sexes</td>\n      <td>S2501</td>\n      <td>Population</td>\n      <td>2018</td>\n      <td>2018</td>\n      <td>1000 persons</td>\n      <td>2883.00</td>\n      <td>X</td>\n      <td>Figure from international organizations</td>\n    </tr>\n    <tr>\n      <th>3</th>\n      <td>FBS</td>\n      <td>Food Balances (2010-)</td>\n      <td>8</td>\n      <td>Albania</td>\n      <td>511</td>\n      <td>Total Population - Both sexes</td>\n      <td>S2501</td>\n      <td>Population</td>\n      <td>2019</td>\n      <td>2019</td>\n      <td>1000 persons</td>\n      <td>2880.92</td>\n      <td>X</td>\n      <td>Figure from international organizations</td>\n    </tr>\n    <tr>\n      <th>4</th>\n      <td>FBS</td>\n      <td>Food Balances (2010-)</td>\n      <td>12</td>\n      <td>Algeria</td>\n      <td>511</td>\n      <td>Total Population - Both sexes</td>\n      <td>S2501</td>\n      <td>Population</td>\n      <td>2018</td>\n      <td>2018</td>\n      <td>1000 persons</td>\n      <td>42228.00</td>\n      <td>X</td>\n      <td>Figure from international organizations</td>\n    </tr>\n  </tbody>\n</table>\n</div>"
     },
     "execution_count": 176,
     "metadata": {},
     "output_type": "execute_result"
    }
   ],
   "source": [
    "population_df.head()"
   ],
   "metadata": {
    "collapsed": false
   }
  },
  {
   "cell_type": "markdown",
   "source": [
    "## Nettoyage des données"
   ],
   "metadata": {
    "collapsed": false
   }
  },
  {
   "cell_type": "markdown",
   "source": [
    "### Question 1 :"
   ],
   "metadata": {
    "collapsed": false
   }
  },
  {
   "cell_type": "code",
   "execution_count": 177,
   "outputs": [
    {
     "name": "stdout",
     "output_type": "stream",
     "text": [
      "---------Animal---------\n"
     ]
    },
    {
     "data": {
      "text/plain": "Index(['domain_code', 'domain', 'area_code_(m49)', 'area', 'element_code',\n       'element', 'item_code_(cpc)', 'item', 'year_code', 'year', 'unit',\n       'value', 'flag', 'flag_description'],\n      dtype='object')"
     },
     "execution_count": 177,
     "metadata": {},
     "output_type": "execute_result"
    }
   ],
   "source": [
    "# Première étape faire le nettoyage dans les titres.\n",
    "animal_df = animal_df.rename(columns=lambda x: x.lower().replace(' ', '_'))\n",
    "print(\"---------Animal---------\")\n",
    "animal_df.columns"
   ],
   "metadata": {
    "collapsed": false
   }
  },
  {
   "cell_type": "code",
   "execution_count": 178,
   "outputs": [
    {
     "name": "stdout",
     "output_type": "stream",
     "text": [
      "---------Vegetal---------\n"
     ]
    },
    {
     "data": {
      "text/plain": "Index(['domain_code', 'domain', 'area_code_(m49)', 'area', 'element_code',\n       'element', 'item_code_(cpc)', 'item', 'year_code', 'year', 'unit',\n       'value', 'flag', 'flag_description'],\n      dtype='object')"
     },
     "execution_count": 178,
     "metadata": {},
     "output_type": "execute_result"
    }
   ],
   "source": [
    "vegetal_df = vegetal_df.rename(columns=lambda x: x.lower().replace(' ', '_'))\n",
    "print(\"---------Vegetal---------\")\n",
    "vegetal_df.columns"
   ],
   "metadata": {
    "collapsed": false
   }
  },
  {
   "cell_type": "code",
   "execution_count": 179,
   "outputs": [
    {
     "name": "stdout",
     "output_type": "stream",
     "text": [
      "---------Population---------\n"
     ]
    },
    {
     "data": {
      "text/plain": "Index(['domain_code', 'domain', 'area_code_(m49)', 'area', 'element_code',\n       'element', 'item_code_(cpc)', 'item', 'year_code', 'year', 'unit',\n       'value', 'flag', 'flag_description'],\n      dtype='object')"
     },
     "execution_count": 179,
     "metadata": {},
     "output_type": "execute_result"
    }
   ],
   "source": [
    "population_df = population_df.rename(columns=lambda x: x.lower().replace(' ', '_'))\n",
    "print(\"---------Population---------\")\n",
    "population_df.columns"
   ],
   "metadata": {
    "collapsed": false
   }
  },
  {
   "cell_type": "markdown",
   "source": [
    "### Question 2 :"
   ],
   "metadata": {
    "collapsed": false
   }
  },
  {
   "cell_type": "code",
   "execution_count": 180,
   "outputs": [
    {
     "data": {
      "text/plain": "(31366, 14)"
     },
     "execution_count": 180,
     "metadata": {},
     "output_type": "execute_result"
    }
   ],
   "source": [
    "# Dimensions des jeux de données\n",
    "animal_df.shape"
   ],
   "metadata": {
    "collapsed": false
   }
  },
  {
   "cell_type": "code",
   "execution_count": 181,
   "outputs": [
    {
     "data": {
      "text/plain": "(92890, 14)"
     },
     "execution_count": 181,
     "metadata": {},
     "output_type": "execute_result"
    }
   ],
   "source": [
    "vegetal_df.shape"
   ],
   "metadata": {
    "collapsed": false
   }
  },
  {
   "cell_type": "code",
   "execution_count": 182,
   "outputs": [
    {
     "data": {
      "text/plain": "(364, 14)"
     },
     "execution_count": 182,
     "metadata": {},
     "output_type": "execute_result"
    }
   ],
   "source": [
    "population_df.shape"
   ],
   "metadata": {
    "collapsed": false
   }
  },
  {
   "cell_type": "markdown",
   "source": [
    "### Question 3 :"
   ],
   "metadata": {
    "collapsed": false
   }
  },
  {
   "cell_type": "code",
   "execution_count": 183,
   "outputs": [
    {
     "data": {
      "text/plain": "  domain_code                 domain  area_code_(m49)         area  \\\n0         FBS  Food Balances (2010-)                4  Afghanistan   \n1         FBS  Food Balances (2010-)                4  Afghanistan   \n2         FBS  Food Balances (2010-)                4  Afghanistan   \n3         FBS  Food Balances (2010-)                4  Afghanistan   \n4         FBS  Food Balances (2010-)                4  Afghanistan   \n\n   element_code                                 element item_code_(cpc)  \\\n0           645     Food supply quantity (kg/capita/yr)           S2731   \n1           645     Food supply quantity (kg/capita/yr)           S2731   \n2           664           Food supply (kcal/capita/day)           S2731   \n3           664           Food supply (kcal/capita/day)           S2731   \n4           674  Protein supply quantity (g/capita/day)           S2731   \n\n          item  year_code  year             unit  value flag flag_description  \n0  Bovine Meat       2018  2018               kg   2.62    E  Estimated value  \n1  Bovine Meat       2019  2019               kg   2.73    E  Estimated value  \n2  Bovine Meat       2018  2018  kcal/capita/day  15.42    E  Estimated value  \n3  Bovine Meat       2019  2019  kcal/capita/day  16.03    E  Estimated value  \n4  Bovine Meat       2018  2018     g/capita/day   1.09    E  Estimated value  ",
      "text/html": "<div>\n<style scoped>\n    .dataframe tbody tr th:only-of-type {\n        vertical-align: middle;\n    }\n\n    .dataframe tbody tr th {\n        vertical-align: top;\n    }\n\n    .dataframe thead th {\n        text-align: right;\n    }\n</style>\n<table border=\"1\" class=\"dataframe\">\n  <thead>\n    <tr style=\"text-align: right;\">\n      <th></th>\n      <th>domain_code</th>\n      <th>domain</th>\n      <th>area_code_(m49)</th>\n      <th>area</th>\n      <th>element_code</th>\n      <th>element</th>\n      <th>item_code_(cpc)</th>\n      <th>item</th>\n      <th>year_code</th>\n      <th>year</th>\n      <th>unit</th>\n      <th>value</th>\n      <th>flag</th>\n      <th>flag_description</th>\n    </tr>\n  </thead>\n  <tbody>\n    <tr>\n      <th>0</th>\n      <td>FBS</td>\n      <td>Food Balances (2010-)</td>\n      <td>4</td>\n      <td>Afghanistan</td>\n      <td>645</td>\n      <td>Food supply quantity (kg/capita/yr)</td>\n      <td>S2731</td>\n      <td>Bovine Meat</td>\n      <td>2018</td>\n      <td>2018</td>\n      <td>kg</td>\n      <td>2.62</td>\n      <td>E</td>\n      <td>Estimated value</td>\n    </tr>\n    <tr>\n      <th>1</th>\n      <td>FBS</td>\n      <td>Food Balances (2010-)</td>\n      <td>4</td>\n      <td>Afghanistan</td>\n      <td>645</td>\n      <td>Food supply quantity (kg/capita/yr)</td>\n      <td>S2731</td>\n      <td>Bovine Meat</td>\n      <td>2019</td>\n      <td>2019</td>\n      <td>kg</td>\n      <td>2.73</td>\n      <td>E</td>\n      <td>Estimated value</td>\n    </tr>\n    <tr>\n      <th>2</th>\n      <td>FBS</td>\n      <td>Food Balances (2010-)</td>\n      <td>4</td>\n      <td>Afghanistan</td>\n      <td>664</td>\n      <td>Food supply (kcal/capita/day)</td>\n      <td>S2731</td>\n      <td>Bovine Meat</td>\n      <td>2018</td>\n      <td>2018</td>\n      <td>kcal/capita/day</td>\n      <td>15.42</td>\n      <td>E</td>\n      <td>Estimated value</td>\n    </tr>\n    <tr>\n      <th>3</th>\n      <td>FBS</td>\n      <td>Food Balances (2010-)</td>\n      <td>4</td>\n      <td>Afghanistan</td>\n      <td>664</td>\n      <td>Food supply (kcal/capita/day)</td>\n      <td>S2731</td>\n      <td>Bovine Meat</td>\n      <td>2019</td>\n      <td>2019</td>\n      <td>kcal/capita/day</td>\n      <td>16.03</td>\n      <td>E</td>\n      <td>Estimated value</td>\n    </tr>\n    <tr>\n      <th>4</th>\n      <td>FBS</td>\n      <td>Food Balances (2010-)</td>\n      <td>4</td>\n      <td>Afghanistan</td>\n      <td>674</td>\n      <td>Protein supply quantity (g/capita/day)</td>\n      <td>S2731</td>\n      <td>Bovine Meat</td>\n      <td>2018</td>\n      <td>2018</td>\n      <td>g/capita/day</td>\n      <td>1.09</td>\n      <td>E</td>\n      <td>Estimated value</td>\n    </tr>\n  </tbody>\n</table>\n</div>"
     },
     "execution_count": 183,
     "metadata": {},
     "output_type": "execute_result"
    }
   ],
   "source": [
    "# Voir les 5 premières lignes des jeux de données\n",
    "animal_df.head()"
   ],
   "metadata": {
    "collapsed": false
   }
  },
  {
   "cell_type": "code",
   "execution_count": 184,
   "outputs": [
    {
     "data": {
      "text/plain": "  domain_code                 domain  area_code_(m49)         area  \\\n0         FBS  Food Balances (2010-)                4  Afghanistan   \n1         FBS  Food Balances (2010-)                4  Afghanistan   \n2         FBS  Food Balances (2010-)                4  Afghanistan   \n3         FBS  Food Balances (2010-)                4  Afghanistan   \n4         FBS  Food Balances (2010-)                4  Afghanistan   \n\n   element_code                                 element item_code_(cpc)  \\\n0           645     Food supply quantity (kg/capita/yr)           S2511   \n1           645     Food supply quantity (kg/capita/yr)           S2511   \n2           664           Food supply (kcal/capita/day)           S2511   \n3           664           Food supply (kcal/capita/day)           S2511   \n4           674  Protein supply quantity (g/capita/day)           S2511   \n\n                 item  year_code  year             unit    value flag  \\\n0  Wheat and products       2018  2018               kg   160.12    E   \n1  Wheat and products       2019  2019               kg   158.95    E   \n2  Wheat and products       2018  2018  kcal/capita/day  1372.02    E   \n3  Wheat and products       2019  2019  kcal/capita/day  1361.66    E   \n4  Wheat and products       2018  2018     g/capita/day    37.00    E   \n\n  flag_description  \n0  Estimated value  \n1  Estimated value  \n2  Estimated value  \n3  Estimated value  \n4  Estimated value  ",
      "text/html": "<div>\n<style scoped>\n    .dataframe tbody tr th:only-of-type {\n        vertical-align: middle;\n    }\n\n    .dataframe tbody tr th {\n        vertical-align: top;\n    }\n\n    .dataframe thead th {\n        text-align: right;\n    }\n</style>\n<table border=\"1\" class=\"dataframe\">\n  <thead>\n    <tr style=\"text-align: right;\">\n      <th></th>\n      <th>domain_code</th>\n      <th>domain</th>\n      <th>area_code_(m49)</th>\n      <th>area</th>\n      <th>element_code</th>\n      <th>element</th>\n      <th>item_code_(cpc)</th>\n      <th>item</th>\n      <th>year_code</th>\n      <th>year</th>\n      <th>unit</th>\n      <th>value</th>\n      <th>flag</th>\n      <th>flag_description</th>\n    </tr>\n  </thead>\n  <tbody>\n    <tr>\n      <th>0</th>\n      <td>FBS</td>\n      <td>Food Balances (2010-)</td>\n      <td>4</td>\n      <td>Afghanistan</td>\n      <td>645</td>\n      <td>Food supply quantity (kg/capita/yr)</td>\n      <td>S2511</td>\n      <td>Wheat and products</td>\n      <td>2018</td>\n      <td>2018</td>\n      <td>kg</td>\n      <td>160.12</td>\n      <td>E</td>\n      <td>Estimated value</td>\n    </tr>\n    <tr>\n      <th>1</th>\n      <td>FBS</td>\n      <td>Food Balances (2010-)</td>\n      <td>4</td>\n      <td>Afghanistan</td>\n      <td>645</td>\n      <td>Food supply quantity (kg/capita/yr)</td>\n      <td>S2511</td>\n      <td>Wheat and products</td>\n      <td>2019</td>\n      <td>2019</td>\n      <td>kg</td>\n      <td>158.95</td>\n      <td>E</td>\n      <td>Estimated value</td>\n    </tr>\n    <tr>\n      <th>2</th>\n      <td>FBS</td>\n      <td>Food Balances (2010-)</td>\n      <td>4</td>\n      <td>Afghanistan</td>\n      <td>664</td>\n      <td>Food supply (kcal/capita/day)</td>\n      <td>S2511</td>\n      <td>Wheat and products</td>\n      <td>2018</td>\n      <td>2018</td>\n      <td>kcal/capita/day</td>\n      <td>1372.02</td>\n      <td>E</td>\n      <td>Estimated value</td>\n    </tr>\n    <tr>\n      <th>3</th>\n      <td>FBS</td>\n      <td>Food Balances (2010-)</td>\n      <td>4</td>\n      <td>Afghanistan</td>\n      <td>664</td>\n      <td>Food supply (kcal/capita/day)</td>\n      <td>S2511</td>\n      <td>Wheat and products</td>\n      <td>2019</td>\n      <td>2019</td>\n      <td>kcal/capita/day</td>\n      <td>1361.66</td>\n      <td>E</td>\n      <td>Estimated value</td>\n    </tr>\n    <tr>\n      <th>4</th>\n      <td>FBS</td>\n      <td>Food Balances (2010-)</td>\n      <td>4</td>\n      <td>Afghanistan</td>\n      <td>674</td>\n      <td>Protein supply quantity (g/capita/day)</td>\n      <td>S2511</td>\n      <td>Wheat and products</td>\n      <td>2018</td>\n      <td>2018</td>\n      <td>g/capita/day</td>\n      <td>37.00</td>\n      <td>E</td>\n      <td>Estimated value</td>\n    </tr>\n  </tbody>\n</table>\n</div>"
     },
     "execution_count": 184,
     "metadata": {},
     "output_type": "execute_result"
    }
   ],
   "source": [
    "vegetal_df.head()"
   ],
   "metadata": {
    "collapsed": false
   }
  },
  {
   "cell_type": "code",
   "execution_count": 185,
   "outputs": [
    {
     "data": {
      "text/plain": "  domain_code                 domain  area_code_(m49)         area  \\\n0         FBS  Food Balances (2010-)                4  Afghanistan   \n1         FBS  Food Balances (2010-)                4  Afghanistan   \n2         FBS  Food Balances (2010-)                8      Albania   \n3         FBS  Food Balances (2010-)                8      Albania   \n4         FBS  Food Balances (2010-)               12      Algeria   \n\n   element_code                        element item_code_(cpc)        item  \\\n0           511  Total Population - Both sexes           S2501  Population   \n1           511  Total Population - Both sexes           S2501  Population   \n2           511  Total Population - Both sexes           S2501  Population   \n3           511  Total Population - Both sexes           S2501  Population   \n4           511  Total Population - Both sexes           S2501  Population   \n\n   year_code  year          unit     value flag  \\\n0       2018  2018  1000 persons  37172.00    X   \n1       2019  2019  1000 persons  38041.75    X   \n2       2018  2018  1000 persons   2883.00    X   \n3       2019  2019  1000 persons   2880.92    X   \n4       2018  2018  1000 persons  42228.00    X   \n\n                          flag_description  \n0  Figure from international organizations  \n1  Figure from international organizations  \n2  Figure from international organizations  \n3  Figure from international organizations  \n4  Figure from international organizations  ",
      "text/html": "<div>\n<style scoped>\n    .dataframe tbody tr th:only-of-type {\n        vertical-align: middle;\n    }\n\n    .dataframe tbody tr th {\n        vertical-align: top;\n    }\n\n    .dataframe thead th {\n        text-align: right;\n    }\n</style>\n<table border=\"1\" class=\"dataframe\">\n  <thead>\n    <tr style=\"text-align: right;\">\n      <th></th>\n      <th>domain_code</th>\n      <th>domain</th>\n      <th>area_code_(m49)</th>\n      <th>area</th>\n      <th>element_code</th>\n      <th>element</th>\n      <th>item_code_(cpc)</th>\n      <th>item</th>\n      <th>year_code</th>\n      <th>year</th>\n      <th>unit</th>\n      <th>value</th>\n      <th>flag</th>\n      <th>flag_description</th>\n    </tr>\n  </thead>\n  <tbody>\n    <tr>\n      <th>0</th>\n      <td>FBS</td>\n      <td>Food Balances (2010-)</td>\n      <td>4</td>\n      <td>Afghanistan</td>\n      <td>511</td>\n      <td>Total Population - Both sexes</td>\n      <td>S2501</td>\n      <td>Population</td>\n      <td>2018</td>\n      <td>2018</td>\n      <td>1000 persons</td>\n      <td>37172.00</td>\n      <td>X</td>\n      <td>Figure from international organizations</td>\n    </tr>\n    <tr>\n      <th>1</th>\n      <td>FBS</td>\n      <td>Food Balances (2010-)</td>\n      <td>4</td>\n      <td>Afghanistan</td>\n      <td>511</td>\n      <td>Total Population - Both sexes</td>\n      <td>S2501</td>\n      <td>Population</td>\n      <td>2019</td>\n      <td>2019</td>\n      <td>1000 persons</td>\n      <td>38041.75</td>\n      <td>X</td>\n      <td>Figure from international organizations</td>\n    </tr>\n    <tr>\n      <th>2</th>\n      <td>FBS</td>\n      <td>Food Balances (2010-)</td>\n      <td>8</td>\n      <td>Albania</td>\n      <td>511</td>\n      <td>Total Population - Both sexes</td>\n      <td>S2501</td>\n      <td>Population</td>\n      <td>2018</td>\n      <td>2018</td>\n      <td>1000 persons</td>\n      <td>2883.00</td>\n      <td>X</td>\n      <td>Figure from international organizations</td>\n    </tr>\n    <tr>\n      <th>3</th>\n      <td>FBS</td>\n      <td>Food Balances (2010-)</td>\n      <td>8</td>\n      <td>Albania</td>\n      <td>511</td>\n      <td>Total Population - Both sexes</td>\n      <td>S2501</td>\n      <td>Population</td>\n      <td>2019</td>\n      <td>2019</td>\n      <td>1000 persons</td>\n      <td>2880.92</td>\n      <td>X</td>\n      <td>Figure from international organizations</td>\n    </tr>\n    <tr>\n      <th>4</th>\n      <td>FBS</td>\n      <td>Food Balances (2010-)</td>\n      <td>12</td>\n      <td>Algeria</td>\n      <td>511</td>\n      <td>Total Population - Both sexes</td>\n      <td>S2501</td>\n      <td>Population</td>\n      <td>2018</td>\n      <td>2018</td>\n      <td>1000 persons</td>\n      <td>42228.00</td>\n      <td>X</td>\n      <td>Figure from international organizations</td>\n    </tr>\n  </tbody>\n</table>\n</div>"
     },
     "execution_count": 185,
     "metadata": {},
     "output_type": "execute_result"
    }
   ],
   "source": [
    "population_df.head()"
   ],
   "metadata": {
    "collapsed": false
   }
  },
  {
   "cell_type": "markdown",
   "source": [
    "### Question 4 :"
   ],
   "metadata": {
    "collapsed": false
   }
  },
  {
   "cell_type": "code",
   "execution_count": 186,
   "outputs": [],
   "source": [
    "# Ajout de la colonne type aux datasets animal & vegetal\n",
    "animal_df = animal_df.assign(type='animal')\n",
    "vegetal_df = vegetal_df.assign(type='vegetal')"
   ],
   "metadata": {
    "collapsed": false
   }
  },
  {
   "cell_type": "code",
   "execution_count": 187,
   "outputs": [],
   "source": [
    "# Assemblage des deux datasets animal et vegetal\n",
    "product_df = pd.concat([animal_df, vegetal_df], ignore_index=True)"
   ],
   "metadata": {
    "collapsed": false
   }
  },
  {
   "cell_type": "code",
   "execution_count": 188,
   "outputs": [
    {
     "data": {
      "text/plain": "       domain_code                 domain  area_code_(m49)           area  \\\n12973          FBS  Food Balances (2010-)              352        Iceland   \n111338         FBS  Food Balances (2010-)              740       Suriname   \n67724          FBS  Food Balances (2010-)              624  Guinea-Bissau   \n44163          FBS  Food Balances (2010-)              132     Cabo Verde   \n61760          FBS  Food Balances (2010-)              250         France   \n\n        element_code                                 element item_code_(cpc)  \\\n12973            645     Food supply quantity (kg/capita/yr)           S2744   \n111338           674  Protein supply quantity (g/capita/day)           S2580   \n67724            645     Food supply quantity (kg/capita/yr)           S2656   \n44163            684      Fat supply quantity (g/capita/day)           S2513   \n61760            674  Protein supply quantity (g/capita/day)           S2552   \n\n                       item  year_code  year          unit  value flag  \\\n12973                  Eggs       2018  2018            kg  11.78    E   \n111338            Olive Oil       2018  2018  g/capita/day   0.00    E   \n67724                  Beer       2018  2018            kg   5.78    E   \n44163   Barley and products       2019  2019  g/capita/day   0.00    E   \n61760            Groundnuts       2018  2018  g/capita/day   0.82    E   \n\n       flag_description     type  \n12973   Estimated value   animal  \n111338  Estimated value  vegetal  \n67724   Estimated value  vegetal  \n44163   Estimated value  vegetal  \n61760   Estimated value  vegetal  ",
      "text/html": "<div>\n<style scoped>\n    .dataframe tbody tr th:only-of-type {\n        vertical-align: middle;\n    }\n\n    .dataframe tbody tr th {\n        vertical-align: top;\n    }\n\n    .dataframe thead th {\n        text-align: right;\n    }\n</style>\n<table border=\"1\" class=\"dataframe\">\n  <thead>\n    <tr style=\"text-align: right;\">\n      <th></th>\n      <th>domain_code</th>\n      <th>domain</th>\n      <th>area_code_(m49)</th>\n      <th>area</th>\n      <th>element_code</th>\n      <th>element</th>\n      <th>item_code_(cpc)</th>\n      <th>item</th>\n      <th>year_code</th>\n      <th>year</th>\n      <th>unit</th>\n      <th>value</th>\n      <th>flag</th>\n      <th>flag_description</th>\n      <th>type</th>\n    </tr>\n  </thead>\n  <tbody>\n    <tr>\n      <th>12973</th>\n      <td>FBS</td>\n      <td>Food Balances (2010-)</td>\n      <td>352</td>\n      <td>Iceland</td>\n      <td>645</td>\n      <td>Food supply quantity (kg/capita/yr)</td>\n      <td>S2744</td>\n      <td>Eggs</td>\n      <td>2018</td>\n      <td>2018</td>\n      <td>kg</td>\n      <td>11.78</td>\n      <td>E</td>\n      <td>Estimated value</td>\n      <td>animal</td>\n    </tr>\n    <tr>\n      <th>111338</th>\n      <td>FBS</td>\n      <td>Food Balances (2010-)</td>\n      <td>740</td>\n      <td>Suriname</td>\n      <td>674</td>\n      <td>Protein supply quantity (g/capita/day)</td>\n      <td>S2580</td>\n      <td>Olive Oil</td>\n      <td>2018</td>\n      <td>2018</td>\n      <td>g/capita/day</td>\n      <td>0.00</td>\n      <td>E</td>\n      <td>Estimated value</td>\n      <td>vegetal</td>\n    </tr>\n    <tr>\n      <th>67724</th>\n      <td>FBS</td>\n      <td>Food Balances (2010-)</td>\n      <td>624</td>\n      <td>Guinea-Bissau</td>\n      <td>645</td>\n      <td>Food supply quantity (kg/capita/yr)</td>\n      <td>S2656</td>\n      <td>Beer</td>\n      <td>2018</td>\n      <td>2018</td>\n      <td>kg</td>\n      <td>5.78</td>\n      <td>E</td>\n      <td>Estimated value</td>\n      <td>vegetal</td>\n    </tr>\n    <tr>\n      <th>44163</th>\n      <td>FBS</td>\n      <td>Food Balances (2010-)</td>\n      <td>132</td>\n      <td>Cabo Verde</td>\n      <td>684</td>\n      <td>Fat supply quantity (g/capita/day)</td>\n      <td>S2513</td>\n      <td>Barley and products</td>\n      <td>2019</td>\n      <td>2019</td>\n      <td>g/capita/day</td>\n      <td>0.00</td>\n      <td>E</td>\n      <td>Estimated value</td>\n      <td>vegetal</td>\n    </tr>\n    <tr>\n      <th>61760</th>\n      <td>FBS</td>\n      <td>Food Balances (2010-)</td>\n      <td>250</td>\n      <td>France</td>\n      <td>674</td>\n      <td>Protein supply quantity (g/capita/day)</td>\n      <td>S2552</td>\n      <td>Groundnuts</td>\n      <td>2018</td>\n      <td>2018</td>\n      <td>g/capita/day</td>\n      <td>0.82</td>\n      <td>E</td>\n      <td>Estimated value</td>\n      <td>vegetal</td>\n    </tr>\n  </tbody>\n</table>\n</div>"
     },
     "execution_count": 188,
     "metadata": {},
     "output_type": "execute_result"
    }
   ],
   "source": [
    "# Vérification du nouveau dataset\n",
    "product_df.sample(n=5)"
   ],
   "metadata": {
    "collapsed": false
   }
  },
  {
   "cell_type": "markdown",
   "source": [
    "### Question 5 :"
   ],
   "metadata": {
    "collapsed": false
   }
  },
  {
   "cell_type": "code",
   "execution_count": 189,
   "outputs": [
    {
     "data": {
      "text/plain": "     area_code_(m49)                area  year     value\n225              104             Myanmar  2018  53708.00\n101              214  Dominican Republic  2019  10738.96\n203              458            Malaysia  2019  31949.78\n162              376              Israel  2018   8382.00\n80               384       Côte d'Ivoire  2018  25069.00",
      "text/html": "<div>\n<style scoped>\n    .dataframe tbody tr th:only-of-type {\n        vertical-align: middle;\n    }\n\n    .dataframe tbody tr th {\n        vertical-align: top;\n    }\n\n    .dataframe thead th {\n        text-align: right;\n    }\n</style>\n<table border=\"1\" class=\"dataframe\">\n  <thead>\n    <tr style=\"text-align: right;\">\n      <th></th>\n      <th>area_code_(m49)</th>\n      <th>area</th>\n      <th>year</th>\n      <th>value</th>\n    </tr>\n  </thead>\n  <tbody>\n    <tr>\n      <th>225</th>\n      <td>104</td>\n      <td>Myanmar</td>\n      <td>2018</td>\n      <td>53708.00</td>\n    </tr>\n    <tr>\n      <th>101</th>\n      <td>214</td>\n      <td>Dominican Republic</td>\n      <td>2019</td>\n      <td>10738.96</td>\n    </tr>\n    <tr>\n      <th>203</th>\n      <td>458</td>\n      <td>Malaysia</td>\n      <td>2019</td>\n      <td>31949.78</td>\n    </tr>\n    <tr>\n      <th>162</th>\n      <td>376</td>\n      <td>Israel</td>\n      <td>2018</td>\n      <td>8382.00</td>\n    </tr>\n    <tr>\n      <th>80</th>\n      <td>384</td>\n      <td>Côte d'Ivoire</td>\n      <td>2018</td>\n      <td>25069.00</td>\n    </tr>\n  </tbody>\n</table>\n</div>"
     },
     "execution_count": 189,
     "metadata": {},
     "output_type": "execute_result"
    }
   ],
   "source": [
    "# Changement du dataset population\n",
    "population_df = population_df.drop(['domain_code', 'domain', 'element_code', 'element', 'item_code_(cpc)', 'item', 'year_code', 'unit', 'flag', 'flag_description'], axis=1)\n",
    "population_df.sample(n=5)"
   ],
   "metadata": {
    "collapsed": false
   }
  },
  {
   "cell_type": "code",
   "execution_count": 190,
   "outputs": [
    {
     "data": {
      "text/plain": "     area_code_(m49)                                area  year  pop_1000_hab\n355              862  Venezuela (Bolivarian Republic of)  2019      28515.83\n28               112                             Belarus  2019       9452.41\n190              430                             Liberia  2018       4819.00\n290              686                             Senegal  2019      16296.36\n334              795                        Turkmenistan  2018       5851.00",
      "text/html": "<div>\n<style scoped>\n    .dataframe tbody tr th:only-of-type {\n        vertical-align: middle;\n    }\n\n    .dataframe tbody tr th {\n        vertical-align: top;\n    }\n\n    .dataframe thead th {\n        text-align: right;\n    }\n</style>\n<table border=\"1\" class=\"dataframe\">\n  <thead>\n    <tr style=\"text-align: right;\">\n      <th></th>\n      <th>area_code_(m49)</th>\n      <th>area</th>\n      <th>year</th>\n      <th>pop_1000_hab</th>\n    </tr>\n  </thead>\n  <tbody>\n    <tr>\n      <th>355</th>\n      <td>862</td>\n      <td>Venezuela (Bolivarian Republic of)</td>\n      <td>2019</td>\n      <td>28515.83</td>\n    </tr>\n    <tr>\n      <th>28</th>\n      <td>112</td>\n      <td>Belarus</td>\n      <td>2019</td>\n      <td>9452.41</td>\n    </tr>\n    <tr>\n      <th>190</th>\n      <td>430</td>\n      <td>Liberia</td>\n      <td>2018</td>\n      <td>4819.00</td>\n    </tr>\n    <tr>\n      <th>290</th>\n      <td>686</td>\n      <td>Senegal</td>\n      <td>2019</td>\n      <td>16296.36</td>\n    </tr>\n    <tr>\n      <th>334</th>\n      <td>795</td>\n      <td>Turkmenistan</td>\n      <td>2018</td>\n      <td>5851.00</td>\n    </tr>\n  </tbody>\n</table>\n</div>"
     },
     "execution_count": 190,
     "metadata": {},
     "output_type": "execute_result"
    }
   ],
   "source": [
    "population_df = population_df.rename(columns={'value': 'pop_1000_hab'})\n",
    "population_df.sample(n=5)"
   ],
   "metadata": {
    "collapsed": false
   }
  },
  {
   "cell_type": "markdown",
   "source": [
    "### Question 6 :\n",
    "afin de ne garder que les colonnes area_code_(fao), area, element, item, year, type, unit."
   ],
   "metadata": {
    "collapsed": false
   }
  },
  {
   "cell_type": "code",
   "execution_count": 191,
   "outputs": [
    {
     "data": {
      "text/plain": "        area_code_(m49)        area                              element  \\\n120489              858     Uruguay        Food supply (kcal/capita/day)   \n81453               442  Luxembourg   Fat supply quantity (g/capita/day)   \n122516              704    Viet Nam   Fat supply quantity (g/capita/day)   \n4319                132  Cabo Verde   Fat supply quantity (g/capita/day)   \n39019                56     Belgium  Food supply quantity (kg/capita/yr)   \n\n                       item  year             unit     type  \n120489              Bananas  2019  kcal/capita/day  vegetal  \n81453   Barley and products  2018     g/capita/day  vegetal  \n122516              Bananas  2018     g/capita/day  vegetal  \n4319                   Eggs  2019     g/capita/day   animal  \n39019        Maize Germ Oil  2019               kg  vegetal  ",
      "text/html": "<div>\n<style scoped>\n    .dataframe tbody tr th:only-of-type {\n        vertical-align: middle;\n    }\n\n    .dataframe tbody tr th {\n        vertical-align: top;\n    }\n\n    .dataframe thead th {\n        text-align: right;\n    }\n</style>\n<table border=\"1\" class=\"dataframe\">\n  <thead>\n    <tr style=\"text-align: right;\">\n      <th></th>\n      <th>area_code_(m49)</th>\n      <th>area</th>\n      <th>element</th>\n      <th>item</th>\n      <th>year</th>\n      <th>unit</th>\n      <th>type</th>\n    </tr>\n  </thead>\n  <tbody>\n    <tr>\n      <th>120489</th>\n      <td>858</td>\n      <td>Uruguay</td>\n      <td>Food supply (kcal/capita/day)</td>\n      <td>Bananas</td>\n      <td>2019</td>\n      <td>kcal/capita/day</td>\n      <td>vegetal</td>\n    </tr>\n    <tr>\n      <th>81453</th>\n      <td>442</td>\n      <td>Luxembourg</td>\n      <td>Fat supply quantity (g/capita/day)</td>\n      <td>Barley and products</td>\n      <td>2018</td>\n      <td>g/capita/day</td>\n      <td>vegetal</td>\n    </tr>\n    <tr>\n      <th>122516</th>\n      <td>704</td>\n      <td>Viet Nam</td>\n      <td>Fat supply quantity (g/capita/day)</td>\n      <td>Bananas</td>\n      <td>2018</td>\n      <td>g/capita/day</td>\n      <td>vegetal</td>\n    </tr>\n    <tr>\n      <th>4319</th>\n      <td>132</td>\n      <td>Cabo Verde</td>\n      <td>Fat supply quantity (g/capita/day)</td>\n      <td>Eggs</td>\n      <td>2019</td>\n      <td>g/capita/day</td>\n      <td>animal</td>\n    </tr>\n    <tr>\n      <th>39019</th>\n      <td>56</td>\n      <td>Belgium</td>\n      <td>Food supply quantity (kg/capita/yr)</td>\n      <td>Maize Germ Oil</td>\n      <td>2019</td>\n      <td>kg</td>\n      <td>vegetal</td>\n    </tr>\n  </tbody>\n</table>\n</div>"
     },
     "execution_count": 191,
     "metadata": {},
     "output_type": "execute_result"
    }
   ],
   "source": [
    "product_df = product_df.drop(['domain_code', 'domain', 'element_code', 'item_code_(cpc)', 'year_code', 'value', 'flag', 'flag_description'], axis=1)\n",
    "product_df.sample(n=5)"
   ],
   "metadata": {
    "collapsed": false
   }
  },
  {
   "cell_type": "markdown",
   "source": [
    "### Question 7 :"
   ],
   "metadata": {
    "collapsed": false
   }
  },
  {
   "cell_type": "code",
   "execution_count": 192,
   "outputs": [
    {
     "data": {
      "text/plain": "   area_code_(m49)         area  year  pop_1000_hab  \\\n0                4  Afghanistan  2018       37172.0   \n1                4  Afghanistan  2018       37172.0   \n2                4  Afghanistan  2018       37172.0   \n3                4  Afghanistan  2018       37172.0   \n4                4  Afghanistan  2018       37172.0   \n\n                                  element                item  \\\n0     Food supply quantity (kg/capita/yr)         Bovine Meat   \n1           Food supply (kcal/capita/day)         Bovine Meat   \n2  Protein supply quantity (g/capita/day)         Bovine Meat   \n3      Fat supply quantity (g/capita/day)         Bovine Meat   \n4     Food supply quantity (kg/capita/yr)  Mutton & Goat Meat   \n\n              unit    type  \n0               kg  animal  \n1  kcal/capita/day  animal  \n2     g/capita/day  animal  \n3     g/capita/day  animal  \n4               kg  animal  ",
      "text/html": "<div>\n<style scoped>\n    .dataframe tbody tr th:only-of-type {\n        vertical-align: middle;\n    }\n\n    .dataframe tbody tr th {\n        vertical-align: top;\n    }\n\n    .dataframe thead th {\n        text-align: right;\n    }\n</style>\n<table border=\"1\" class=\"dataframe\">\n  <thead>\n    <tr style=\"text-align: right;\">\n      <th></th>\n      <th>area_code_(m49)</th>\n      <th>area</th>\n      <th>year</th>\n      <th>pop_1000_hab</th>\n      <th>element</th>\n      <th>item</th>\n      <th>unit</th>\n      <th>type</th>\n    </tr>\n  </thead>\n  <tbody>\n    <tr>\n      <th>0</th>\n      <td>4</td>\n      <td>Afghanistan</td>\n      <td>2018</td>\n      <td>37172.0</td>\n      <td>Food supply quantity (kg/capita/yr)</td>\n      <td>Bovine Meat</td>\n      <td>kg</td>\n      <td>animal</td>\n    </tr>\n    <tr>\n      <th>1</th>\n      <td>4</td>\n      <td>Afghanistan</td>\n      <td>2018</td>\n      <td>37172.0</td>\n      <td>Food supply (kcal/capita/day)</td>\n      <td>Bovine Meat</td>\n      <td>kcal/capita/day</td>\n      <td>animal</td>\n    </tr>\n    <tr>\n      <th>2</th>\n      <td>4</td>\n      <td>Afghanistan</td>\n      <td>2018</td>\n      <td>37172.0</td>\n      <td>Protein supply quantity (g/capita/day)</td>\n      <td>Bovine Meat</td>\n      <td>g/capita/day</td>\n      <td>animal</td>\n    </tr>\n    <tr>\n      <th>3</th>\n      <td>4</td>\n      <td>Afghanistan</td>\n      <td>2018</td>\n      <td>37172.0</td>\n      <td>Fat supply quantity (g/capita/day)</td>\n      <td>Bovine Meat</td>\n      <td>g/capita/day</td>\n      <td>animal</td>\n    </tr>\n    <tr>\n      <th>4</th>\n      <td>4</td>\n      <td>Afghanistan</td>\n      <td>2018</td>\n      <td>37172.0</td>\n      <td>Food supply quantity (kg/capita/yr)</td>\n      <td>Mutton &amp; Goat Meat</td>\n      <td>kg</td>\n      <td>animal</td>\n    </tr>\n  </tbody>\n</table>\n</div>"
     },
     "execution_count": 192,
     "metadata": {},
     "output_type": "execute_result"
    }
   ],
   "source": [
    "# Fusion des deux jeux de données\n",
    "general_df = pd.merge(population_df, product_df)\n",
    "general_df.head()"
   ],
   "metadata": {
    "collapsed": false
   }
  },
  {
   "cell_type": "code",
   "execution_count": 193,
   "outputs": [
    {
     "data": {
      "text/plain": "   area_country      country  year  pop_1000_hab  \\\n0             4  Afghanistan  2018       37172.0   \n1             4  Afghanistan  2018       37172.0   \n2             4  Afghanistan  2018       37172.0   \n3             4  Afghanistan  2018       37172.0   \n4             4  Afghanistan  2018       37172.0   \n\n                                  element                item  \\\n0     Food supply quantity (kg/capita/yr)         Bovine Meat   \n1           Food supply (kcal/capita/day)         Bovine Meat   \n2  Protein supply quantity (g/capita/day)         Bovine Meat   \n3      Fat supply quantity (g/capita/day)         Bovine Meat   \n4     Food supply quantity (kg/capita/yr)  Mutton & Goat Meat   \n\n              unit    type  \n0               kg  animal  \n1  kcal/capita/day  animal  \n2     g/capita/day  animal  \n3     g/capita/day  animal  \n4               kg  animal  ",
      "text/html": "<div>\n<style scoped>\n    .dataframe tbody tr th:only-of-type {\n        vertical-align: middle;\n    }\n\n    .dataframe tbody tr th {\n        vertical-align: top;\n    }\n\n    .dataframe thead th {\n        text-align: right;\n    }\n</style>\n<table border=\"1\" class=\"dataframe\">\n  <thead>\n    <tr style=\"text-align: right;\">\n      <th></th>\n      <th>area_country</th>\n      <th>country</th>\n      <th>year</th>\n      <th>pop_1000_hab</th>\n      <th>element</th>\n      <th>item</th>\n      <th>unit</th>\n      <th>type</th>\n    </tr>\n  </thead>\n  <tbody>\n    <tr>\n      <th>0</th>\n      <td>4</td>\n      <td>Afghanistan</td>\n      <td>2018</td>\n      <td>37172.0</td>\n      <td>Food supply quantity (kg/capita/yr)</td>\n      <td>Bovine Meat</td>\n      <td>kg</td>\n      <td>animal</td>\n    </tr>\n    <tr>\n      <th>1</th>\n      <td>4</td>\n      <td>Afghanistan</td>\n      <td>2018</td>\n      <td>37172.0</td>\n      <td>Food supply (kcal/capita/day)</td>\n      <td>Bovine Meat</td>\n      <td>kcal/capita/day</td>\n      <td>animal</td>\n    </tr>\n    <tr>\n      <th>2</th>\n      <td>4</td>\n      <td>Afghanistan</td>\n      <td>2018</td>\n      <td>37172.0</td>\n      <td>Protein supply quantity (g/capita/day)</td>\n      <td>Bovine Meat</td>\n      <td>g/capita/day</td>\n      <td>animal</td>\n    </tr>\n    <tr>\n      <th>3</th>\n      <td>4</td>\n      <td>Afghanistan</td>\n      <td>2018</td>\n      <td>37172.0</td>\n      <td>Fat supply quantity (g/capita/day)</td>\n      <td>Bovine Meat</td>\n      <td>g/capita/day</td>\n      <td>animal</td>\n    </tr>\n    <tr>\n      <th>4</th>\n      <td>4</td>\n      <td>Afghanistan</td>\n      <td>2018</td>\n      <td>37172.0</td>\n      <td>Food supply quantity (kg/capita/yr)</td>\n      <td>Mutton &amp; Goat Meat</td>\n      <td>kg</td>\n      <td>animal</td>\n    </tr>\n  </tbody>\n</table>\n</div>"
     },
     "execution_count": 193,
     "metadata": {},
     "output_type": "execute_result"
    }
   ],
   "source": [
    "# Renommage de colonnes\n",
    "general_df = general_df.rename(columns={'area_code_(m49)': 'area_country', 'area': 'country'})\n",
    "general_df.head()"
   ],
   "metadata": {
    "collapsed": false
   }
  },
  {
   "cell_type": "markdown",
   "source": [
    "### Question 8 :"
   ],
   "metadata": {
    "collapsed": false
   }
  },
  {
   "cell_type": "code",
   "execution_count": 194,
   "outputs": [
    {
     "data": {
      "text/plain": "area_country      int64\ncountry          object\nyear              int64\npop_1000_hab    float64\nelement          object\nitem             object\nunit             object\ntype             object\ndtype: object"
     },
     "execution_count": 194,
     "metadata": {},
     "output_type": "execute_result"
    }
   ],
   "source": [
    "# Vérification des types de données\n",
    "general_df.dtypes"
   ],
   "metadata": {
    "collapsed": false
   }
  },
  {
   "cell_type": "markdown",
   "source": [
    "### Question 9 :"
   ],
   "metadata": {
    "collapsed": false
   }
  },
  {
   "cell_type": "code",
   "execution_count": 195,
   "outputs": [
    {
     "data": {
      "text/plain": "area_country    0\ncountry         0\nyear            0\npop_1000_hab    0\nelement         0\nitem            0\nunit            0\ntype            0\ndtype: int64"
     },
     "execution_count": 195,
     "metadata": {},
     "output_type": "execute_result"
    }
   ],
   "source": [
    "# Vérification de valeurs manquantes\n",
    "general_df.isna().sum()"
   ],
   "metadata": {
    "collapsed": false
   }
  },
  {
   "cell_type": "markdown",
   "source": [
    "### Question 10 :"
   ],
   "metadata": {
    "collapsed": false
   }
  },
  {
   "cell_type": "code",
   "execution_count": 196,
   "outputs": [
    {
     "data": {
      "text/plain": "        area_country           year  pop_1000_hab\ncount  124256.000000  124256.000000  1.242560e+05\nmean      426.895868    2018.508635  4.298225e+04\nstd       250.624782       0.499927  1.525786e+05\nmin         4.000000    2018.000000  1.076000e+01\n25%       208.000000    2018.000000  2.801000e+03\n50%       418.000000    2019.000000  9.949540e+03\n75%       642.000000    2019.000000  3.081000e+04\nmax       894.000000    2019.000000  1.433784e+06",
      "text/html": "<div>\n<style scoped>\n    .dataframe tbody tr th:only-of-type {\n        vertical-align: middle;\n    }\n\n    .dataframe tbody tr th {\n        vertical-align: top;\n    }\n\n    .dataframe thead th {\n        text-align: right;\n    }\n</style>\n<table border=\"1\" class=\"dataframe\">\n  <thead>\n    <tr style=\"text-align: right;\">\n      <th></th>\n      <th>area_country</th>\n      <th>year</th>\n      <th>pop_1000_hab</th>\n    </tr>\n  </thead>\n  <tbody>\n    <tr>\n      <th>count</th>\n      <td>124256.000000</td>\n      <td>124256.000000</td>\n      <td>1.242560e+05</td>\n    </tr>\n    <tr>\n      <th>mean</th>\n      <td>426.895868</td>\n      <td>2018.508635</td>\n      <td>4.298225e+04</td>\n    </tr>\n    <tr>\n      <th>std</th>\n      <td>250.624782</td>\n      <td>0.499927</td>\n      <td>1.525786e+05</td>\n    </tr>\n    <tr>\n      <th>min</th>\n      <td>4.000000</td>\n      <td>2018.000000</td>\n      <td>1.076000e+01</td>\n    </tr>\n    <tr>\n      <th>25%</th>\n      <td>208.000000</td>\n      <td>2018.000000</td>\n      <td>2.801000e+03</td>\n    </tr>\n    <tr>\n      <th>50%</th>\n      <td>418.000000</td>\n      <td>2019.000000</td>\n      <td>9.949540e+03</td>\n    </tr>\n    <tr>\n      <th>75%</th>\n      <td>642.000000</td>\n      <td>2019.000000</td>\n      <td>3.081000e+04</td>\n    </tr>\n    <tr>\n      <th>max</th>\n      <td>894.000000</td>\n      <td>2019.000000</td>\n      <td>1.433784e+06</td>\n    </tr>\n  </tbody>\n</table>\n</div>"
     },
     "execution_count": 196,
     "metadata": {},
     "output_type": "execute_result"
    }
   ],
   "source": [
    "# Vérification de certaines valeurs négatives, aberrantes\n",
    "general_df.describe()"
   ],
   "metadata": {
    "collapsed": false
   }
  },
  {
   "cell_type": "markdown",
   "source": [
    "### Question 11 :"
   ],
   "metadata": {
    "collapsed": false
   }
  },
  {
   "cell_type": "code",
   "execution_count": 197,
   "outputs": [
    {
     "data": {
      "text/plain": "array(['Afghanistan', 'Albania', 'Algeria', 'Angola',\n       'Antigua and Barbuda', 'Argentina', 'Armenia', 'Australia',\n       'Austria', 'Azerbaijan', 'Bahamas', 'Bahrain', 'Bangladesh',\n       'Barbados', 'Belarus', 'Belgium', 'Belize', 'Benin', 'Bhutan',\n       'Bolivia (Plurinational State of)', 'Bosnia and Herzegovina',\n       'Botswana', 'Brazil', 'Bulgaria', 'Burkina Faso', 'Burundi',\n       'Cabo Verde', 'Cambodia', 'Cameroon', 'Canada',\n       'Central African Republic', 'Chad', 'Chile',\n       'China, Hong Kong SAR', 'China, Macao SAR', 'China, mainland',\n       'China, Taiwan Province of', 'Colombia', 'Comoros', 'Congo',\n       'Costa Rica', \"Côte d'Ivoire\", 'Croatia', 'Cuba', 'Cyprus',\n       'Czechia', \"Democratic People's Republic of Korea\",\n       'Democratic Republic of the Congo', 'Denmark', 'Djibouti',\n       'Dominica', 'Dominican Republic', 'Ecuador', 'Egypt',\n       'El Salvador', 'Estonia', 'Eswatini', 'Ethiopia', 'Fiji',\n       'Finland', 'France', 'French Polynesia', 'Gabon', 'Gambia',\n       'Georgia', 'Germany', 'Ghana', 'Greece', 'Grenada', 'Guatemala',\n       'Guinea', 'Guinea-Bissau', 'Guyana', 'Haiti', 'Honduras',\n       'Hungary', 'Iceland', 'India', 'Indonesia',\n       'Iran (Islamic Republic of)', 'Iraq', 'Ireland', 'Israel', 'Italy',\n       'Jamaica', 'Japan', 'Jordan', 'Kazakhstan', 'Kenya', 'Kiribati',\n       'Kuwait', 'Kyrgyzstan', \"Lao People's Democratic Republic\",\n       'Latvia', 'Lebanon', 'Lesotho', 'Liberia', 'Libya', 'Lithuania',\n       'Luxembourg', 'Madagascar', 'Malawi', 'Malaysia', 'Maldives',\n       'Mali', 'Malta', 'Mauritania', 'Mauritius', 'Mexico',\n       'Micronesia (Federated States of)', 'Mongolia', 'Montenegro',\n       'Morocco', 'Mozambique', 'Myanmar', 'Namibia', 'Nauru', 'Nepal',\n       'Netherlands', 'New Caledonia', 'New Zealand', 'Nicaragua',\n       'Niger', 'Nigeria', 'North Macedonia', 'Norway', 'Oman',\n       'Pakistan', 'Panama', 'Papua New Guinea', 'Paraguay', 'Peru',\n       'Philippines', 'Poland', 'Portugal', 'Qatar', 'Republic of Korea',\n       'Republic of Moldova', 'Romania', 'Russian Federation', 'Rwanda',\n       'Saint Kitts and Nevis', 'Saint Lucia',\n       'Saint Vincent and the Grenadines', 'Samoa',\n       'Sao Tome and Principe', 'Saudi Arabia', 'Senegal', 'Serbia',\n       'Seychelles', 'Sierra Leone', 'Slovakia', 'Slovenia',\n       'Solomon Islands', 'South Africa', 'South Sudan', 'Spain',\n       'Sri Lanka', 'Sudan', 'Suriname', 'Sweden', 'Switzerland',\n       'Syrian Arab Republic', 'Tajikistan', 'Thailand', 'Timor-Leste',\n       'Togo', 'Trinidad and Tobago', 'Tunisia', 'Türkiye',\n       'Turkmenistan', 'Uganda', 'Ukraine', 'United Arab Emirates',\n       'United Kingdom of Great Britain and Northern Ireland',\n       'United Republic of Tanzania', 'United States of America',\n       'Uruguay', 'Uzbekistan', 'Vanuatu',\n       'Venezuela (Bolivarian Republic of)', 'Viet Nam', 'Yemen',\n       'Zambia', 'Zimbabwe'], dtype=object)"
     },
     "execution_count": 197,
     "metadata": {},
     "output_type": "execute_result"
    }
   ],
   "source": [
    "# Affichage des valeurs uniques de 'country'\n",
    "general_df['country'].unique()"
   ],
   "metadata": {
    "collapsed": false
   }
  },
  {
   "cell_type": "markdown",
   "source": [
    "### Question 12 :"
   ],
   "metadata": {
    "collapsed": false
   }
  },
  {
   "cell_type": "code",
   "execution_count": 198,
   "outputs": [],
   "source": [
    "# Pas besoin de faire cette étape."
   ],
   "metadata": {
    "collapsed": false
   }
  },
  {
   "cell_type": "markdown",
   "source": [
    "### Question 13 :"
   ],
   "metadata": {
    "collapsed": false
   }
  },
  {
   "cell_type": "code",
   "execution_count": 199,
   "outputs": [
    {
     "data": {
      "text/plain": "                                                                                                                   element  \\\narea_country country     year pop_1000_hab type    item                                                                      \n31           Azerbaijan  2019 10047.72     vegetal Beverages, Alcoholic             Protein supply quantity (g/capita/day)   \n478          Mauritania  2019 4525.70      vegetal Sesame seed                          Fat supply quantity (g/capita/day)   \n642          Romania     2018 19506.00     vegetal Grapes and products (excl wine)           Food supply (kcal/capita/day)   \n626          Timor-Leste 2019 1293.12      animal  Meat, Other                               Food supply (kcal/capita/day)   \n764          Thailand    2019 69625.58     vegetal Grapes and products (excl wine)     Food supply quantity (kg/capita/yr)   \n\n                                                                                               unit  \narea_country country     year pop_1000_hab type    item                                              \n31           Azerbaijan  2019 10047.72     vegetal Beverages, Alcoholic                g/capita/day  \n478          Mauritania  2019 4525.70      vegetal Sesame seed                         g/capita/day  \n642          Romania     2018 19506.00     vegetal Grapes and products (excl wine)  kcal/capita/day  \n626          Timor-Leste 2019 1293.12      animal  Meat, Other                      kcal/capita/day  \n764          Thailand    2019 69625.58     vegetal Grapes and products (excl wine)               kg  ",
      "text/html": "<div>\n<style scoped>\n    .dataframe tbody tr th:only-of-type {\n        vertical-align: middle;\n    }\n\n    .dataframe tbody tr th {\n        vertical-align: top;\n    }\n\n    .dataframe thead th {\n        text-align: right;\n    }\n</style>\n<table border=\"1\" class=\"dataframe\">\n  <thead>\n    <tr style=\"text-align: right;\">\n      <th></th>\n      <th></th>\n      <th></th>\n      <th></th>\n      <th></th>\n      <th></th>\n      <th>element</th>\n      <th>unit</th>\n    </tr>\n    <tr>\n      <th>area_country</th>\n      <th>country</th>\n      <th>year</th>\n      <th>pop_1000_hab</th>\n      <th>type</th>\n      <th>item</th>\n      <th></th>\n      <th></th>\n    </tr>\n  </thead>\n  <tbody>\n    <tr>\n      <th>31</th>\n      <th>Azerbaijan</th>\n      <th>2019</th>\n      <th>10047.72</th>\n      <th>vegetal</th>\n      <th>Beverages, Alcoholic</th>\n      <td>Protein supply quantity (g/capita/day)</td>\n      <td>g/capita/day</td>\n    </tr>\n    <tr>\n      <th>478</th>\n      <th>Mauritania</th>\n      <th>2019</th>\n      <th>4525.70</th>\n      <th>vegetal</th>\n      <th>Sesame seed</th>\n      <td>Fat supply quantity (g/capita/day)</td>\n      <td>g/capita/day</td>\n    </tr>\n    <tr>\n      <th>642</th>\n      <th>Romania</th>\n      <th>2018</th>\n      <th>19506.00</th>\n      <th>vegetal</th>\n      <th>Grapes and products (excl wine)</th>\n      <td>Food supply (kcal/capita/day)</td>\n      <td>kcal/capita/day</td>\n    </tr>\n    <tr>\n      <th>626</th>\n      <th>Timor-Leste</th>\n      <th>2019</th>\n      <th>1293.12</th>\n      <th>animal</th>\n      <th>Meat, Other</th>\n      <td>Food supply (kcal/capita/day)</td>\n      <td>kcal/capita/day</td>\n    </tr>\n    <tr>\n      <th>764</th>\n      <th>Thailand</th>\n      <th>2019</th>\n      <th>69625.58</th>\n      <th>vegetal</th>\n      <th>Grapes and products (excl wine)</th>\n      <td>Food supply quantity (kg/capita/yr)</td>\n      <td>kg</td>\n    </tr>\n  </tbody>\n</table>\n</div>"
     },
     "execution_count": 199,
     "metadata": {},
     "output_type": "execute_result"
    }
   ],
   "source": [
    "# Réindexation du dataframe\n",
    "general_df = general_df.set_index(['area_country', 'country', 'year', 'pop_1000_hab', 'type', 'item'])\n",
    "general_df.sample(n=5)"
   ],
   "metadata": {
    "collapsed": false
   }
  }
 ],
 "metadata": {
  "kernelspec": {
   "display_name": "Python 3",
   "language": "python",
   "name": "python3"
  },
  "language_info": {
   "codemirror_mode": {
    "name": "ipython",
    "version": 2
   },
   "file_extension": ".py",
   "mimetype": "text/x-python",
   "name": "python",
   "nbconvert_exporter": "python",
   "pygments_lexer": "ipython2",
   "version": "2.7.6"
  }
 },
 "nbformat": 4,
 "nbformat_minor": 0
}
